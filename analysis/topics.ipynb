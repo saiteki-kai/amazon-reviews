{
 "cells": [
  {
   "cell_type": "code",
   "execution_count": null,
   "metadata": {},
   "outputs": [],
   "source": [
    "import numpy as np\n",
    "\n",
    "from sklearn.decomposition import LatentDirichletAllocation\n",
    "from sklearn.feature_extraction.text import TfidfVectorizer\n",
    "\n",
    "tfidf_vectorizer = TfidfVectorizer(\n",
    "    max_df=0.95, min_df=2, max_features=1000, stop_words=\"english\"\n",
    ")\n",
    "tfidf = tfidf_vectorizer.fit_transform(np.array(df[\"preprocess\"]))\n",
    "tfidf_feature_names = tfidf_vectorizer.get_feature_names_out()"
   ]
  },
  {
   "cell_type": "code",
   "execution_count": null,
   "metadata": {},
   "outputs": [],
   "source": [
    "lda = LatentDirichletAllocation(n_components=15)\n",
    "lda.fit(tfidf)"
   ]
  },
  {
   "cell_type": "code",
   "execution_count": null,
   "metadata": {},
   "outputs": [],
   "source": [
    "import matplotlib.pyplot as plt\n",
    "\n",
    "n_top_words = 20\n",
    "\n",
    "fig, axes = plt.subplots(3, 5, figsize=(18, 15), sharex=True)\n",
    "axes = axes.flatten()\n",
    "\n",
    "for topic_idx, topic in enumerate(lda.components_):\n",
    "  top_features_ind = topic.argsort()[: -n_top_words - 1 : -1]\n",
    "  top_features = [tfidf_feature_names[i] for i in top_features_ind]\n",
    "  \n",
    "  weights = topic[top_features_ind]\n",
    "\n",
    "  ax = axes[topic_idx]\n",
    "  ax.barh(top_features, weights, height=0.5)\n",
    "  ax.set_title(f\"Topic {topic_idx +1}\", fontdict={\"fontsize\": 15})\n",
    "  ax.invert_yaxis()\n",
    "  ax.tick_params(axis=\"both\", which=\"major\", labelsize=15)\n",
    "  for i in \"top right left\".split():\n",
    "      ax.spines[i].set_visible(False)\n",
    "\n",
    "plt.show()\n",
    "fig.tight_layout()"
   ]
  }
 ],
 "metadata": {
  "language_info": {
   "name": "python"
  },
  "orig_nbformat": 4
 },
 "nbformat": 4,
 "nbformat_minor": 2
}
