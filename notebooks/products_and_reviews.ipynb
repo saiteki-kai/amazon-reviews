{
 "cells": [
  {
   "cell_type": "code",
   "execution_count": null,
   "metadata": {},
   "outputs": [],
   "source": [
    "import pandas as pd\n",
    "import numpy as np\n",
    "import seaborn as sns\n",
    "from collections import Counter\n",
    "from wordcloud import WordCloud\n",
    "from matplotlib import pyplot as plt\n",
    "import re\n",
    "\n",
    "from reviews.preprocess import preprocess\n",
    "from reviews.config import processed_data_dir"
   ]
  },
  {
   "cell_type": "markdown",
   "metadata": {},
   "source": [
    "# Read Dataset\n",
    "- to fix {'category': 0, 'description': 1632, 'title': 0, 'brand': 0, 'main_cat': 0, 'date': 0, 'asin': 0, 'overall': 0, 'vote': 0, 'text': 0, 'summary': 1, 'timestamp': 0}"
   ]
  },
  {
   "cell_type": "code",
   "execution_count": null,
   "metadata": {},
   "outputs": [],
   "source": [
    "#load data\n",
    "prod_df = pd.read_json(processed_data_dir / \"meta_digital_cameras.json.gz\")\n",
    "review_df = pd.read_json(processed_data_dir / \"reviews_digital_cameras.json.gz\")"
   ]
  },
  {
   "cell_type": "code",
   "execution_count": null,
   "metadata": {},
   "outputs": [],
   "source": [
    "# merge data (inner mode) \n",
    "data_df = pd.merge(left=prod_df, right=review_df, on='asin')\n",
    "data_df.info()"
   ]
  },
  {
   "cell_type": "code",
   "execution_count": null,
   "metadata": {},
   "outputs": [],
   "source": [
    "#head of merge data\n",
    "data_df.head(10)"
   ]
  },
  {
   "cell_type": "code",
   "execution_count": null,
   "metadata": {},
   "outputs": [],
   "source": [
    "# remove possible html tags\n",
    "from reviews.preprocess import strip_html\n",
    "for attr in data_df.columns:\n",
    "    data_df[attr] = data_df[attr].astype(\"string\").apply(strip_html)"
   ]
  },
  {
   "cell_type": "code",
   "execution_count": null,
   "metadata": {},
   "outputs": [],
   "source": [
    "rgx = re.compile(r'\\'(.*?)\\'')\n",
    "\n",
    "def transform_categories(text):\n",
    "    text = rgx.sub(r'\\g<1>', text.replace(\"[\",\"\").replace(\"]\",\"\"))\n",
    "    # text = text.replace(\"Electronics, Camera & Photo, Digital Cameras\", \"\")\n",
    "    text = \" ,\".join([x for x in text.split(\",\") if x])\n",
    "    return text\n",
    "\n",
    "# transform category and description from list of string to a string\n",
    "data_df[\"category\"] = data_df[\"category\"].transform(transform_categories)\n",
    "data_df[\"description\"] = data_df[\"description\"].transform(transform_categories)\n",
    "\n",
    "# convert price to float\n",
    "# remove invalid prices (html broken)\n",
    "# set to zero all invalid prices\n",
    "data_df[\"price\"].loc[data_df[\"price\"].astype(\"string\").str.len() > 20] = '-1'\n",
    "data_df[\"price\"].loc[data_df[\"price\"].astype(\"string\").str.len() == 0] = '-1'\n",
    "data_df[\"price\"] = data_df[\"price\"].astype(\"string\").str.replace('$', '').str.replace(',', '').astype(\"float\") # non serve proprio!\n",
    "\n",
    "# transform to string\n",
    "data_df[\"title\"] = data_df[\"title\"].astype(\"string\")\n",
    "data_df[\"date\"] = data_df[\"date\"].astype(\"string\") # non serve proprio!\n",
    "data_df[\"asin\"] = data_df[\"asin\"].astype(\"string\")\n",
    "data_df[\"text\"] = data_df[\"text\"].astype(\"string\")\n",
    "data_df[\"summary\"] = data_df[\"summary\"].astype(\"string\")\n",
    "\n",
    "# transform to category\n",
    "data_df[\"category\"] = data_df[\"category\"].astype(\"category\")\n",
    "data_df[\"brand\"] = data_df[\"brand\"].astype(\"category\")\n",
    "data_df[\"main_cat\"] = data_df[\"main_cat\"].astype(\"category\")"
   ]
  },
  {
   "cell_type": "code",
   "execution_count": null,
   "metadata": {},
   "outputs": [],
   "source": [
    "# remove duplicates\n",
    "data_df.drop_duplicates(inplace=True)"
   ]
  },
  {
   "cell_type": "code",
   "execution_count": null,
   "metadata": {},
   "outputs": [],
   "source": [
    "# count empty attributes\n",
    "\n",
    "empty_category = data_df.loc[data_df[\"category\"] == '']\n",
    "empty_brand = data_df.loc[data_df[\"brand\"] == '']\n",
    "empty_main_cat = data_df.loc[data_df[\"main_cat\"] == '']\n",
    "empty_description = data_df.loc[data_df[\"description\"].str.len() == 0]\n",
    "empty_title = data_df.loc[data_df[\"title\"].str.len() == 0]\n",
    "empty_date = data_df.loc[data_df[\"date\"].str.len() == 0]\n",
    "empty_price = data_df.loc[data_df[\"price\"] == -1]\n",
    "empty_asin = data_df.loc[data_df[\"asin\"].str.len() == 0]\n",
    "\n",
    "empty_overall = data_df.loc[data_df[\"overall\"] == '']\n",
    "empty_vote = data_df.loc[data_df[\"vote\"] == '']\n",
    "empty_timestamps = data_df.loc[data_df[\"timestamp\"] == '']\n",
    "empty_text = data_df.loc[data_df[\"text\"].str.len() == 0]\n",
    "empty_summary = data_df.loc[data_df[\"summary\"].str.len() == 0]\n",
    "empty_asin = data_df.loc[data_df[\"asin\"].str.len() == 0]\n",
    "\n",
    "counts_empty_fields = [\n",
    "    len(empty_category),\n",
    "    len(empty_description),\n",
    "    len(empty_title),\n",
    "    len(empty_brand),\n",
    "    len(empty_main_cat),\n",
    "    len(empty_date),\n",
    "    len(empty_price),\n",
    "    len(empty_asin),\n",
    "    len(empty_overall),\n",
    "    len(empty_vote),\n",
    "    len(empty_asin),\n",
    "    len(empty_text),\n",
    "    len(empty_summary)\n",
    "]\n",
    "\n",
    "print(dict(zip(list(data_df.columns), counts_empty_fields)))"
   ]
  },
  {
   "cell_type": "code",
   "execution_count": null,
   "metadata": {},
   "outputs": [],
   "source": [
    "# drop price column\n",
    "data_df.drop('price', axis=1, inplace=True)\n",
    "\n",
    "# remove all rows for empty (brand, main_cat, date)\n",
    "data_df = data_df.loc[data_df[\"brand\"] != '']\n",
    "data_df = data_df.loc[data_df[\"main_cat\"] != '']\n",
    "data_df = data_df.loc[data_df[\"date\"] != '']"
   ]
  },
  {
   "cell_type": "code",
   "execution_count": null,
   "metadata": {},
   "outputs": [],
   "source": [
    "# count empty attributes\n",
    "\n",
    "empty_category = data_df.loc[data_df[\"category\"] == '']\n",
    "empty_brand = data_df.loc[data_df[\"brand\"] == '']\n",
    "empty_main_cat = data_df.loc[data_df[\"main_cat\"] == '']\n",
    "empty_description = data_df.loc[data_df[\"description\"].str.len() == 0]\n",
    "empty_title = data_df.loc[data_df[\"title\"].str.len() == 0]\n",
    "empty_date = data_df.loc[data_df[\"date\"].str.len() == 0]\n",
    "empty_asin = data_df.loc[data_df[\"asin\"].str.len() == 0]\n",
    "\n",
    "empty_overall = data_df.loc[data_df[\"overall\"] == '']\n",
    "empty_vote = data_df.loc[data_df[\"vote\"] == '']\n",
    "empty_timestamps = data_df.loc[data_df[\"timestamp\"] == '']\n",
    "empty_text = data_df.loc[data_df[\"text\"].str.len() == 0]\n",
    "empty_summary = data_df.loc[data_df[\"summary\"].str.len() == 0]\n",
    "empty_asin = data_df.loc[data_df[\"asin\"].str.len() == 0]\n",
    "\n",
    "counts_empty_fields = [\n",
    "    len(empty_category),\n",
    "    len(empty_description),\n",
    "    len(empty_title),\n",
    "    len(empty_brand),\n",
    "    len(empty_main_cat),\n",
    "    len(empty_date),\n",
    "    len(empty_asin),\n",
    "    len(empty_overall),\n",
    "    len(empty_vote),\n",
    "    len(empty_asin),\n",
    "    len(empty_text),\n",
    "    len(empty_summary)\n",
    "]\n",
    "\n",
    "print(dict(zip(list(data_df.columns), counts_empty_fields)))"
   ]
  },
  {
   "cell_type": "code",
   "execution_count": null,
   "metadata": {},
   "outputs": [],
   "source": [
    "data_df.head(10)"
   ]
  },
  {
   "cell_type": "code",
   "execution_count": null,
   "metadata": {},
   "outputs": [],
   "source": [
    "# number of reviews per product(ASIN)\n",
    "data = pd.DataFrame(Counter(data_df['asin'].tolist()).most_common(50))\n",
    "_, ax = plt.subplots(figsize=(40, 7))\n",
    "plt.xticks(rotation=45)\n",
    "sns.barplot(data[0], data[1], ax=ax)\n",
    "\n",
    "# average number of reviews\n",
    "z = pd.DataFrame(data_df['asin'].value_counts())\n",
    "print(z['asin'].mean())"
   ]
  },
  {
   "cell_type": "markdown",
   "metadata": {},
   "source": [
    "# Overall"
   ]
  },
  {
   "cell_type": "code",
   "execution_count": null,
   "metadata": {},
   "outputs": [],
   "source": [
    "# number by starts\n",
    "data_df['overall'].value_counts(normalize=True).plot(kind = 'bar')\n",
    "\n",
    "pass"
   ]
  },
  {
   "cell_type": "code",
   "execution_count": null,
   "metadata": {},
   "outputs": [],
   "source": [
    "# min and max of overall mean\n",
    "print((data_df.groupby(\"asin\")[\"overall\"].mean()).min())\n",
    "print((data_df.groupby(\"asin\")[\"overall\"].mean()).max())\n",
    "\n",
    "# mean of overall\n",
    "print(data_df.groupby(\"asin\")[\"overall\"].mean())"
   ]
  },
  {
   "cell_type": "markdown",
   "metadata": {},
   "source": [
    "# Vote"
   ]
  },
  {
   "cell_type": "code",
   "execution_count": null,
   "metadata": {},
   "outputs": [],
   "source": [
    "# count of helpful vote number\n",
    "from collections import Counter\n",
    "from locale import normalize\n",
    "import seaborn as sns\n",
    "from matplotlib import pyplot as plt\n",
    "\n",
    "data = pd.DataFrame(Counter(data_df['vote'].tolist()).most_common(40))\n",
    "_, ax = plt.subplots(figsize=(25, 5))\n",
    "sns.barplot(data[0], data[1], ax=ax)\n",
    "\n",
    "pass"
   ]
  },
  {
   "cell_type": "code",
   "execution_count": null,
   "metadata": {},
   "outputs": [],
   "source": [
    "# min and max of vote mean\n",
    "print((data_df.groupby(\"asin\")[\"vote\"].mean()).min())\n",
    "print((data_df.groupby(\"asin\")[\"vote\"].mean()).max())\n",
    "\n",
    "# mean of vote\n",
    "print(data_df.groupby(\"asin\")[\"vote\"].mean())"
   ]
  },
  {
   "cell_type": "markdown",
   "metadata": {},
   "source": [
    "# Brand Reviewed"
   ]
  },
  {
   "cell_type": "markdown",
   "metadata": {},
   "source": [
    "### Most Reviewed Brand"
   ]
  },
  {
   "cell_type": "code",
   "execution_count": null,
   "metadata": {},
   "outputs": [],
   "source": [
    "data = pd.DataFrame(Counter(data_df['brand'].tolist()).most_common(20))\n",
    "_, ax = plt.subplots(figsize=(25, 5))\n",
    "sns.barplot(data[0], data[1], ax=ax)\n",
    "\n",
    "pass"
   ]
  },
  {
   "cell_type": "code",
   "execution_count": null,
   "metadata": {},
   "outputs": [],
   "source": [
    "c = Counter(list(prod_df['brand']))\n",
    "w = WordCloud(width=800, height=400, background_color=\"white\").fit_words(c)\n",
    "w.to_image()"
   ]
  },
  {
   "cell_type": "markdown",
   "metadata": {},
   "source": [
    "### Mean Overall per Brand"
   ]
  },
  {
   "cell_type": "code",
   "execution_count": null,
   "metadata": {},
   "outputs": [],
   "source": [
    "# mean valuation for brand\n",
    "print((data_df.groupby(\"brand\")[\"overall\"].mean()).sort_values())"
   ]
  },
  {
   "cell_type": "markdown",
   "metadata": {},
   "source": [
    "### Mean Overall per Vote"
   ]
  },
  {
   "cell_type": "code",
   "execution_count": null,
   "metadata": {},
   "outputs": [],
   "source": [
    "# mean number of util vote for brand\n",
    "print((data_df.groupby(\"brand\")[\"vote\"].mean()).sort_values())"
   ]
  },
  {
   "cell_type": "markdown",
   "metadata": {},
   "source": [
    "# Review Time Series"
   ]
  },
  {
   "cell_type": "code",
   "execution_count": null,
   "metadata": {},
   "outputs": [],
   "source": [
    "_, ax = plt.subplots(figsize=(25, 5))\n",
    "sns.histplot(data_df[data_df['brand'] == 'Canon']['timestamp'], ax=ax)\n",
    "\n",
    "pass"
   ]
  },
  {
   "cell_type": "code",
   "execution_count": null,
   "metadata": {},
   "outputs": [],
   "source": [
    "_, ax = plt.subplots(figsize=(25, 5))\n",
    "sns.histplot(data_df[data_df['brand'] == 'Nikon']['timestamp'], ax=ax)\n",
    "pass"
   ]
  },
  {
   "cell_type": "code",
   "execution_count": null,
   "metadata": {},
   "outputs": [],
   "source": [
    "_, ax = plt.subplots(figsize=(25, 5))\n",
    "sns.histplot(data_df[data_df['brand'] == 'Sony']['timestamp'], ax=ax)\n",
    "pass"
   ]
  },
  {
   "cell_type": "markdown",
   "metadata": {},
   "source": [
    "# Review Text and Summary"
   ]
  },
  {
   "cell_type": "markdown",
   "metadata": {},
   "source": [
    "### Review Language Detction"
   ]
  },
  {
   "cell_type": "code",
   "execution_count": null,
   "metadata": {},
   "outputs": [],
   "source": [
    "# keep eng only reviews\n",
    "\n",
    "from reviews.lang_identification import LanguageIdentification\n",
    "lang_detector = LanguageIdentification()\n",
    "\n",
    "for x in data_df['summary'].tolist():\n",
    "    data_df['lang'] = lang_detector.predict_lang(x)"
   ]
  },
  {
   "cell_type": "markdown",
   "metadata": {},
   "source": [
    "### Summary"
   ]
  },
  {
   "cell_type": "code",
   "execution_count": null,
   "metadata": {},
   "outputs": [],
   "source": [
    "data_df['summary'].head(10)"
   ]
  },
  {
   "cell_type": "code",
   "execution_count": null,
   "metadata": {},
   "outputs": [],
   "source": [
    "# most common tokens summary\n",
    "\n",
    "tokens = []\n",
    "for x in data_df[\"summary\"].tolist():\n",
    "    for token in preprocess(x, sentences = False): \n",
    "        tokens.append(token)\n",
    "\n",
    "data = pd.DataFrame(Counter(tokens).most_common(20))\n",
    "_, ax = plt.subplots(figsize=(25, 5))\n",
    "sns.barplot(data[0], data[1], ax=ax)\n",
    "\n",
    "pass"
   ]
  },
  {
   "cell_type": "code",
   "execution_count": null,
   "metadata": {},
   "outputs": [],
   "source": [
    "c = Counter(tokens)\n",
    "w = WordCloud(width=800, height=400, background_color=\"white\").fit_words(c)\n",
    "w.to_image()"
   ]
  },
  {
   "cell_type": "markdown",
   "metadata": {},
   "source": [
    "### Text"
   ]
  },
  {
   "cell_type": "code",
   "execution_count": null,
   "metadata": {},
   "outputs": [],
   "source": [
    "data_df['text'].head(10)"
   ]
  },
  {
   "cell_type": "code",
   "execution_count": null,
   "metadata": {},
   "outputs": [],
   "source": [
    "# most common tokens summary\n",
    "tokens = []\n",
    "for x in data_df[\"text\"].tolist():\n",
    "    for sentence in preprocess(x, sentences = True):\n",
    "        for token in sentence:\n",
    "            tokens.append(token)\n",
    "\n",
    "data = pd.DataFrame(Counter(tokens).most_common(20))\n",
    "_, ax = plt.subplots(figsize=(25, 5))\n",
    "sns.barplot(data[0], data[1], ax=ax)\n",
    "\n",
    "pass"
   ]
  },
  {
   "cell_type": "code",
   "execution_count": null,
   "metadata": {},
   "outputs": [],
   "source": [
    "c = Counter(tokens)\n",
    "w = WordCloud(width=800, height=400, background_color=\"white\").fit_words(c)\n",
    "w.to_image()"
   ]
  }
 ],
 "metadata": {
  "kernelspec": {
   "display_name": "Python 3.10.4 ('venv': venv)",
   "language": "python",
   "name": "python3"
  },
  "language_info": {
   "codemirror_mode": {
    "name": "ipython",
    "version": 3
   },
   "file_extension": ".py",
   "mimetype": "text/x-python",
   "name": "python",
   "nbconvert_exporter": "python",
   "pygments_lexer": "ipython3",
   "version": "3.10.4"
  },
  "vscode": {
   "interpreter": {
    "hash": "d5612a16ccaf4c3fb4cfcdb0e5985a4869a17ac33fc51daeb1c4e0cb99779cee"
   }
  }
 },
 "nbformat": 4,
 "nbformat_minor": 2
}
