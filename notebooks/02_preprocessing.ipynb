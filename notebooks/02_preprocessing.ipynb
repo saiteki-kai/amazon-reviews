{
 "cells": [
  {
   "cell_type": "code",
   "execution_count": null,
   "metadata": {
    "collapsed": true,
    "pycharm": {
     "name": "#%%\n",
     "is_executing": true
    }
   },
   "outputs": [],
   "source": [
    "import numpy as np\n",
    "\n",
    "import pandas as pd\n",
    "from collections import Counter\n",
    "from wordcloud import WordCloud\n",
    "from pandarallel import pandarallel\n",
    "\n",
    "from reviews.config import processed_data_dir, asum_input_dir\n",
    "from reviews.preprocess import preprocess\n",
    "\n",
    "pandarallel.initialize(progress_bar=True, nb_workers=4)"
   ]
  },
  {
   "cell_type": "code",
   "execution_count": null,
   "metadata": {
    "collapsed": false,
    "pycharm": {
     "name": "#%%\n",
     "is_executing": true
    }
   },
   "outputs": [],
   "source": [
    "# read data\n",
    "reviews_df = pd.read_json(\n",
    "    processed_data_dir / \"products_reviews.json.gz\", orient=\"records\"\n",
    ")\n",
    "reviews_df.info()"
   ]
  },
  {
   "cell_type": "code",
   "execution_count": null,
   "metadata": {
    "collapsed": false,
    "pycharm": {
     "name": "#%%\n",
     "is_executing": true
    }
   },
   "outputs": [],
   "source": [
    "# apply preprocessing\n",
    "reviews_df[\"text\"] = reviews_df[\"text\"].astype(\"string\")\n",
    "reviews_df[\"tokens\"] = reviews_df[\"text\"].parallel_apply(lambda x: preprocess(x, lemmatization=True))\n",
    "reviews_df.to_json(processed_data_dir / \"preprocessed_reviews.json.gz\")"
   ]
  },
  {
   "cell_type": "code",
   "execution_count": null,
   "metadata": {
    "collapsed": false,
    "pycharm": {
     "name": "#%%\n"
    }
   },
   "outputs": [],
   "source": [
    "tokens = [word for doc in reviews_df[\"tokens\"] for sent in doc for word in sent]\n",
    "c = Counter(tokens)\n",
    "\n",
    "print(\"Tokens:\", len(set(tokens)))"
   ]
  },
  {
   "cell_type": "code",
   "execution_count": null,
   "metadata": {
    "collapsed": false,
    "pycharm": {
     "name": "#%%\n"
    }
   },
   "outputs": [],
   "source": [
    "# generate the word cloud\n",
    "wc = WordCloud(\n",
    "    collocations=False,\n",
    "    prefer_horizontal=0.6,\n",
    "    width=800,\n",
    "    height=400,\n",
    "    background_color=\"white\",\n",
    ")\n",
    "wc.fit_words(c)\n",
    "wc.to_image()"
   ]
  },
  {
   "cell_type": "code",
   "execution_count": null,
   "metadata": {
    "pycharm": {
     "name": "#%%\n"
    }
   },
   "outputs": [],
   "source": [
    "vocabulary = dict((e, i) for i, e in enumerate(set(tokens)))\n",
    "print(\"Vocabulary size:\", len(vocabulary))\n",
    "\n",
    "# save vocabulary for asum input\n",
    "np.save(asum_input_dir / \"vocabulary\", vocabulary)"
   ]
  },
  {
   "cell_type": "markdown",
   "metadata": {
    "collapsed": false,
    "pycharm": {
     "name": "#%% md\n"
    }
   },
   "source": [
    "# Look for bad results"
   ]
  },
  {
   "cell_type": "code",
   "execution_count": null,
   "metadata": {
    "collapsed": false,
    "pycharm": {
     "name": "#%%\n"
    }
   },
   "outputs": [],
   "source": [
    "# check long words\n",
    "set([t for t in tokens if len(t) > 10])"
   ]
  },
  {
   "cell_type": "code",
   "execution_count": null,
   "metadata": {
    "collapsed": false,
    "pycharm": {
     "name": "#%%\n"
    }
   },
   "outputs": [],
   "source": [
    "strange_tokens = []"
   ]
  },
  {
   "cell_type": "code",
   "execution_count": null,
   "metadata": {
    "collapsed": false,
    "pycharm": {
     "name": "#%%\n"
    }
   },
   "outputs": [],
   "source": [
    "for q in strange_tokens:\n",
    "    for i, row in reviews_df.iterrows():\n",
    "        if q in [t for s in row[\"tokens\"] for t in s]:\n",
    "            print(row[\"text\"])\n",
    "            print(row[\"tokens\"])\n",
    "            print(\"\\n\")"
   ]
  }
 ],
 "metadata": {
  "kernelspec": {
   "display_name": "Python 3.10.4 ('venv': venv)",
   "language": "python",
   "name": "python3"
  },
  "language_info": {
   "codemirror_mode": {
    "name": "ipython",
    "version": 3
   },
   "file_extension": ".py",
   "mimetype": "text/x-python",
   "name": "python",
   "nbconvert_exporter": "python",
   "pygments_lexer": "ipython3",
   "version": "3.10.4"
  },
  "vscode": {
   "interpreter": {
    "hash": "d5612a16ccaf4c3fb4cfcdb0e5985a4869a17ac33fc51daeb1c4e0cb99779cee"
   }
  }
 },
 "nbformat": 4,
 "nbformat_minor": 0
}