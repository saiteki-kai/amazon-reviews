{
 "cells": [
  {
   "cell_type": "markdown",
   "metadata": {},
   "source": [
    "# JST"
   ]
  },
  {
   "cell_type": "code",
   "execution_count": 4,
   "outputs": [
    {
     "name": "stdout",
     "output_type": "stream",
     "text": [
      "INFO: Pandarallel will run on 8 workers.\n",
      "INFO: Pandarallel will use Memory file system to transfer data between the main process and workers.\n"
     ]
    }
   ],
   "source": [
    "import numpy as np\n",
    "\n",
    "import pandas as pd\n",
    "from pandarallel import pandarallel\n",
    "from reviews.config import processed_data_dir, asum_input_dir, data_dir\n",
    "from reviews.preprocess import preprocess\n",
    "\n",
    "pandarallel.initialize(progress_bar=True, nb_workers=8)\n"
   ],
   "metadata": {
    "collapsed": false
   }
  },
  {
   "cell_type": "code",
   "execution_count": 5,
   "outputs": [],
   "source": [
    "reviews_df = pd.read_json(\n",
    "    processed_data_dir / \"products_reviews.json.gz\", orient=\"records\"\n",
    ")\n",
    "reviews_df = reviews_df[:1000]"
   ],
   "metadata": {
    "collapsed": false
   }
  },
  {
   "cell_type": "code",
   "execution_count": 6,
   "outputs": [],
   "source": [
    "tokens = reviews_df[\"text\"].apply(lambda x: preprocess(x, lemmatization=True, sentences=False, return_tokens=False))"
   ],
   "metadata": {
    "collapsed": false
   }
  },
  {
   "cell_type": "code",
   "execution_count": 65,
   "outputs": [],
   "source": [
    "docs = list(tokens)\n",
    "docs = [f\"d{i} {x}\" for i, x in enumerate(docs)]\n",
    "\n",
    "docs_file = \"\\n\".join(docs)\n",
    "\n",
    "with open(data_dir / \"jst\" / \"docs.dat\", \"w\") as f:\n",
    "    f.write(docs_file)"
   ],
   "metadata": {
    "collapsed": false
   }
  },
  {
   "cell_type": "code",
   "execution_count": 26,
   "outputs": [],
   "source": [
    "vocabs = [x for sublist in list(tokens) for x in sublist.split(\" \")]"
   ],
   "metadata": {
    "collapsed": false
   }
  },
  {
   "cell_type": "code",
   "execution_count": 34,
   "outputs": [],
   "source": [
    "from collections import Counter\n",
    "vocab_file = \"\\n\".join([f\"{k} {v}\"  for (k, v) in dict(Counter(vocabs)).items()])\n",
    "\n",
    "with open(data_dir / \"jst\" / \"wordmap.txt\", \"w\") as f:\n",
    "    f.write(vocab_file)"
   ],
   "metadata": {
    "collapsed": false
   }
  },
  {
   "cell_type": "code",
   "execution_count": null,
   "outputs": [],
   "source": [
    "from reviews.config import data_dir, bin_dir, out_dir\n",
    "from reviews.models import JST\n",
    "\n",
    "alpha = 0.1\n",
    "beta = 0.001 # [0.001, 0.1, 0]\n",
    "gamma = 1 #[1, 1]\n",
    "n_topics = 20\n",
    "iterations = 1000\n",
    "\n",
    "model = JST(bin_dir, data_dir / \"jst\", out_dir / \"jst\")\n",
    "model.estimate(alpha, beta, gamma, n_topics, iterations)"
   ],
   "metadata": {
    "collapsed": false,
    "pycharm": {
     "is_executing": true
    }
   }
  }
 ],
 "metadata": {
  "kernelspec": {
   "display_name": "Python 3.7.3 32-bit",
   "language": "python",
   "name": "python3"
  },
  "language_info": {
   "codemirror_mode": {
    "name": "ipython",
    "version": 3
   },
   "file_extension": ".py",
   "mimetype": "text/x-python",
   "name": "python",
   "nbconvert_exporter": "python",
   "pygments_lexer": "ipython3",
   "version": "3.7.3"
  },
  "orig_nbformat": 4,
  "vscode": {
   "interpreter": {
    "hash": "84ce2fb32a9c266b952fcf81060afaa66a94f1881626d999c4b836a5a7adb637"
   }
  }
 },
 "nbformat": 4,
 "nbformat_minor": 2
}
