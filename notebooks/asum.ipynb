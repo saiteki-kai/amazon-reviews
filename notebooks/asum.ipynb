{
 "cells": [
  {
   "cell_type": "markdown",
   "metadata": {},
   "source": [
    "# ASUM"
   ]
  },
  {
   "cell_type": "code",
   "execution_count": null,
   "metadata": {},
   "outputs": [],
   "source": [
    "import os\n",
    "import re\n",
    "import pandas as pd\n",
    "from collections import Counter\n",
    "from wordcloud import WordCloud\n",
    "import matplotlib.pyplot as plt\n",
    "\n",
    "from reviews.config import processed_data_dir, asum_input_dir, asum_output_dir\n",
    "from reviews.preprocess import preprocess\n",
    "from reviews.models import asum"
   ]
  },
  {
   "cell_type": "code",
   "execution_count": null,
   "metadata": {},
   "outputs": [],
   "source": [
    "# read data\n",
    "df = pd.read_json(processed_data_dir / \"reviews_digital_cameras.json.gz\", orient=\"records\")\n",
    "df.dropna(inplace=True)\n",
    "df.drop_duplicates(inplace=True)\n",
    "\n",
    "df = df.sample(100) # subset\n",
    "\n",
    "df.reset_index(inplace=True, drop=True)\n",
    "df.info()"
   ]
  },
  {
   "cell_type": "markdown",
   "metadata": {},
   "source": [
    "## Preprocessing"
   ]
  },
  {
   "cell_type": "code",
   "execution_count": null,
   "metadata": {},
   "outputs": [],
   "source": [
    "# apply preprocessing\n",
    "df[\"preprocess\"] = df[\"text\"].apply(lambda x : preprocess(x))"
   ]
  },
  {
   "cell_type": "code",
   "execution_count": null,
   "metadata": {},
   "outputs": [],
   "source": [
    "tokens = [word for doc in df[\"preprocess\"] for sent in doc for word in sent]\n",
    "c = Counter(tokens)"
   ]
  },
  {
   "cell_type": "code",
   "execution_count": null,
   "metadata": {},
   "outputs": [],
   "source": [
    "# generate the word cloud\n",
    "w = WordCloud(width=800, height=400, background_color=\"white\").fit_words(c)\n",
    "w.to_image()"
   ]
  },
  {
   "cell_type": "code",
   "execution_count": null,
   "metadata": {},
   "outputs": [],
   "source": [
    "vocabulary = dict((e, i) for i, e in enumerate(set(tokens)))\n",
    "print(len(vocabulary))"
   ]
  },
  {
   "cell_type": "markdown",
   "metadata": {},
   "source": [
    "## Generate data for ASUM"
   ]
  },
  {
   "cell_type": "code",
   "execution_count": null,
   "metadata": {},
   "outputs": [],
   "source": [
    "with open(asum_input_dir / \"WordList.txt\", \"w\") as f:\n",
    "  for word in vocabulary:\n",
    "    f.write(f\"{word}\\n\")"
   ]
  },
  {
   "cell_type": "code",
   "execution_count": null,
   "metadata": {},
   "outputs": [],
   "source": [
    "sentence_list = asum_input_dir / \"BagOfSentences.txt\"\n",
    "\n",
    "if os.path.exists(sentence_list):\n",
    "  os.remove(sentence_list)\n",
    "\n",
    "with open(sentence_list, \"a\") as f:\n",
    "  for doc in df[\"preprocess\"]:\n",
    "    f.write(f\"{len(doc)}\\n\")\n",
    "    for tokens in doc:\n",
    "      indexes = \" \".join([str(vocabulary[t]) for t in tokens])\n",
    "      f.write(f\"{indexes}\\n\")"
   ]
  },
  {
   "cell_type": "code",
   "execution_count": null,
   "metadata": {},
   "outputs": [],
   "source": [
    "asum(\"0.1\", \"0.001/0.1/0\", \"1/1\", \"5\", iterations=\"500\")"
   ]
  },
  {
   "cell_type": "markdown",
   "metadata": {},
   "source": [
    "## Print Values"
   ]
  },
  {
   "cell_type": "code",
   "execution_count": null,
   "metadata": {},
   "outputs": [],
   "source": [
    "df = pd.read_csv(\n",
    "    asum_output_dir / \"STO2-T5-S2(2)-A0.1-B0.001,0.1,0.0-G1.0,1.0-I100-ProbWords.csv\"\n",
    ")\n",
    "\n",
    "def map_topic_sentiment(column_name):\n",
    "  if (\"Unnamed\" in column_name):\n",
    "    return None\n",
    "\n",
    "  values = column_name.split(\"-\")\n",
    "  return {\"sentiment\": int(values[0][1]), \"topic\": int(values[1][1]), \"colname\": column_name }\n",
    "\n",
    "columns = df.columns.map(map_topic_sentiment)"
   ]
  },
  {
   "cell_type": "code",
   "execution_count": null,
   "metadata": {},
   "outputs": [],
   "source": [
    "def get_word_weight(item):\n",
    "  match = re.match(\"(\\w+)\\s+\\((.*?)\\)\", item)\n",
    "  word, weight = match.groups()\n",
    "  return word, float(weight)\n",
    "\n",
    "n_top_words = 10\n",
    "\n",
    "fig, axes = plt.subplots(2, n_top_words, figsize=(15, 6), sharex=True)\n",
    "axes = axes.flatten()\n",
    "\n",
    "for idx, item in enumerate(columns):\n",
    "  if item is None:\n",
    "    continue\n",
    "  \n",
    "  ax = axes[idx]\n",
    "  words = df[item[\"colname\"]][:n_top_words]\n",
    "  weights = list(map(list, zip(*words.map(get_word_weight))))\n",
    "\n",
    "  weights = pd.DataFrame({\"names\": weights[0], \"weights\": weights[1]})\n",
    "  weights.sort_values(\"weights\", inplace=True)\n",
    "  \n",
    "  ax.barh(weights[\"names\"], weights[\"weights\"], height=0.5)\n",
    "  \n",
    "  if idx > n_top_words - 1:\n",
    "    ax.set_xlabel(f\"Topic {item['topic'] + 1}\")\n",
    "\n",
    "  if idx == 0 or idx == n_top_words:\n",
    "    ax.set_ylabel(\"Positive\" if item['sentiment'] == 0 else \"Negative\")\n",
    "fig.tight_layout()"
   ]
  }
 ],
 "metadata": {
  "kernelspec": {
   "display_name": "Python 3.10.4 ('venv': venv)",
   "language": "python",
   "name": "python3"
  },
  "language_info": {
   "codemirror_mode": {
    "name": "ipython",
    "version": 3
   },
   "file_extension": ".py",
   "mimetype": "text/x-python",
   "name": "python",
   "nbconvert_exporter": "python",
   "pygments_lexer": "ipython3",
   "version": "3.10.4"
  },
  "vscode": {
   "interpreter": {
    "hash": "b3de614af504821bb8883dc4474be6409a07bf1012b2a3a30887ac305417f630"
   }
  }
 },
 "nbformat": 4,
 "nbformat_minor": 2
}
