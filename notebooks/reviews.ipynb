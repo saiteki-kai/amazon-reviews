{
 "cells": [
  {
   "cell_type": "markdown",
   "metadata": {},
   "source": [
    "# Reviews Analysis"
   ]
  },
  {
   "cell_type": "code",
   "execution_count": 14,
   "metadata": {},
   "outputs": [],
   "source": [
    "import pandas as pd\n",
    "from reviews.config import processed_data_dir\n",
    "\n",
    "reviews_df = pd.read_json(processed_data_dir / \"reviews_digital_cameras.json.gz\")"
   ]
  },
  {
   "cell_type": "code",
   "execution_count": 15,
   "metadata": {},
   "outputs": [
    {
     "name": "stdout",
     "output_type": "stream",
     "text": [
      "<class 'pandas.core.frame.DataFrame'>\n",
      "RangeIndex: 87205 entries, 0 to 87204\n",
      "Data columns (total 6 columns):\n",
      " #   Column     Non-Null Count  Dtype \n",
      "---  ------     --------------  ----- \n",
      " 0   overall    87205 non-null  int64 \n",
      " 1   vote       87205 non-null  int64 \n",
      " 2   asin       87205 non-null  object\n",
      " 3   text       87205 non-null  object\n",
      " 4   summary    87205 non-null  object\n",
      " 5   timestamp  87205 non-null  int64 \n",
      "dtypes: int64(3), object(3)\n",
      "memory usage: 4.0+ MB\n"
     ]
    }
   ],
   "source": [
    "# general information about reviews dataset\n",
    "reviews_df.info()"
   ]
  },
  {
   "cell_type": "code",
   "execution_count": 17,
   "metadata": {},
   "outputs": [
    {
     "data": {
      "text/html": [
       "<div>\n",
       "<style scoped>\n",
       "    .dataframe tbody tr th:only-of-type {\n",
       "        vertical-align: middle;\n",
       "    }\n",
       "\n",
       "    .dataframe tbody tr th {\n",
       "        vertical-align: top;\n",
       "    }\n",
       "\n",
       "    .dataframe thead th {\n",
       "        text-align: right;\n",
       "    }\n",
       "</style>\n",
       "<table border=\"1\" class=\"dataframe\">\n",
       "  <thead>\n",
       "    <tr style=\"text-align: right;\">\n",
       "      <th></th>\n",
       "      <th>overall</th>\n",
       "      <th>vote</th>\n",
       "      <th>asin</th>\n",
       "      <th>text</th>\n",
       "      <th>summary</th>\n",
       "      <th>timestamp</th>\n",
       "    </tr>\n",
       "  </thead>\n",
       "  <tbody>\n",
       "    <tr>\n",
       "      <th>0</th>\n",
       "      <td>1</td>\n",
       "      <td>47</td>\n",
       "      <td>B00000JBIA</td>\n",
       "      <td>I bought the Smile to have a handy, inexpensiv...</td>\n",
       "      <td>Not the best choice</td>\n",
       "      <td>950</td>\n",
       "    </tr>\n",
       "    <tr>\n",
       "      <th>1</th>\n",
       "      <td>1</td>\n",
       "      <td>24</td>\n",
       "      <td>B00000JBIA</td>\n",
       "      <td>It is absolutely useless.  The pictures are gr...</td>\n",
       "      <td>This camera is HORRIBLE!</td>\n",
       "      <td>971</td>\n",
       "    </tr>\n",
       "    <tr>\n",
       "      <th>2</th>\n",
       "      <td>4</td>\n",
       "      <td>73</td>\n",
       "      <td>B00000JBIA</td>\n",
       "      <td>Bought one from Amazon and begun immediately t...</td>\n",
       "      <td>What do you need?</td>\n",
       "      <td>966</td>\n",
       "    </tr>\n",
       "    <tr>\n",
       "      <th>3</th>\n",
       "      <td>1</td>\n",
       "      <td>28</td>\n",
       "      <td>B00000JBIA</td>\n",
       "      <td>I'm on a small budget this summer, so I bought...</td>\n",
       "      <td>Worse than I thought, but at that price...</td>\n",
       "      <td>960</td>\n",
       "    </tr>\n",
       "    <tr>\n",
       "      <th>4</th>\n",
       "      <td>3</td>\n",
       "      <td>109</td>\n",
       "      <td>B00000JBIA</td>\n",
       "      <td>My first experiences with AGFA cameras were in...</td>\n",
       "      <td>Not bad for the money</td>\n",
       "      <td>959</td>\n",
       "    </tr>\n",
       "    <tr>\n",
       "      <th>5</th>\n",
       "      <td>4</td>\n",
       "      <td>3</td>\n",
       "      <td>B00000JDEL</td>\n",
       "      <td>I really like mine. It takes good pictures. It...</td>\n",
       "      <td>Kodak 240</td>\n",
       "      <td>971</td>\n",
       "    </tr>\n",
       "    <tr>\n",
       "      <th>6</th>\n",
       "      <td>5</td>\n",
       "      <td>4</td>\n",
       "      <td>B00000JDEL</td>\n",
       "      <td>This is the best camera I have seen for the pr...</td>\n",
       "      <td>Great Camera, Great Features, Easy Use</td>\n",
       "      <td>969</td>\n",
       "    </tr>\n",
       "    <tr>\n",
       "      <th>7</th>\n",
       "      <td>4</td>\n",
       "      <td>10</td>\n",
       "      <td>B00000JDEL</td>\n",
       "      <td>I have been in photography for about 15 years,...</td>\n",
       "      <td>Great Camera for the price!</td>\n",
       "      <td>965</td>\n",
       "    </tr>\n",
       "    <tr>\n",
       "      <th>8</th>\n",
       "      <td>5</td>\n",
       "      <td>26</td>\n",
       "      <td>B00000JDEL</td>\n",
       "      <td>Bought the camera mid-June, and by late June w...</td>\n",
       "      <td>Awesome value - very user friendly</td>\n",
       "      <td>962</td>\n",
       "    </tr>\n",
       "    <tr>\n",
       "      <th>9</th>\n",
       "      <td>5</td>\n",
       "      <td>0</td>\n",
       "      <td>B00000JFIF</td>\n",
       "      <td>I have owned an Olympus 340 for two years and ...</td>\n",
       "      <td>Excellent camera, but the quality of the photo...</td>\n",
       "      <td>1006</td>\n",
       "    </tr>\n",
       "  </tbody>\n",
       "</table>\n",
       "</div>"
      ],
      "text/plain": [
       "   overall  vote        asin  \\\n",
       "0        1    47  B00000JBIA   \n",
       "1        1    24  B00000JBIA   \n",
       "2        4    73  B00000JBIA   \n",
       "3        1    28  B00000JBIA   \n",
       "4        3   109  B00000JBIA   \n",
       "5        4     3  B00000JDEL   \n",
       "6        5     4  B00000JDEL   \n",
       "7        4    10  B00000JDEL   \n",
       "8        5    26  B00000JDEL   \n",
       "9        5     0  B00000JFIF   \n",
       "\n",
       "                                                text  \\\n",
       "0  I bought the Smile to have a handy, inexpensiv...   \n",
       "1  It is absolutely useless.  The pictures are gr...   \n",
       "2  Bought one from Amazon and begun immediately t...   \n",
       "3  I'm on a small budget this summer, so I bought...   \n",
       "4  My first experiences with AGFA cameras were in...   \n",
       "5  I really like mine. It takes good pictures. It...   \n",
       "6  This is the best camera I have seen for the pr...   \n",
       "7  I have been in photography for about 15 years,...   \n",
       "8  Bought the camera mid-June, and by late June w...   \n",
       "9  I have owned an Olympus 340 for two years and ...   \n",
       "\n",
       "                                             summary  timestamp  \n",
       "0                                Not the best choice        950  \n",
       "1                           This camera is HORRIBLE!        971  \n",
       "2                                  What do you need?        966  \n",
       "3         Worse than I thought, but at that price...        960  \n",
       "4                              Not bad for the money        959  \n",
       "5                                          Kodak 240        971  \n",
       "6             Great Camera, Great Features, Easy Use        969  \n",
       "7                        Great Camera for the price!        965  \n",
       "8                 Awesome value - very user friendly        962  \n",
       "9  Excellent camera, but the quality of the photo...       1006  "
      ]
     },
     "execution_count": 17,
     "metadata": {},
     "output_type": "execute_result"
    }
   ],
   "source": [
    "# head of dataset\n",
    "reviews_df.head(10)"
   ]
  },
  {
   "cell_type": "code",
   "execution_count": 27,
   "metadata": {},
   "outputs": [
    {
     "data": {
      "text/plain": [
       "87205"
      ]
     },
     "execution_count": 27,
     "metadata": {},
     "output_type": "execute_result"
    }
   ],
   "source": [
    "# length of data\n",
    "len(reviews_df)"
   ]
  },
  {
   "cell_type": "code",
   "execution_count": 26,
   "metadata": {},
   "outputs": [
    {
     "data": {
      "text/plain": [
       "5    55550\n",
       "4    16885\n",
       "3     6530\n",
       "1     4344\n",
       "2     3896\n",
       "Name: overall, dtype: int64"
      ]
     },
     "execution_count": 26,
     "metadata": {},
     "output_type": "execute_result"
    }
   ],
   "source": [
    "# number by starts\n",
    "reviews_df['overall'].value_counts()"
   ]
  },
  {
   "cell_type": "code",
   "execution_count": 28,
   "metadata": {},
   "outputs": [
    {
     "name": "stdout",
     "output_type": "stream",
     "text": [
      "{'overall': 0, 'vote': 0, 'asin': 0, 'text': 0, 'summary': 0}\n"
     ]
    }
   ],
   "source": [
    "# count empty attributes\n",
    "\n",
    "empty_overall = reviews_df.loc[reviews_df[\"overall\"] == '']\n",
    "empty_vote = reviews_df.loc[reviews_df[\"vote\"] == '']\n",
    "empty_timestamps = reviews_df.loc[reviews_df[\"timestamp\"] == '']\n",
    "\n",
    "empty_text = reviews_df.loc[reviews_df[\"text\"].str.len() == 0]\n",
    "empty_summary = reviews_df.loc[reviews_df[\"summary\"].str.len() == 0]\n",
    "empty_asin = reviews_df.loc[reviews_df[\"asin\"].str.len() == 0]\n",
    "\n",
    "counts_empty_fields = [\n",
    "    len(empty_overall),\n",
    "    len(empty_vote),\n",
    "    len(empty_asin),\n",
    "    len(empty_text),\n",
    "    len(empty_summary)\n",
    "]\n",
    "\n",
    "print(dict(zip(list(reviews_df.columns), counts_empty_fields)))"
   ]
  },
  {
   "cell_type": "code",
   "execution_count": 43,
   "metadata": {},
   "outputs": [
    {
     "data": {
      "text/plain": [
       "0       51673\n",
       "2        7857\n",
       "3        4888\n",
       "4        3324\n",
       "5        2536\n",
       "        ...  \n",
       "605         1\n",
       "541         1\n",
       "1564        1\n",
       "604         1\n",
       "2047        1\n",
       "Name: vote, Length: 543, dtype: int64"
      ]
     },
     "execution_count": 43,
     "metadata": {},
     "output_type": "execute_result"
    }
   ],
   "source": [
    "# count of helpful vote number\n",
    "reviews_df['vote'].value_counts()"
   ]
  },
  {
   "cell_type": "code",
   "execution_count": 56,
   "metadata": {},
   "outputs": [
    {
     "name": "stdout",
     "output_type": "stream",
     "text": [
      "asin\n",
      "B00000JBIA    1.714286\n",
      "B00000JDEL    4.400000\n",
      "B00000JFIF    4.833333\n",
      "B00000JYLO    3.928571\n",
      "B00000JYWQ    4.111111\n",
      "                ...   \n",
      "B01GKNUGHC    4.666667\n",
      "B01H65ESKY    4.375000\n",
      "B01HDQBSR2    4.333333\n",
      "B01HH8H2WQ    4.777778\n",
      "B01HHR572O    3.833333\n",
      "Name: overall, Length: 2189, dtype: float64\n",
      "asin\n",
      "B00000JBIA    40.857143\n",
      "B00000JDEL     8.600000\n",
      "B00000JFIF    32.166667\n",
      "B00000JYLO    22.857143\n",
      "B00000JYWQ    37.500000\n",
      "                ...    \n",
      "B01GKNUGHC     0.222222\n",
      "B01H65ESKY     1.625000\n",
      "B01HDQBSR2     1.888889\n",
      "B01HH8H2WQ     1.888889\n",
      "B01HHR572O    11.000000\n",
      "Name: vote, Length: 2189, dtype: float64\n"
     ]
    }
   ],
   "source": [
    "# mean of overall\n",
    "print(reviews_df.groupby(\"asin\")[\"overall\"].mean())\n",
    "\n",
    "# mean of vote\n",
    "print(reviews_df.groupby(\"asin\")[\"vote\"].mean())"
   ]
  },
  {
   "cell_type": "code",
   "execution_count": 57,
   "metadata": {},
   "outputs": [
    {
     "name": "stdout",
     "output_type": "stream",
     "text": [
      "1.6\n",
      "5.0\n",
      "0.0\n",
      "319.73333333333335\n"
     ]
    }
   ],
   "source": [
    "# min and max of overall mean\n",
    "print((reviews_df.groupby(\"asin\")[\"overall\"].mean()).min())\n",
    "print((reviews_df.groupby(\"asin\")[\"overall\"].mean()).max())\n",
    "\n",
    "# min and max of vote mean\n",
    "print((reviews_df.groupby(\"asin\")[\"vote\"].mean()).min())\n",
    "print((reviews_df.groupby(\"asin\")[\"vote\"].mean()).max())"
   ]
  }
 ],
 "metadata": {
  "kernelspec": {
   "display_name": "Python 3.7.3 32-bit",
   "language": "python",
   "name": "python3"
  },
  "language_info": {
   "codemirror_mode": {
    "name": "ipython",
    "version": 3
   },
   "file_extension": ".py",
   "mimetype": "text/x-python",
   "name": "python",
   "nbconvert_exporter": "python",
   "pygments_lexer": "ipython3",
   "version": "3.7.3"
  },
  "orig_nbformat": 4,
  "vscode": {
   "interpreter": {
    "hash": "84ce2fb32a9c266b952fcf81060afaa66a94f1881626d999c4b836a5a7adb637"
   }
  }
 },
 "nbformat": 4,
 "nbformat_minor": 2
}
