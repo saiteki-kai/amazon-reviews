{
 "cells": [
  {
   "cell_type": "code",
   "execution_count": 268,
   "metadata": {
    "collapsed": true
   },
   "outputs": [],
   "source": [
    "import matplotlib.pyplot as plt\n",
    "import pandas as pd\n",
    "import seaborn as sns\n",
    "\n",
    "from reviews.config import out_dir"
   ]
  },
  {
   "cell_type": "code",
   "execution_count": 269,
   "outputs": [],
   "source": [
    "total_df = pd.DataFrame()\n",
    "for n_topics in [10, 20, 30, 50]:\n",
    "    for model in [\"asum\", \"jst\"]:\n",
    "        for norm in [\"stemming\"]: #\"lemmatization\"\n",
    "\n",
    "            filename = out_dir / model / f\"metrics_{model}_{n_topics}_text_{norm}.csv\"\n",
    "\n",
    "            if not filename.exists():\n",
    "                continue\n",
    "\n",
    "            df = pd.read_csv(filename)\n",
    "            df[\"model\"] = model\n",
    "            df[\"normalization\"] = norm\n",
    "\n",
    "            total_df = pd.concat((df, total_df))\n"
   ],
   "metadata": {
    "collapsed": false
   }
  },
  {
   "cell_type": "code",
   "execution_count": 270,
   "outputs": [
    {
     "data": {
      "text/plain": "(0.0, 1.0)"
     },
     "execution_count": 270,
     "metadata": {},
     "output_type": "execute_result"
    },
    {
     "data": {
      "text/plain": "<Figure size 800x400 with 1 Axes>",
      "image/png": "[encoded data removed]"
     },
     "metadata": {},
     "output_type": "display_data"
    }
   ],
   "source": [
    "fig, ax = plt.subplots(figsize=(8, 4))\n",
    "sns.lineplot(total_df, y=\"f1_macro\", x=\"n_topics\", hue=\"model\", ax=ax, err_style=\"bars\", errorbar=\"sd\") #style=\"normalization\"\n",
    "ax.set_ylim([0, 1])"
   ],
   "metadata": {
    "collapsed": false
   }
  },
  {
   "cell_type": "code",
   "execution_count": 271,
   "outputs": [],
   "source": [
    "from reviews.utils import read_sentiment_words\n",
    "from reviews.config import data_dir, processed_data_dir\n",
    "from reviews.utils import flat_sentence_tokens\n",
    "from itertools import chain\n",
    "from collections import Counter\n"
   ],
   "metadata": {
    "collapsed": false
   }
  },
  {
   "cell_type": "code",
   "execution_count": 272,
   "outputs": [
    {
     "name": "stdout",
     "output_type": "stream",
     "text": [
      "Too Long Reviews: 10.14%\n"
     ]
    }
   ],
   "source": [
    "NORM = \"lemmatization\"  # stemming, lemmatization\n",
    "FIELD = \"text\"  # text, text+summary\n",
    "\n",
    "\n",
    "pos_words, neg_words = read_sentiment_words(normalization=NORM)\n",
    "\n",
    "reviews_df = pd.read_json(\n",
    "    processed_data_dir / f\"reviews_{FIELD}_{NORM}.json.gz\", orient=\"records\"\n",
    ")\n",
    "\n",
    "# load tokens\n",
    "too_long = reviews_df[\"tokens\"].apply(lambda x: len(list(chain.from_iterable(x))) > 50)\n",
    "reviews_df.loc[too_long, \"tokens\"] = \"[]\"\n",
    "\n",
    "print(f\"Too Long Reviews: {too_long.sum() / len(reviews_df) * 100:.2f}%\")\n",
    "\n",
    "# docs\n",
    "sentences = list(reviews_df[\"tokens\"].apply(lambda r: \" \".join(chain.from_iterable(r))))\n",
    "docs = [f\"d{i} {x}\" for i, x in enumerate(sentences)]\n",
    "\n",
    "with open(data_dir / \"jst\" / \"docs.dat\", \"w\") as f:\n",
    "    f.write(\"\\n\".join(docs))\n",
    "\n",
    "# vocabulary\n",
    "tokens = flat_sentence_tokens(reviews_df[\"tokens\"])\n",
    "vocabs = [f\"{k} {v}\" for (k, v) in dict(Counter(tokens)).items()]\n"
   ],
   "metadata": {
    "collapsed": false
   }
  },
  {
   "cell_type": "code",
   "execution_count": 273,
   "outputs": [
    {
     "data": {
      "text/plain": "'26, 14068, 26'"
     },
     "execution_count": 273,
     "metadata": {},
     "output_type": "execute_result"
    }
   ],
   "source": [
    "f'{len(set(tokens).intersection(pos_words))}, {len(set(tokens))}, {len(pos_words)}'"
   ],
   "metadata": {
    "collapsed": false
   }
  },
  {
   "cell_type": "code",
   "execution_count": 274,
   "outputs": [
    {
     "data": {
      "text/plain": "'26, 14068, 26'"
     },
     "execution_count": 274,
     "metadata": {},
     "output_type": "execute_result"
    }
   ],
   "source": [
    "f'{len(set(tokens).intersection(neg_words))}, {len(set(tokens))}, {len(neg_words)}'"
   ],
   "metadata": {
    "collapsed": false
   }
  },
  {
   "cell_type": "code",
   "execution_count": 274,
   "outputs": [],
   "source": [],
   "metadata": {
    "collapsed": false
   }
  }
 ],
 "metadata": {
  "kernelspec": {
   "display_name": "Python 3",
   "language": "python",
   "name": "python3"
  },
  "language_info": {
   "codemirror_mode": {
    "name": "ipython",
    "version": 2
   },
   "file_extension": ".py",
   "mimetype": "text/x-python",
   "name": "python",
   "nbconvert_exporter": "python",
   "pygments_lexer": "ipython2",
   "version": "2.7.6"
  }
 },
 "nbformat": 4,
 "nbformat_minor": 0
}
