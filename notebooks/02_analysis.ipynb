{
 "cells": [
  {
   "cell_type": "markdown",
   "source": [
    "# Corsair Data Analytics On Amazon Reviews"
   ],
   "metadata": {
    "collapsed": false
   }
  },
  {
   "cell_type": "code",
   "execution_count": 156,
   "outputs": [
    {
     "name": "stdout",
     "output_type": "stream",
     "text": [
      "INFO: Pandarallel will run on 8 workers.\n",
      "INFO: Pandarallel will use Memory file system to transfer data between the main process and workers.\n"
     ]
    }
   ],
   "source": [
    "import numpy as np\n",
    "import pandas as pd\n",
    "import seaborn as sns\n",
    "\n",
    "from collections import Counter\n",
    "from wordcloud import WordCloud\n",
    "\n",
    "from matplotlib import pyplot as plt\n",
    "from pandarallel import pandarallel\n",
    "\n",
    "from reviews.config import processed_data_dir\n",
    "\n",
    "pandarallel.initialize(progress_bar=False, nb_workers=8)"
   ],
   "metadata": {
    "collapsed": false
   }
  },
  {
   "cell_type": "markdown",
   "source": [
    "### Read Data"
   ],
   "metadata": {
    "collapsed": false
   }
  },
  {
   "cell_type": "code",
   "execution_count": 157,
   "outputs": [
    {
     "name": "stdout",
     "output_type": "stream",
     "text": [
      "<class 'pandas.core.frame.DataFrame'>\n",
      "Int64Index: 21954 entries, 0 to 21953\n",
      "Data columns (total 13 columns):\n",
      " #   Column           Non-Null Count  Dtype         \n",
      "---  ------           --------------  -----         \n",
      " 0   asin             21954 non-null  category      \n",
      " 1   overall          21954 non-null  category      \n",
      " 2   reviewerID       21954 non-null  object        \n",
      " 3   summary          21954 non-null  string        \n",
      " 4   text             21954 non-null  string        \n",
      " 5   timestamp        21954 non-null  datetime64[ns]\n",
      " 6   vote             21954 non-null  int64         \n",
      " 7   brand            21954 non-null  category      \n",
      " 8   category         21954 non-null  category      \n",
      " 9   description      21447 non-null  string        \n",
      " 10  imageURLHighRes  18021 non-null  object        \n",
      " 11  price            21954 non-null  float64       \n",
      " 12  title            21954 non-null  string        \n",
      "dtypes: category(4), datetime64[ns](1), float64(1), int64(1), object(2), string(4)\n",
      "memory usage: 1.9+ MB\n"
     ]
    }
   ],
   "source": [
    "data_df = pd.read_json(processed_data_dir / \"products_reviews.json.gz\")\n",
    "\n",
    "data_df[\"asin\"] = data_df[\"asin\"].astype(\"category\")\n",
    "data_df[\"text\"] = data_df[\"text\"].astype(\"string\")\n",
    "data_df[\"summary\"] = data_df[\"summary\"].astype(\"string\")\n",
    "data_df[\"overall\"] = data_df[\"overall\"].astype(\"category\")\n",
    "data_df[\"brand\"] = data_df[\"brand\"].astype(\"category\")\n",
    "data_df[\"category\"] = data_df[\"category\"].astype(\"category\")\n",
    "data_df[\"description\"] = data_df[\"description\"].astype(\"string\")\n",
    "data_df[\"title\"] = data_df[\"title\"].astype(\"string\")\n",
    "\n",
    "data_df.info()"
   ],
   "metadata": {
    "collapsed": false
   }
  },
  {
   "cell_type": "code",
   "execution_count": 158,
   "outputs": [
    {
     "data": {
      "text/plain": "         asin overall      reviewerID  \\\n0  B0009PAZ0Q       5  A2SOTPCGTVXK72   \n1  B007V4DSJS       5  A2ZGN3FCLSMQUX   \n2  B005B0A6ZS       5  A1J5IZ8E767S1B   \n3  B00MMLXIKY       2  A32LLIL80MJ314   \n4  B00F6S10KK       5  A3H5L8YVOFHSQ7   \n\n                                             summary  \\\n0                       good product, I recommend it   \n1  After one incorrect order for memory for this ...   \n2      It does what I need: makes more ATA ports ...   \n3                                          Two Stars   \n4                                               nice   \n\n                                                text  timestamp  vote  \\\n0  good product, I recommend it, that card looks ... 2013-06-24     0   \n1  After one incorrect order for memory for this ... 2014-10-15     0   \n2  It does what I need:  makes more ATA ports ava... 2015-10-30     0   \n3                                     Underwhelming. 2016-03-20     0   \n4                           great fans. nice lights. 2016-10-05     0   \n\n         brand        category  \\\n0      corsair          Memory   \n1  komputerbay          Memory   \n2     io crest  I/O Port Cards   \n3        intel  CPU Processors   \n4      corsair  Fans & Cooling   \n\n                                         description  \\\n0  Are you looking for a performance upgrade for ...   \n1  While at first glance, it may be in your best ...   \n2  The IO Crest 2 Port SATA III 6Gbps PCI-Express...   \n3  With faster, intelligent, multi-core technolog...   \n4  Superior cooling performance and LED illuminat...   \n\n                                     imageURLHighRes  price  \\\n0  https://images-na.ssl-images-amazon.com/images...   1.54   \n1                                               None   5.35   \n2  https://images-na.ssl-images-amazon.com/images...  14.59   \n3  https://images-na.ssl-images-amazon.com/images...   7.80   \n4  https://images-na.ssl-images-amazon.com/images...   2.54   \n\n                                               title  \n0  Corsair 1GB (1x1GB) DDR2 533 MHz (PC2 4200) La...  \n1  Komputerbay 8GB (2 X 4GB) DDR2 DIMM (240 pin) ...  \n2  IO Crest 2-port SATA III PCIe 2.0 x2 Controlle...  \n3  Intel Core i7-5820K Desktop Processor (6-Cores...  \n4  Corsair Air Series AF120 LED Quiet Edition Hig...  ",
      "text/html": "<div>\n<style scoped>\n    .dataframe tbody tr th:only-of-type {\n        vertical-align: middle;\n    }\n\n    .dataframe tbody tr th {\n        vertical-align: top;\n    }\n\n    .dataframe thead th {\n        text-align: right;\n    }\n</style>\n<table border=\"1\" class=\"dataframe\">\n  <thead>\n    <tr style=\"text-align: right;\">\n      <th></th>\n      <th>asin</th>\n      <th>overall</th>\n      <th>reviewerID</th>\n      <th>summary</th>\n      <th>text</th>\n      <th>timestamp</th>\n      <th>vote</th>\n      <th>brand</th>\n      <th>category</th>\n      <th>description</th>\n      <th>imageURLHighRes</th>\n      <th>price</th>\n      <th>title</th>\n    </tr>\n  </thead>\n  <tbody>\n    <tr>\n      <th>0</th>\n      <td>B0009PAZ0Q</td>\n      <td>5</td>\n      <td>A2SOTPCGTVXK72</td>\n      <td>good product, I recommend it</td>\n      <td>good product, I recommend it, that card looks ...</td>\n      <td>2013-06-24</td>\n      <td>0</td>\n      <td>corsair</td>\n      <td>Memory</td>\n      <td>Are you looking for a performance upgrade for ...</td>\n      <td>https://images-na.ssl-images-amazon.com/images...</td>\n      <td>1.54</td>\n      <td>Corsair 1GB (1x1GB) DDR2 533 MHz (PC2 4200) La...</td>\n    </tr>\n    <tr>\n      <th>1</th>\n      <td>B007V4DSJS</td>\n      <td>5</td>\n      <td>A2ZGN3FCLSMQUX</td>\n      <td>After one incorrect order for memory for this ...</td>\n      <td>After one incorrect order for memory for this ...</td>\n      <td>2014-10-15</td>\n      <td>0</td>\n      <td>komputerbay</td>\n      <td>Memory</td>\n      <td>While at first glance, it may be in your best ...</td>\n      <td>None</td>\n      <td>5.35</td>\n      <td>Komputerbay 8GB (2 X 4GB) DDR2 DIMM (240 pin) ...</td>\n    </tr>\n    <tr>\n      <th>2</th>\n      <td>B005B0A6ZS</td>\n      <td>5</td>\n      <td>A1J5IZ8E767S1B</td>\n      <td>It does what I need: makes more ATA ports ...</td>\n      <td>It does what I need:  makes more ATA ports ava...</td>\n      <td>2015-10-30</td>\n      <td>0</td>\n      <td>io crest</td>\n      <td>I/O Port Cards</td>\n      <td>The IO Crest 2 Port SATA III 6Gbps PCI-Express...</td>\n      <td>https://images-na.ssl-images-amazon.com/images...</td>\n      <td>14.59</td>\n      <td>IO Crest 2-port SATA III PCIe 2.0 x2 Controlle...</td>\n    </tr>\n    <tr>\n      <th>3</th>\n      <td>B00MMLXIKY</td>\n      <td>2</td>\n      <td>A32LLIL80MJ314</td>\n      <td>Two Stars</td>\n      <td>Underwhelming.</td>\n      <td>2016-03-20</td>\n      <td>0</td>\n      <td>intel</td>\n      <td>CPU Processors</td>\n      <td>With faster, intelligent, multi-core technolog...</td>\n      <td>https://images-na.ssl-images-amazon.com/images...</td>\n      <td>7.80</td>\n      <td>Intel Core i7-5820K Desktop Processor (6-Cores...</td>\n    </tr>\n    <tr>\n      <th>4</th>\n      <td>B00F6S10KK</td>\n      <td>5</td>\n      <td>A3H5L8YVOFHSQ7</td>\n      <td>nice</td>\n      <td>great fans. nice lights.</td>\n      <td>2016-10-05</td>\n      <td>0</td>\n      <td>corsair</td>\n      <td>Fans &amp; Cooling</td>\n      <td>Superior cooling performance and LED illuminat...</td>\n      <td>https://images-na.ssl-images-amazon.com/images...</td>\n      <td>2.54</td>\n      <td>Corsair Air Series AF120 LED Quiet Edition Hig...</td>\n    </tr>\n  </tbody>\n</table>\n</div>"
     },
     "execution_count": 158,
     "metadata": {},
     "output_type": "execute_result"
    }
   ],
   "source": [
    "data_df.head(5)"
   ],
   "metadata": {
    "collapsed": false
   }
  },
  {
   "cell_type": "markdown",
   "source": [
    "### Select Corsair specific Data"
   ],
   "metadata": {
    "collapsed": false
   }
  },
  {
   "cell_type": "code",
   "execution_count": 159,
   "outputs": [
    {
     "data": {
      "text/plain": "          asin overall      reviewerID  \\\n0   B0009PAZ0Q       5  A2SOTPCGTVXK72   \n4   B00F6S10KK       5  A3H5L8YVOFHSQ7   \n7   B0092ML0MY       4  A2D57GCLH76X9C   \n15  B006ON5KZC       5  A2EZBKKBVLNXQ4   \n24  B00L64NSL2       5  A2QBYJBRC0TVLD   \n\n                                              summary  \\\n0                        good product, I recommend it   \n4                                                nice   \n7   Just what you want from a PSU/ I have had good...   \n15                                         Great RAM.   \n24  Keeps my case nice and cool with a little bit ...   \n\n                                                 text  timestamp  vote  \\\n0   good product, I recommend it, that card looks ... 2013-06-24     0   \n4                            great fans. nice lights. 2016-10-05     0   \n7   Plugged it in and it powered up. Just what you... 2017-04-30     0   \n15                 Works! Need I say more? Great RAM. 2016-04-06     0   \n24  Keeps my case nice and cool with a little bit ... 2017-04-11     0   \n\n      brand        category  \\\n0   corsair          Memory   \n4   corsair  Fans & Cooling   \n7   corsair  Power Supplies   \n15  corsair          Memory   \n24  corsair  Fans & Cooling   \n\n                                          description  \\\n0   Are you looking for a performance upgrade for ...   \n4   Superior cooling performance and LED illuminat...   \n7   The Corsair Builder Series of PSUs are designe...   \n15  For Apple 2011 MacBook Pro, Mac Mini, and iMac...   \n24  Corsair CO-9050032-WW SP120 Twin Dual Pack 120...   \n\n                                      imageURLHighRes  price  \\\n0   https://images-na.ssl-images-amazon.com/images...   1.54   \n4   https://images-na.ssl-images-amazon.com/images...   2.54   \n7   https://images-na.ssl-images-amazon.com/images...   4.16   \n15                                               None   3.55   \n24  https://images-na.ssl-images-amazon.com/images...   2.54   \n\n                                                title  \n0   Corsair 1GB (1x1GB) DDR2 533 MHz (PC2 4200) La...  \n4   Corsair Air Series AF120 LED Quiet Edition Hig...  \n7   Corsair CX Series 500 Watt 80 Plus Bronze Cert...  \n15  Corsair Apple Certified 16GB (2 x 8GB) DDR3 13...  \n24  Corsair  Air Series SP 120 LED Green High Stat...  ",
      "text/html": "<div>\n<style scoped>\n    .dataframe tbody tr th:only-of-type {\n        vertical-align: middle;\n    }\n\n    .dataframe tbody tr th {\n        vertical-align: top;\n    }\n\n    .dataframe thead th {\n        text-align: right;\n    }\n</style>\n<table border=\"1\" class=\"dataframe\">\n  <thead>\n    <tr style=\"text-align: right;\">\n      <th></th>\n      <th>asin</th>\n      <th>overall</th>\n      <th>reviewerID</th>\n      <th>summary</th>\n      <th>text</th>\n      <th>timestamp</th>\n      <th>vote</th>\n      <th>brand</th>\n      <th>category</th>\n      <th>description</th>\n      <th>imageURLHighRes</th>\n      <th>price</th>\n      <th>title</th>\n    </tr>\n  </thead>\n  <tbody>\n    <tr>\n      <th>0</th>\n      <td>B0009PAZ0Q</td>\n      <td>5</td>\n      <td>A2SOTPCGTVXK72</td>\n      <td>good product, I recommend it</td>\n      <td>good product, I recommend it, that card looks ...</td>\n      <td>2013-06-24</td>\n      <td>0</td>\n      <td>corsair</td>\n      <td>Memory</td>\n      <td>Are you looking for a performance upgrade for ...</td>\n      <td>https://images-na.ssl-images-amazon.com/images...</td>\n      <td>1.54</td>\n      <td>Corsair 1GB (1x1GB) DDR2 533 MHz (PC2 4200) La...</td>\n    </tr>\n    <tr>\n      <th>4</th>\n      <td>B00F6S10KK</td>\n      <td>5</td>\n      <td>A3H5L8YVOFHSQ7</td>\n      <td>nice</td>\n      <td>great fans. nice lights.</td>\n      <td>2016-10-05</td>\n      <td>0</td>\n      <td>corsair</td>\n      <td>Fans &amp; Cooling</td>\n      <td>Superior cooling performance and LED illuminat...</td>\n      <td>https://images-na.ssl-images-amazon.com/images...</td>\n      <td>2.54</td>\n      <td>Corsair Air Series AF120 LED Quiet Edition Hig...</td>\n    </tr>\n    <tr>\n      <th>7</th>\n      <td>B0092ML0MY</td>\n      <td>4</td>\n      <td>A2D57GCLH76X9C</td>\n      <td>Just what you want from a PSU/ I have had good...</td>\n      <td>Plugged it in and it powered up. Just what you...</td>\n      <td>2017-04-30</td>\n      <td>0</td>\n      <td>corsair</td>\n      <td>Power Supplies</td>\n      <td>The Corsair Builder Series of PSUs are designe...</td>\n      <td>https://images-na.ssl-images-amazon.com/images...</td>\n      <td>4.16</td>\n      <td>Corsair CX Series 500 Watt 80 Plus Bronze Cert...</td>\n    </tr>\n    <tr>\n      <th>15</th>\n      <td>B006ON5KZC</td>\n      <td>5</td>\n      <td>A2EZBKKBVLNXQ4</td>\n      <td>Great RAM.</td>\n      <td>Works! Need I say more? Great RAM.</td>\n      <td>2016-04-06</td>\n      <td>0</td>\n      <td>corsair</td>\n      <td>Memory</td>\n      <td>For Apple 2011 MacBook Pro, Mac Mini, and iMac...</td>\n      <td>None</td>\n      <td>3.55</td>\n      <td>Corsair Apple Certified 16GB (2 x 8GB) DDR3 13...</td>\n    </tr>\n    <tr>\n      <th>24</th>\n      <td>B00L64NSL2</td>\n      <td>5</td>\n      <td>A2QBYJBRC0TVLD</td>\n      <td>Keeps my case nice and cool with a little bit ...</td>\n      <td>Keeps my case nice and cool with a little bit ...</td>\n      <td>2017-04-11</td>\n      <td>0</td>\n      <td>corsair</td>\n      <td>Fans &amp; Cooling</td>\n      <td>Corsair CO-9050032-WW SP120 Twin Dual Pack 120...</td>\n      <td>https://images-na.ssl-images-amazon.com/images...</td>\n      <td>2.54</td>\n      <td>Corsair  Air Series SP 120 LED Green High Stat...</td>\n    </tr>\n  </tbody>\n</table>\n</div>"
     },
     "execution_count": 159,
     "metadata": {},
     "output_type": "execute_result"
    }
   ],
   "source": [
    "corsair_df = data_df[data_df['brand'] == 'corsair']\n",
    "corsair_df.head(5)"
   ],
   "metadata": {
    "collapsed": false
   }
  },
  {
   "cell_type": "markdown",
   "source": [
    "### Number of reviews for each reviewerID (to ensure that the reviews are not all from the same person)"
   ],
   "metadata": {
    "collapsed": false
   }
  },
  {
   "cell_type": "code",
   "execution_count": 215,
   "outputs": [
    {
     "data": {
      "text/plain": "'Number of unique reviwers: 2427, Average Number of Reviews per single reviwer: 1.0243098475484136'"
     },
     "execution_count": 215,
     "metadata": {},
     "output_type": "execute_result"
    }
   ],
   "source": [
    "'Number of unique reviwers: {}, Average Number of Reviews per single reviwer: {}'.format(corsair_df[\"reviewerID\"].nunique(), corsair_df['reviewerID'].value_counts().mean())\n"
   ],
   "metadata": {
    "collapsed": false
   }
  },
  {
   "cell_type": "markdown",
   "source": [
    "### Number of Products Reviewed and total Number of Reviews"
   ],
   "metadata": {
    "collapsed": false
   }
  },
  {
   "cell_type": "code",
   "execution_count": 225,
   "outputs": [
    {
     "data": {
      "text/plain": "'Number of total Reviews: 2486, Number of total Products Reviwed: 124, Mean Number of Reviews Per Product: 20.048387096774192'"
     },
     "execution_count": 225,
     "metadata": {},
     "output_type": "execute_result"
    }
   ],
   "source": [
    "corsair_df[\"asin\"] = corsair_df[\"asin\"].astype(\"string\").astype(\"category\")\n",
    "\n",
    "'Number of total Reviews: {}, Number of total Products Reviwed: {}, Mean Number of Reviews Per Product: {}' \\\n",
    "    .format(len(corsair_df), len(corsair_df[\"asin\"].unique()), corsair_df['asin'].value_counts().mean())\n"
   ],
   "metadata": {
    "collapsed": false
   }
  },
  {
   "cell_type": "markdown",
   "source": [
    "### Reviews Over Time\n",
    "- Looking the number of reviews over the years we can see the raising in the interest of people in ~2012 to ~2016 then decreasing until 2018\n",
    "- Looking at how many reviews they have on average per week/month telling us how much the customers are active"
   ],
   "metadata": {
    "collapsed": false
   }
  },
  {
   "cell_type": "code",
   "execution_count": 162,
   "outputs": [
    {
     "name": "stderr",
     "output_type": "stream",
     "text": [
      "/tmp/ipykernel_21365/3793263729.py:2: SettingWithCopyWarning:\n",
      "\n",
      "\n",
      "A value is trying to be set on a copy of a slice from a DataFrame.\n",
      "Try using .loc[row_indexer,col_indexer] = value instead\n",
      "\n",
      "See the caveats in the documentation: https://pandas.pydata.org/pandas-docs/stable/user_guide/indexing.html#returning-a-view-versus-a-copy\n",
      "\n",
      "/tmp/ipykernel_21365/3793263729.py:3: SettingWithCopyWarning:\n",
      "\n",
      "\n",
      "A value is trying to be set on a copy of a slice from a DataFrame.\n",
      "Try using .loc[row_indexer,col_indexer] = value instead\n",
      "\n",
      "See the caveats in the documentation: https://pandas.pydata.org/pandas-docs/stable/user_guide/indexing.html#returning-a-view-versus-a-copy\n",
      "\n"
     ]
    },
    {
     "data": {
      "application/vnd.plotly.v1+json": {
       "data": [
        {
         "alignmentgroup": "True",
         "hovertemplate": "period=%{x}<br>count=%{y}<extra></extra>",
         "legendgroup": "",
         "marker": {
          "color": "gray",
          "pattern": {
           "shape": ""
          }
         },
         "name": "",
         "offsetgroup": "",
         "orientation": "v",
         "showlegend": false,
         "textposition": "auto",
         "x": [
          "2015-08-01T00:00:00",
          "2016-09-01T00:00:00",
          "2016-03-01T00:00:00",
          "2015-03-01T00:00:00",
          "2015-02-01T00:00:00",
          "2015-01-01T00:00:00",
          "2016-01-01T00:00:00",
          "2014-12-01T00:00:00",
          "2015-04-01T00:00:00",
          "2016-07-01T00:00:00",
          "2017-03-01T00:00:00",
          "2016-08-01T00:00:00",
          "2016-12-01T00:00:00",
          "2015-12-01T00:00:00",
          "2017-01-01T00:00:00",
          "2015-11-01T00:00:00",
          "2015-05-01T00:00:00",
          "2016-06-01T00:00:00",
          "2016-02-01T00:00:00",
          "2015-07-01T00:00:00",
          "2017-04-01T00:00:00",
          "2016-11-01T00:00:00",
          "2012-12-01T00:00:00",
          "2016-05-01T00:00:00",
          "2014-07-01T00:00:00",
          "2014-03-01T00:00:00",
          "2017-05-01T00:00:00",
          "2014-04-01T00:00:00",
          "2018-01-01T00:00:00",
          "2015-09-01T00:00:00",
          "2018-03-01T00:00:00",
          "2014-11-01T00:00:00",
          "2013-04-01T00:00:00",
          "2013-05-01T00:00:00",
          "2018-02-01T00:00:00",
          "2015-06-01T00:00:00",
          "2014-08-01T00:00:00",
          "2014-10-01T00:00:00",
          "2014-01-01T00:00:00",
          "2014-09-01T00:00:00",
          "2015-10-01T00:00:00",
          "2017-10-01T00:00:00",
          "2017-02-01T00:00:00",
          "2014-05-01T00:00:00",
          "2018-06-01T00:00:00",
          "2016-10-01T00:00:00",
          "2016-04-01T00:00:00",
          "2017-07-01T00:00:00",
          "2017-09-01T00:00:00",
          "2014-06-01T00:00:00",
          "2018-05-01T00:00:00",
          "2013-02-01T00:00:00",
          "2017-12-01T00:00:00",
          "2017-06-01T00:00:00",
          "2013-06-01T00:00:00",
          "2018-04-01T00:00:00",
          "2013-08-01T00:00:00",
          "2017-08-01T00:00:00",
          "2017-11-01T00:00:00",
          "2013-09-01T00:00:00",
          "2014-02-01T00:00:00",
          "2013-03-01T00:00:00",
          "2013-01-01T00:00:00",
          "2013-12-01T00:00:00",
          "2013-10-01T00:00:00",
          "2013-07-01T00:00:00",
          "2013-11-01T00:00:00",
          "2011-12-01T00:00:00",
          "2012-11-01T00:00:00",
          "2012-10-01T00:00:00",
          "2012-04-01T00:00:00",
          "2012-08-01T00:00:00",
          "2012-06-01T00:00:00",
          "2012-09-01T00:00:00",
          "2012-01-01T00:00:00",
          "2012-03-01T00:00:00",
          "2018-07-01T00:00:00",
          "2011-11-01T00:00:00",
          "2012-07-01T00:00:00",
          "2011-09-01T00:00:00",
          "2012-05-01T00:00:00",
          "2011-08-01T00:00:00",
          "2011-10-01T00:00:00",
          "2012-02-01T00:00:00",
          "2011-07-01T00:00:00",
          "2011-05-01T00:00:00",
          "2018-08-01T00:00:00",
          "2009-11-01T00:00:00",
          "2010-12-01T00:00:00",
          "2011-02-01T00:00:00",
          "2010-03-01T00:00:00",
          "2010-11-01T00:00:00",
          "2008-11-01T00:00:00",
          "2009-12-01T00:00:00",
          "2009-05-01T00:00:00",
          "2010-08-01T00:00:00",
          "2018-09-01T00:00:00",
          "2010-10-01T00:00:00",
          "2008-09-01T00:00:00",
          "2011-06-01T00:00:00",
          "2010-01-01T00:00:00",
          "2011-03-01T00:00:00",
          "2011-01-01T00:00:00",
          "2011-04-01T00:00:00",
          "2010-07-01T00:00:00",
          "2009-01-01T00:00:00",
          "2008-07-01T00:00:00",
          "2009-09-01T00:00:00",
          "2009-08-01T00:00:00",
          "2010-06-01T00:00:00",
          "2010-04-01T00:00:00",
          "2009-10-01T00:00:00",
          "2009-04-01T00:00:00"
         ],
         "xaxis": "x",
         "y": [
          65,
          58,
          57,
          56,
          56,
          52,
          49,
          48,
          46,
          45,
          45,
          45,
          43,
          42,
          41,
          40,
          39,
          39,
          39,
          39,
          38,
          37,
          37,
          36,
          36,
          34,
          34,
          33,
          33,
          33,
          33,
          33,
          33,
          32,
          32,
          31,
          31,
          31,
          30,
          30,
          28,
          28,
          28,
          28,
          27,
          27,
          26,
          26,
          26,
          25,
          25,
          24,
          24,
          24,
          23,
          23,
          22,
          22,
          22,
          22,
          21,
          21,
          21,
          20,
          18,
          18,
          18,
          16,
          15,
          15,
          13,
          13,
          12,
          12,
          12,
          12,
          11,
          10,
          8,
          8,
          8,
          8,
          7,
          6,
          5,
          3,
          3,
          3,
          3,
          3,
          3,
          2,
          2,
          2,
          2,
          2,
          2,
          2,
          1,
          1,
          1,
          1,
          1,
          1,
          1,
          1,
          1,
          1,
          1,
          1,
          1,
          1,
          1
         ],
         "yaxis": "y",
         "type": "bar"
        }
       ],
       "layout": {
        "template": {
         "data": {
          "histogram2dcontour": [
           {
            "type": "histogram2dcontour",
            "colorbar": {
             "outlinewidth": 0,
             "ticks": ""
            },
            "colorscale": [
             [
              0.0,
              "#0d0887"
             ],
             [
              0.1111111111111111,
              "#46039f"
             ],
             [
              0.2222222222222222,
              "#7201a8"
             ],
             [
              0.3333333333333333,
              "#9c179e"
             ],
             [
              0.4444444444444444,
              "#bd3786"
             ],
             [
              0.5555555555555556,
              "#d8576b"
             ],
             [
              0.6666666666666666,
              "#ed7953"
             ],
             [
              0.7777777777777778,
              "#fb9f3a"
             ],
             [
              0.8888888888888888,
              "#fdca26"
             ],
             [
              1.0,
              "#f0f921"
             ]
            ]
           }
          ],
          "choropleth": [
           {
            "type": "choropleth",
            "colorbar": {
             "outlinewidth": 0,
             "ticks": ""
            }
           }
          ],
          "histogram2d": [
           {
            "type": "histogram2d",
            "colorbar": {
             "outlinewidth": 0,
             "ticks": ""
            },
            "colorscale": [
             [
              0.0,
              "#0d0887"
             ],
             [
              0.1111111111111111,
              "#46039f"
             ],
             [
              0.2222222222222222,
              "#7201a8"
             ],
             [
              0.3333333333333333,
              "#9c179e"
             ],
             [
              0.4444444444444444,
              "#bd3786"
             ],
             [
              0.5555555555555556,
              "#d8576b"
             ],
             [
              0.6666666666666666,
              "#ed7953"
             ],
             [
              0.7777777777777778,
              "#fb9f3a"
             ],
             [
              0.8888888888888888,
              "#fdca26"
             ],
             [
              1.0,
              "#f0f921"
             ]
            ]
           }
          ],
          "heatmap": [
           {
            "type": "heatmap",
            "colorbar": {
             "outlinewidth": 0,
             "ticks": ""
            },
            "colorscale": [
             [
              0.0,
              "#0d0887"
             ],
             [
              0.1111111111111111,
              "#46039f"
             ],
             [
              0.2222222222222222,
              "#7201a8"
             ],
             [
              0.3333333333333333,
              "#9c179e"
             ],
             [
              0.4444444444444444,
              "#bd3786"
             ],
             [
              0.5555555555555556,
              "#d8576b"
             ],
             [
              0.6666666666666666,
              "#ed7953"
             ],
             [
              0.7777777777777778,
              "#fb9f3a"
             ],
             [
              0.8888888888888888,
              "#fdca26"
             ],
             [
              1.0,
              "#f0f921"
             ]
            ]
           }
          ],
          "heatmapgl": [
           {
            "type": "heatmapgl",
            "colorbar": {
             "outlinewidth": 0,
             "ticks": ""
            },
            "colorscale": [
             [
              0.0,
              "#0d0887"
             ],
             [
              0.1111111111111111,
              "#46039f"
             ],
             [
              0.2222222222222222,
              "#7201a8"
             ],
             [
              0.3333333333333333,
              "#9c179e"
             ],
             [
              0.4444444444444444,
              "#bd3786"
             ],
             [
              0.5555555555555556,
              "#d8576b"
             ],
             [
              0.6666666666666666,
              "#ed7953"
             ],
             [
              0.7777777777777778,
              "#fb9f3a"
             ],
             [
              0.8888888888888888,
              "#fdca26"
             ],
             [
              1.0,
              "#f0f921"
             ]
            ]
           }
          ],
          "contourcarpet": [
           {
            "type": "contourcarpet",
            "colorbar": {
             "outlinewidth": 0,
             "ticks": ""
            }
           }
          ],
          "contour": [
           {
            "type": "contour",
            "colorbar": {
             "outlinewidth": 0,
             "ticks": ""
            },
            "colorscale": [
             [
              0.0,
              "#0d0887"
             ],
             [
              0.1111111111111111,
              "#46039f"
             ],
             [
              0.2222222222222222,
              "#7201a8"
             ],
             [
              0.3333333333333333,
              "#9c179e"
             ],
             [
              0.4444444444444444,
              "#bd3786"
             ],
             [
              0.5555555555555556,
              "#d8576b"
             ],
             [
              0.6666666666666666,
              "#ed7953"
             ],
             [
              0.7777777777777778,
              "#fb9f3a"
             ],
             [
              0.8888888888888888,
              "#fdca26"
             ],
             [
              1.0,
              "#f0f921"
             ]
            ]
           }
          ],
          "surface": [
           {
            "type": "surface",
            "colorbar": {
             "outlinewidth": 0,
             "ticks": ""
            },
            "colorscale": [
             [
              0.0,
              "#0d0887"
             ],
             [
              0.1111111111111111,
              "#46039f"
             ],
             [
              0.2222222222222222,
              "#7201a8"
             ],
             [
              0.3333333333333333,
              "#9c179e"
             ],
             [
              0.4444444444444444,
              "#bd3786"
             ],
             [
              0.5555555555555556,
              "#d8576b"
             ],
             [
              0.6666666666666666,
              "#ed7953"
             ],
             [
              0.7777777777777778,
              "#fb9f3a"
             ],
             [
              0.8888888888888888,
              "#fdca26"
             ],
             [
              1.0,
              "#f0f921"
             ]
            ]
           }
          ],
          "mesh3d": [
           {
            "type": "mesh3d",
            "colorbar": {
             "outlinewidth": 0,
             "ticks": ""
            }
           }
          ],
          "scatter": [
           {
            "marker": {
             "line": {
              "color": "#283442"
             }
            },
            "type": "scatter"
           }
          ],
          "parcoords": [
           {
            "type": "parcoords",
            "line": {
             "colorbar": {
              "outlinewidth": 0,
              "ticks": ""
             }
            }
           }
          ],
          "scatterpolargl": [
           {
            "type": "scatterpolargl",
            "marker": {
             "colorbar": {
              "outlinewidth": 0,
              "ticks": ""
             }
            }
           }
          ],
          "bar": [
           {
            "error_x": {
             "color": "#f2f5fa"
            },
            "error_y": {
             "color": "#f2f5fa"
            },
            "marker": {
             "line": {
              "color": "rgb(17,17,17)",
              "width": 0.5
             },
             "pattern": {
              "fillmode": "overlay",
              "size": 10,
              "solidity": 0.2
             }
            },
            "type": "bar"
           }
          ],
          "scattergeo": [
           {
            "type": "scattergeo",
            "marker": {
             "colorbar": {
              "outlinewidth": 0,
              "ticks": ""
             }
            }
           }
          ],
          "scatterpolar": [
           {
            "type": "scatterpolar",
            "marker": {
             "colorbar": {
              "outlinewidth": 0,
              "ticks": ""
             }
            }
           }
          ],
          "histogram": [
           {
            "marker": {
             "pattern": {
              "fillmode": "overlay",
              "size": 10,
              "solidity": 0.2
             }
            },
            "type": "histogram"
           }
          ],
          "scattergl": [
           {
            "marker": {
             "line": {
              "color": "#283442"
             }
            },
            "type": "scattergl"
           }
          ],
          "scatter3d": [
           {
            "type": "scatter3d",
            "line": {
             "colorbar": {
              "outlinewidth": 0,
              "ticks": ""
             }
            },
            "marker": {
             "colorbar": {
              "outlinewidth": 0,
              "ticks": ""
             }
            }
           }
          ],
          "scattermapbox": [
           {
            "type": "scattermapbox",
            "marker": {
             "colorbar": {
              "outlinewidth": 0,
              "ticks": ""
             }
            }
           }
          ],
          "scatterternary": [
           {
            "type": "scatterternary",
            "marker": {
             "colorbar": {
              "outlinewidth": 0,
              "ticks": ""
             }
            }
           }
          ],
          "scattercarpet": [
           {
            "type": "scattercarpet",
            "marker": {
             "colorbar": {
              "outlinewidth": 0,
              "ticks": ""
             }
            }
           }
          ],
          "carpet": [
           {
            "aaxis": {
             "endlinecolor": "#A2B1C6",
             "gridcolor": "#506784",
             "linecolor": "#506784",
             "minorgridcolor": "#506784",
             "startlinecolor": "#A2B1C6"
            },
            "baxis": {
             "endlinecolor": "#A2B1C6",
             "gridcolor": "#506784",
             "linecolor": "#506784",
             "minorgridcolor": "#506784",
             "startlinecolor": "#A2B1C6"
            },
            "type": "carpet"
           }
          ],
          "table": [
           {
            "cells": {
             "fill": {
              "color": "#506784"
             },
             "line": {
              "color": "rgb(17,17,17)"
             }
            },
            "header": {
             "fill": {
              "color": "#2a3f5f"
             },
             "line": {
              "color": "rgb(17,17,17)"
             }
            },
            "type": "table"
           }
          ],
          "barpolar": [
           {
            "marker": {
             "line": {
              "color": "rgb(17,17,17)",
              "width": 0.5
             },
             "pattern": {
              "fillmode": "overlay",
              "size": 10,
              "solidity": 0.2
             }
            },
            "type": "barpolar"
           }
          ],
          "pie": [
           {
            "automargin": true,
            "type": "pie"
           }
          ]
         },
         "layout": {
          "autotypenumbers": "strict",
          "colorway": [
           "#636efa",
           "#EF553B",
           "#00cc96",
           "#ab63fa",
           "#FFA15A",
           "#19d3f3",
           "#FF6692",
           "#B6E880",
           "#FF97FF",
           "#FECB52"
          ],
          "font": {
           "color": "#f2f5fa"
          },
          "hovermode": "closest",
          "hoverlabel": {
           "align": "left"
          },
          "paper_bgcolor": "rgb(17,17,17)",
          "plot_bgcolor": "rgb(17,17,17)",
          "polar": {
           "bgcolor": "rgb(17,17,17)",
           "angularaxis": {
            "gridcolor": "#506784",
            "linecolor": "#506784",
            "ticks": ""
           },
           "radialaxis": {
            "gridcolor": "#506784",
            "linecolor": "#506784",
            "ticks": ""
           }
          },
          "ternary": {
           "bgcolor": "rgb(17,17,17)",
           "aaxis": {
            "gridcolor": "#506784",
            "linecolor": "#506784",
            "ticks": ""
           },
           "baxis": {
            "gridcolor": "#506784",
            "linecolor": "#506784",
            "ticks": ""
           },
           "caxis": {
            "gridcolor": "#506784",
            "linecolor": "#506784",
            "ticks": ""
           }
          },
          "coloraxis": {
           "colorbar": {
            "outlinewidth": 0,
            "ticks": ""
           }
          },
          "colorscale": {
           "sequential": [
            [
             0.0,
             "#0d0887"
            ],
            [
             0.1111111111111111,
             "#46039f"
            ],
            [
             0.2222222222222222,
             "#7201a8"
            ],
            [
             0.3333333333333333,
             "#9c179e"
            ],
            [
             0.4444444444444444,
             "#bd3786"
            ],
            [
             0.5555555555555556,
             "#d8576b"
            ],
            [
             0.6666666666666666,
             "#ed7953"
            ],
            [
             0.7777777777777778,
             "#fb9f3a"
            ],
            [
             0.8888888888888888,
             "#fdca26"
            ],
            [
             1.0,
             "#f0f921"
            ]
           ],
           "sequentialminus": [
            [
             0.0,
             "#0d0887"
            ],
            [
             0.1111111111111111,
             "#46039f"
            ],
            [
             0.2222222222222222,
             "#7201a8"
            ],
            [
             0.3333333333333333,
             "#9c179e"
            ],
            [
             0.4444444444444444,
             "#bd3786"
            ],
            [
             0.5555555555555556,
             "#d8576b"
            ],
            [
             0.6666666666666666,
             "#ed7953"
            ],
            [
             0.7777777777777778,
             "#fb9f3a"
            ],
            [
             0.8888888888888888,
             "#fdca26"
            ],
            [
             1.0,
             "#f0f921"
            ]
           ],
           "diverging": [
            [
             0,
             "#8e0152"
            ],
            [
             0.1,
             "#c51b7d"
            ],
            [
             0.2,
             "#de77ae"
            ],
            [
             0.3,
             "#f1b6da"
            ],
            [
             0.4,
             "#fde0ef"
            ],
            [
             0.5,
             "#f7f7f7"
            ],
            [
             0.6,
             "#e6f5d0"
            ],
            [
             0.7,
             "#b8e186"
            ],
            [
             0.8,
             "#7fbc41"
            ],
            [
             0.9,
             "#4d9221"
            ],
            [
             1,
             "#276419"
            ]
           ]
          },
          "xaxis": {
           "gridcolor": "#283442",
           "linecolor": "#506784",
           "ticks": "",
           "title": {
            "standoff": 15
           },
           "zerolinecolor": "#283442",
           "automargin": true,
           "zerolinewidth": 2
          },
          "yaxis": {
           "gridcolor": "#283442",
           "linecolor": "#506784",
           "ticks": "",
           "title": {
            "standoff": 15
           },
           "zerolinecolor": "#283442",
           "automargin": true,
           "zerolinewidth": 2
          },
          "scene": {
           "xaxis": {
            "backgroundcolor": "rgb(17,17,17)",
            "gridcolor": "#506784",
            "linecolor": "#506784",
            "showbackground": true,
            "ticks": "",
            "zerolinecolor": "#C8D4E3",
            "gridwidth": 2
           },
           "yaxis": {
            "backgroundcolor": "rgb(17,17,17)",
            "gridcolor": "#506784",
            "linecolor": "#506784",
            "showbackground": true,
            "ticks": "",
            "zerolinecolor": "#C8D4E3",
            "gridwidth": 2
           },
           "zaxis": {
            "backgroundcolor": "rgb(17,17,17)",
            "gridcolor": "#506784",
            "linecolor": "#506784",
            "showbackground": true,
            "ticks": "",
            "zerolinecolor": "#C8D4E3",
            "gridwidth": 2
           }
          },
          "shapedefaults": {
           "line": {
            "color": "#f2f5fa"
           }
          },
          "annotationdefaults": {
           "arrowcolor": "#f2f5fa",
           "arrowhead": 0,
           "arrowwidth": 1
          },
          "geo": {
           "bgcolor": "rgb(17,17,17)",
           "landcolor": "rgb(17,17,17)",
           "subunitcolor": "#506784",
           "showland": true,
           "showlakes": true,
           "lakecolor": "rgb(17,17,17)"
          },
          "title": {
           "x": 0.05
          },
          "updatemenudefaults": {
           "bgcolor": "#506784",
           "borderwidth": 0
          },
          "sliderdefaults": {
           "bgcolor": "#C8D4E3",
           "borderwidth": 1,
           "bordercolor": "rgb(17,17,17)",
           "tickwidth": 0
          },
          "mapbox": {
           "style": "dark"
          }
         }
        },
        "xaxis": {
         "anchor": "y",
         "domain": [
          0.0,
          1.0
         ],
         "title": {
          "text": "period"
         }
        },
        "yaxis": {
         "anchor": "x",
         "domain": [
          0.0,
          1.0
         ],
         "title": {
          "text": "count"
         }
        },
        "legend": {
         "tracegroupgap": 0
        },
        "margin": {
         "t": 60
        },
        "barmode": "relative"
       },
       "config": {
        "plotlyServerURL": "https://plot.ly"
       }
      },
      "text/html": "<div>                            <div id=\"ea0622e4-86c2-4757-848d-407412e84191\" class=\"plotly-graph-div\" style=\"height:525px; width:100%;\"></div>            <script type=\"text/javascript\">                require([\"plotly\"], function(Plotly) {                    window.PLOTLYENV=window.PLOTLYENV || {};                                    if (document.getElementById(\"ea0622e4-86c2-4757-848d-407412e84191\")) {                    Plotly.newPlot(                        \"ea0622e4-86c2-4757-848d-407412e84191\",                        [{\"alignmentgroup\":\"True\",\"hovertemplate\":\"period=%{x}<br>count=%{y}<extra></extra>\",\"legendgroup\":\"\",\"marker\":{\"color\":\"gray\",\"pattern\":{\"shape\":\"\"}},\"name\":\"\",\"offsetgroup\":\"\",\"orientation\":\"v\",\"showlegend\":false,\"textposition\":\"auto\",\"x\":[\"2015-08-01T00:00:00\",\"2016-09-01T00:00:00\",\"2016-03-01T00:00:00\",\"2015-03-01T00:00:00\",\"2015-02-01T00:00:00\",\"2015-01-01T00:00:00\",\"2016-01-01T00:00:00\",\"2014-12-01T00:00:00\",\"2015-04-01T00:00:00\",\"2016-07-01T00:00:00\",\"2017-03-01T00:00:00\",\"2016-08-01T00:00:00\",\"2016-12-01T00:00:00\",\"2015-12-01T00:00:00\",\"2017-01-01T00:00:00\",\"2015-11-01T00:00:00\",\"2015-05-01T00:00:00\",\"2016-06-01T00:00:00\",\"2016-02-01T00:00:00\",\"2015-07-01T00:00:00\",\"2017-04-01T00:00:00\",\"2016-11-01T00:00:00\",\"2012-12-01T00:00:00\",\"2016-05-01T00:00:00\",\"2014-07-01T00:00:00\",\"2014-03-01T00:00:00\",\"2017-05-01T00:00:00\",\"2014-04-01T00:00:00\",\"2018-01-01T00:00:00\",\"2015-09-01T00:00:00\",\"2018-03-01T00:00:00\",\"2014-11-01T00:00:00\",\"2013-04-01T00:00:00\",\"2013-05-01T00:00:00\",\"2018-02-01T00:00:00\",\"2015-06-01T00:00:00\",\"2014-08-01T00:00:00\",\"2014-10-01T00:00:00\",\"2014-01-01T00:00:00\",\"2014-09-01T00:00:00\",\"2015-10-01T00:00:00\",\"2017-10-01T00:00:00\",\"2017-02-01T00:00:00\",\"2014-05-01T00:00:00\",\"2018-06-01T00:00:00\",\"2016-10-01T00:00:00\",\"2016-04-01T00:00:00\",\"2017-07-01T00:00:00\",\"2017-09-01T00:00:00\",\"2014-06-01T00:00:00\",\"2018-05-01T00:00:00\",\"2013-02-01T00:00:00\",\"2017-12-01T00:00:00\",\"2017-06-01T00:00:00\",\"2013-06-01T00:00:00\",\"2018-04-01T00:00:00\",\"2013-08-01T00:00:00\",\"2017-08-01T00:00:00\",\"2017-11-01T00:00:00\",\"2013-09-01T00:00:00\",\"2014-02-01T00:00:00\",\"2013-03-01T00:00:00\",\"2013-01-01T00:00:00\",\"2013-12-01T00:00:00\",\"2013-10-01T00:00:00\",\"2013-07-01T00:00:00\",\"2013-11-01T00:00:00\",\"2011-12-01T00:00:00\",\"2012-11-01T00:00:00\",\"2012-10-01T00:00:00\",\"2012-04-01T00:00:00\",\"2012-08-01T00:00:00\",\"2012-06-01T00:00:00\",\"2012-09-01T00:00:00\",\"2012-01-01T00:00:00\",\"2012-03-01T00:00:00\",\"2018-07-01T00:00:00\",\"2011-11-01T00:00:00\",\"2012-07-01T00:00:00\",\"2011-09-01T00:00:00\",\"2012-05-01T00:00:00\",\"2011-08-01T00:00:00\",\"2011-10-01T00:00:00\",\"2012-02-01T00:00:00\",\"2011-07-01T00:00:00\",\"2011-05-01T00:00:00\",\"2018-08-01T00:00:00\",\"2009-11-01T00:00:00\",\"2010-12-01T00:00:00\",\"2011-02-01T00:00:00\",\"2010-03-01T00:00:00\",\"2010-11-01T00:00:00\",\"2008-11-01T00:00:00\",\"2009-12-01T00:00:00\",\"2009-05-01T00:00:00\",\"2010-08-01T00:00:00\",\"2018-09-01T00:00:00\",\"2010-10-01T00:00:00\",\"2008-09-01T00:00:00\",\"2011-06-01T00:00:00\",\"2010-01-01T00:00:00\",\"2011-03-01T00:00:00\",\"2011-01-01T00:00:00\",\"2011-04-01T00:00:00\",\"2010-07-01T00:00:00\",\"2009-01-01T00:00:00\",\"2008-07-01T00:00:00\",\"2009-09-01T00:00:00\",\"2009-08-01T00:00:00\",\"2010-06-01T00:00:00\",\"2010-04-01T00:00:00\",\"2009-10-01T00:00:00\",\"2009-04-01T00:00:00\"],\"xaxis\":\"x\",\"y\":[65,58,57,56,56,52,49,48,46,45,45,45,43,42,41,40,39,39,39,39,38,37,37,36,36,34,34,33,33,33,33,33,33,32,32,31,31,31,30,30,28,28,28,28,27,27,26,26,26,25,25,24,24,24,23,23,22,22,22,22,21,21,21,20,18,18,18,16,15,15,13,13,12,12,12,12,11,10,8,8,8,8,7,6,5,3,3,3,3,3,3,2,2,2,2,2,2,2,1,1,1,1,1,1,1,1,1,1,1,1,1,1,1],\"yaxis\":\"y\",\"type\":\"bar\"}],                        {\"template\":{\"data\":{\"histogram2dcontour\":[{\"type\":\"histogram2dcontour\",\"colorbar\":{\"outlinewidth\":0,\"ticks\":\"\"},\"colorscale\":[[0.0,\"#0d0887\"],[0.1111111111111111,\"#46039f\"],[0.2222222222222222,\"#7201a8\"],[0.3333333333333333,\"#9c179e\"],[0.4444444444444444,\"#bd3786\"],[0.5555555555555556,\"#d8576b\"],[0.6666666666666666,\"#ed7953\"],[0.7777777777777778,\"#fb9f3a\"],[0.8888888888888888,\"#fdca26\"],[1.0,\"#f0f921\"]]}],\"choropleth\":[{\"type\":\"choropleth\",\"colorbar\":{\"outlinewidth\":0,\"ticks\":\"\"}}],\"histogram2d\":[{\"type\":\"histogram2d\",\"colorbar\":{\"outlinewidth\":0,\"ticks\":\"\"},\"colorscale\":[[0.0,\"#0d0887\"],[0.1111111111111111,\"#46039f\"],[0.2222222222222222,\"#7201a8\"],[0.3333333333333333,\"#9c179e\"],[0.4444444444444444,\"#bd3786\"],[0.5555555555555556,\"#d8576b\"],[0.6666666666666666,\"#ed7953\"],[0.7777777777777778,\"#fb9f3a\"],[0.8888888888888888,\"#fdca26\"],[1.0,\"#f0f921\"]]}],\"heatmap\":[{\"type\":\"heatmap\",\"colorbar\":{\"outlinewidth\":0,\"ticks\":\"\"},\"colorscale\":[[0.0,\"#0d0887\"],[0.1111111111111111,\"#46039f\"],[0.2222222222222222,\"#7201a8\"],[0.3333333333333333,\"#9c179e\"],[0.4444444444444444,\"#bd3786\"],[0.5555555555555556,\"#d8576b\"],[0.6666666666666666,\"#ed7953\"],[0.7777777777777778,\"#fb9f3a\"],[0.8888888888888888,\"#fdca26\"],[1.0,\"#f0f921\"]]}],\"heatmapgl\":[{\"type\":\"heatmapgl\",\"colorbar\":{\"outlinewidth\":0,\"ticks\":\"\"},\"colorscale\":[[0.0,\"#0d0887\"],[0.1111111111111111,\"#46039f\"],[0.2222222222222222,\"#7201a8\"],[0.3333333333333333,\"#9c179e\"],[0.4444444444444444,\"#bd3786\"],[0.5555555555555556,\"#d8576b\"],[0.6666666666666666,\"#ed7953\"],[0.7777777777777778,\"#fb9f3a\"],[0.8888888888888888,\"#fdca26\"],[1.0,\"#f0f921\"]]}],\"contourcarpet\":[{\"type\":\"contourcarpet\",\"colorbar\":{\"outlinewidth\":0,\"ticks\":\"\"}}],\"contour\":[{\"type\":\"contour\",\"colorbar\":{\"outlinewidth\":0,\"ticks\":\"\"},\"colorscale\":[[0.0,\"#0d0887\"],[0.1111111111111111,\"#46039f\"],[0.2222222222222222,\"#7201a8\"],[0.3333333333333333,\"#9c179e\"],[0.4444444444444444,\"#bd3786\"],[0.5555555555555556,\"#d8576b\"],[0.6666666666666666,\"#ed7953\"],[0.7777777777777778,\"#fb9f3a\"],[0.8888888888888888,\"#fdca26\"],[1.0,\"#f0f921\"]]}],\"surface\":[{\"type\":\"surface\",\"colorbar\":{\"outlinewidth\":0,\"ticks\":\"\"},\"colorscale\":[[0.0,\"#0d0887\"],[0.1111111111111111,\"#46039f\"],[0.2222222222222222,\"#7201a8\"],[0.3333333333333333,\"#9c179e\"],[0.4444444444444444,\"#bd3786\"],[0.5555555555555556,\"#d8576b\"],[0.6666666666666666,\"#ed7953\"],[0.7777777777777778,\"#fb9f3a\"],[0.8888888888888888,\"#fdca26\"],[1.0,\"#f0f921\"]]}],\"mesh3d\":[{\"type\":\"mesh3d\",\"colorbar\":{\"outlinewidth\":0,\"ticks\":\"\"}}],\"scatter\":[{\"marker\":{\"line\":{\"color\":\"#283442\"}},\"type\":\"scatter\"}],\"parcoords\":[{\"type\":\"parcoords\",\"line\":{\"colorbar\":{\"outlinewidth\":0,\"ticks\":\"\"}}}],\"scatterpolargl\":[{\"type\":\"scatterpolargl\",\"marker\":{\"colorbar\":{\"outlinewidth\":0,\"ticks\":\"\"}}}],\"bar\":[{\"error_x\":{\"color\":\"#f2f5fa\"},\"error_y\":{\"color\":\"#f2f5fa\"},\"marker\":{\"line\":{\"color\":\"rgb(17,17,17)\",\"width\":0.5},\"pattern\":{\"fillmode\":\"overlay\",\"size\":10,\"solidity\":0.2}},\"type\":\"bar\"}],\"scattergeo\":[{\"type\":\"scattergeo\",\"marker\":{\"colorbar\":{\"outlinewidth\":0,\"ticks\":\"\"}}}],\"scatterpolar\":[{\"type\":\"scatterpolar\",\"marker\":{\"colorbar\":{\"outlinewidth\":0,\"ticks\":\"\"}}}],\"histogram\":[{\"marker\":{\"pattern\":{\"fillmode\":\"overlay\",\"size\":10,\"solidity\":0.2}},\"type\":\"histogram\"}],\"scattergl\":[{\"marker\":{\"line\":{\"color\":\"#283442\"}},\"type\":\"scattergl\"}],\"scatter3d\":[{\"type\":\"scatter3d\",\"line\":{\"colorbar\":{\"outlinewidth\":0,\"ticks\":\"\"}},\"marker\":{\"colorbar\":{\"outlinewidth\":0,\"ticks\":\"\"}}}],\"scattermapbox\":[{\"type\":\"scattermapbox\",\"marker\":{\"colorbar\":{\"outlinewidth\":0,\"ticks\":\"\"}}}],\"scatterternary\":[{\"type\":\"scatterternary\",\"marker\":{\"colorbar\":{\"outlinewidth\":0,\"ticks\":\"\"}}}],\"scattercarpet\":[{\"type\":\"scattercarpet\",\"marker\":{\"colorbar\":{\"outlinewidth\":0,\"ticks\":\"\"}}}],\"carpet\":[{\"aaxis\":{\"endlinecolor\":\"#A2B1C6\",\"gridcolor\":\"#506784\",\"linecolor\":\"#506784\",\"minorgridcolor\":\"#506784\",\"startlinecolor\":\"#A2B1C6\"},\"baxis\":{\"endlinecolor\":\"#A2B1C6\",\"gridcolor\":\"#506784\",\"linecolor\":\"#506784\",\"minorgridcolor\":\"#506784\",\"startlinecolor\":\"#A2B1C6\"},\"type\":\"carpet\"}],\"table\":[{\"cells\":{\"fill\":{\"color\":\"#506784\"},\"line\":{\"color\":\"rgb(17,17,17)\"}},\"header\":{\"fill\":{\"color\":\"#2a3f5f\"},\"line\":{\"color\":\"rgb(17,17,17)\"}},\"type\":\"table\"}],\"barpolar\":[{\"marker\":{\"line\":{\"color\":\"rgb(17,17,17)\",\"width\":0.5},\"pattern\":{\"fillmode\":\"overlay\",\"size\":10,\"solidity\":0.2}},\"type\":\"barpolar\"}],\"pie\":[{\"automargin\":true,\"type\":\"pie\"}]},\"layout\":{\"autotypenumbers\":\"strict\",\"colorway\":[\"#636efa\",\"#EF553B\",\"#00cc96\",\"#ab63fa\",\"#FFA15A\",\"#19d3f3\",\"#FF6692\",\"#B6E880\",\"#FF97FF\",\"#FECB52\"],\"font\":{\"color\":\"#f2f5fa\"},\"hovermode\":\"closest\",\"hoverlabel\":{\"align\":\"left\"},\"paper_bgcolor\":\"rgb(17,17,17)\",\"plot_bgcolor\":\"rgb(17,17,17)\",\"polar\":{\"bgcolor\":\"rgb(17,17,17)\",\"angularaxis\":{\"gridcolor\":\"#506784\",\"linecolor\":\"#506784\",\"ticks\":\"\"},\"radialaxis\":{\"gridcolor\":\"#506784\",\"linecolor\":\"#506784\",\"ticks\":\"\"}},\"ternary\":{\"bgcolor\":\"rgb(17,17,17)\",\"aaxis\":{\"gridcolor\":\"#506784\",\"linecolor\":\"#506784\",\"ticks\":\"\"},\"baxis\":{\"gridcolor\":\"#506784\",\"linecolor\":\"#506784\",\"ticks\":\"\"},\"caxis\":{\"gridcolor\":\"#506784\",\"linecolor\":\"#506784\",\"ticks\":\"\"}},\"coloraxis\":{\"colorbar\":{\"outlinewidth\":0,\"ticks\":\"\"}},\"colorscale\":{\"sequential\":[[0.0,\"#0d0887\"],[0.1111111111111111,\"#46039f\"],[0.2222222222222222,\"#7201a8\"],[0.3333333333333333,\"#9c179e\"],[0.4444444444444444,\"#bd3786\"],[0.5555555555555556,\"#d8576b\"],[0.6666666666666666,\"#ed7953\"],[0.7777777777777778,\"#fb9f3a\"],[0.8888888888888888,\"#fdca26\"],[1.0,\"#f0f921\"]],\"sequentialminus\":[[0.0,\"#0d0887\"],[0.1111111111111111,\"#46039f\"],[0.2222222222222222,\"#7201a8\"],[0.3333333333333333,\"#9c179e\"],[0.4444444444444444,\"#bd3786\"],[0.5555555555555556,\"#d8576b\"],[0.6666666666666666,\"#ed7953\"],[0.7777777777777778,\"#fb9f3a\"],[0.8888888888888888,\"#fdca26\"],[1.0,\"#f0f921\"]],\"diverging\":[[0,\"#8e0152\"],[0.1,\"#c51b7d\"],[0.2,\"#de77ae\"],[0.3,\"#f1b6da\"],[0.4,\"#fde0ef\"],[0.5,\"#f7f7f7\"],[0.6,\"#e6f5d0\"],[0.7,\"#b8e186\"],[0.8,\"#7fbc41\"],[0.9,\"#4d9221\"],[1,\"#276419\"]]},\"xaxis\":{\"gridcolor\":\"#283442\",\"linecolor\":\"#506784\",\"ticks\":\"\",\"title\":{\"standoff\":15},\"zerolinecolor\":\"#283442\",\"automargin\":true,\"zerolinewidth\":2},\"yaxis\":{\"gridcolor\":\"#283442\",\"linecolor\":\"#506784\",\"ticks\":\"\",\"title\":{\"standoff\":15},\"zerolinecolor\":\"#283442\",\"automargin\":true,\"zerolinewidth\":2},\"scene\":{\"xaxis\":{\"backgroundcolor\":\"rgb(17,17,17)\",\"gridcolor\":\"#506784\",\"linecolor\":\"#506784\",\"showbackground\":true,\"ticks\":\"\",\"zerolinecolor\":\"#C8D4E3\",\"gridwidth\":2},\"yaxis\":{\"backgroundcolor\":\"rgb(17,17,17)\",\"gridcolor\":\"#506784\",\"linecolor\":\"#506784\",\"showbackground\":true,\"ticks\":\"\",\"zerolinecolor\":\"#C8D4E3\",\"gridwidth\":2},\"zaxis\":{\"backgroundcolor\":\"rgb(17,17,17)\",\"gridcolor\":\"#506784\",\"linecolor\":\"#506784\",\"showbackground\":true,\"ticks\":\"\",\"zerolinecolor\":\"#C8D4E3\",\"gridwidth\":2}},\"shapedefaults\":{\"line\":{\"color\":\"#f2f5fa\"}},\"annotationdefaults\":{\"arrowcolor\":\"#f2f5fa\",\"arrowhead\":0,\"arrowwidth\":1},\"geo\":{\"bgcolor\":\"rgb(17,17,17)\",\"landcolor\":\"rgb(17,17,17)\",\"subunitcolor\":\"#506784\",\"showland\":true,\"showlakes\":true,\"lakecolor\":\"rgb(17,17,17)\"},\"title\":{\"x\":0.05},\"updatemenudefaults\":{\"bgcolor\":\"#506784\",\"borderwidth\":0},\"sliderdefaults\":{\"bgcolor\":\"#C8D4E3\",\"borderwidth\":1,\"bordercolor\":\"rgb(17,17,17)\",\"tickwidth\":0},\"mapbox\":{\"style\":\"dark\"}}},\"xaxis\":{\"anchor\":\"y\",\"domain\":[0.0,1.0],\"title\":{\"text\":\"period\"}},\"yaxis\":{\"anchor\":\"x\",\"domain\":[0.0,1.0],\"title\":{\"text\":\"count\"}},\"legend\":{\"tracegroupgap\":0},\"margin\":{\"t\":60},\"barmode\":\"relative\"},                        {\"responsive\": true}                    ).then(function(){\n                            \nvar gd = document.getElementById('ea0622e4-86c2-4757-848d-407412e84191');\nvar x = new MutationObserver(function (mutations, observer) {{\n        var display = window.getComputedStyle(gd).display;\n        if (!display || display === 'none') {{\n            console.log([gd, 'removed!']);\n            Plotly.purge(gd);\n            observer.disconnect();\n        }}\n}});\n\n// Listen for the removal of the full notebook cells\nvar notebookContainer = gd.closest('#notebook-container');\nif (notebookContainer) {{\n    x.observe(notebookContainer, {childList: true});\n}}\n\n// Listen for the clearing of the current output cell\nvar outputEl = gd.closest('.output');\nif (outputEl) {{\n    x.observe(outputEl, {childList: true});\n}}\n\n                        })                };                });            </script>        </div>"
     },
     "metadata": {},
     "output_type": "display_data"
    }
   ],
   "source": [
    "period = 'M'\n",
    "corsair_df[\"period\"] = corsair_df[\"timestamp\"].dt.to_period(period)\n",
    "corsair_df[\"period\"] = corsair_df[\"period\"].dt.to_timestamp()\n",
    "\n",
    "x = pd.DataFrame(corsair_df[\"period\"].value_counts().reset_index().rename(columns={'index':'period', \"period\": \"count\"}))\n",
    "\n",
    "import plotly.express as px\n",
    "\n",
    "px.bar(x, x=\"period\", y=\"count\", color_discrete_sequence=['gray'])"
   ],
   "metadata": {
    "collapsed": false
   }
  },
  {
   "cell_type": "markdown",
   "source": [
    "### Reviews Ratings (how satisfied customers feel with our brand products)"
   ],
   "metadata": {
    "collapsed": false
   }
  },
  {
   "cell_type": "code",
   "execution_count": 163,
   "outputs": [
    {
     "name": "stdout",
     "output_type": "stream",
     "text": [
      "Average Rating: 4.51\n"
     ]
    },
    {
     "data": {
      "text/plain": "<Figure size 640x480 with 1 Axes>",
      "image/png": "[encoded data removed]"
     },
     "metadata": {},
     "output_type": "display_data"
    }
   ],
   "source": [
    "rating_df = corsair_df[\"overall\"] \\\n",
    "    .value_counts(normalize=True) \\\n",
    "    .reset_index() \\\n",
    "    .rename(columns={'index':'rating', 'overall':'percentage'})\n",
    "\n",
    "rating_df = pd.DataFrame(rating_df)\n",
    "rating_df[\"rating\"] = rating_df[\"rating\"].astype(\"category\")\n",
    "rating_df['color'] = rating_df[\"rating\"].apply(\n",
    "    lambda x: \"blue\" if x == 5 else \"gray\"\n",
    ")\n",
    "\n",
    "barplot_palette = pd.DataFrame(rating_df.groupby(['rating', 'percentage'])['color'] \\\n",
    "    .value_counts()) \\\n",
    "    .rename(columns={'color':'count2'}) \\\n",
    "    .reset_index() \\\n",
    "    .sort_values(by='percentage')['color']\n",
    "\n",
    "sns.barplot(rating_df, y='percentage', x='rating', palette=barplot_palette)\n",
    "\n",
    "\n",
    "print(\"Average Rating: {:,.2f}\".format(corsair_df[\"overall\"].astype(\"float\").mean()))"
   ],
   "metadata": {
    "collapsed": false
   }
  },
  {
   "cell_type": "markdown",
   "source": [
    "### Most Reviewed Categories (the main categories that our brand deals with)"
   ],
   "metadata": {
    "collapsed": false
   }
  },
  {
   "cell_type": "code",
   "execution_count": 164,
   "outputs": [
    {
     "data": {
      "text/plain": "<matplotlib.legend.Legend at 0x7efd0fb29300>"
     },
     "execution_count": 164,
     "metadata": {},
     "output_type": "execute_result"
    },
    {
     "data": {
      "text/plain": "<Figure size 1000x400 with 1 Axes>",
      "image/png": "[encoded data removed]"
     },
     "metadata": {},
     "output_type": "display_data"
    }
   ],
   "source": [
    "fig = plt.figure(figsize=(10, 4))\n",
    "\n",
    "category_df = pd.DataFrame(corsair_df['category'] \\\n",
    "    .value_counts()) \\\n",
    "    .reset_index() \\\n",
    "    .rename(columns={'index':'category', 'category':'count'})\n",
    "\n",
    "category_df[category_df[\"count\"] <= 0] = np.nan\n",
    "category_df.dropna(inplace=True)\n",
    "category_df[\"category\"] = category_df[\"category\"].astype(\"category\")\n",
    "category_df[\"count\"] = category_df[\"count\"].astype(\"int\")\n",
    "\n",
    "\n",
    "category_df[\"color\"] = category_df[\"count\"].apply(\n",
    "    lambda x: \"blue\" if x == category_df[\"count\"].max() else \"gray\"\n",
    ")\n",
    "\n",
    "barplot_palette = pd.DataFrame(category_df.groupby(['category', 'count'])['color'] \\\n",
    "    .value_counts()) \\\n",
    "    .rename(columns={'color':'count2'}) \\\n",
    "    .reset_index() \\\n",
    "    .sort_values(by='count', ascending=False)['color']\n",
    "\n",
    "ax = sns.barplot(category_df, x='count', y='category',\n",
    "                order=category_df.sort_values(by='count', ascending=False)[\"category\"], palette=barplot_palette)\n",
    "fig.tight_layout()\n",
    "\n",
    "plt.legend([],[], frameon=False)"
   ],
   "metadata": {
    "collapsed": false
   }
  },
  {
   "cell_type": "markdown",
   "source": [
    "### Number of Reviews per Price (telling us at what price people are more willing to buy)"
   ],
   "metadata": {
    "collapsed": false
   }
  },
  {
   "cell_type": "code",
   "execution_count": 165,
   "outputs": [
    {
     "name": "stderr",
     "output_type": "stream",
     "text": [
      "/tmp/ipykernel_21365/2083052175.py:12: SettingWithCopyWarning:\n",
      "\n",
      "\n",
      "A value is trying to be set on a copy of a slice from a DataFrame.\n",
      "Try using .loc[row_indexer,col_indexer] = value instead\n",
      "\n",
      "See the caveats in the documentation: https://pandas.pydata.org/pandas-docs/stable/user_guide/indexing.html#returning-a-view-versus-a-copy\n",
      "\n",
      "/tmp/ipykernel_21365/2083052175.py:25: SettingWithCopyWarning:\n",
      "\n",
      "\n",
      "A value is trying to be set on a copy of a slice from a DataFrame.\n",
      "Try using .loc[row_indexer,col_indexer] = value instead\n",
      "\n",
      "See the caveats in the documentation: https://pandas.pydata.org/pandas-docs/stable/user_guide/indexing.html#returning-a-view-versus-a-copy\n",
      "\n"
     ]
    }
   ],
   "source": [
    "price_categories = pd.CategoricalDtype(\n",
    "    categories=[\n",
    "        \"Under \\$25\",\n",
    "        \"\\$25 to \\$50\",\n",
    "        \"\\$50 to \\$100\",\n",
    "        \"\\$100 to \\$200\",\n",
    "        \"\\$200 & Above\",\n",
    "    ],\n",
    "    ordered=True,\n",
    ")\n",
    "\n",
    "corsair_df[\"price\"] = corsair_df[\"price\"].apply(\n",
    "    lambda x: \"Under \\$25\"\n",
    "    if x < 25\n",
    "    else (\n",
    "        \"\\$25 to \\$50\"\n",
    "        if x < 50\n",
    "        else (\n",
    "            \"\\$50 to \\$100\"\n",
    "            if x < 100\n",
    "            else (\"\\$100 to \\$200\" if x < 200 else \"\\$200 & Above\")\n",
    "        )\n",
    "    )\n",
    ")\n",
    "corsair_df[\"price\"] = corsair_df[\"price\"].astype(price_categories)"
   ],
   "metadata": {
    "collapsed": false
   }
  },
  {
   "cell_type": "code",
   "execution_count": 166,
   "outputs": [
    {
     "data": {
      "text/plain": "<Figure size 640x480 with 1 Axes>",
      "image/png": "[encoded data removed]"
     },
     "metadata": {},
     "output_type": "display_data"
    }
   ],
   "source": [
    "price_palette = []\n",
    "categories=[\n",
    "    \"Under \\$25\",\n",
    "    \"\\$25 to \\$50\",\n",
    "    \"\\$50 to \\$100\",\n",
    "    \"\\$100 to \\$200\",\n",
    "    \"\\$200 & Above\",\n",
    "]\n",
    "for x in categories:\n",
    "    if x == \"Under \\$25\":\n",
    "        price_palette.append('blue')\n",
    "    else:\n",
    "        price_palette.append('gray')\n",
    "\n",
    "ax = sns.countplot(corsair_df, x='price', palette=price_palette)\n",
    "fig.tight_layout()"
   ],
   "metadata": {
    "collapsed": false
   }
  },
  {
   "cell_type": "markdown",
   "source": [
    "### Corsairs' competitors\n",
    "- Most Reviewed Brands of the Memory Category\n",
    "- Most Reviewed Brands of the Fans & Cooling Category\n",
    "- Most Reviewed Brands of the Power Supplies Category\n",
    "- Most Reviewed Brands of the TV Tuner & Capture Cards Category"
   ],
   "metadata": {
    "collapsed": false
   }
  },
  {
   "cell_type": "code",
   "execution_count": 167,
   "outputs": [
    {
     "data": {
      "text/plain": "<Figure size 1500x700 with 4 Axes>",
      "image/png": "[encoded data removed]"
     },
     "metadata": {},
     "output_type": "display_data"
    }
   ],
   "source": [
    "def competitors_by_category(data_df, category, ax):\n",
    "    category_df = data_df[data_df['category'] == category]\n",
    "    mc_category_brands_df = pd.DataFrame(Counter(category_df[\"brand\"].tolist()).most_common(7)).reset_index().rename(columns={0:'brand', 1:'count'})\n",
    "\n",
    "    mc_category_brands_df['color'] = mc_category_brands_df[\"brand\"].apply(\n",
    "        lambda x: \"blue\" if x == 'corsair' else \"gray\"\n",
    "    )\n",
    "\n",
    "    barplot_palette = pd.DataFrame(mc_category_brands_df.groupby(['brand', 'count'])['color'] \\\n",
    "        .value_counts()) \\\n",
    "        .rename(columns={'color':'count2'}) \\\n",
    "        .reset_index() \\\n",
    "        .sort_values(by='count', ascending=False)['color']\n",
    "\n",
    "    plot = sns.barplot(mc_category_brands_df, x='count', y='brand',\n",
    "                    order=mc_category_brands_df.sort_values(by='count', ascending=False)[\"brand\"], palette=barplot_palette, ax=ax)\n",
    "    plot.set_title(f'Most Reviewed Brands In The {category} Category', fontsize = 10)\n",
    "    return plot\n",
    "\n",
    "fig, axes = plt.subplots(2, 2, figsize=(15, 7))\n",
    "axes = axes.flatten()\n",
    "competitors_by_category(data_df, 'Memory', axes[0])\n",
    "competitors_by_category(data_df, 'Fans & Cooling', axes[1])\n",
    "competitors_by_category(data_df, 'Power Supplies', axes[2])\n",
    "competitors_by_category(data_df, 'TV Tuner & Capture Cards', axes[3])\n",
    "fig.tight_layout()"
   ],
   "metadata": {
    "collapsed": false
   }
  },
  {
   "cell_type": "markdown",
   "source": [
    "### Top 30 Most Common Votes (we can see how people usually don't vote on reviews or very few do)"
   ],
   "metadata": {
    "collapsed": false
   }
  },
  {
   "cell_type": "code",
   "execution_count": 168,
   "outputs": [
    {
     "data": {
      "text/plain": "<Figure size 1000x500 with 1 Axes>",
      "image/png": "[encoded data removed]"
     },
     "metadata": {},
     "output_type": "display_data"
    }
   ],
   "source": [
    "def discretize_vote(vote):\n",
    "    if 0 < vote < 5:\n",
    "        return \"(0, 5)\"\n",
    "    if 5 <= vote < 10:\n",
    "        return \"[5, 10)\"\n",
    "    if 10 <= vote < 25:\n",
    "        return \"[10, 25)\"\n",
    "    if 25 <= vote:\n",
    "        return \"25 >\"\n",
    "\n",
    "    return \"0\"\n",
    "\n",
    "\n",
    "vote_df = pd.DataFrame(Counter(corsair_df['vote'].apply(discretize_vote).tolist()).most_common())\n",
    "vote_df[1] = vote_df[1] / vote_df[1].sum()\n",
    "\n",
    "vote_df[\"color\"] = vote_df[1].apply(\n",
    "    lambda x: \"blue\" if x == vote_df[1].max() else \"gray\"\n",
    ")\n",
    "\n",
    "fig, ax = plt.subplots(figsize=(10, 5))\n",
    "sns.barplot(x=vote_df[0], y=vote_df[1], ax=ax, palette=vote_df[\"color\"])\n",
    "fig.tight_layout()"
   ],
   "metadata": {
    "collapsed": false
   }
  },
  {
   "cell_type": "markdown",
   "source": [
    "### Review Summary & Text"
   ],
   "metadata": {
    "collapsed": false
   }
  },
  {
   "cell_type": "markdown",
   "source": [
    "##### Summary"
   ],
   "metadata": {
    "collapsed": false
   }
  },
  {
   "cell_type": "code",
   "execution_count": 169,
   "outputs": [
    {
     "name": "stdout",
     "output_type": "stream",
     "text": [
      "Mean Review Summary Length: 25.0 characters\n",
      "\n",
      "Some Review Summary Examples:\n",
      "\n",
      "good product, I recommend it\n",
      "\n",
      "nice\n",
      "\n",
      "Just what you want from a PSU/ I have had good look with Corsair PSU so always come back to ...\n",
      "\n",
      "Great RAM.\n",
      "\n",
      "Keeps my case nice and cool with a little bit of bling\n",
      "\n",
      "One Star\n",
      "\n"
     ]
    }
   ],
   "source": [
    "text_lengths = corsair_df[\"summary\"].str.len()\n",
    "mean_length = np.round(np.mean(text_lengths))\n",
    "print(\"Mean Review Summary Length:\", mean_length, \"characters\\n\")\n",
    "\n",
    "print(\"Some Review Summary Examples:\\n\")\n",
    "\n",
    "k = 5\n",
    "for x in corsair_df[\"summary\"]:\n",
    "    if k < 0:\n",
    "        break\n",
    "    else:\n",
    "        print(x + '\\n')\n",
    "        k = k - 1"
   ],
   "metadata": {
    "collapsed": false
   }
  },
  {
   "cell_type": "code",
   "execution_count": 170,
   "outputs": [],
   "source": [
    "def discretize_length(length, limits):\n",
    "    if length < limits[0]:\n",
    "        return f\"< {limits[0]}\"\n",
    "\n",
    "    k = 0\n",
    "    while length < limits[-1]:\n",
    "        if limits[k] <= length < limits[k + 1]:\n",
    "            return f\"{limits[k]} - {limits[k + 1]}\"\n",
    "        k = k + 1\n",
    "\n",
    "    return f\">= {limits[-1]}\"\n",
    "\n",
    "def get_lengths_category(limits):\n",
    "    cats = [f\"< {limits[0]}\"]\n",
    "\n",
    "    for i in range(len(limits) - 1):\n",
    "        cats.append(f\"{limits[i]} - {limits[i + 1]}\")\n",
    "\n",
    "    cats.append(f\">= {limits[-1]}\")\n",
    "\n",
    "    return pd.CategoricalDtype(cats, ordered=True)"
   ],
   "metadata": {
    "collapsed": false
   }
  },
  {
   "cell_type": "code",
   "execution_count": 170,
   "outputs": [],
   "source": [],
   "metadata": {
    "collapsed": false
   }
  },
  {
   "cell_type": "code",
   "execution_count": 171,
   "outputs": [
    {
     "data": {
      "text/plain": "<Figure size 1500x500 with 1 Axes>",
      "image/png": "[encoded data removed]"
     },
     "metadata": {},
     "output_type": "display_data"
    }
   ],
   "source": [
    "limits = [5, 10, 25, 50, 100]\n",
    "\n",
    "fig, ax = plt.subplots(figsize=(15, 5))\n",
    "lengths = corsair_df[\"summary\"].str.len().apply(lambda x: discretize_length(x, limits))\n",
    "lengths = lengths.astype(get_lengths_category(limits))\n",
    "sns.histplot(x=lengths, stat=\"percent\", ax=ax, color='gray')\n",
    "\n",
    "fig.tight_layout()"
   ],
   "metadata": {
    "collapsed": false
   }
  },
  {
   "cell_type": "markdown",
   "source": [
    "##### Text"
   ],
   "metadata": {
    "collapsed": false
   }
  },
  {
   "cell_type": "code",
   "execution_count": 172,
   "outputs": [
    {
     "name": "stdout",
     "output_type": "stream",
     "text": [
      "Mean Review Text Length: 275.0 characters\n",
      "\n",
      "Some Review Text Examples:\n",
      "\n",
      "good product, I recommend it, that card looks good, to put my laptop worked properly. the price is very good in relation to quality.\n",
      "\n",
      "great fans. nice lights.\n",
      "\n",
      "Plugged it in and it powered up. Just what you want from a PSU/ I have had good look with Corsair PSU so always come back to them.\n",
      "\n",
      "Works! Need I say more? Great RAM.\n",
      "\n",
      "Keeps my case nice and cool with a little bit of bling. Perfect for gaming PC. The pics show true colors, love seeing them in a dark room.\n",
      "\n",
      "Don't purchase it's not worth $50.00\n",
      "\n"
     ]
    }
   ],
   "source": [
    "text_lengths = corsair_df[\"text\"].str.len()\n",
    "mean_length = np.round(np.mean(text_lengths))\n",
    "print(\"Mean Review Text Length:\", mean_length, \"characters\\n\")\n",
    "\n",
    "print(\"Some Review Text Examples:\\n\")\n",
    "\n",
    "k = 5\n",
    "for x in corsair_df[\"text\"]:\n",
    "    if k < 0:\n",
    "        break\n",
    "    else:\n",
    "        print(x + '\\n')\n",
    "        k = k - 1"
   ],
   "metadata": {
    "collapsed": false
   }
  },
  {
   "cell_type": "code",
   "execution_count": 173,
   "outputs": [
    {
     "data": {
      "text/plain": "<Figure size 1000x400 with 1 Axes>",
      "image/png": "[encoded data removed]"
     },
     "metadata": {},
     "output_type": "display_data"
    }
   ],
   "source": [
    "limits = [50, 100, 200, 500, 1000]\n",
    "\n",
    "fig, ax = plt.subplots(figsize=(10, 4))\n",
    "lengths = text_lengths.apply(lambda x: discretize_length(x, limits))\n",
    "lengths = lengths.astype(get_lengths_category(limits))\n",
    "sns.histplot(lengths, stat=\"percent\", ax=ax, color='gray')\n",
    "#ax.set_xlim([0, np.max(text_lengths)])\n",
    "fig.tight_layout()"
   ],
   "metadata": {
    "collapsed": false
   }
  },
  {
   "cell_type": "code",
   "execution_count": 173,
   "outputs": [],
   "source": [],
   "metadata": {
    "collapsed": false
   }
  }
 ],
 "metadata": {
  "interpreter": {
   "hash": "2ce6ec2e4b6a5ff97b7d971429414c7b0e6b53095546745f3a5e17ba202567f8"
  },
  "kernelspec": {
   "display_name": "Python 3.10.5 ('venv': venv)",
   "language": "python",
   "name": "python3"
  },
  "language_info": {
   "codemirror_mode": {
    "name": "ipython",
    "version": 3
   },
   "file_extension": ".py",
   "mimetype": "text/x-python",
   "name": "python",
   "nbconvert_exporter": "python",
   "pygments_lexer": "ipython3",
   "version": "3.10.5"
  },
  "orig_nbformat": 4
 },
 "nbformat": 4,
 "nbformat_minor": 2
}
