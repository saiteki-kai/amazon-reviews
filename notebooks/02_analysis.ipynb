{
 "cells": [
  {
   "cell_type": "markdown",
   "metadata": {},
   "source": [
    "# Corsair Data Analytics On Amazon Reviews"
   ]
  },
  {
   "cell_type": "code",
   "execution_count": 92,
   "metadata": {},
   "outputs": [
    {
     "name": "stdout",
     "output_type": "stream",
     "text": [
      "INFO: Pandarallel will run on 8 workers.\n",
      "INFO: Pandarallel will use Memory file system to transfer data between the main process and workers.\n"
     ]
    }
   ],
   "source": [
    "import numpy as np\n",
    "import pandas as pd\n",
    "import seaborn as sns\n",
    "\n",
    "from collections import Counter\n",
    "from wordcloud import WordCloud\n",
    "\n",
    "from matplotlib import pyplot as plt\n",
    "from pandarallel import pandarallel\n",
    "\n",
    "from reviews.config import processed_data_dir\n",
    "\n",
    "pandarallel.initialize(progress_bar=False, nb_workers=8)"
   ]
  },
  {
   "cell_type": "markdown",
   "metadata": {},
   "source": [
    "### Read Data"
   ]
  },
  {
   "cell_type": "code",
   "execution_count": 93,
   "metadata": {},
   "outputs": [
    {
     "name": "stdout",
     "output_type": "stream",
     "text": [
      "<class 'pandas.core.frame.DataFrame'>\n",
      "Int64Index: 21922 entries, 0 to 21921\n",
      "Data columns (total 12 columns):\n",
      " #   Column           Non-Null Count  Dtype         \n",
      "---  ------           --------------  -----         \n",
      " 0   asin             21922 non-null  category      \n",
      " 1   overall          21922 non-null  category      \n",
      " 2   summary          21922 non-null  string        \n",
      " 3   text             21922 non-null  string        \n",
      " 4   timestamp        21922 non-null  datetime64[ns]\n",
      " 5   vote             21922 non-null  int64         \n",
      " 6   brand            21911 non-null  category      \n",
      " 7   category         21922 non-null  category      \n",
      " 8   description      21368 non-null  string        \n",
      " 9   imageURLHighRes  18019 non-null  object        \n",
      " 10  price            21922 non-null  float64       \n",
      " 11  title            21922 non-null  string        \n",
      "dtypes: category(4), datetime64[ns](1), float64(1), int64(1), object(1), string(4)\n",
      "memory usage: 1.7+ MB\n"
     ]
    }
   ],
   "source": [
    "data_df = pd.read_json(processed_data_dir / \"products_reviews.json.gz\")\n",
    "\n",
    "data_df[\"asin\"] = data_df[\"asin\"].astype(\"category\")\n",
    "data_df[\"text\"] = data_df[\"text\"].astype(\"string\")\n",
    "data_df[\"summary\"] = data_df[\"summary\"].astype(\"string\")\n",
    "data_df[\"overall\"] = data_df[\"overall\"].astype(\"category\")\n",
    "data_df[\"brand\"] = data_df[\"brand\"].astype(\"category\")\n",
    "data_df[\"category\"] = data_df[\"category\"].astype(\"category\")\n",
    "data_df[\"description\"] = data_df[\"description\"].astype(\"string\")\n",
    "data_df[\"title\"] = data_df[\"title\"].astype(\"string\")\n",
    "\n",
    "data_df.info()"
   ]
  },
  {
   "cell_type": "code",
   "execution_count": 94,
   "metadata": {},
   "outputs": [
    {
     "data": {
      "text/html": [
       "<div>\n",
       "<style scoped>\n",
       "    .dataframe tbody tr th:only-of-type {\n",
       "        vertical-align: middle;\n",
       "    }\n",
       "\n",
       "    .dataframe tbody tr th {\n",
       "        vertical-align: top;\n",
       "    }\n",
       "\n",
       "    .dataframe thead th {\n",
       "        text-align: right;\n",
       "    }\n",
       "</style>\n",
       "<table border=\"1\" class=\"dataframe\">\n",
       "  <thead>\n",
       "    <tr style=\"text-align: right;\">\n",
       "      <th></th>\n",
       "      <th>asin</th>\n",
       "      <th>overall</th>\n",
       "      <th>summary</th>\n",
       "      <th>text</th>\n",
       "      <th>timestamp</th>\n",
       "      <th>vote</th>\n",
       "      <th>brand</th>\n",
       "      <th>category</th>\n",
       "      <th>description</th>\n",
       "      <th>imageURLHighRes</th>\n",
       "      <th>price</th>\n",
       "      <th>title</th>\n",
       "    </tr>\n",
       "  </thead>\n",
       "  <tbody>\n",
       "    <tr>\n",
       "      <th>0</th>\n",
       "      <td>B00C53ANDO</td>\n",
       "      <td>5</td>\n",
       "      <td>Five Stars</td>\n",
       "      <td>perfect</td>\n",
       "      <td>2018-01-16</td>\n",
       "      <td>0</td>\n",
       "      <td>a-tech components</td>\n",
       "      <td>Memory</td>\n",
       "      <td>4GB DDR3 PC3-12800 LAPTOP Memory Module (204-p...</td>\n",
       "      <td>None</td>\n",
       "      <td>19.99</td>\n",
       "      <td>4GB DDR3 PC3-12800 LAPTOP Memory Module (204-p...</td>\n",
       "    </tr>\n",
       "    <tr>\n",
       "      <th>1</th>\n",
       "      <td>B009COAEUG</td>\n",
       "      <td>5</td>\n",
       "      <td>The air flow on this unit is adequate to compl...</td>\n",
       "      <td>Mine is installed in a closet, pulling air fro...</td>\n",
       "      <td>2016-01-09</td>\n",
       "      <td>0</td>\n",
       "      <td>ac infinity</td>\n",
       "      <td>Fans &amp; Cooling</td>\n",
       "      <td>Product Description The ultra-quiet fan system...</td>\n",
       "      <td>https://images-na.ssl-images-amazon.com/images...</td>\n",
       "      <td>24.99</td>\n",
       "      <td>AC Infinity AIRPLATE S1, Quiet Cooling Fan Sys...</td>\n",
       "    </tr>\n",
       "    <tr>\n",
       "      <th>2</th>\n",
       "      <td>B00KTXI5D2</td>\n",
       "      <td>5</td>\n",
       "      <td>Had a noisy fan in a power inverter. I ...</td>\n",
       "      <td>Had a noisy fan in a power inverter. I replace...</td>\n",
       "      <td>2016-01-06</td>\n",
       "      <td>0</td>\n",
       "      <td>ace seller</td>\n",
       "      <td>Fans &amp; Cooling</td>\n",
       "      <td>Item: \n",
       " Brushless DC Cooling Fan Blower 5015S...</td>\n",
       "      <td>https://images-na.ssl-images-amazon.com/images...</td>\n",
       "      <td>5.25</td>\n",
       "      <td>Brushless DC Cooling Fan Blower 5015S 5V 0.1-0.3A</td>\n",
       "    </tr>\n",
       "    <tr>\n",
       "      <th>3</th>\n",
       "      <td>B017DYKCNA</td>\n",
       "      <td>5</td>\n",
       "      <td>... i put in my sons computer and its really g...</td>\n",
       "      <td>the chip i put in my sons computer and its rea...</td>\n",
       "      <td>2017-09-24</td>\n",
       "      <td>0</td>\n",
       "      <td>amd</td>\n",
       "      <td>CPU Processors</td>\n",
       "      <td>AMD FX 8-Core Processor, Unlocked, Black Editi...</td>\n",
       "      <td>https://images-na.ssl-images-amazon.com/images...</td>\n",
       "      <td>4.59</td>\n",
       "      <td>AMD FD8350FRHKBOX FX-8350  FX-Series 8-Core Bl...</td>\n",
       "    </tr>\n",
       "    <tr>\n",
       "      <th>4</th>\n",
       "      <td>B006WAGG14</td>\n",
       "      <td>5</td>\n",
       "      <td>Can't go wrong with Crucial</td>\n",
       "      <td>Quality memory from a \"name brand\" supplier. B...</td>\n",
       "      <td>2016-07-27</td>\n",
       "      <td>0</td>\n",
       "      <td>ballistix</td>\n",
       "      <td>Memory</td>\n",
       "      <td>BLS4G3D1609DS1S00 is a single 4GB DDR3 module ...</td>\n",
       "      <td>https://images-na.ssl-images-amazon.com/images...</td>\n",
       "      <td>2.54</td>\n",
       "      <td>Ballistix Sport 4GB Single DDR3 1600 MT/s (PC3...</td>\n",
       "    </tr>\n",
       "  </tbody>\n",
       "</table>\n",
       "</div>"
      ],
      "text/plain": [
       "         asin overall                                            summary  \\\n",
       "0  B00C53ANDO       5                                         Five Stars   \n",
       "1  B009COAEUG       5  The air flow on this unit is adequate to compl...   \n",
       "2  B00KTXI5D2       5         Had a noisy fan in a power inverter. I ...   \n",
       "3  B017DYKCNA       5  ... i put in my sons computer and its really g...   \n",
       "4  B006WAGG14       5                        Can't go wrong with Crucial   \n",
       "\n",
       "                                                text  timestamp  vote  \\\n",
       "0                                            perfect 2018-01-16     0   \n",
       "1  Mine is installed in a closet, pulling air fro... 2016-01-09     0   \n",
       "2  Had a noisy fan in a power inverter. I replace... 2016-01-06     0   \n",
       "3  the chip i put in my sons computer and its rea... 2017-09-24     0   \n",
       "4  Quality memory from a \"name brand\" supplier. B... 2016-07-27     0   \n",
       "\n",
       "               brand        category  \\\n",
       "0  a-tech components          Memory   \n",
       "1        ac infinity  Fans & Cooling   \n",
       "2         ace seller  Fans & Cooling   \n",
       "3                amd  CPU Processors   \n",
       "4          ballistix          Memory   \n",
       "\n",
       "                                         description  \\\n",
       "0  4GB DDR3 PC3-12800 LAPTOP Memory Module (204-p...   \n",
       "1  Product Description The ultra-quiet fan system...   \n",
       "2   Item: \n",
       " Brushless DC Cooling Fan Blower 5015S...   \n",
       "3  AMD FX 8-Core Processor, Unlocked, Black Editi...   \n",
       "4  BLS4G3D1609DS1S00 is a single 4GB DDR3 module ...   \n",
       "\n",
       "                                     imageURLHighRes  price  \\\n",
       "0                                               None  19.99   \n",
       "1  https://images-na.ssl-images-amazon.com/images...  24.99   \n",
       "2  https://images-na.ssl-images-amazon.com/images...   5.25   \n",
       "3  https://images-na.ssl-images-amazon.com/images...   4.59   \n",
       "4  https://images-na.ssl-images-amazon.com/images...   2.54   \n",
       "\n",
       "                                               title  \n",
       "0  4GB DDR3 PC3-12800 LAPTOP Memory Module (204-p...  \n",
       "1  AC Infinity AIRPLATE S1, Quiet Cooling Fan Sys...  \n",
       "2  Brushless DC Cooling Fan Blower 5015S 5V 0.1-0.3A  \n",
       "3  AMD FD8350FRHKBOX FX-8350  FX-Series 8-Core Bl...  \n",
       "4  Ballistix Sport 4GB Single DDR3 1600 MT/s (PC3...  "
      ]
     },
     "execution_count": 94,
     "metadata": {},
     "output_type": "execute_result"
    }
   ],
   "source": [
    "data_df.head(5)"
   ]
  },
  {
   "cell_type": "markdown",
   "metadata": {},
   "source": [
    "### Select Corsair specific Data"
   ]
  },
  {
   "cell_type": "code",
   "execution_count": 95,
   "metadata": {},
   "outputs": [
    {
     "data": {
      "text/html": [
       "<div>\n",
       "<style scoped>\n",
       "    .dataframe tbody tr th:only-of-type {\n",
       "        vertical-align: middle;\n",
       "    }\n",
       "\n",
       "    .dataframe tbody tr th {\n",
       "        vertical-align: top;\n",
       "    }\n",
       "\n",
       "    .dataframe thead th {\n",
       "        text-align: right;\n",
       "    }\n",
       "</style>\n",
       "<table border=\"1\" class=\"dataframe\">\n",
       "  <thead>\n",
       "    <tr style=\"text-align: right;\">\n",
       "      <th></th>\n",
       "      <th>asin</th>\n",
       "      <th>overall</th>\n",
       "      <th>summary</th>\n",
       "      <th>text</th>\n",
       "      <th>timestamp</th>\n",
       "      <th>vote</th>\n",
       "      <th>brand</th>\n",
       "      <th>category</th>\n",
       "      <th>description</th>\n",
       "      <th>imageURLHighRes</th>\n",
       "      <th>price</th>\n",
       "      <th>title</th>\n",
       "    </tr>\n",
       "  </thead>\n",
       "  <tbody>\n",
       "    <tr>\n",
       "      <th>9</th>\n",
       "      <td>B0029U2YSA</td>\n",
       "      <td>5</td>\n",
       "      <td>Happy!</td>\n",
       "      <td>Works easily to import VHS and 8mm home movies...</td>\n",
       "      <td>2016-04-18</td>\n",
       "      <td>0</td>\n",
       "      <td>corsair</td>\n",
       "      <td>TV Tuner &amp; Capture Cards</td>\n",
       "      <td>Digitize video from a VCR, camcorder and other...</td>\n",
       "      <td>https://images-na.ssl-images-amazon.com/images...</td>\n",
       "      <td>3.09</td>\n",
       "      <td>Elgato Video Capture - Digitise Video for Mac,...</td>\n",
       "    </tr>\n",
       "    <tr>\n",
       "      <th>11</th>\n",
       "      <td>B0092ML0MY</td>\n",
       "      <td>5</td>\n",
       "      <td>Five Stars</td>\n",
       "      <td>lots of power whisper quiet</td>\n",
       "      <td>2015-11-13</td>\n",
       "      <td>0</td>\n",
       "      <td>corsair</td>\n",
       "      <td>Power Supplies</td>\n",
       "      <td>The Corsair Builder Series of PSUs are designe...</td>\n",
       "      <td>https://images-na.ssl-images-amazon.com/images...</td>\n",
       "      <td>4.16</td>\n",
       "      <td>Corsair CX Series 500 Watt 80 Plus Bronze Cert...</td>\n",
       "    </tr>\n",
       "    <tr>\n",
       "      <th>15</th>\n",
       "      <td>B00PC9H6TM</td>\n",
       "      <td>5</td>\n",
       "      <td>Ordered for my Ryzen build follow AMD's mid la...</td>\n",
       "      <td>Ordered for my Ryzen build follow AMD's mid la...</td>\n",
       "      <td>2018-04-20</td>\n",
       "      <td>0</td>\n",
       "      <td>corsair</td>\n",
       "      <td>Memory</td>\n",
       "      <td>Vengeance LPX memory is designed for high-perf...</td>\n",
       "      <td>https://images-na.ssl-images-amazon.com/images...</td>\n",
       "      <td>4.83</td>\n",
       "      <td>Corsair Vengeance LPX 32GB (4 x 8GB) DDR4 DRAM...</td>\n",
       "    </tr>\n",
       "    <tr>\n",
       "      <th>16</th>\n",
       "      <td>B00F6S10KK</td>\n",
       "      <td>5</td>\n",
       "      <td>Would Buy Again</td>\n",
       "      <td>Great Fans Look Awesome On My Case , Arrived O...</td>\n",
       "      <td>2015-12-01</td>\n",
       "      <td>0</td>\n",
       "      <td>corsair</td>\n",
       "      <td>Fans &amp; Cooling</td>\n",
       "      <td>Superior cooling performance and LED illuminat...</td>\n",
       "      <td>https://images-na.ssl-images-amazon.com/images...</td>\n",
       "      <td>2.54</td>\n",
       "      <td>Corsair Air Series AF120 LED Quiet Edition Hig...</td>\n",
       "    </tr>\n",
       "    <tr>\n",
       "      <th>20</th>\n",
       "      <td>B019954Y2Q</td>\n",
       "      <td>5</td>\n",
       "      <td>Five Stars</td>\n",
       "      <td>Works perfectly as it said It would.</td>\n",
       "      <td>2016-05-12</td>\n",
       "      <td>0</td>\n",
       "      <td>corsair</td>\n",
       "      <td>Fans &amp; Cooling</td>\n",
       "      <td>Hydro Series H80i v2 is an all-in-one liquid C...</td>\n",
       "      <td>https://images-na.ssl-images-amazon.com/images...</td>\n",
       "      <td>4.02</td>\n",
       "      <td>CORSAIR Hydro Series H80i v2 AIO Liquid CPU Co...</td>\n",
       "    </tr>\n",
       "  </tbody>\n",
       "</table>\n",
       "</div>"
      ],
      "text/plain": [
       "          asin overall                                            summary  \\\n",
       "9   B0029U2YSA       5                                             Happy!   \n",
       "11  B0092ML0MY       5                                         Five Stars   \n",
       "15  B00PC9H6TM       5  Ordered for my Ryzen build follow AMD's mid la...   \n",
       "16  B00F6S10KK       5                                    Would Buy Again   \n",
       "20  B019954Y2Q       5                                         Five Stars   \n",
       "\n",
       "                                                 text  timestamp  vote  \\\n",
       "9   Works easily to import VHS and 8mm home movies... 2016-04-18     0   \n",
       "11                        lots of power whisper quiet 2015-11-13     0   \n",
       "15  Ordered for my Ryzen build follow AMD's mid la... 2018-04-20     0   \n",
       "16  Great Fans Look Awesome On My Case , Arrived O... 2015-12-01     0   \n",
       "20               Works perfectly as it said It would. 2016-05-12     0   \n",
       "\n",
       "      brand                  category  \\\n",
       "9   corsair  TV Tuner & Capture Cards   \n",
       "11  corsair            Power Supplies   \n",
       "15  corsair                    Memory   \n",
       "16  corsair            Fans & Cooling   \n",
       "20  corsair            Fans & Cooling   \n",
       "\n",
       "                                          description  \\\n",
       "9   Digitize video from a VCR, camcorder and other...   \n",
       "11  The Corsair Builder Series of PSUs are designe...   \n",
       "15  Vengeance LPX memory is designed for high-perf...   \n",
       "16  Superior cooling performance and LED illuminat...   \n",
       "20  Hydro Series H80i v2 is an all-in-one liquid C...   \n",
       "\n",
       "                                      imageURLHighRes  price  \\\n",
       "9   https://images-na.ssl-images-amazon.com/images...   3.09   \n",
       "11  https://images-na.ssl-images-amazon.com/images...   4.16   \n",
       "15  https://images-na.ssl-images-amazon.com/images...   4.83   \n",
       "16  https://images-na.ssl-images-amazon.com/images...   2.54   \n",
       "20  https://images-na.ssl-images-amazon.com/images...   4.02   \n",
       "\n",
       "                                                title  \n",
       "9   Elgato Video Capture - Digitise Video for Mac,...  \n",
       "11  Corsair CX Series 500 Watt 80 Plus Bronze Cert...  \n",
       "15  Corsair Vengeance LPX 32GB (4 x 8GB) DDR4 DRAM...  \n",
       "16  Corsair Air Series AF120 LED Quiet Edition Hig...  \n",
       "20  CORSAIR Hydro Series H80i v2 AIO Liquid CPU Co...  "
      ]
     },
     "execution_count": 95,
     "metadata": {},
     "output_type": "execute_result"
    }
   ],
   "source": [
    "corsair_df = data_df[data_df['brand'] == 'corsair']\n",
    "corsair_df.head(5)"
   ]
  },
  {
   "cell_type": "markdown",
   "metadata": {},
   "source": [
    "### Number of Products Reviewed and total Number of Reviews"
   ]
  },
  {
   "cell_type": "code",
   "execution_count": 214,
   "metadata": {},
   "outputs": [
    {
     "name": "stderr",
     "output_type": "stream",
     "text": [
      "/tmp/ipykernel_726897/2907760267.py:1: SettingWithCopyWarning:\n",
      "\n",
      "\n",
      "A value is trying to be set on a copy of a slice from a DataFrame.\n",
      "Try using .loc[row_indexer,col_indexer] = value instead\n",
      "\n",
      "See the caveats in the documentation: https://pandas.pydata.org/pandas-docs/stable/user_guide/indexing.html#returning-a-view-versus-a-copy\n",
      "\n"
     ]
    },
    {
     "data": {
      "text/plain": [
       "'Number of total Reviews: 2455, Number of total Products Reviwed: 123, Mean Number of Reviews Per Product: 19.959349593495936'"
      ]
     },
     "execution_count": 214,
     "metadata": {},
     "output_type": "execute_result"
    }
   ],
   "source": [
    "corsair_df[\"asin\"] = corsair_df[\"asin\"].astype(\"string\").astype(\"category\")\n",
    "\n",
    "'Number of total Reviews: {}, Number of total Products Reviwed: {}, Mean Number of Reviews Per Product: {}' \\\n",
    "    .format(len(corsair_df), len(corsair_df[\"asin\"].unique()), corsair_df['asin'].value_counts().mean())\n"
   ]
  },
  {
   "cell_type": "markdown",
   "metadata": {},
   "source": [
    "### Reviews Over Time \n",
    "- Looking the numner of reviews over the years we can see the raising in the interest of people in ~2012 to ~2016 then decreasing until 2018\n",
    "- Looking at how many reviews they have on average per week/month telling us how much the customers are active"
   ]
  },
  {
   "cell_type": "code",
   "execution_count": 55,
   "metadata": {},
   "outputs": [
    {
     "name": "stderr",
     "output_type": "stream",
     "text": [
      "/tmp/ipykernel_726897/1618800006.py:2: SettingWithCopyWarning:\n",
      "\n",
      "\n",
      "A value is trying to be set on a copy of a slice from a DataFrame.\n",
      "Try using .loc[row_indexer,col_indexer] = value instead\n",
      "\n",
      "See the caveats in the documentation: https://pandas.pydata.org/pandas-docs/stable/user_guide/indexing.html#returning-a-view-versus-a-copy\n",
      "\n",
      "/tmp/ipykernel_726897/1618800006.py:3: SettingWithCopyWarning:\n",
      "\n",
      "\n",
      "A value is trying to be set on a copy of a slice from a DataFrame.\n",
      "Try using .loc[row_indexer,col_indexer] = value instead\n",
      "\n",
      "See the caveats in the documentation: https://pandas.pydata.org/pandas-docs/stable/user_guide/indexing.html#returning-a-view-versus-a-copy\n",
      "\n"
     ]
    },
    {
     "data": {
      "application/vnd.plotly.v1+json": {
       "config": {
        "plotlyServerURL": "https://plot.ly"
       },
       "data": [
        {
         "alignmentgroup": "True",
         "hovertemplate": "period=%{x}<br>count=%{y}<extra></extra>",
         "legendgroup": "",
         "marker": {
          "color": "gray",
          "pattern": {
           "shape": ""
          }
         },
         "name": "",
         "offsetgroup": "",
         "orientation": "v",
         "showlegend": false,
         "textposition": "auto",
         "type": "bar",
         "x": [
          "2016-03-01T00:00:00",
          "2015-02-01T00:00:00",
          "2014-12-01T00:00:00",
          "2015-07-01T00:00:00",
          "2016-01-01T00:00:00",
          "2014-07-01T00:00:00",
          "2016-12-01T00:00:00",
          "2015-01-01T00:00:00",
          "2016-02-01T00:00:00",
          "2016-07-01T00:00:00",
          "2015-05-01T00:00:00",
          "2015-12-01T00:00:00",
          "2015-06-01T00:00:00",
          "2015-09-01T00:00:00",
          "2016-05-01T00:00:00",
          "2015-10-01T00:00:00",
          "2016-09-01T00:00:00",
          "2017-01-01T00:00:00",
          "2015-08-01T00:00:00",
          "2014-09-01T00:00:00",
          "2014-03-01T00:00:00",
          "2016-06-01T00:00:00",
          "2014-08-01T00:00:00",
          "2016-08-01T00:00:00",
          "2015-04-01T00:00:00",
          "2013-01-01T00:00:00",
          "2015-03-01T00:00:00",
          "2017-02-01T00:00:00",
          "2018-03-01T00:00:00",
          "2018-01-01T00:00:00",
          "2014-11-01T00:00:00",
          "2017-03-01T00:00:00",
          "2016-04-01T00:00:00",
          "2016-11-01T00:00:00",
          "2014-02-01T00:00:00",
          "2012-12-01T00:00:00",
          "2018-02-01T00:00:00",
          "2017-05-01T00:00:00",
          "2014-10-01T00:00:00",
          "2016-10-01T00:00:00",
          "2013-02-01T00:00:00",
          "2017-04-01T00:00:00",
          "2017-09-01T00:00:00",
          "2013-04-01T00:00:00",
          "2013-05-01T00:00:00",
          "2013-12-01T00:00:00",
          "2018-06-01T00:00:00",
          "2018-04-01T00:00:00",
          "2017-07-01T00:00:00",
          "2017-08-01T00:00:00",
          "2017-06-01T00:00:00",
          "2018-05-01T00:00:00",
          "2015-11-01T00:00:00",
          "2014-04-01T00:00:00",
          "2013-03-01T00:00:00",
          "2013-08-01T00:00:00",
          "2017-11-01T00:00:00",
          "2014-01-01T00:00:00",
          "2014-05-01T00:00:00",
          "2013-10-01T00:00:00",
          "2017-12-01T00:00:00",
          "2013-06-01T00:00:00",
          "2012-08-01T00:00:00",
          "2017-10-01T00:00:00",
          "2013-11-01T00:00:00",
          "2013-09-01T00:00:00",
          "2012-11-01T00:00:00",
          "2011-12-01T00:00:00",
          "2014-06-01T00:00:00",
          "2018-07-01T00:00:00",
          "2012-04-01T00:00:00",
          "2012-07-01T00:00:00",
          "2013-07-01T00:00:00",
          "2012-02-01T00:00:00",
          "2012-10-01T00:00:00",
          "2012-03-01T00:00:00",
          "2012-09-01T00:00:00",
          "2011-11-01T00:00:00",
          "2011-10-01T00:00:00",
          "2011-08-01T00:00:00",
          "2012-05-01T00:00:00",
          "2018-08-01T00:00:00",
          "2018-09-01T00:00:00",
          "2012-06-01T00:00:00",
          "2010-08-01T00:00:00",
          "2011-07-01T00:00:00",
          "2010-12-01T00:00:00",
          "2011-05-01T00:00:00",
          "2010-10-01T00:00:00",
          "2010-01-01T00:00:00",
          "2011-09-01T00:00:00",
          "2010-06-01T00:00:00",
          "2010-11-01T00:00:00",
          "2011-03-01T00:00:00",
          "2009-12-01T00:00:00",
          "2011-01-01T00:00:00",
          "2012-01-01T00:00:00",
          "2010-04-01T00:00:00",
          "2007-10-01T00:00:00",
          "2011-06-01T00:00:00",
          "2010-02-01T00:00:00",
          "2011-04-01T00:00:00",
          "2009-02-01T00:00:00",
          "2009-11-01T00:00:00",
          "2008-09-01T00:00:00",
          "2010-09-01T00:00:00",
          "2011-02-01T00:00:00",
          "2010-03-01T00:00:00"
         ],
         "xaxis": "x",
         "y": [
          55,
          55,
          52,
          51,
          51,
          49,
          49,
          49,
          47,
          47,
          45,
          44,
          44,
          44,
          44,
          44,
          44,
          42,
          42,
          40,
          40,
          39,
          38,
          38,
          37,
          36,
          36,
          36,
          35,
          35,
          35,
          35,
          33,
          33,
          32,
          32,
          32,
          31,
          30,
          30,
          29,
          29,
          29,
          28,
          27,
          27,
          27,
          26,
          26,
          26,
          26,
          24,
          24,
          24,
          23,
          23,
          22,
          22,
          21,
          19,
          19,
          18,
          18,
          17,
          17,
          16,
          14,
          14,
          14,
          13,
          12,
          12,
          12,
          11,
          10,
          9,
          8,
          8,
          7,
          7,
          7,
          5,
          4,
          4,
          4,
          3,
          3,
          3,
          3,
          3,
          3,
          2,
          2,
          2,
          2,
          2,
          2,
          2,
          1,
          1,
          1,
          1,
          1,
          1,
          1,
          1,
          1,
          1
         ],
         "yaxis": "y"
        }
       ],
       "layout": {
        "barmode": "relative",
        "legend": {
         "tracegroupgap": 0
        },
        "margin": {
         "t": 60
        },
        "template": {
         "data": {
          "bar": [
           {
            "error_x": {
             "color": "#2a3f5f"
            },
            "error_y": {
             "color": "#2a3f5f"
            },
            "marker": {
             "line": {
              "color": "#E5ECF6",
              "width": 0.5
             },
             "pattern": {
              "fillmode": "overlay",
              "size": 10,
              "solidity": 0.2
             }
            },
            "type": "bar"
           }
          ],
          "barpolar": [
           {
            "marker": {
             "line": {
              "color": "#E5ECF6",
              "width": 0.5
             },
             "pattern": {
              "fillmode": "overlay",
              "size": 10,
              "solidity": 0.2
             }
            },
            "type": "barpolar"
           }
          ],
          "carpet": [
           {
            "aaxis": {
             "endlinecolor": "#2a3f5f",
             "gridcolor": "white",
             "linecolor": "white",
             "minorgridcolor": "white",
             "startlinecolor": "#2a3f5f"
            },
            "baxis": {
             "endlinecolor": "#2a3f5f",
             "gridcolor": "white",
             "linecolor": "white",
             "minorgridcolor": "white",
             "startlinecolor": "#2a3f5f"
            },
            "type": "carpet"
           }
          ],
          "choropleth": [
           {
            "colorbar": {
             "outlinewidth": 0,
             "ticks": ""
            },
            "type": "choropleth"
           }
          ],
          "contour": [
           {
            "colorbar": {
             "outlinewidth": 0,
             "ticks": ""
            },
            "colorscale": [
             [
              0,
              "#0d0887"
             ],
             [
              0.1111111111111111,
              "#46039f"
             ],
             [
              0.2222222222222222,
              "#7201a8"
             ],
             [
              0.3333333333333333,
              "#9c179e"
             ],
             [
              0.4444444444444444,
              "#bd3786"
             ],
             [
              0.5555555555555556,
              "#d8576b"
             ],
             [
              0.6666666666666666,
              "#ed7953"
             ],
             [
              0.7777777777777778,
              "#fb9f3a"
             ],
             [
              0.8888888888888888,
              "#fdca26"
             ],
             [
              1,
              "#f0f921"
             ]
            ],
            "type": "contour"
           }
          ],
          "contourcarpet": [
           {
            "colorbar": {
             "outlinewidth": 0,
             "ticks": ""
            },
            "type": "contourcarpet"
           }
          ],
          "heatmap": [
           {
            "colorbar": {
             "outlinewidth": 0,
             "ticks": ""
            },
            "colorscale": [
             [
              0,
              "#0d0887"
             ],
             [
              0.1111111111111111,
              "#46039f"
             ],
             [
              0.2222222222222222,
              "#7201a8"
             ],
             [
              0.3333333333333333,
              "#9c179e"
             ],
             [
              0.4444444444444444,
              "#bd3786"
             ],
             [
              0.5555555555555556,
              "#d8576b"
             ],
             [
              0.6666666666666666,
              "#ed7953"
             ],
             [
              0.7777777777777778,
              "#fb9f3a"
             ],
             [
              0.8888888888888888,
              "#fdca26"
             ],
             [
              1,
              "#f0f921"
             ]
            ],
            "type": "heatmap"
           }
          ],
          "heatmapgl": [
           {
            "colorbar": {
             "outlinewidth": 0,
             "ticks": ""
            },
            "colorscale": [
             [
              0,
              "#0d0887"
             ],
             [
              0.1111111111111111,
              "#46039f"
             ],
             [
              0.2222222222222222,
              "#7201a8"
             ],
             [
              0.3333333333333333,
              "#9c179e"
             ],
             [
              0.4444444444444444,
              "#bd3786"
             ],
             [
              0.5555555555555556,
              "#d8576b"
             ],
             [
              0.6666666666666666,
              "#ed7953"
             ],
             [
              0.7777777777777778,
              "#fb9f3a"
             ],
             [
              0.8888888888888888,
              "#fdca26"
             ],
             [
              1,
              "#f0f921"
             ]
            ],
            "type": "heatmapgl"
           }
          ],
          "histogram": [
           {
            "marker": {
             "pattern": {
              "fillmode": "overlay",
              "size": 10,
              "solidity": 0.2
             }
            },
            "type": "histogram"
           }
          ],
          "histogram2d": [
           {
            "colorbar": {
             "outlinewidth": 0,
             "ticks": ""
            },
            "colorscale": [
             [
              0,
              "#0d0887"
             ],
             [
              0.1111111111111111,
              "#46039f"
             ],
             [
              0.2222222222222222,
              "#7201a8"
             ],
             [
              0.3333333333333333,
              "#9c179e"
             ],
             [
              0.4444444444444444,
              "#bd3786"
             ],
             [
              0.5555555555555556,
              "#d8576b"
             ],
             [
              0.6666666666666666,
              "#ed7953"
             ],
             [
              0.7777777777777778,
              "#fb9f3a"
             ],
             [
              0.8888888888888888,
              "#fdca26"
             ],
             [
              1,
              "#f0f921"
             ]
            ],
            "type": "histogram2d"
           }
          ],
          "histogram2dcontour": [
           {
            "colorbar": {
             "outlinewidth": 0,
             "ticks": ""
            },
            "colorscale": [
             [
              0,
              "#0d0887"
             ],
             [
              0.1111111111111111,
              "#46039f"
             ],
             [
              0.2222222222222222,
              "#7201a8"
             ],
             [
              0.3333333333333333,
              "#9c179e"
             ],
             [
              0.4444444444444444,
              "#bd3786"
             ],
             [
              0.5555555555555556,
              "#d8576b"
             ],
             [
              0.6666666666666666,
              "#ed7953"
             ],
             [
              0.7777777777777778,
              "#fb9f3a"
             ],
             [
              0.8888888888888888,
              "#fdca26"
             ],
             [
              1,
              "#f0f921"
             ]
            ],
            "type": "histogram2dcontour"
           }
          ],
          "mesh3d": [
           {
            "colorbar": {
             "outlinewidth": 0,
             "ticks": ""
            },
            "type": "mesh3d"
           }
          ],
          "parcoords": [
           {
            "line": {
             "colorbar": {
              "outlinewidth": 0,
              "ticks": ""
             }
            },
            "type": "parcoords"
           }
          ],
          "pie": [
           {
            "automargin": true,
            "type": "pie"
           }
          ],
          "scatter": [
           {
            "fillpattern": {
             "fillmode": "overlay",
             "size": 10,
             "solidity": 0.2
            },
            "type": "scatter"
           }
          ],
          "scatter3d": [
           {
            "line": {
             "colorbar": {
              "outlinewidth": 0,
              "ticks": ""
             }
            },
            "marker": {
             "colorbar": {
              "outlinewidth": 0,
              "ticks": ""
             }
            },
            "type": "scatter3d"
           }
          ],
          "scattercarpet": [
           {
            "marker": {
             "colorbar": {
              "outlinewidth": 0,
              "ticks": ""
             }
            },
            "type": "scattercarpet"
           }
          ],
          "scattergeo": [
           {
            "marker": {
             "colorbar": {
              "outlinewidth": 0,
              "ticks": ""
             }
            },
            "type": "scattergeo"
           }
          ],
          "scattergl": [
           {
            "marker": {
             "colorbar": {
              "outlinewidth": 0,
              "ticks": ""
             }
            },
            "type": "scattergl"
           }
          ],
          "scattermapbox": [
           {
            "marker": {
             "colorbar": {
              "outlinewidth": 0,
              "ticks": ""
             }
            },
            "type": "scattermapbox"
           }
          ],
          "scatterpolar": [
           {
            "marker": {
             "colorbar": {
              "outlinewidth": 0,
              "ticks": ""
             }
            },
            "type": "scatterpolar"
           }
          ],
          "scatterpolargl": [
           {
            "marker": {
             "colorbar": {
              "outlinewidth": 0,
              "ticks": ""
             }
            },
            "type": "scatterpolargl"
           }
          ],
          "scatterternary": [
           {
            "marker": {
             "colorbar": {
              "outlinewidth": 0,
              "ticks": ""
             }
            },
            "type": "scatterternary"
           }
          ],
          "surface": [
           {
            "colorbar": {
             "outlinewidth": 0,
             "ticks": ""
            },
            "colorscale": [
             [
              0,
              "#0d0887"
             ],
             [
              0.1111111111111111,
              "#46039f"
             ],
             [
              0.2222222222222222,
              "#7201a8"
             ],
             [
              0.3333333333333333,
              "#9c179e"
             ],
             [
              0.4444444444444444,
              "#bd3786"
             ],
             [
              0.5555555555555556,
              "#d8576b"
             ],
             [
              0.6666666666666666,
              "#ed7953"
             ],
             [
              0.7777777777777778,
              "#fb9f3a"
             ],
             [
              0.8888888888888888,
              "#fdca26"
             ],
             [
              1,
              "#f0f921"
             ]
            ],
            "type": "surface"
           }
          ],
          "table": [
           {
            "cells": {
             "fill": {
              "color": "#EBF0F8"
             },
             "line": {
              "color": "white"
             }
            },
            "header": {
             "fill": {
              "color": "#C8D4E3"
             },
             "line": {
              "color": "white"
             }
            },
            "type": "table"
           }
          ]
         },
         "layout": {
          "annotationdefaults": {
           "arrowcolor": "#2a3f5f",
           "arrowhead": 0,
           "arrowwidth": 1
          },
          "autotypenumbers": "strict",
          "coloraxis": {
           "colorbar": {
            "outlinewidth": 0,
            "ticks": ""
           }
          },
          "colorscale": {
           "diverging": [
            [
             0,
             "#8e0152"
            ],
            [
             0.1,
             "#c51b7d"
            ],
            [
             0.2,
             "#de77ae"
            ],
            [
             0.3,
             "#f1b6da"
            ],
            [
             0.4,
             "#fde0ef"
            ],
            [
             0.5,
             "#f7f7f7"
            ],
            [
             0.6,
             "#e6f5d0"
            ],
            [
             0.7,
             "#b8e186"
            ],
            [
             0.8,
             "#7fbc41"
            ],
            [
             0.9,
             "#4d9221"
            ],
            [
             1,
             "#276419"
            ]
           ],
           "sequential": [
            [
             0,
             "#0d0887"
            ],
            [
             0.1111111111111111,
             "#46039f"
            ],
            [
             0.2222222222222222,
             "#7201a8"
            ],
            [
             0.3333333333333333,
             "#9c179e"
            ],
            [
             0.4444444444444444,
             "#bd3786"
            ],
            [
             0.5555555555555556,
             "#d8576b"
            ],
            [
             0.6666666666666666,
             "#ed7953"
            ],
            [
             0.7777777777777778,
             "#fb9f3a"
            ],
            [
             0.8888888888888888,
             "#fdca26"
            ],
            [
             1,
             "#f0f921"
            ]
           ],
           "sequentialminus": [
            [
             0,
             "#0d0887"
            ],
            [
             0.1111111111111111,
             "#46039f"
            ],
            [
             0.2222222222222222,
             "#7201a8"
            ],
            [
             0.3333333333333333,
             "#9c179e"
            ],
            [
             0.4444444444444444,
             "#bd3786"
            ],
            [
             0.5555555555555556,
             "#d8576b"
            ],
            [
             0.6666666666666666,
             "#ed7953"
            ],
            [
             0.7777777777777778,
             "#fb9f3a"
            ],
            [
             0.8888888888888888,
             "#fdca26"
            ],
            [
             1,
             "#f0f921"
            ]
           ]
          },
          "colorway": [
           "#636efa",
           "#EF553B",
           "#00cc96",
           "#ab63fa",
           "#FFA15A",
           "#19d3f3",
           "#FF6692",
           "#B6E880",
           "#FF97FF",
           "#FECB52"
          ],
          "font": {
           "color": "#2a3f5f"
          },
          "geo": {
           "bgcolor": "white",
           "lakecolor": "white",
           "landcolor": "#E5ECF6",
           "showlakes": true,
           "showland": true,
           "subunitcolor": "white"
          },
          "hoverlabel": {
           "align": "left"
          },
          "hovermode": "closest",
          "mapbox": {
           "style": "light"
          },
          "paper_bgcolor": "white",
          "plot_bgcolor": "#E5ECF6",
          "polar": {
           "angularaxis": {
            "gridcolor": "white",
            "linecolor": "white",
            "ticks": ""
           },
           "bgcolor": "#E5ECF6",
           "radialaxis": {
            "gridcolor": "white",
            "linecolor": "white",
            "ticks": ""
           }
          },
          "scene": {
           "xaxis": {
            "backgroundcolor": "#E5ECF6",
            "gridcolor": "white",
            "gridwidth": 2,
            "linecolor": "white",
            "showbackground": true,
            "ticks": "",
            "zerolinecolor": "white"
           },
           "yaxis": {
            "backgroundcolor": "#E5ECF6",
            "gridcolor": "white",
            "gridwidth": 2,
            "linecolor": "white",
            "showbackground": true,
            "ticks": "",
            "zerolinecolor": "white"
           },
           "zaxis": {
            "backgroundcolor": "#E5ECF6",
            "gridcolor": "white",
            "gridwidth": 2,
            "linecolor": "white",
            "showbackground": true,
            "ticks": "",
            "zerolinecolor": "white"
           }
          },
          "shapedefaults": {
           "line": {
            "color": "#2a3f5f"
           }
          },
          "ternary": {
           "aaxis": {
            "gridcolor": "white",
            "linecolor": "white",
            "ticks": ""
           },
           "baxis": {
            "gridcolor": "white",
            "linecolor": "white",
            "ticks": ""
           },
           "bgcolor": "#E5ECF6",
           "caxis": {
            "gridcolor": "white",
            "linecolor": "white",
            "ticks": ""
           }
          },
          "title": {
           "x": 0.05
          },
          "xaxis": {
           "automargin": true,
           "gridcolor": "white",
           "linecolor": "white",
           "ticks": "",
           "title": {
            "standoff": 15
           },
           "zerolinecolor": "white",
           "zerolinewidth": 2
          },
          "yaxis": {
           "automargin": true,
           "gridcolor": "white",
           "linecolor": "white",
           "ticks": "",
           "title": {
            "standoff": 15
           },
           "zerolinecolor": "white",
           "zerolinewidth": 2
          }
         }
        },
        "xaxis": {
         "anchor": "y",
         "domain": [
          0,
          1
         ],
         "title": {
          "text": "period"
         }
        },
        "yaxis": {
         "anchor": "x",
         "domain": [
          0,
          1
         ],
         "title": {
          "text": "count"
         }
        }
       }
      }
     },
     "metadata": {},
     "output_type": "display_data"
    }
   ],
   "source": [
    "period = 'M'\n",
    "corsair_df[\"period\"] = corsair_df[\"timestamp\"].dt.to_period(period)\n",
    "corsair_df[\"period\"] = corsair_df[\"period\"].dt.to_timestamp()\n",
    "\n",
    "x = pd.DataFrame(corsair_df[\"period\"].value_counts().reset_index().rename(columns={'index':'period', \"period\": \"count\"}))\n",
    "\n",
    "import plotly.express as px\n",
    "\n",
    "px.bar(x, x=\"period\", y=\"count\", color_discrete_sequence=['gray'])"
   ]
  },
  {
   "cell_type": "markdown",
   "metadata": {},
   "source": [
    "### Reviews Ratings (how satisfied customers feel with our brand products)"
   ]
  },
  {
   "cell_type": "code",
   "execution_count": 10,
   "metadata": {},
   "outputs": [
    {
     "name": "stdout",
     "output_type": "stream",
     "text": [
      "Average Rating: 4.53\n"
     ]
    },
    {
     "data": {
      "image/png": "[encoded data removed]",
      "text/plain": [
       "<Figure size 640x480 with 1 Axes>"
      ]
     },
     "metadata": {},
     "output_type": "display_data"
    }
   ],
   "source": [
    "rating_df = corsair_df[\"overall\"] \\\n",
    "    .value_counts(normalize=True) \\\n",
    "    .reset_index() \\\n",
    "    .rename(columns={'index':'rating', 'overall':'percentage'})\n",
    "\n",
    "rating_df = pd.DataFrame(rating_df)\n",
    "rating_df[\"rating\"] = rating_df[\"rating\"].astype(\"category\")\n",
    "rating_df['color'] = rating_df[\"rating\"].apply(\n",
    "    lambda x: \"blue\" if x == 5 else \"gray\"\n",
    ")\n",
    "\n",
    "barplot_palette = pd.DataFrame(rating_df.groupby(['rating', 'percentage'])['color'] \\\n",
    "    .value_counts()) \\\n",
    "    .rename(columns={'color':'count2'}) \\\n",
    "    .reset_index() \\\n",
    "    .sort_values(by='percentage')['color']\n",
    "\n",
    "sns.barplot(rating_df, y='percentage', x='rating', palette=barplot_palette)\n",
    "\n",
    "\n",
    "print(\"Average Rating: {:,.2f}\".format(corsair_df[\"overall\"].astype(\"float\").mean()))"
   ]
  },
  {
   "cell_type": "markdown",
   "metadata": {},
   "source": [
    "### Most Reviewed Categories (the main categories that our brand deals with)"
   ]
  },
  {
   "cell_type": "code",
   "execution_count": 11,
   "metadata": {},
   "outputs": [
    {
     "data": {
      "text/plain": [
       "<matplotlib.legend.Legend at 0x7f3e4823a050>"
      ]
     },
     "execution_count": 11,
     "metadata": {},
     "output_type": "execute_result"
    },
    {
     "data": {
      "image/png": "[encoded data removed]",
      "text/plain": [
       "<Figure size 1000x400 with 1 Axes>"
      ]
     },
     "metadata": {},
     "output_type": "display_data"
    }
   ],
   "source": [
    "fig = plt.figure(figsize=(10, 4))\n",
    "\n",
    "category_df = pd.DataFrame(corsair_df['category'] \\\n",
    "    .value_counts()) \\\n",
    "    .reset_index() \\\n",
    "    .rename(columns={'index':'category', 'category':'count'})\n",
    "\n",
    "category_df[category_df[\"count\"] <= 0] = np.nan\n",
    "category_df.dropna(inplace=True)\n",
    "category_df[\"category\"] = category_df[\"category\"].astype(\"category\")\n",
    "category_df[\"count\"] = category_df[\"count\"].astype(\"int\")\n",
    "\n",
    "\n",
    "category_df[\"color\"] = category_df[\"count\"].apply(\n",
    "    lambda x: \"blue\" if x == category_df[\"count\"].max() else \"gray\"\n",
    ")\n",
    "\n",
    "barplot_palette = pd.DataFrame(category_df.groupby(['category', 'count'])['color'] \\\n",
    "    .value_counts()) \\\n",
    "    .rename(columns={'color':'count2'}) \\\n",
    "    .reset_index() \\\n",
    "    .sort_values(by='count', ascending=False)['color']\n",
    "\n",
    "ax = sns.barplot(category_df, x='count', y='category', \n",
    "                order=category_df.sort_values(by='count', ascending=False)[\"category\"], palette=barplot_palette)\n",
    "fig.tight_layout()\n",
    "\n",
    "plt.legend([],[], frameon=False)"
   ]
  },
  {
   "cell_type": "markdown",
   "metadata": {},
   "source": [
    "### Compare Rating with Price (to see customer satisfaction based on product price)\n",
    "- there seems to be no correlation"
   ]
  },
  {
   "cell_type": "code",
   "execution_count": 213,
   "metadata": {},
   "outputs": [
    {
     "name": "stderr",
     "output_type": "stream",
     "text": [
      "/tmp/ipykernel_726897/2591443561.py:1: SettingWithCopyWarning:\n",
      "\n",
      "\n",
      "A value is trying to be set on a copy of a slice from a DataFrame.\n",
      "Try using .loc[row_indexer,col_indexer] = value instead\n",
      "\n",
      "See the caveats in the documentation: https://pandas.pydata.org/pandas-docs/stable/user_guide/indexing.html#returning-a-view-versus-a-copy\n",
      "\n"
     ]
    },
    {
     "name": "stdout",
     "output_type": "stream",
     "text": [
      "0.04633935563746454\n"
     ]
    },
    {
     "data": {
      "image/png": "[encoded data removed]",
      "text/plain": [
       "<Figure size 640x480 with 1 Axes>"
      ]
     },
     "metadata": {},
     "output_type": "display_data"
    }
   ],
   "source": [
    "x = corsair_df.groupby(\"asin\")['overall'].mean().reset_index()\n",
    "y = corsair_df[[\"asin\", \"price\"]].drop_duplicates()\n",
    "rp_df = pd.merge(x, y, on=\"asin\")\n",
    "rp_df['colors'] = ['gray' for item in rp_df['overall']]\n",
    "\n",
    "sns.scatterplot(rp_df, x=\"price\", y=\"overall\", hue='colors', palette=['gray'], legend=False)\n",
    "\n",
    "\n",
    "from scipy.stats import pearsonr\n",
    "corr, _ = pearsonr(rp_df['price'], rp_df['overall'])\n",
    "print(corr)"
   ]
  },
  {
   "cell_type": "markdown",
   "metadata": {},
   "source": [
    "### Number of Reviews per Price (telling us at what price people are more willing to buy)"
   ]
  },
  {
   "cell_type": "code",
   "execution_count": 13,
   "metadata": {},
   "outputs": [
    {
     "name": "stderr",
     "output_type": "stream",
     "text": [
      "/tmp/ipykernel_726897/1333658384.py:12: SettingWithCopyWarning:\n",
      "\n",
      "\n",
      "A value is trying to be set on a copy of a slice from a DataFrame.\n",
      "Try using .loc[row_indexer,col_indexer] = value instead\n",
      "\n",
      "See the caveats in the documentation: https://pandas.pydata.org/pandas-docs/stable/user_guide/indexing.html#returning-a-view-versus-a-copy\n",
      "\n",
      "/tmp/ipykernel_726897/1333658384.py:25: SettingWithCopyWarning:\n",
      "\n",
      "\n",
      "A value is trying to be set on a copy of a slice from a DataFrame.\n",
      "Try using .loc[row_indexer,col_indexer] = value instead\n",
      "\n",
      "See the caveats in the documentation: https://pandas.pydata.org/pandas-docs/stable/user_guide/indexing.html#returning-a-view-versus-a-copy\n",
      "\n"
     ]
    }
   ],
   "source": [
    "price_categories = pd.CategoricalDtype(\n",
    "    categories=[\n",
    "        \"Under \\$25\",\n",
    "        \"\\$25 to \\$50\",\n",
    "        \"\\$50 to \\$100\",\n",
    "        \"\\$100 to \\$200\",\n",
    "        \"\\$200 & Above\",\n",
    "    ],\n",
    "    ordered=True,\n",
    ")\n",
    "\n",
    "corsair_df[\"price\"] = corsair_df[\"price\"].apply(\n",
    "    lambda x: \"Under \\$25\"\n",
    "    if x < 25\n",
    "    else (\n",
    "        \"\\$25 to \\$50\"\n",
    "        if x < 50\n",
    "        else (\n",
    "            \"\\$50 to \\$100\"\n",
    "            if x < 100\n",
    "            else (\"\\$100 to \\$200\" if x < 200 else \"\\$200 & Above\")\n",
    "        )\n",
    "    )\n",
    ")\n",
    "corsair_df[\"price\"] = corsair_df[\"price\"].astype(price_categories)"
   ]
  },
  {
   "cell_type": "code",
   "execution_count": 14,
   "metadata": {},
   "outputs": [
    {
     "data": {
      "image/png": "[encoded data removed]",
      "text/plain": [
       "<Figure size 640x480 with 1 Axes>"
      ]
     },
     "metadata": {},
     "output_type": "display_data"
    }
   ],
   "source": [
    "price_palette = []\n",
    "categories=[\n",
    "    \"Under \\$25\",\n",
    "    \"\\$25 to \\$50\",\n",
    "    \"\\$50 to \\$100\",\n",
    "    \"\\$100 to \\$200\",\n",
    "    \"\\$200 & Above\",\n",
    "]\n",
    "for x in categories:\n",
    "    if x == \"Under \\$25\":\n",
    "        price_palette.append('blue')\n",
    "    else:\n",
    "        price_palette.append('gray')\n",
    "\n",
    "ax = sns.countplot(corsair_df, x='price', palette=price_palette)\n",
    "fig.tight_layout()"
   ]
  },
  {
   "cell_type": "markdown",
   "metadata": {},
   "source": [
    "### Corsairs' competitors\n",
    "- Most Reviewed Brands of the Memory Category\n",
    "- Most Reviewed Brands of the Fans & Cooling Category\n",
    "- Most Reviewed Brands of the Power Supplies Category\n",
    "- Most Reviewed Brands of the TV Tuner & Capture Cards Category"
   ]
  },
  {
   "cell_type": "code",
   "execution_count": 15,
   "metadata": {},
   "outputs": [
    {
     "data": {
      "image/png": "[encoded data removed]",
      "text/plain": [
       "<Figure size 1500x700 with 4 Axes>"
      ]
     },
     "metadata": {},
     "output_type": "display_data"
    }
   ],
   "source": [
    "def competitors_by_category(data_df, category, ax):\n",
    "    category_df = data_df[data_df['category'] == category]\n",
    "    mc_category_brands_df = pd.DataFrame(Counter(category_df[\"brand\"].tolist()).most_common(7)).reset_index().rename(columns={0:'brand', 1:'count'})\n",
    "\n",
    "    mc_category_brands_df['color'] = mc_category_brands_df[\"brand\"].apply(\n",
    "        lambda x: \"blue\" if x == 'corsair' else \"gray\"\n",
    "    )\n",
    "\n",
    "    barplot_palette = pd.DataFrame(mc_category_brands_df.groupby(['brand', 'count'])['color'] \\\n",
    "        .value_counts()) \\\n",
    "        .rename(columns={'color':'count2'}) \\\n",
    "        .reset_index() \\\n",
    "        .sort_values(by='count', ascending=False)['color']\n",
    "\n",
    "    plot = sns.barplot(mc_category_brands_df, x='count', y='brand',\n",
    "                    order=mc_category_brands_df.sort_values(by='count', ascending=False)[\"brand\"], palette=barplot_palette, ax=ax)\n",
    "    plot.set_title(f'Most Reviewed Brands In The {category} Category', fontsize = 10)\n",
    "    return plot\n",
    "\n",
    "fig, axes = plt.subplots(2, 2, figsize=(15, 7))\n",
    "axes = axes.flatten()\n",
    "competitors_by_category(data_df, 'Memory', axes[0])\n",
    "competitors_by_category(data_df, 'Fans & Cooling', axes[1])\n",
    "competitors_by_category(data_df, 'Power Supplies', axes[2])\n",
    "competitors_by_category(data_df, 'TV Tuner & Capture Cards', axes[3])\n",
    "fig.tight_layout()"
   ]
  },
  {
   "cell_type": "markdown",
   "metadata": {},
   "source": [
    "### Top 30 Most Common Votes (we can see how people usually don't vote on reviews or very few do)"
   ]
  },
  {
   "cell_type": "code",
   "execution_count": 42,
   "metadata": {},
   "outputs": [
    {
     "data": {
      "image/png": "[encoded data removed]",
      "text/plain": [
       "<Figure size 1000x500 with 1 Axes>"
      ]
     },
     "metadata": {},
     "output_type": "display_data"
    }
   ],
   "source": [
    "vote_df = pd.DataFrame(Counter(corsair_df['vote'].tolist()).most_common(30))\n",
    "vote_df[1] = vote_df[1] / vote_df[1].sum()\n",
    "\n",
    "vote_df[\"color\"] = vote_df[1].apply(\n",
    "    lambda x: \"blue\" if x == vote_df[1].max() else \"gray\"\n",
    ")\n",
    "\n",
    "fig, ax = plt.subplots(figsize=(10, 5))\n",
    "sns.barplot(x=vote_df[0], y=vote_df[1], ax=ax, palette=vote_df[\"color\"])\n",
    "fig.tight_layout()"
   ]
  },
  {
   "cell_type": "markdown",
   "metadata": {},
   "source": [
    "### Review Summary & Text"
   ]
  },
  {
   "cell_type": "markdown",
   "metadata": {},
   "source": [
    "##### Summary"
   ]
  },
  {
   "cell_type": "code",
   "execution_count": 17,
   "metadata": {},
   "outputs": [
    {
     "name": "stdout",
     "output_type": "stream",
     "text": [
      "Mean Review Summary Length: 26.0 characters\n",
      "\n",
      "Some Review Summary Examples:\n",
      "\n",
      "Happy!\n",
      "\n",
      "Five Stars\n",
      "\n",
      "Ordered for my Ryzen build follow AMD's mid launch release ...\n",
      "\n",
      "Would Buy Again\n",
      "\n",
      "Five Stars\n",
      "\n",
      "The Hot running Power Supply\n",
      "\n"
     ]
    }
   ],
   "source": [
    "text_lengths = corsair_df[\"summary\"].str.len()\n",
    "mean_length = np.round(np.mean(text_lengths))\n",
    "print(\"Mean Review Summary Length:\", mean_length, \"characters\\n\")\n",
    "\n",
    "print(\"Some Review Summary Examples:\\n\")\n",
    "\n",
    "k = 5\n",
    "for x in corsair_df[\"summary\"]:\n",
    "    if k < 0:\n",
    "        break\n",
    "    else:\n",
    "        print(x + '\\n')\n",
    "        k = k - 1"
   ]
  },
  {
   "cell_type": "code",
   "execution_count": 47,
   "metadata": {},
   "outputs": [
    {
     "name": "stderr",
     "output_type": "stream",
     "text": [
      "/home/lfx/Desktop/amazon-reviews/venv/lib/python3.10/site-packages/seaborn/distributions.py:499: FutureWarning:\n",
      "\n",
      "In a future version, the Index constructor will not infer numeric dtypes when passed object-dtype sequences (matching Series behavior)\n",
      "\n",
      "/home/lfx/Desktop/amazon-reviews/venv/lib/python3.10/site-packages/seaborn/distributions.py:500: FutureWarning:\n",
      "\n",
      "In a future version, the Index constructor will not infer numeric dtypes when passed object-dtype sequences (matching Series behavior)\n",
      "\n"
     ]
    },
    {
     "data": {
      "image/png": "[encoded data removed]",
      "text/plain": [
       "<Figure size 1000x400 with 1 Axes>"
      ]
     },
     "metadata": {},
     "output_type": "display_data"
    }
   ],
   "source": [
    "fig, ax = plt.subplots(figsize=(10, 4))\n",
    "sns.histplot(x=corsair_df[\"summary\"].str.len(), stat=\"percent\", bins=50, ax=ax, color='gray')\n",
    "\n",
    "ax.set_xlim([0, 200])\n",
    "ax.set_xticks(range(0, 205, 5))\n",
    "fig.tight_layout()"
   ]
  },
  {
   "cell_type": "markdown",
   "metadata": {},
   "source": [
    "##### Text"
   ]
  },
  {
   "cell_type": "code",
   "execution_count": 19,
   "metadata": {},
   "outputs": [
    {
     "name": "stdout",
     "output_type": "stream",
     "text": [
      "Mean Review Text Length: 278.0 characters\n",
      "\n",
      "Some Review Text Examples:\n",
      "\n",
      "Works easily to import VHS and 8mm home movies to my Mac. I'm very happy to feel secure knowing my videos are preserved.\n",
      "\n",
      "lots of power whisper quiet\n",
      "\n",
      "Ordered for my Ryzen build follow AMD's mid launch release, current bios won't get it up to full speed but newer bios do.\n",
      "\n",
      "Great Fans Look Awesome On My Case , Arrived On Time And Were very easy to install\n",
      "\n",
      "Works perfectly as it said It would.\n",
      "\n",
      "Gives you the amount of power you need, but the fan starts only when this unit is really hot! Do not understand why the design criteria was like that. Why let a 1000 watt power supply run that hot before turning the cooling fan on? I'm planning to open the power supply and try to lower the setting where the fan turns on, Now it's around 50 degree Celsius I will try to set it at 30 degrees Celsius.\n",
      "Other the the temp issue, you can buy this power supply.\n",
      "\n"
     ]
    }
   ],
   "source": [
    "text_lengths = corsair_df[\"text\"].str.len()\n",
    "mean_length = np.round(np.mean(text_lengths))\n",
    "print(\"Mean Review Text Length:\", mean_length, \"characters\\n\")\n",
    "\n",
    "print(\"Some Review Text Examples:\\n\")\n",
    "\n",
    "k = 5\n",
    "for x in corsair_df[\"text\"]:\n",
    "    if k < 0:\n",
    "        break\n",
    "    else:\n",
    "        print(x + '\\n')\n",
    "        k = k - 1"
   ]
  },
  {
   "cell_type": "code",
   "execution_count": 45,
   "metadata": {},
   "outputs": [
    {
     "name": "stderr",
     "output_type": "stream",
     "text": [
      "/home/lfx/Desktop/amazon-reviews/venv/lib/python3.10/site-packages/seaborn/distributions.py:499: FutureWarning:\n",
      "\n",
      "In a future version, the Index constructor will not infer numeric dtypes when passed object-dtype sequences (matching Series behavior)\n",
      "\n",
      "/home/lfx/Desktop/amazon-reviews/venv/lib/python3.10/site-packages/seaborn/distributions.py:500: FutureWarning:\n",
      "\n",
      "In a future version, the Index constructor will not infer numeric dtypes when passed object-dtype sequences (matching Series behavior)\n",
      "\n"
     ]
    },
    {
     "data": {
      "image/png": "[encoded data removed]",
      "text/plain": [
       "<Figure size 1000x400 with 1 Axes>"
      ]
     },
     "metadata": {},
     "output_type": "display_data"
    }
   ],
   "source": [
    "fig, ax = plt.subplots(figsize=(10, 4))\n",
    "sns.histplot(text_lengths, stat=\"percent\", bins=250, ax=ax, color='gray')\n",
    "ax.set_xlim([0, np.max(text_lengths)])\n",
    "fig.tight_layout()"
   ]
  }
 ],
 "metadata": {
  "interpreter": {
   "hash": "2ce6ec2e4b6a5ff97b7d971429414c7b0e6b53095546745f3a5e17ba202567f8"
  },
  "kernelspec": {
   "display_name": "Python 3.10.5 ('venv': venv)",
   "language": "python",
   "name": "python3"
  },
  "language_info": {
   "codemirror_mode": {
    "name": "ipython",
    "version": 3
   },
   "file_extension": ".py",
   "mimetype": "text/x-python",
   "name": "python",
   "nbconvert_exporter": "python",
   "pygments_lexer": "ipython3",
   "version": "3.10.5"
  },
  "orig_nbformat": 4
 },
 "nbformat": 4,
 "nbformat_minor": 2
}
