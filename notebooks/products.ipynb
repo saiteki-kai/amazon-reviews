{
 "cells": [
  {
   "cell_type": "markdown",
   "metadata": {},
   "source": [
    "# Products Analysis"
   ]
  },
  {
   "cell_type": "code",
   "execution_count": 3,
   "metadata": {},
   "outputs": [
    {
     "name": "stdout",
     "output_type": "stream",
     "text": [
      "<class 'pandas.core.frame.DataFrame'>\n",
      "RangeIndex: 8646 entries, 0 to 8645\n",
      "Data columns (total 8 columns):\n",
      " #   Column       Non-Null Count  Dtype \n",
      "---  ------       --------------  ----- \n",
      " 0   category     8646 non-null   object\n",
      " 1   description  8646 non-null   object\n",
      " 2   title        8646 non-null   object\n",
      " 3   brand        8646 non-null   object\n",
      " 4   main_cat     8646 non-null   object\n",
      " 5   date         8646 non-null   object\n",
      " 6   price        8646 non-null   object\n",
      " 7   asin         8646 non-null   object\n",
      "dtypes: object(8)\n",
      "memory usage: 540.5+ KB\n"
     ]
    }
   ],
   "source": [
    "import pandas as pd\n",
    "\n",
    "import sys;\n",
    "sys.path.append('..')\n",
    "from reviews.config import processed_data_dir\n",
    "\n",
    "prod_df = pd.read_json(processed_data_dir / \"meta_digital_cameras.json.gz\")\n",
    "prod_df.info()"
   ]
  },
  {
   "cell_type": "code",
   "execution_count": 3,
   "metadata": {},
   "outputs": [],
   "source": [
    "prod_df[\"brand\"] = prod_df[\"brand\"].astype(\"category\")\n",
    "prod_df[\"main_cat\"] = prod_df[\"main_cat\"].astype(\"category\")\n",
    "prod_df[\"price\"] = prod_df[\"price\"].astype(\"string\")"
   ]
  },
  {
   "cell_type": "code",
   "execution_count": 4,
   "metadata": {},
   "outputs": [
    {
     "data": {
      "text/plain": [
       "           6444\n",
       "$500.00      72\n",
       "$7.78        31\n",
       "$63.82       29\n",
       "$76.30       22\n",
       "           ... \n",
       "$557.00       1\n",
       "$47.85        1\n",
       "$35.62        1\n",
       "$51.60        1\n",
       "$45.21        1\n",
       "Name: price, Length: 1403, dtype: Int64"
      ]
     },
     "execution_count": 4,
     "metadata": {},
     "output_type": "execute_result"
    }
   ],
   "source": [
    "# remove invalid prices\n",
    "prod_df[\"price\"].loc[prod_df[\"price\"].str.len() > 20] = None\n",
    "prod_df[\"price\"].value_counts()"
   ]
  }
 ],
 "metadata": {
  "kernelspec": {
   "display_name": "Python 3.10.4 ('venv': venv)",
   "language": "python",
   "name": "python3"
  },
  "language_info": {
   "codemirror_mode": {
    "name": "ipython",
    "version": 3
   },
   "file_extension": ".py",
   "mimetype": "text/x-python",
   "name": "python",
   "nbconvert_exporter": "python",
   "pygments_lexer": "ipython3",
   "version": "3.10.4"
  },
  "orig_nbformat": 4,
  "vscode": {
   "interpreter": {
    "hash": "a8059aea9275d31c4f57910b0cd5d798f7e277db241df59449f05bd1ee6032ee"
   }
  }
 },
 "nbformat": 4,
 "nbformat_minor": 2
}
