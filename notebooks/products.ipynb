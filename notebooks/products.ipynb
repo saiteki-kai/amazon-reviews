{
 "cells": [
  {
   "cell_type": "markdown",
   "metadata": {},
   "source": [
    "# Products Analysis"
   ]
  },
  {
   "cell_type": "code",
   "execution_count": null,
   "metadata": {},
   "outputs": [],
   "source": [
    "import pandas as pd\n",
    "from reviews.config import processed_data_dir\n",
    "\n",
    "prod_df = pd.read_json(processed_data_dir / \"meta_digital_cameras.json.gz\")"
   ]
  },
  {
   "cell_type": "code",
   "execution_count": null,
   "metadata": {},
   "outputs": [],
   "source": [
    "prod_df.info()"
   ]
  },
  {
   "cell_type": "code",
   "execution_count": null,
   "metadata": {},
   "outputs": [],
   "source": [
    "prod_df.head(10)"
   ]
  },
  {
   "cell_type": "code",
   "execution_count": null,
   "metadata": {},
   "outputs": [],
   "source": [
    "# remove possible html tags\n",
    "from reviews.preprocess import strip_html\n",
    "for attr in prod_df.columns:\n",
    "    prod_df[attr] = prod_df[attr].astype(\"string\").apply(strip_html)"
   ]
  },
  {
   "cell_type": "code",
   "execution_count": null,
   "metadata": {},
   "outputs": [],
   "source": [
    "# transform category and description from list of string to string\n",
    "prod_df[\"category\"] = prod_df[\"category\"].transform(lambda x: ' '.join(x)).astype(\"string\")\n",
    "prod_df[\"description\"] = prod_df[\"description\"].transform(lambda x: ' '.join(x)).astype(\"string\")\n",
    "\n",
    "# convert price to float\n",
    "# remove invalid prices (html broken)\n",
    "# set to zero all invalid prices\n",
    "prod_df[\"price\"].loc[prod_df[\"price\"].astype(\"string\").str.len() > 20] = '-1'\n",
    "prod_df[\"price\"].loc[prod_df[\"price\"].astype(\"string\").str.len() == 0] = '-1'\n",
    "prod_df[\"price\"] = prod_df[\"price\"].astype(\"string\").str.replace('$', '').str.replace(',', '').astype(\"float\")\n",
    "\n",
    "# transform to string\n",
    "prod_df[\"title\"] = prod_df[\"title\"].astype(\"string\")\n",
    "prod_df[\"date\"] = prod_df[\"date\"].astype(\"string\")\n",
    "prod_df[\"asin\"] = prod_df[\"asin\"].astype(\"string\")\n",
    "\n",
    "# transform to category\n",
    "prod_df[\"category\"] = prod_df[\"category\"].astype(\"category\")\n",
    "prod_df[\"brand\"] = prod_df[\"brand\"].astype(\"category\")\n",
    "prod_df[\"main_cat\"] = prod_df[\"main_cat\"].astype(\"category\")"
   ]
  },
  {
   "cell_type": "code",
   "execution_count": null,
   "metadata": {},
   "outputs": [],
   "source": [
    "# remove duplicates\n",
    "prod_df.drop_duplicates(inplace=True)"
   ]
  },
  {
   "cell_type": "code",
   "execution_count": null,
   "metadata": {},
   "outputs": [],
   "source": [
    "# count empty attributes\n",
    "\n",
    "empty_category = prod_df.loc[prod_df[\"category\"] == '']\n",
    "empty_brand = prod_df.loc[prod_df[\"brand\"] == '']\n",
    "empty_main_cat = prod_df.loc[prod_df[\"main_cat\"] == '']\n",
    "\n",
    "empty_description = prod_df.loc[prod_df[\"description\"].str.len() == 0]\n",
    "empty_title = prod_df.loc[prod_df[\"title\"].str.len() == 0]\n",
    "empty_date = prod_df.loc[prod_df[\"date\"].str.len() == 0]\n",
    "empty_price = prod_df.loc[prod_df[\"price\"] == -1]\n",
    "empty_asin = prod_df.loc[prod_df[\"asin\"].str.len() == 0]\n",
    "\n",
    "counts_empty_fields = [\n",
    "    len(empty_category),\n",
    "    len(empty_description),\n",
    "    len(empty_title),\n",
    "    len(empty_brand),\n",
    "    len(empty_main_cat),\n",
    "    len(empty_date),\n",
    "    len(empty_price),\n",
    "    len(empty_asin)\n",
    "]\n",
    "\n",
    "print(dict(zip(list(prod_df.columns), counts_empty_fields)))"
   ]
  },
  {
   "cell_type": "code",
   "execution_count": null,
   "metadata": {},
   "outputs": [],
   "source": [
    "# drop price column\n",
    "prod_df.drop('price', axis=1, inplace=True)\n",
    "\n",
    "# remove all rows for empty (brand, main_cat, date)\n",
    "prod_df = prod_df.loc[prod_df[\"brand\"] != '']\n",
    "prod_df = prod_df.loc[prod_df[\"main_cat\"] != '']\n",
    "prod_df = prod_df.loc[prod_df[\"date\"] != '']"
   ]
  },
  {
   "cell_type": "code",
   "execution_count": null,
   "metadata": {},
   "outputs": [],
   "source": [
    "# count empty attributes\n",
    "empty_category = prod_df.loc[prod_df[\"category\"] == '']\n",
    "empty_brand = prod_df.loc[prod_df[\"brand\"] == '']\n",
    "empty_main_cat = prod_df.loc[prod_df[\"main_cat\"] == '']\n",
    "\n",
    "empty_description = prod_df.loc[prod_df[\"description\"].str.len() == 0]\n",
    "empty_title = prod_df.loc[prod_df[\"title\"].str.len() == 0]\n",
    "empty_date = prod_df.loc[prod_df[\"date\"].str.len() == 0]\n",
    "empty_asin = prod_df.loc[prod_df[\"asin\"].str.len() == 0]\n",
    "\n",
    "counts_empty_fields = [\n",
    "    len(empty_category),\n",
    "    len(empty_description),\n",
    "    len(empty_title),\n",
    "    len(empty_brand),\n",
    "    len(empty_main_cat),\n",
    "    len(empty_date),\n",
    "    len(empty_asin)\n",
    "]\n",
    "\n",
    "print(dict(zip(list(prod_df.columns), counts_empty_fields)))"
   ]
  },
  {
   "cell_type": "code",
   "execution_count": null,
   "metadata": {},
   "outputs": [],
   "source": [
    "prod_df.head(20)"
   ]
  },
  {
   "cell_type": "code",
   "execution_count": null,
   "metadata": {},
   "outputs": [],
   "source": [
    "import seaborn as sns\n",
    "import numpy as np\n",
    "import matplotlib.pyplot as plt\n",
    "from collections import Counter\n",
    "from wordcloud import WordCloud\n",
    "\n",
    "c = Counter(list(prod_df['brand']))\n",
    "w = WordCloud(width=800, height=400, background_color=\"white\").fit_words(c)\n",
    "w.to_image()"
   ]
  },
  {
   "cell_type": "code",
   "execution_count": null,
   "metadata": {},
   "outputs": [],
   "source": [
    "prod_df['main_cat'].astype('string').value_counts()"
   ]
  },
  {
   "cell_type": "code",
   "execution_count": null,
   "metadata": {},
   "outputs": [],
   "source": [
    "prod_df['category'].astype('string').value_counts()"
   ]
  }
 ],
 "metadata": {
  "kernelspec": {
   "display_name": "Python 3.10.4 ('venv': venv)",
   "language": "python",
   "name": "python3"
  },
  "language_info": {
   "codemirror_mode": {
    "name": "ipython",
    "version": 3
   },
   "file_extension": ".py",
   "mimetype": "text/x-python",
   "name": "python",
   "nbconvert_exporter": "python",
   "pygments_lexer": "ipython3",
   "version": "3.10.4"
  },
  "vscode": {
   "interpreter": {
    "hash": "d5612a16ccaf4c3fb4cfcdb0e5985a4869a17ac33fc51daeb1c4e0cb99779cee"
   }
  }
 },
 "nbformat": 4,
 "nbformat_minor": 2
}
