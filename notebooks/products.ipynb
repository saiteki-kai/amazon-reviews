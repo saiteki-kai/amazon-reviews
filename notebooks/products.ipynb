{
 "cells": [
  {
   "cell_type": "markdown",
   "metadata": {},
   "source": [
    "# Products Analysis"
   ]
  },
  {
   "cell_type": "code",
   "execution_count": null,
   "metadata": {},
   "outputs": [],
   "source": [
    "import pandas as pd\n",
    "\n",
    "from reviews.config import processed_data_dir\n",
    "\n",
    "prod_df = pd.read_json(processed_data_dir / \"meta_digital_cameras.json.gz\")\n",
    "prod_df.info()"
   ]
  },
  {
   "cell_type": "code",
   "execution_count": null,
   "metadata": {},
   "outputs": [],
   "source": [
    "prod_df[\"brand\"] = prod_df[\"brand\"].astype(\"category\")\n",
    "prod_df[\"main_cat\"] = prod_df[\"main_cat\"].astype(\"category\")\n",
    "prod_df[\"price\"] = prod_df[\"price\"].astype(\"string\")"
   ]
  },
  {
   "cell_type": "code",
   "execution_count": null,
   "metadata": {},
   "outputs": [],
   "source": [
    "# remove invalid prices\n",
    "prod_df[\"price\"].loc[prod_df[\"price\"].str.len() > 20] = None\n",
    "prod_df[\"price\"].value_counts()"
   ]
  }
 ],
 "metadata": {
  "kernelspec": {
   "display_name": "Python 3.10.4 ('venv': venv)",
   "language": "python",
   "name": "python3"
  },
  "language_info": {
   "codemirror_mode": {
    "name": "ipython",
    "version": 3
   },
   "file_extension": ".py",
   "mimetype": "text/x-python",
   "name": "python",
   "nbconvert_exporter": "python",
   "pygments_lexer": "ipython3",
   "version": "3.10.4"
  },
  "vscode": {
   "interpreter": {
    "hash": "b3de614af504821bb8883dc4474be6409a07bf1012b2a3a30887ac305417f630"
   }
  }
 },
 "nbformat": 4,
 "nbformat_minor": 2
}
