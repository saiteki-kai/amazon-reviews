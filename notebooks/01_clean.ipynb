{
 "cells": [
  {
   "cell_type": "code",
   "execution_count": 89,
   "metadata": {
    "collapsed": true
   },
   "outputs": [
    {
     "name": "stdout",
     "output_type": "stream",
     "text": [
      "INFO: Pandarallel will run on 8 workers.\n",
      "INFO: Pandarallel will use Memory file system to transfer data between the main process and workers.\n"
     ]
    }
   ],
   "source": [
    "import os\n",
    "import fasttext\n",
    "import numpy as np\n",
    "import pandas as pd\n",
    "import seaborn as sns\n",
    "\n",
    "from matplotlib import pyplot as plt\n",
    "from pandarallel import pandarallel\n",
    "\n",
    "from reviews.preprocess import remove_urls, strip_html\n",
    "from reviews.config import processed_data_dir\n",
    "from reviews.utils import clean_brand\n",
    "\n",
    "pandarallel.initialize(progress_bar=False, nb_workers=8)"
   ]
  },
  {
   "cell_type": "markdown",
   "metadata": {
    "collapsed": false
   },
   "source": [
    "# Data Cleaning"
   ]
  },
  {
   "cell_type": "markdown",
   "metadata": {
    "collapsed": false
   },
   "source": [
    "## Products"
   ]
  },
  {
   "cell_type": "code",
   "execution_count": 90,
   "metadata": {
    "collapsed": false
   },
   "outputs": [
    {
     "name": "stdout",
     "output_type": "stream",
     "text": [
      "<class 'pandas.core.frame.DataFrame'>\n",
      "RangeIndex: 32720 entries, 0 to 32719\n",
      "Data columns (total 7 columns):\n",
      " #   Column           Non-Null Count  Dtype \n",
      "---  ------           --------------  ----- \n",
      " 0   asin             32720 non-null  object\n",
      " 1   brand            32720 non-null  object\n",
      " 2   category         32720 non-null  object\n",
      " 3   description      32720 non-null  object\n",
      " 4   imageURLHighRes  32720 non-null  object\n",
      " 5   price            32720 non-null  object\n",
      " 6   title            32720 non-null  object\n",
      "dtypes: object(7)\n",
      "memory usage: 1.7+ MB\n"
     ]
    }
   ],
   "source": [
    "prod_df = pd.read_json(processed_data_dir / \"meta.json.gz\")\n",
    "prod_df = prod_df.reindex(sorted(prod_df.columns), axis=1)  # sort columns\n",
    "prod_df.info()"
   ]
  },
  {
   "cell_type": "code",
   "execution_count": 91,
   "metadata": {
    "collapsed": false
   },
   "outputs": [
    {
     "data": {
      "text/html": [
       "<div>\n",
       "<style scoped>\n",
       "    .dataframe tbody tr th:only-of-type {\n",
       "        vertical-align: middle;\n",
       "    }\n",
       "\n",
       "    .dataframe tbody tr th {\n",
       "        vertical-align: top;\n",
       "    }\n",
       "\n",
       "    .dataframe thead th {\n",
       "        text-align: right;\n",
       "    }\n",
       "</style>\n",
       "<table border=\"1\" class=\"dataframe\">\n",
       "  <thead>\n",
       "    <tr style=\"text-align: right;\">\n",
       "      <th></th>\n",
       "      <th>asin</th>\n",
       "      <th>brand</th>\n",
       "      <th>category</th>\n",
       "      <th>description</th>\n",
       "      <th>imageURLHighRes</th>\n",
       "      <th>price</th>\n",
       "      <th>title</th>\n",
       "    </tr>\n",
       "  </thead>\n",
       "  <tbody>\n",
       "    <tr>\n",
       "      <th>0</th>\n",
       "      <td>7500653883</td>\n",
       "      <td>ECS Elitegroup</td>\n",
       "      <td>[Electronics, Computers &amp; Accessories, Compute...</td>\n",
       "      <td>[]</td>\n",
       "      <td>[]</td>\n",
       "      <td></td>\n",
       "      <td>ECS PT800CE-A Socket 478 Motherboard Prescott ...</td>\n",
       "    </tr>\n",
       "    <tr>\n",
       "      <th>1</th>\n",
       "      <td>7799813393</td>\n",
       "      <td>MyGica</td>\n",
       "      <td>[Electronics, Computers &amp; Accessories, Compute...</td>\n",
       "      <td>[Mygica EZgrabber2 USB 2.0 Video Capture, VHS ...</td>\n",
       "      <td>[https://images-na.ssl-images-amazon.com/image...</td>\n",
       "      <td></td>\n",
       "      <td>Mygica EZgrabber USB 2.0 Video Capture, VHS to...</td>\n",
       "    </tr>\n",
       "    <tr>\n",
       "      <th>2</th>\n",
       "      <td>B00000J3OG</td>\n",
       "      <td>Creative</td>\n",
       "      <td>[Electronics, Computers &amp; Accessories, Compute...</td>\n",
       "      <td>[]</td>\n",
       "      <td>[]</td>\n",
       "      <td></td>\n",
       "      <td>Creative Labs DI5601 Modem Blaster 56K Interna...</td>\n",
       "    </tr>\n",
       "    <tr>\n",
       "      <th>3</th>\n",
       "      <td>B00000J3WY</td>\n",
       "      <td>APC</td>\n",
       "      <td>[Electronics, Computers &amp; Accessories, Compute...</td>\n",
       "      <td>[APC 650 VA Uninterruptable Power Supply]</td>\n",
       "      <td>[]</td>\n",
       "      <td></td>\n",
       "      <td>APC 650VA Back-Up Power Supply (Discontinued b...</td>\n",
       "    </tr>\n",
       "    <tr>\n",
       "      <th>4</th>\n",
       "      <td>B00000J576</td>\n",
       "      <td>Creative</td>\n",
       "      <td>[Electronics, Computers &amp; Accessories, Compute...</td>\n",
       "      <td>[Unleash incredible graphics performance!]</td>\n",
       "      <td>[]</td>\n",
       "      <td></td>\n",
       "      <td>Creative Labs 3DB6815BULK 3D Blaster Savage4 P...</td>\n",
       "    </tr>\n",
       "    <tr>\n",
       "      <th>5</th>\n",
       "      <td>B00000J579</td>\n",
       "      <td>Creative</td>\n",
       "      <td>[Electronics, Computers &amp; Accessories, Compute...</td>\n",
       "      <td>[Based on the award-winning Sound Blaster 16 t...</td>\n",
       "      <td>[]</td>\n",
       "      <td>$2.05</td>\n",
       "      <td>Creative Labs Sound Blaster 16 PCI Sound Card</td>\n",
       "    </tr>\n",
       "    <tr>\n",
       "      <th>6</th>\n",
       "      <td>B00000J571</td>\n",
       "      <td>Creative</td>\n",
       "      <td>[Electronics, Computers &amp; Accessories, Compute...</td>\n",
       "      <td>[Unleash incredible graphics performance!]</td>\n",
       "      <td>[]</td>\n",
       "      <td></td>\n",
       "      <td>Creative Labs 3DB6901 3D Blaster Savage4 AGP 32</td>\n",
       "    </tr>\n",
       "    <tr>\n",
       "      <th>7</th>\n",
       "      <td>B00000JBB8</td>\n",
       "      <td>Diamond</td>\n",
       "      <td>[Electronics, Computers &amp; Accessories, Compute...</td>\n",
       "      <td>[Monster Sound MX300 is the new-generation PCI...</td>\n",
       "      <td>[]</td>\n",
       "      <td></td>\n",
       "      <td>Diamond MX300 MonsterSound PCI Audio Accelerat...</td>\n",
       "    </tr>\n",
       "    <tr>\n",
       "      <th>8</th>\n",
       "      <td>B00000JBBJ</td>\n",
       "      <td>SONICblue</td>\n",
       "      <td>[Electronics, Computers &amp; Accessories, Compute...</td>\n",
       "      <td>[Based on the NVIDIA RIVA TNT Ultra chip set, ...</td>\n",
       "      <td>[https://images-na.ssl-images-amazon.com/image...</td>\n",
       "      <td></td>\n",
       "      <td>Diamond Viper V770 Ultra Graphics Accelerator</td>\n",
       "    </tr>\n",
       "    <tr>\n",
       "      <th>9</th>\n",
       "      <td>B00000JBJ8</td>\n",
       "      <td>PNY</td>\n",
       "      <td>[Electronics, Computers &amp; Accessories, Compute...</td>\n",
       "      <td>[Adding memory to your new or existing desktop...</td>\n",
       "      <td>[]</td>\n",
       "      <td></td>\n",
       "      <td>PNY 64174ESEM4G-CS 128MB 168 Pin DIMM SDRAM PC...</td>\n",
       "    </tr>\n",
       "  </tbody>\n",
       "</table>\n",
       "</div>"
      ],
      "text/plain": [
       "         asin           brand  \\\n",
       "0  7500653883  ECS Elitegroup   \n",
       "1  7799813393          MyGica   \n",
       "2  B00000J3OG        Creative   \n",
       "3  B00000J3WY             APC   \n",
       "4  B00000J576        Creative   \n",
       "5  B00000J579        Creative   \n",
       "6  B00000J571        Creative   \n",
       "7  B00000JBB8         Diamond   \n",
       "8  B00000JBBJ       SONICblue   \n",
       "9  B00000JBJ8             PNY   \n",
       "\n",
       "                                            category  \\\n",
       "0  [Electronics, Computers & Accessories, Compute...   \n",
       "1  [Electronics, Computers & Accessories, Compute...   \n",
       "2  [Electronics, Computers & Accessories, Compute...   \n",
       "3  [Electronics, Computers & Accessories, Compute...   \n",
       "4  [Electronics, Computers & Accessories, Compute...   \n",
       "5  [Electronics, Computers & Accessories, Compute...   \n",
       "6  [Electronics, Computers & Accessories, Compute...   \n",
       "7  [Electronics, Computers & Accessories, Compute...   \n",
       "8  [Electronics, Computers & Accessories, Compute...   \n",
       "9  [Electronics, Computers & Accessories, Compute...   \n",
       "\n",
       "                                         description  \\\n",
       "0                                                 []   \n",
       "1  [Mygica EZgrabber2 USB 2.0 Video Capture, VHS ...   \n",
       "2                                                 []   \n",
       "3          [APC 650 VA Uninterruptable Power Supply]   \n",
       "4         [Unleash incredible graphics performance!]   \n",
       "5  [Based on the award-winning Sound Blaster 16 t...   \n",
       "6         [Unleash incredible graphics performance!]   \n",
       "7  [Monster Sound MX300 is the new-generation PCI...   \n",
       "8  [Based on the NVIDIA RIVA TNT Ultra chip set, ...   \n",
       "9  [Adding memory to your new or existing desktop...   \n",
       "\n",
       "                                     imageURLHighRes  price  \\\n",
       "0                                                 []          \n",
       "1  [https://images-na.ssl-images-amazon.com/image...          \n",
       "2                                                 []          \n",
       "3                                                 []          \n",
       "4                                                 []          \n",
       "5                                                 []  $2.05   \n",
       "6                                                 []          \n",
       "7                                                 []          \n",
       "8  [https://images-na.ssl-images-amazon.com/image...          \n",
       "9                                                 []          \n",
       "\n",
       "                                               title  \n",
       "0  ECS PT800CE-A Socket 478 Motherboard Prescott ...  \n",
       "1  Mygica EZgrabber USB 2.0 Video Capture, VHS to...  \n",
       "2  Creative Labs DI5601 Modem Blaster 56K Interna...  \n",
       "3  APC 650VA Back-Up Power Supply (Discontinued b...  \n",
       "4  Creative Labs 3DB6815BULK 3D Blaster Savage4 P...  \n",
       "5      Creative Labs Sound Blaster 16 PCI Sound Card  \n",
       "6    Creative Labs 3DB6901 3D Blaster Savage4 AGP 32  \n",
       "7  Diamond MX300 MonsterSound PCI Audio Accelerat...  \n",
       "8      Diamond Viper V770 Ultra Graphics Accelerator  \n",
       "9  PNY 64174ESEM4G-CS 128MB 168 Pin DIMM SDRAM PC...  "
      ]
     },
     "execution_count": 91,
     "metadata": {},
     "output_type": "execute_result"
    }
   ],
   "source": [
    "prod_df.head(10)"
   ]
  },
  {
   "cell_type": "markdown",
   "metadata": {
    "collapsed": false
   },
   "source": [
    "### Transform Data"
   ]
  },
  {
   "cell_type": "code",
   "execution_count": 92,
   "metadata": {
    "collapsed": false
   },
   "outputs": [],
   "source": [
    "# keep the first subcategory and rename categories\n",
    "prod_df[\"category\"] = prod_df[\"category\"].parallel_apply(\n",
    "    lambda x: x[4] if len(x) > 4 else \"other\"\n",
    ")\n",
    "\n",
    "prod_df[\"category\"] = prod_df[\"category\"].apply(\n",
    "    lambda cat: cat.replace(\"Internal\", \"\").strip() if type(cat) is str else cat\n",
    ")\n",
    "\n",
    "# join description in a single string\n",
    "prod_df[\"description\"] = prod_df[\"description\"].parallel_apply(lambda x: \" \".join(x))\n",
    "\n",
    "# remove html and replace empty with NA\n",
    "for col in [\"category\", \"description\", \"title\", \"brand\", \"asin\"]:\n",
    "    prod_df[col] = prod_df[col].astype(\"string\").parallel_apply(strip_html)\n",
    "    prod_df.loc[prod_df[col] == \"\", col] = np.nan\n",
    "\n",
    "# fix price\n",
    "prod_df[\"price\"] = prod_df[\"price\"].astype(\"string\").parallel_apply(strip_html)\n",
    "prod_df[\"price\"] = prod_df[\"price\"].str.replace(\"[\\$,]\", \"\", regex=True)\n",
    "prod_df.loc[prod_df[\"price\"].str.len() == 0, \"price\"] = np.nan\n",
    "prod_df.loc[prod_df[\"price\"].str.len() > 20, \"price\"] = np.nan\n",
    "\n",
    "prod_df[\"brand\"] = prod_df[\"brand\"].apply(clean_brand)\n",
    "\n",
    "prod_df[\"imageURLHighRes\"] = prod_df[\"imageURLHighRes\"].parallel_apply(\n",
    "    lambda x: x[0] if x else np.nan\n",
    ")"
   ]
  },
  {
   "cell_type": "code",
   "execution_count": 93,
   "metadata": {
    "collapsed": false
   },
   "outputs": [
    {
     "data": {
      "text/html": [
       "<div>\n",
       "<style scoped>\n",
       "    .dataframe tbody tr th:only-of-type {\n",
       "        vertical-align: middle;\n",
       "    }\n",
       "\n",
       "    .dataframe tbody tr th {\n",
       "        vertical-align: top;\n",
       "    }\n",
       "\n",
       "    .dataframe thead th {\n",
       "        text-align: right;\n",
       "    }\n",
       "</style>\n",
       "<table border=\"1\" class=\"dataframe\">\n",
       "  <thead>\n",
       "    <tr style=\"text-align: right;\">\n",
       "      <th></th>\n",
       "      <th>asin</th>\n",
       "      <th>brand</th>\n",
       "      <th>category</th>\n",
       "      <th>description</th>\n",
       "      <th>imageURLHighRes</th>\n",
       "      <th>price</th>\n",
       "      <th>title</th>\n",
       "    </tr>\n",
       "  </thead>\n",
       "  <tbody>\n",
       "    <tr>\n",
       "      <th>0</th>\n",
       "      <td>7500653883</td>\n",
       "      <td>ecs elitegroup</td>\n",
       "      <td>Motherboards</td>\n",
       "      <td>NaN</td>\n",
       "      <td>NaN</td>\n",
       "      <td>NaN</td>\n",
       "      <td>ECS PT800CE-A Socket 478 Motherboard Prescott ...</td>\n",
       "    </tr>\n",
       "    <tr>\n",
       "      <th>1</th>\n",
       "      <td>7799813393</td>\n",
       "      <td>mygica</td>\n",
       "      <td>TV Tuner &amp; Capture Cards</td>\n",
       "      <td>Mygica EZgrabber2 USB 2.0 Video Capture, VHS t...</td>\n",
       "      <td>https://images-na.ssl-images-amazon.com/images...</td>\n",
       "      <td>NaN</td>\n",
       "      <td>Mygica EZgrabber USB 2.0 Video Capture, VHS to...</td>\n",
       "    </tr>\n",
       "    <tr>\n",
       "      <th>2</th>\n",
       "      <td>B00000J3OG</td>\n",
       "      <td>creative</td>\n",
       "      <td>Modems</td>\n",
       "      <td>NaN</td>\n",
       "      <td>NaN</td>\n",
       "      <td>NaN</td>\n",
       "      <td>Creative Labs DI5601 Modem Blaster 56K Interna...</td>\n",
       "    </tr>\n",
       "    <tr>\n",
       "      <th>3</th>\n",
       "      <td>B00000J3WY</td>\n",
       "      <td>apc</td>\n",
       "      <td>Power Supplies</td>\n",
       "      <td>APC 650 VA Uninterruptable Power Supply</td>\n",
       "      <td>NaN</td>\n",
       "      <td>NaN</td>\n",
       "      <td>APC 650VA Back-Up Power Supply (Discontinued b...</td>\n",
       "    </tr>\n",
       "    <tr>\n",
       "      <th>4</th>\n",
       "      <td>B00000J576</td>\n",
       "      <td>creative</td>\n",
       "      <td>Graphics Cards</td>\n",
       "      <td>Unleash incredible graphics performance!</td>\n",
       "      <td>NaN</td>\n",
       "      <td>NaN</td>\n",
       "      <td>Creative Labs 3DB6815BULK 3D Blaster Savage4 P...</td>\n",
       "    </tr>\n",
       "    <tr>\n",
       "      <th>5</th>\n",
       "      <td>B00000J579</td>\n",
       "      <td>creative</td>\n",
       "      <td>Sound Cards</td>\n",
       "      <td>Based on the award-winning Sound Blaster 16 te...</td>\n",
       "      <td>NaN</td>\n",
       "      <td>2.05</td>\n",
       "      <td>Creative Labs Sound Blaster 16 PCI Sound Card</td>\n",
       "    </tr>\n",
       "    <tr>\n",
       "      <th>6</th>\n",
       "      <td>B00000J571</td>\n",
       "      <td>creative</td>\n",
       "      <td>Graphics Cards</td>\n",
       "      <td>Unleash incredible graphics performance!</td>\n",
       "      <td>NaN</td>\n",
       "      <td>NaN</td>\n",
       "      <td>Creative Labs 3DB6901 3D Blaster Savage4 AGP 32</td>\n",
       "    </tr>\n",
       "    <tr>\n",
       "      <th>7</th>\n",
       "      <td>B00000JBB8</td>\n",
       "      <td>diamond</td>\n",
       "      <td>Graphics Cards</td>\n",
       "      <td>Monster Sound MX300 is the new-generation PCI ...</td>\n",
       "      <td>NaN</td>\n",
       "      <td>NaN</td>\n",
       "      <td>Diamond MX300 MonsterSound PCI Audio Accelerat...</td>\n",
       "    </tr>\n",
       "    <tr>\n",
       "      <th>8</th>\n",
       "      <td>B00000JBBJ</td>\n",
       "      <td>sonicblue</td>\n",
       "      <td>Graphics Cards</td>\n",
       "      <td>Based on the NVIDIA RIVA TNT Ultra chip set, D...</td>\n",
       "      <td>https://images-na.ssl-images-amazon.com/images...</td>\n",
       "      <td>NaN</td>\n",
       "      <td>Diamond Viper V770 Ultra Graphics Accelerator</td>\n",
       "    </tr>\n",
       "    <tr>\n",
       "      <th>9</th>\n",
       "      <td>B00000JBJ8</td>\n",
       "      <td>pny</td>\n",
       "      <td>Memory</td>\n",
       "      <td>Adding memory to your new or existing desktop ...</td>\n",
       "      <td>NaN</td>\n",
       "      <td>NaN</td>\n",
       "      <td>PNY 64174ESEM4G-CS 128MB 168 Pin DIMM SDRAM PC...</td>\n",
       "    </tr>\n",
       "  </tbody>\n",
       "</table>\n",
       "</div>"
      ],
      "text/plain": [
       "         asin           brand                  category  \\\n",
       "0  7500653883  ecs elitegroup              Motherboards   \n",
       "1  7799813393          mygica  TV Tuner & Capture Cards   \n",
       "2  B00000J3OG        creative                    Modems   \n",
       "3  B00000J3WY             apc            Power Supplies   \n",
       "4  B00000J576        creative            Graphics Cards   \n",
       "5  B00000J579        creative               Sound Cards   \n",
       "6  B00000J571        creative            Graphics Cards   \n",
       "7  B00000JBB8         diamond            Graphics Cards   \n",
       "8  B00000JBBJ       sonicblue            Graphics Cards   \n",
       "9  B00000JBJ8             pny                    Memory   \n",
       "\n",
       "                                         description  \\\n",
       "0                                                NaN   \n",
       "1  Mygica EZgrabber2 USB 2.0 Video Capture, VHS t...   \n",
       "2                                                NaN   \n",
       "3            APC 650 VA Uninterruptable Power Supply   \n",
       "4           Unleash incredible graphics performance!   \n",
       "5  Based on the award-winning Sound Blaster 16 te...   \n",
       "6           Unleash incredible graphics performance!   \n",
       "7  Monster Sound MX300 is the new-generation PCI ...   \n",
       "8  Based on the NVIDIA RIVA TNT Ultra chip set, D...   \n",
       "9  Adding memory to your new or existing desktop ...   \n",
       "\n",
       "                                     imageURLHighRes price  \\\n",
       "0                                                NaN   NaN   \n",
       "1  https://images-na.ssl-images-amazon.com/images...   NaN   \n",
       "2                                                NaN   NaN   \n",
       "3                                                NaN   NaN   \n",
       "4                                                NaN   NaN   \n",
       "5                                                NaN  2.05   \n",
       "6                                                NaN   NaN   \n",
       "7                                                NaN   NaN   \n",
       "8  https://images-na.ssl-images-amazon.com/images...   NaN   \n",
       "9                                                NaN   NaN   \n",
       "\n",
       "                                               title  \n",
       "0  ECS PT800CE-A Socket 478 Motherboard Prescott ...  \n",
       "1  Mygica EZgrabber USB 2.0 Video Capture, VHS to...  \n",
       "2  Creative Labs DI5601 Modem Blaster 56K Interna...  \n",
       "3  APC 650VA Back-Up Power Supply (Discontinued b...  \n",
       "4  Creative Labs 3DB6815BULK 3D Blaster Savage4 P...  \n",
       "5      Creative Labs Sound Blaster 16 PCI Sound Card  \n",
       "6    Creative Labs 3DB6901 3D Blaster Savage4 AGP 32  \n",
       "7  Diamond MX300 MonsterSound PCI Audio Accelerat...  \n",
       "8      Diamond Viper V770 Ultra Graphics Accelerator  \n",
       "9  PNY 64174ESEM4G-CS 128MB 168 Pin DIMM SDRAM PC...  "
      ]
     },
     "execution_count": 93,
     "metadata": {},
     "output_type": "execute_result"
    }
   ],
   "source": [
    "prod_df.head(10)"
   ]
  },
  {
   "cell_type": "markdown",
   "metadata": {
    "collapsed": false
   },
   "source": [
    "### Convert Data Types"
   ]
  },
  {
   "cell_type": "code",
   "execution_count": 94,
   "metadata": {
    "collapsed": false
   },
   "outputs": [],
   "source": [
    "prod_df[\"asin\"] = prod_df[\"asin\"].astype(\"string\")\n",
    "prod_df[\"brand\"] = prod_df[\"brand\"].astype(\"category\")\n",
    "prod_df[\"category\"] = prod_df[\"category\"].astype(\"category\")\n",
    "prod_df[\"description\"] = prod_df[\"description\"].astype(\"string\")\n",
    "prod_df[\"price\"] = prod_df[\"price\"].astype(\"float\")\n",
    "prod_df[\"title\"] = prod_df[\"title\"].astype(\"string\")\n",
    "prod_df[\"imageURLHighRes\"] = prod_df[\"imageURLHighRes\"].astype(\"string\")"
   ]
  },
  {
   "cell_type": "markdown",
   "metadata": {
    "collapsed": false
   },
   "source": [
    "## Reviews"
   ]
  },
  {
   "cell_type": "code",
   "execution_count": 95,
   "metadata": {
    "collapsed": false
   },
   "outputs": [
    {
     "name": "stdout",
     "output_type": "stream",
     "text": [
      "<class 'pandas.core.frame.DataFrame'>\n",
      "RangeIndex: 269027 entries, 0 to 269026\n",
      "Data columns (total 6 columns):\n",
      " #   Column     Non-Null Count   Dtype         \n",
      "---  ------     --------------   -----         \n",
      " 0   asin       269027 non-null  object        \n",
      " 1   overall    269027 non-null  int64         \n",
      " 2   summary    269027 non-null  object        \n",
      " 3   text       269027 non-null  object        \n",
      " 4   timestamp  269027 non-null  datetime64[ns]\n",
      " 5   vote       269027 non-null  int64         \n",
      "dtypes: datetime64[ns](1), int64(2), object(3)\n",
      "memory usage: 12.3+ MB\n"
     ]
    }
   ],
   "source": [
    "review_df = pd.read_json(processed_data_dir / \"reviews.json.gz\")\n",
    "review_df = review_df.reindex(sorted(review_df.columns), axis=1)  # sort columns\n",
    "review_df.info()"
   ]
  },
  {
   "cell_type": "code",
   "execution_count": 96,
   "metadata": {
    "collapsed": false
   },
   "outputs": [
    {
     "data": {
      "text/html": [
       "<div>\n",
       "<style scoped>\n",
       "    .dataframe tbody tr th:only-of-type {\n",
       "        vertical-align: middle;\n",
       "    }\n",
       "\n",
       "    .dataframe tbody tr th {\n",
       "        vertical-align: top;\n",
       "    }\n",
       "\n",
       "    .dataframe thead th {\n",
       "        text-align: right;\n",
       "    }\n",
       "</style>\n",
       "<table border=\"1\" class=\"dataframe\">\n",
       "  <thead>\n",
       "    <tr style=\"text-align: right;\">\n",
       "      <th></th>\n",
       "      <th>asin</th>\n",
       "      <th>overall</th>\n",
       "      <th>summary</th>\n",
       "      <th>text</th>\n",
       "      <th>timestamp</th>\n",
       "      <th>vote</th>\n",
       "    </tr>\n",
       "  </thead>\n",
       "  <tbody>\n",
       "    <tr>\n",
       "      <th>0</th>\n",
       "      <td>7799813393</td>\n",
       "      <td>3</td>\n",
       "      <td>Good for what it can do.</td>\n",
       "      <td>Bought this to transfer video from some old eq...</td>\n",
       "      <td>2013-01-17</td>\n",
       "      <td>0</td>\n",
       "    </tr>\n",
       "    <tr>\n",
       "      <th>1</th>\n",
       "      <td>7799813393</td>\n",
       "      <td>4</td>\n",
       "      <td>works well</td>\n",
       "      <td>The EZGrabber2 works well but it's software is...</td>\n",
       "      <td>2012-09-04</td>\n",
       "      <td>0</td>\n",
       "    </tr>\n",
       "    <tr>\n",
       "      <th>2</th>\n",
       "      <td>7799813393</td>\n",
       "      <td>4</td>\n",
       "      <td>Cheap and it works</td>\n",
       "      <td>I got this because it was pretty decently pric...</td>\n",
       "      <td>2012-08-27</td>\n",
       "      <td>6</td>\n",
       "    </tr>\n",
       "    <tr>\n",
       "      <th>3</th>\n",
       "      <td>B00000J579</td>\n",
       "      <td>5</td>\n",
       "      <td>Easy to Use, Almost everything you could want</td>\n",
       "      <td>This sound card doesn't reproduce MP3 or WAV f...</td>\n",
       "      <td>2000-10-10</td>\n",
       "      <td>32</td>\n",
       "    </tr>\n",
       "    <tr>\n",
       "      <th>4</th>\n",
       "      <td>B00000J579</td>\n",
       "      <td>3</td>\n",
       "      <td>Bathtub</td>\n",
       "      <td>Essentially, this is the entry-level, 16-bit a...</td>\n",
       "      <td>2000-09-04</td>\n",
       "      <td>4</td>\n",
       "    </tr>\n",
       "    <tr>\n",
       "      <th>5</th>\n",
       "      <td>B00000J579</td>\n",
       "      <td>4</td>\n",
       "      <td>Good low-end, no-hassle card</td>\n",
       "      <td>This is a basic sound card.  Nothing fancy.  T...</td>\n",
       "      <td>2002-07-03</td>\n",
       "      <td>6</td>\n",
       "    </tr>\n",
       "    <tr>\n",
       "      <th>6</th>\n",
       "      <td>B00000J579</td>\n",
       "      <td>3</td>\n",
       "      <td>Ok for the price and basic functions</td>\n",
       "      <td>This is a basic low-end sound card. It puts ou...</td>\n",
       "      <td>2002-04-04</td>\n",
       "      <td>8</td>\n",
       "    </tr>\n",
       "    <tr>\n",
       "      <th>7</th>\n",
       "      <td>B00000JDKU</td>\n",
       "      <td>4</td>\n",
       "      <td>good card</td>\n",
       "      <td>The Voodoo 3 is a great card that replaces bot...</td>\n",
       "      <td>1999-11-21</td>\n",
       "      <td>18</td>\n",
       "    </tr>\n",
       "    <tr>\n",
       "      <th>8</th>\n",
       "      <td>B00000JDKU</td>\n",
       "      <td>5</td>\n",
       "      <td>WOW!</td>\n",
       "      <td>This card is so fast and really high resolutio...</td>\n",
       "      <td>1999-07-15</td>\n",
       "      <td>4</td>\n",
       "    </tr>\n",
       "    <tr>\n",
       "      <th>9</th>\n",
       "      <td>B00000JF4L</td>\n",
       "      <td>5</td>\n",
       "      <td>An excellent card</td>\n",
       "      <td>Let me first state that I purchased this card ...</td>\n",
       "      <td>2000-03-15</td>\n",
       "      <td>38</td>\n",
       "    </tr>\n",
       "  </tbody>\n",
       "</table>\n",
       "</div>"
      ],
      "text/plain": [
       "         asin  overall                                        summary  \\\n",
       "0  7799813393        3                       Good for what it can do.   \n",
       "1  7799813393        4                                     works well   \n",
       "2  7799813393        4                             Cheap and it works   \n",
       "3  B00000J579        5  Easy to Use, Almost everything you could want   \n",
       "4  B00000J579        3                                        Bathtub   \n",
       "5  B00000J579        4                   Good low-end, no-hassle card   \n",
       "6  B00000J579        3           Ok for the price and basic functions   \n",
       "7  B00000JDKU        4                                      good card   \n",
       "8  B00000JDKU        5                                           WOW!   \n",
       "9  B00000JF4L        5                              An excellent card   \n",
       "\n",
       "                                                text  timestamp  vote  \n",
       "0  Bought this to transfer video from some old eq... 2013-01-17     0  \n",
       "1  The EZGrabber2 works well but it's software is... 2012-09-04     0  \n",
       "2  I got this because it was pretty decently pric... 2012-08-27     6  \n",
       "3  This sound card doesn't reproduce MP3 or WAV f... 2000-10-10    32  \n",
       "4  Essentially, this is the entry-level, 16-bit a... 2000-09-04     4  \n",
       "5  This is a basic sound card.  Nothing fancy.  T... 2002-07-03     6  \n",
       "6  This is a basic low-end sound card. It puts ou... 2002-04-04     8  \n",
       "7  The Voodoo 3 is a great card that replaces bot... 1999-11-21    18  \n",
       "8  This card is so fast and really high resolutio... 1999-07-15     4  \n",
       "9  Let me first state that I purchased this card ... 2000-03-15    38  "
      ]
     },
     "execution_count": 96,
     "metadata": {},
     "output_type": "execute_result"
    }
   ],
   "source": [
    "review_df.head(10)"
   ]
  },
  {
   "cell_type": "code",
   "execution_count": 97,
   "metadata": {
    "collapsed": false
   },
   "outputs": [],
   "source": [
    "# remove html and replace empty with NA\n",
    "for col in [\"asin\", \"overall\", \"summary\", \"text\", \"timestamp\", \"vote\"]:\n",
    "    review_df[col] = review_df[col].astype(\"string\").parallel_apply(strip_html)\n",
    "    review_df.loc[review_df[col] == \"\", col] = np.nan"
   ]
  },
  {
   "cell_type": "markdown",
   "metadata": {
    "collapsed": false
   },
   "source": [
    "### Convert Data Types"
   ]
  },
  {
   "cell_type": "code",
   "execution_count": 98,
   "metadata": {
    "collapsed": false
   },
   "outputs": [],
   "source": [
    "review_df[\"asin\"] = review_df[\"asin\"].astype(\"category\")\n",
    "review_df[\"overall\"] = review_df[\"overall\"].astype(\"category\")\n",
    "review_df[\"summary\"] = review_df[\"summary\"].astype(\"string\")\n",
    "review_df[\"text\"] = review_df[\"text\"].astype(\"string\")\n",
    "review_df[\"timestamp\"] = pd.to_datetime(review_df[\"timestamp\"], errors=\"coerce\")\n",
    "review_df[\"vote\"] = review_df[\"vote\"].astype(\"int\")"
   ]
  },
  {
   "cell_type": "code",
   "execution_count": 99,
   "metadata": {
    "collapsed": false
   },
   "outputs": [
    {
     "name": "stdout",
     "output_type": "stream",
     "text": [
      "<class 'pandas.core.frame.DataFrame'>\n",
      "RangeIndex: 269027 entries, 0 to 269026\n",
      "Data columns (total 6 columns):\n",
      " #   Column     Non-Null Count   Dtype         \n",
      "---  ------     --------------   -----         \n",
      " 0   asin       269027 non-null  category      \n",
      " 1   overall    269027 non-null  category      \n",
      " 2   summary    269027 non-null  string        \n",
      " 3   text       269025 non-null  string        \n",
      " 4   timestamp  269027 non-null  datetime64[ns]\n",
      " 5   vote       269027 non-null  int64         \n",
      "dtypes: category(2), datetime64[ns](1), int64(1), string(2)\n",
      "memory usage: 9.3 MB\n"
     ]
    }
   ],
   "source": [
    "review_df.info()"
   ]
  },
  {
   "cell_type": "markdown",
   "metadata": {
    "collapsed": false
   },
   "source": [
    "### Merge with Products"
   ]
  },
  {
   "cell_type": "code",
   "execution_count": 100,
   "metadata": {
    "collapsed": false
   },
   "outputs": [],
   "source": [
    "data_df = pd.merge(left=review_df, right=prod_df, on=\"asin\", copy=False)\n",
    "data_df = data_df.sample(25000, random_state=1111)\n",
    "\n",
    "data_df[\"text\"] = data_df[\"text\"].astype(\"string\")\n",
    "data_df[\"summary\"] = data_df[\"summary\"].astype(\"string\")\n",
    "data_df[\"asin\"] = data_df[\"asin\"].astype(\"string\").astype(\"category\")\n",
    "data_df[\"overall\"] = data_df[\"overall\"].astype(\"string\").astype(\"category\")\n",
    "data_df[\"brand\"] = data_df[\"brand\"].astype(\"string\").astype(\"category\")\n",
    "data_df[\"category\"] = data_df[\"category\"].astype(\"string\").astype(\"category\")"
   ]
  },
  {
   "cell_type": "code",
   "execution_count": 101,
   "metadata": {
    "collapsed": false
   },
   "outputs": [
    {
     "name": "stdout",
     "output_type": "stream",
     "text": [
      "Duplicates: 52\n"
     ]
    }
   ],
   "source": [
    "duplicates = data_df.duplicated([\"asin\", \"text\", \"summary\", \"overall\"], keep=False)\n",
    "print(f\"Duplicates: {duplicates.sum()}\")\n",
    "\n",
    "data_df.drop_duplicates([\"asin\", \"text\", \"summary\", \"overall\"], inplace=True)"
   ]
  },
  {
   "cell_type": "code",
   "execution_count": 102,
   "metadata": {
    "collapsed": false
   },
   "outputs": [
    {
     "data": {
      "image/png": "[encoded data removed]",
      "text/plain": [
       "<Figure size 1000x400 with 1 Axes>"
      ]
     },
     "metadata": {},
     "output_type": "display_data"
    }
   ],
   "source": [
    "fig, axes = plt.subplots(1, 1, figsize=(10, 4))\n",
    "#sns.heatmap(data_df.isna().T, cbar=False, xticklabels=False, ax=axes[0])\n",
    "sns.barplot(\n",
    "    y=data_df.columns,\n",
    "    x=(len(data_df) - data_df.count()) / len(data_df) * 100,\n",
    "    ax=axes\n",
    ")\n",
    "axes.set_xlabel(\"Missing values (%)\")\n",
    "fig.tight_layout()"
   ]
  },
  {
   "cell_type": "code",
   "execution_count": 103,
   "metadata": {
    "collapsed": false
   },
   "outputs": [],
   "source": [
    "# remove empty text\n",
    "data_df = data_df.loc[~data_df[\"text\"].isna()]"
   ]
  },
  {
   "cell_type": "markdown",
   "metadata": {
    "collapsed": false
   },
   "source": [
    "### Language Identification"
   ]
  },
  {
   "cell_type": "code",
   "execution_count": 104,
   "metadata": {
    "collapsed": false
   },
   "outputs": [],
   "source": [
    "if not os.path.exists(\"/tmp/lid.176.bin\"):\n",
    "    os.system(\n",
    "        \"wget -O /tmp/lid.176.bin 'https://dl.fbaipublicfiles.com/fasttext/supervised-models/lid.176.bin'\"\n",
    "    )"
   ]
  },
  {
   "cell_type": "code",
   "execution_count": 105,
   "metadata": {
    "collapsed": false
   },
   "outputs": [
    {
     "name": "stderr",
     "output_type": "stream",
     "text": [
      "Warning : `load_model` does not return WordVectorModel or SupervisedModel any more, but a `FastText` object which is very similar.\n"
     ]
    },
    {
     "data": {
      "text/plain": [
       "en        24054\n",
       "others      919\n",
       "Name: lang, dtype: int64"
      ]
     },
     "execution_count": 105,
     "metadata": {},
     "output_type": "execute_result"
    }
   ],
   "source": [
    "model = fasttext.load_model(\"/tmp/lid.176.bin\")\n",
    "\n",
    "langs = []\n",
    "probs = []\n",
    "for i, row in data_df.iterrows():\n",
    "    text = row[\"text\"]\n",
    "\n",
    "    text = text.replace(\"\\n\", \" \")\n",
    "\n",
    "    text = remove_urls(text)\n",
    "    text = strip_html(text)\n",
    "\n",
    "    text = text.lower()\n",
    "\n",
    "    lang = model.predict(text, threshold=0.65)\n",
    "\n",
    "    if len(lang[0]) > 0:\n",
    "        prob = lang[1][0]\n",
    "        lang = lang[0][0].replace(\"__label__\", \"\")\n",
    "\n",
    "        if lang != \"en\":\n",
    "            lang = \"others\"\n",
    "\n",
    "        langs.append(lang)\n",
    "        probs.append(prob)\n",
    "    else:\n",
    "        langs.append(\"others\")\n",
    "        probs.append(0)\n",
    "\n",
    "\n",
    "data_df.insert(loc=0, column=\"lang\", value=langs)\n",
    "data_df.insert(loc=0, column=\"prob\", value=probs)\n",
    "\n",
    "data_df[\"lang\"].value_counts()"
   ]
  },
  {
   "cell_type": "code",
   "execution_count": 106,
   "metadata": {
    "collapsed": false
   },
   "outputs": [
    {
     "data": {
      "text/html": [
       "<div>\n",
       "<style scoped>\n",
       "    .dataframe tbody tr th:only-of-type {\n",
       "        vertical-align: middle;\n",
       "    }\n",
       "\n",
       "    .dataframe tbody tr th {\n",
       "        vertical-align: top;\n",
       "    }\n",
       "\n",
       "    .dataframe thead th {\n",
       "        text-align: right;\n",
       "    }\n",
       "</style>\n",
       "<table border=\"1\" class=\"dataframe\">\n",
       "  <thead>\n",
       "    <tr style=\"text-align: right;\">\n",
       "      <th></th>\n",
       "      <th>prob</th>\n",
       "      <th>lang</th>\n",
       "      <th>asin</th>\n",
       "      <th>overall</th>\n",
       "      <th>summary</th>\n",
       "      <th>text</th>\n",
       "      <th>timestamp</th>\n",
       "      <th>vote</th>\n",
       "      <th>brand</th>\n",
       "      <th>category</th>\n",
       "      <th>description</th>\n",
       "      <th>imageURLHighRes</th>\n",
       "      <th>price</th>\n",
       "      <th>title</th>\n",
       "    </tr>\n",
       "  </thead>\n",
       "  <tbody>\n",
       "    <tr>\n",
       "      <th>51090</th>\n",
       "      <td>1.000046</td>\n",
       "      <td>others</td>\n",
       "      <td>B0030ZDNSI</td>\n",
       "      <td>5</td>\n",
       "      <td>Five Stars</td>\n",
       "      <td>Muy bien</td>\n",
       "      <td>2014-11-19</td>\n",
       "      <td>0</td>\n",
       "      <td>hynix infineon samsung top ten manufacturers</td>\n",
       "      <td>Memory</td>\n",
       "      <td>&lt;NA&gt;</td>\n",
       "      <td>&lt;NA&gt;</td>\n",
       "      <td>12.95</td>\n",
       "      <td>2GB Memory RAM Upgrade for the Dell Inspiron 1...</td>\n",
       "    </tr>\n",
       "    <tr>\n",
       "      <th>54735</th>\n",
       "      <td>1.000045</td>\n",
       "      <td>others</td>\n",
       "      <td>B003BFNYK4</td>\n",
       "      <td>4</td>\n",
       "      <td>Four Stars</td>\n",
       "      <td>muy buenas</td>\n",
       "      <td>2014-12-04</td>\n",
       "      <td>0</td>\n",
       "      <td>asrock</td>\n",
       "      <td>Motherboards</td>\n",
       "      <td>ASRock LAG 775 G41/2DR3/2DRR2/8G/MATX Motherbo...</td>\n",
       "      <td>&lt;NA&gt;</td>\n",
       "      <td>NaN</td>\n",
       "      <td>ASRock G41C-GS LGA 775 G41 DDR2+DRR3 8GB Micro...</td>\n",
       "    </tr>\n",
       "    <tr>\n",
       "      <th>240869</th>\n",
       "      <td>1.000045</td>\n",
       "      <td>others</td>\n",
       "      <td>B012TS9UOM</td>\n",
       "      <td>4</td>\n",
       "      <td>Four Stars</td>\n",
       "      <td>muy buenas</td>\n",
       "      <td>2016-07-04</td>\n",
       "      <td>0</td>\n",
       "      <td>pny</td>\n",
       "      <td>Memory</td>\n",
       "      <td>PNY Performance 8GB Kit (2x4GB) DDR3 1600MHz (...</td>\n",
       "      <td>https://images-na.ssl-images-amazon.com/images...</td>\n",
       "      <td>NaN</td>\n",
       "      <td>PNY Performance 8GB Kit DDR3 1600MHz CL11 1.35...</td>\n",
       "    </tr>\n",
       "    <tr>\n",
       "      <th>87884</th>\n",
       "      <td>1.000045</td>\n",
       "      <td>others</td>\n",
       "      <td>B005JRH9V2</td>\n",
       "      <td>5</td>\n",
       "      <td>Five Stars</td>\n",
       "      <td>Muy buenas</td>\n",
       "      <td>2017-10-02</td>\n",
       "      <td>0</td>\n",
       "      <td>corsair</td>\n",
       "      <td>Memory</td>\n",
       "      <td>Shipping Height: 0.1 Shipping Width: 5.0 Maste...</td>\n",
       "      <td>https://images-na.ssl-images-amazon.com/images...</td>\n",
       "      <td>3.89</td>\n",
       "      <td>Corsair CMSA8GX3M2A1333C9 Apple Certified 8GB ...</td>\n",
       "    </tr>\n",
       "    <tr>\n",
       "      <th>149471</th>\n",
       "      <td>1.000045</td>\n",
       "      <td>others</td>\n",
       "      <td>B00C537BQ6</td>\n",
       "      <td>5</td>\n",
       "      <td>Five Stars</td>\n",
       "      <td>MUY BUENAS</td>\n",
       "      <td>2015-02-13</td>\n",
       "      <td>0</td>\n",
       "      <td>a-tech components</td>\n",
       "      <td>Memory</td>\n",
       "      <td>2GB kit (1GBx2) DDR2 PC2-6400 DESKTOP Memory M...</td>\n",
       "      <td>&lt;NA&gt;</td>\n",
       "      <td>10.45</td>\n",
       "      <td>2GB kit (1GBx2) DDR2 PC2-6400 DESKTOP Memory M...</td>\n",
       "    </tr>\n",
       "    <tr>\n",
       "      <th>...</th>\n",
       "      <td>...</td>\n",
       "      <td>...</td>\n",
       "      <td>...</td>\n",
       "      <td>...</td>\n",
       "      <td>...</td>\n",
       "      <td>...</td>\n",
       "      <td>...</td>\n",
       "      <td>...</td>\n",
       "      <td>...</td>\n",
       "      <td>...</td>\n",
       "      <td>...</td>\n",
       "      <td>...</td>\n",
       "      <td>...</td>\n",
       "      <td>...</td>\n",
       "    </tr>\n",
       "    <tr>\n",
       "      <th>204702</th>\n",
       "      <td>0.000000</td>\n",
       "      <td>others</td>\n",
       "      <td>B00KPRWAX8</td>\n",
       "      <td>5</td>\n",
       "      <td>Five Stars</td>\n",
       "      <td>Excellent.</td>\n",
       "      <td>2015-08-23</td>\n",
       "      <td>0</td>\n",
       "      <td>intel</td>\n",
       "      <td>CPU Processors</td>\n",
       "      <td>Intel Core BX80646I74790K i7-4790K Processor (...</td>\n",
       "      <td>https://images-na.ssl-images-amazon.com/images...</td>\n",
       "      <td>7.47</td>\n",
       "      <td>Intel Core i7-4790K Processor- BX80646I74790K</td>\n",
       "    </tr>\n",
       "    <tr>\n",
       "      <th>144452</th>\n",
       "      <td>0.000000</td>\n",
       "      <td>others</td>\n",
       "      <td>B00B4BJY7E</td>\n",
       "      <td>5</td>\n",
       "      <td>excelente</td>\n",
       "      <td>excelente</td>\n",
       "      <td>2017-10-08</td>\n",
       "      <td>0</td>\n",
       "      <td>intel</td>\n",
       "      <td>CPU Processors</td>\n",
       "      <td>Intel Corporation Intel Celeron G1620 2.70 GHz...</td>\n",
       "      <td>&lt;NA&gt;</td>\n",
       "      <td>59.99</td>\n",
       "      <td>2QW2873 - Intel Celeron G1620 2.70 GHz Process...</td>\n",
       "    </tr>\n",
       "    <tr>\n",
       "      <th>251727</th>\n",
       "      <td>0.000000</td>\n",
       "      <td>others</td>\n",
       "      <td>B01AZHOWL0</td>\n",
       "      <td>5</td>\n",
       "      <td>best thing i ever bought per dollar or at all</td>\n",
       "      <td>$46 - made my PC 3x stronger. 2 gb ram adds to...</td>\n",
       "      <td>2018-08-19</td>\n",
       "      <td>0</td>\n",
       "      <td>msi</td>\n",
       "      <td>Graphics Cards</td>\n",
       "      <td>MSI GT 710 1GD3H LP: NVIDIA GeForce GT 710, 1G...</td>\n",
       "      <td>https://images-na.ssl-images-amazon.com/images...</td>\n",
       "      <td>2.54</td>\n",
       "      <td>MSI Gaming GeForce GT 710 1GB GDRR3 64-bit HDC...</td>\n",
       "    </tr>\n",
       "    <tr>\n",
       "      <th>229093</th>\n",
       "      <td>0.000000</td>\n",
       "      <td>others</td>\n",
       "      <td>B00UN7AWIK</td>\n",
       "      <td>5</td>\n",
       "      <td>Five Stars</td>\n",
       "      <td>Best motherboard I've used!</td>\n",
       "      <td>2015-09-18</td>\n",
       "      <td>0</td>\n",
       "      <td>msi</td>\n",
       "      <td>Motherboards</td>\n",
       "      <td>MSI X99A GAMING 7: Socket LGA 2011-3, Intel X9...</td>\n",
       "      <td>https://images-na.ssl-images-amazon.com/images...</td>\n",
       "      <td>NaN</td>\n",
       "      <td>MSI Extreme Gaming Intel X99 LGA 2011 DDR4 USB...</td>\n",
       "    </tr>\n",
       "    <tr>\n",
       "      <th>106186</th>\n",
       "      <td>0.000000</td>\n",
       "      <td>others</td>\n",
       "      <td>B006WAGG14</td>\n",
       "      <td>5</td>\n",
       "      <td>Fantastic!</td>\n",
       "      <td>Fantastic!</td>\n",
       "      <td>2014-10-23</td>\n",
       "      <td>0</td>\n",
       "      <td>ballistix</td>\n",
       "      <td>Memory</td>\n",
       "      <td>BLS4G3D1609DS1S00 is a single 4GB DDR3 module ...</td>\n",
       "      <td>https://images-na.ssl-images-amazon.com/images...</td>\n",
       "      <td>2.54</td>\n",
       "      <td>Ballistix Sport 4GB Single DDR3 1600 MT/s (PC3...</td>\n",
       "    </tr>\n",
       "  </tbody>\n",
       "</table>\n",
       "<p>919 rows × 14 columns</p>\n",
       "</div>"
      ],
      "text/plain": [
       "            prob    lang        asin overall  \\\n",
       "51090   1.000046  others  B0030ZDNSI       5   \n",
       "54735   1.000045  others  B003BFNYK4       4   \n",
       "240869  1.000045  others  B012TS9UOM       4   \n",
       "87884   1.000045  others  B005JRH9V2       5   \n",
       "149471  1.000045  others  B00C537BQ6       5   \n",
       "...          ...     ...         ...     ...   \n",
       "204702  0.000000  others  B00KPRWAX8       5   \n",
       "144452  0.000000  others  B00B4BJY7E       5   \n",
       "251727  0.000000  others  B01AZHOWL0       5   \n",
       "229093  0.000000  others  B00UN7AWIK       5   \n",
       "106186  0.000000  others  B006WAGG14       5   \n",
       "\n",
       "                                              summary  \\\n",
       "51090                                      Five Stars   \n",
       "54735                                      Four Stars   \n",
       "240869                                     Four Stars   \n",
       "87884                                      Five Stars   \n",
       "149471                                     Five Stars   \n",
       "...                                               ...   \n",
       "204702                                     Five Stars   \n",
       "144452                                      excelente   \n",
       "251727  best thing i ever bought per dollar or at all   \n",
       "229093                                     Five Stars   \n",
       "106186                                     Fantastic!   \n",
       "\n",
       "                                                     text  timestamp  vote  \\\n",
       "51090                                            Muy bien 2014-11-19     0   \n",
       "54735                                          muy buenas 2014-12-04     0   \n",
       "240869                                         muy buenas 2016-07-04     0   \n",
       "87884                                          Muy buenas 2017-10-02     0   \n",
       "149471                                         MUY BUENAS 2015-02-13     0   \n",
       "...                                                   ...        ...   ...   \n",
       "204702                                         Excellent. 2015-08-23     0   \n",
       "144452                                          excelente 2017-10-08     0   \n",
       "251727  $46 - made my PC 3x stronger. 2 gb ram adds to... 2018-08-19     0   \n",
       "229093                        Best motherboard I've used! 2015-09-18     0   \n",
       "106186                                         Fantastic! 2014-10-23     0   \n",
       "\n",
       "                                               brand        category  \\\n",
       "51090   hynix infineon samsung top ten manufacturers          Memory   \n",
       "54735                                         asrock    Motherboards   \n",
       "240869                                           pny          Memory   \n",
       "87884                                        corsair          Memory   \n",
       "149471                             a-tech components          Memory   \n",
       "...                                              ...             ...   \n",
       "204702                                         intel  CPU Processors   \n",
       "144452                                         intel  CPU Processors   \n",
       "251727                                           msi  Graphics Cards   \n",
       "229093                                           msi    Motherboards   \n",
       "106186                                     ballistix          Memory   \n",
       "\n",
       "                                              description  \\\n",
       "51090                                                <NA>   \n",
       "54735   ASRock LAG 775 G41/2DR3/2DRR2/8G/MATX Motherbo...   \n",
       "240869  PNY Performance 8GB Kit (2x4GB) DDR3 1600MHz (...   \n",
       "87884   Shipping Height: 0.1 Shipping Width: 5.0 Maste...   \n",
       "149471  2GB kit (1GBx2) DDR2 PC2-6400 DESKTOP Memory M...   \n",
       "...                                                   ...   \n",
       "204702  Intel Core BX80646I74790K i7-4790K Processor (...   \n",
       "144452  Intel Corporation Intel Celeron G1620 2.70 GHz...   \n",
       "251727  MSI GT 710 1GD3H LP: NVIDIA GeForce GT 710, 1G...   \n",
       "229093  MSI X99A GAMING 7: Socket LGA 2011-3, Intel X9...   \n",
       "106186  BLS4G3D1609DS1S00 is a single 4GB DDR3 module ...   \n",
       "\n",
       "                                          imageURLHighRes  price  \\\n",
       "51090                                                <NA>  12.95   \n",
       "54735                                                <NA>    NaN   \n",
       "240869  https://images-na.ssl-images-amazon.com/images...    NaN   \n",
       "87884   https://images-na.ssl-images-amazon.com/images...   3.89   \n",
       "149471                                               <NA>  10.45   \n",
       "...                                                   ...    ...   \n",
       "204702  https://images-na.ssl-images-amazon.com/images...   7.47   \n",
       "144452                                               <NA>  59.99   \n",
       "251727  https://images-na.ssl-images-amazon.com/images...   2.54   \n",
       "229093  https://images-na.ssl-images-amazon.com/images...    NaN   \n",
       "106186  https://images-na.ssl-images-amazon.com/images...   2.54   \n",
       "\n",
       "                                                    title  \n",
       "51090   2GB Memory RAM Upgrade for the Dell Inspiron 1...  \n",
       "54735   ASRock G41C-GS LGA 775 G41 DDR2+DRR3 8GB Micro...  \n",
       "240869  PNY Performance 8GB Kit DDR3 1600MHz CL11 1.35...  \n",
       "87884   Corsair CMSA8GX3M2A1333C9 Apple Certified 8GB ...  \n",
       "149471  2GB kit (1GBx2) DDR2 PC2-6400 DESKTOP Memory M...  \n",
       "...                                                   ...  \n",
       "204702      Intel Core i7-4790K Processor- BX80646I74790K  \n",
       "144452  2QW2873 - Intel Celeron G1620 2.70 GHz Process...  \n",
       "251727  MSI Gaming GeForce GT 710 1GB GDRR3 64-bit HDC...  \n",
       "229093  MSI Extreme Gaming Intel X99 LGA 2011 DDR4 USB...  \n",
       "106186  Ballistix Sport 4GB Single DDR3 1600 MT/s (PC3...  \n",
       "\n",
       "[919 rows x 14 columns]"
      ]
     },
     "execution_count": 106,
     "metadata": {},
     "output_type": "execute_result"
    }
   ],
   "source": [
    "data_df[data_df[\"lang\"] == \"others\"].sort_values(\"prob\", ascending=False)"
   ]
  },
  {
   "cell_type": "code",
   "execution_count": 107,
   "metadata": {
    "collapsed": false
   },
   "outputs": [],
   "source": [
    "# keep only english reviews\n",
    "data_df = data_df.loc[data_df[\"lang\"] == \"en\"]\n",
    "data_df.drop(columns=[\"lang\", \"prob\"], axis=1, inplace=True)"
   ]
  },
  {
   "cell_type": "code",
   "execution_count": 108,
   "metadata": {
    "collapsed": false
   },
   "outputs": [
    {
     "name": "stdout",
     "output_type": "stream",
     "text": [
      "<class 'pandas.core.frame.DataFrame'>\n",
      "Int64Index: 24054 entries, 150394 to 96130\n",
      "Data columns (total 12 columns):\n",
      " #   Column           Non-Null Count  Dtype         \n",
      "---  ------           --------------  -----         \n",
      " 0   asin             24054 non-null  category      \n",
      " 1   overall          24054 non-null  category      \n",
      " 2   summary          24054 non-null  string        \n",
      " 3   text             24054 non-null  string        \n",
      " 4   timestamp        24054 non-null  datetime64[ns]\n",
      " 5   vote             24054 non-null  int64         \n",
      " 6   brand            24054 non-null  category      \n",
      " 7   category         24054 non-null  category      \n",
      " 8   description      23341 non-null  string        \n",
      " 9   imageURLHighRes  20064 non-null  string        \n",
      " 10  price            15659 non-null  float64       \n",
      " 11  title            24054 non-null  string        \n",
      "dtypes: category(4), datetime64[ns](1), float64(1), int64(1), string(5)\n",
      "memory usage: 2.0 MB\n"
     ]
    }
   ],
   "source": [
    "data_df.info()"
   ]
  },
  {
   "cell_type": "markdown",
   "metadata": {
    "collapsed": false
   },
   "source": [
    "#### Save"
   ]
  },
  {
   "cell_type": "code",
   "execution_count": 109,
   "metadata": {
    "collapsed": false
   },
   "outputs": [
    {
     "name": "stdout",
     "output_type": "stream",
     "text": [
      "<class 'pandas.core.frame.DataFrame'>\n",
      "RangeIndex: 24054 entries, 0 to 24053\n",
      "Data columns (total 12 columns):\n",
      " #   Column           Non-Null Count  Dtype         \n",
      "---  ------           --------------  -----         \n",
      " 0   asin             24054 non-null  category      \n",
      " 1   overall          24054 non-null  category      \n",
      " 2   summary          24054 non-null  string        \n",
      " 3   text             24054 non-null  string        \n",
      " 4   timestamp        24054 non-null  datetime64[ns]\n",
      " 5   vote             24054 non-null  int64         \n",
      " 6   brand            24054 non-null  category      \n",
      " 7   category         24054 non-null  category      \n",
      " 8   description      23341 non-null  string        \n",
      " 9   imageURLHighRes  20064 non-null  string        \n",
      " 10  price            15659 non-null  float64       \n",
      " 11  title            24054 non-null  string        \n",
      "dtypes: category(4), datetime64[ns](1), float64(1), int64(1), string(5)\n",
      "memory usage: 1.8 MB\n"
     ]
    }
   ],
   "source": [
    "data_df[\"asin\"] = data_df[\"asin\"].astype(\"string\").astype(\"category\")\n",
    "data_df[\"overall\"] = data_df[\"overall\"].astype(\"string\").astype(\"category\")\n",
    "data_df[\"brand\"] = data_df[\"brand\"].astype(\"string\").astype(\"category\")\n",
    "data_df[\"category\"] = data_df[\"category\"].astype(\"string\").astype(\"category\")\n",
    "\n",
    "data_df.reset_index(drop=True, inplace=True)\n",
    "\n",
    "data_df.info()"
   ]
  },
  {
   "cell_type": "code",
   "execution_count": 110,
   "metadata": {
    "collapsed": false
   },
   "outputs": [],
   "source": [
    "data_df.to_json(processed_data_dir / \"products_reviews.json.gz\")"
   ]
  }
 ],
 "metadata": {
  "kernelspec": {
   "display_name": "Python 3",
   "language": "python",
   "name": "python3"
  },
  "language_info": {
   "codemirror_mode": {
    "name": "ipython",
    "version": 2
   },
   "file_extension": ".py",
   "mimetype": "text/x-python",
   "name": "python",
   "nbconvert_exporter": "python",
   "pygments_lexer": "ipython2",
   "version": "2.7.6"
  }
 },
 "nbformat": 4,
 "nbformat_minor": 0
}
