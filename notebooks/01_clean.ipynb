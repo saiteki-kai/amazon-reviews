{
 "cells": [
  {
   "cell_type": "code",
   "execution_count": 1,
   "metadata": {
    "collapsed": true
   },
   "outputs": [
    {
     "name": "stdout",
     "output_type": "stream",
     "text": [
      "INFO: Pandarallel will run on 8 workers.\n",
      "INFO: Pandarallel will use Memory file system to transfer data between the main process and workers.\n"
     ]
    }
   ],
   "source": [
    "import os\n",
    "import fasttext\n",
    "import numpy as np\n",
    "import pandas as pd\n",
    "import seaborn as sns\n",
    "\n",
    "from nltk.tokenize.casual import EMOTICON_RE\n",
    "from matplotlib import pyplot as plt\n",
    "from pandarallel import pandarallel\n",
    "\n",
    "from reviews.preprocess import remove_urls, strip_html\n",
    "from reviews.config import processed_data_dir\n",
    "from reviews.utils import clean_brand\n",
    "\n",
    "pandarallel.initialize(progress_bar=False, nb_workers=8)"
   ]
  },
  {
   "cell_type": "markdown",
   "source": [
    "# Data Cleaning"
   ],
   "metadata": {
    "collapsed": false
   }
  },
  {
   "cell_type": "markdown",
   "source": [
    "## Products"
   ],
   "metadata": {
    "collapsed": false
   }
  },
  {
   "cell_type": "code",
   "execution_count": 17,
   "outputs": [
    {
     "name": "stdout",
     "output_type": "stream",
     "text": [
      "<class 'pandas.core.frame.DataFrame'>\n",
      "RangeIndex: 32720 entries, 0 to 32719\n",
      "Data columns (total 7 columns):\n",
      " #   Column           Non-Null Count  Dtype \n",
      "---  ------           --------------  ----- \n",
      " 0   asin             32720 non-null  object\n",
      " 1   brand            32720 non-null  object\n",
      " 2   category         32720 non-null  object\n",
      " 3   description      32720 non-null  object\n",
      " 4   imageURLHighRes  32720 non-null  object\n",
      " 5   price            32720 non-null  object\n",
      " 6   title            32720 non-null  object\n",
      "dtypes: object(7)\n",
      "memory usage: 1.7+ MB\n"
     ]
    }
   ],
   "source": [
    "prod_df = pd.read_json(processed_data_dir / \"meta.json.gz\")\n",
    "prod_df = prod_df.reindex(sorted(prod_df.columns), axis=1)  # sort columns\n",
    "prod_df.info()"
   ],
   "metadata": {
    "collapsed": false
   }
  },
  {
   "cell_type": "code",
   "execution_count": 18,
   "outputs": [
    {
     "data": {
      "text/plain": "         asin           brand  \\\n0  7500653883  ECS Elitegroup   \n1  7799813393          MyGica   \n2  B00000J3OG        Creative   \n3  B00000J3WY             APC   \n4  B00000J576        Creative   \n5  B00000J579        Creative   \n6  B00000J571        Creative   \n7  B00000JBB8         Diamond   \n8  B00000JBBJ       SONICblue   \n9  B00000JBJ8             PNY   \n\n                                            category  \\\n0  [Electronics, Computers & Accessories, Compute...   \n1  [Electronics, Computers & Accessories, Compute...   \n2  [Electronics, Computers & Accessories, Compute...   \n3  [Electronics, Computers & Accessories, Compute...   \n4  [Electronics, Computers & Accessories, Compute...   \n5  [Electronics, Computers & Accessories, Compute...   \n6  [Electronics, Computers & Accessories, Compute...   \n7  [Electronics, Computers & Accessories, Compute...   \n8  [Electronics, Computers & Accessories, Compute...   \n9  [Electronics, Computers & Accessories, Compute...   \n\n                                         description  \\\n0                                                 []   \n1  [Mygica EZgrabber2 USB 2.0 Video Capture, VHS ...   \n2                                                 []   \n3          [APC 650 VA Uninterruptable Power Supply]   \n4         [Unleash incredible graphics performance!]   \n5  [Based on the award-winning Sound Blaster 16 t...   \n6         [Unleash incredible graphics performance!]   \n7  [Monster Sound MX300 is the new-generation PCI...   \n8  [Based on the NVIDIA RIVA TNT Ultra chip set, ...   \n9  [Adding memory to your new or existing desktop...   \n\n                                     imageURLHighRes  price  \\\n0                                                 []          \n1  [https://images-na.ssl-images-amazon.com/image...          \n2                                                 []          \n3                                                 []          \n4                                                 []          \n5                                                 []  $2.05   \n6                                                 []          \n7                                                 []          \n8  [https://images-na.ssl-images-amazon.com/image...          \n9                                                 []          \n\n                                               title  \n0  ECS PT800CE-A Socket 478 Motherboard Prescott ...  \n1  Mygica EZgrabber USB 2.0 Video Capture, VHS to...  \n2  Creative Labs DI5601 Modem Blaster 56K Interna...  \n3  APC 650VA Back-Up Power Supply (Discontinued b...  \n4  Creative Labs 3DB6815BULK 3D Blaster Savage4 P...  \n5      Creative Labs Sound Blaster 16 PCI Sound Card  \n6    Creative Labs 3DB6901 3D Blaster Savage4 AGP 32  \n7  Diamond MX300 MonsterSound PCI Audio Accelerat...  \n8      Diamond Viper V770 Ultra Graphics Accelerator  \n9  PNY 64174ESEM4G-CS 128MB 168 Pin DIMM SDRAM PC...  ",
      "text/html": "<div>\n<style scoped>\n    .dataframe tbody tr th:only-of-type {\n        vertical-align: middle;\n    }\n\n    .dataframe tbody tr th {\n        vertical-align: top;\n    }\n\n    .dataframe thead th {\n        text-align: right;\n    }\n</style>\n<table border=\"1\" class=\"dataframe\">\n  <thead>\n    <tr style=\"text-align: right;\">\n      <th></th>\n      <th>asin</th>\n      <th>brand</th>\n      <th>category</th>\n      <th>description</th>\n      <th>imageURLHighRes</th>\n      <th>price</th>\n      <th>title</th>\n    </tr>\n  </thead>\n  <tbody>\n    <tr>\n      <th>0</th>\n      <td>7500653883</td>\n      <td>ECS Elitegroup</td>\n      <td>[Electronics, Computers &amp; Accessories, Compute...</td>\n      <td>[]</td>\n      <td>[]</td>\n      <td></td>\n      <td>ECS PT800CE-A Socket 478 Motherboard Prescott ...</td>\n    </tr>\n    <tr>\n      <th>1</th>\n      <td>7799813393</td>\n      <td>MyGica</td>\n      <td>[Electronics, Computers &amp; Accessories, Compute...</td>\n      <td>[Mygica EZgrabber2 USB 2.0 Video Capture, VHS ...</td>\n      <td>[https://images-na.ssl-images-amazon.com/image...</td>\n      <td></td>\n      <td>Mygica EZgrabber USB 2.0 Video Capture, VHS to...</td>\n    </tr>\n    <tr>\n      <th>2</th>\n      <td>B00000J3OG</td>\n      <td>Creative</td>\n      <td>[Electronics, Computers &amp; Accessories, Compute...</td>\n      <td>[]</td>\n      <td>[]</td>\n      <td></td>\n      <td>Creative Labs DI5601 Modem Blaster 56K Interna...</td>\n    </tr>\n    <tr>\n      <th>3</th>\n      <td>B00000J3WY</td>\n      <td>APC</td>\n      <td>[Electronics, Computers &amp; Accessories, Compute...</td>\n      <td>[APC 650 VA Uninterruptable Power Supply]</td>\n      <td>[]</td>\n      <td></td>\n      <td>APC 650VA Back-Up Power Supply (Discontinued b...</td>\n    </tr>\n    <tr>\n      <th>4</th>\n      <td>B00000J576</td>\n      <td>Creative</td>\n      <td>[Electronics, Computers &amp; Accessories, Compute...</td>\n      <td>[Unleash incredible graphics performance!]</td>\n      <td>[]</td>\n      <td></td>\n      <td>Creative Labs 3DB6815BULK 3D Blaster Savage4 P...</td>\n    </tr>\n    <tr>\n      <th>5</th>\n      <td>B00000J579</td>\n      <td>Creative</td>\n      <td>[Electronics, Computers &amp; Accessories, Compute...</td>\n      <td>[Based on the award-winning Sound Blaster 16 t...</td>\n      <td>[]</td>\n      <td>$2.05</td>\n      <td>Creative Labs Sound Blaster 16 PCI Sound Card</td>\n    </tr>\n    <tr>\n      <th>6</th>\n      <td>B00000J571</td>\n      <td>Creative</td>\n      <td>[Electronics, Computers &amp; Accessories, Compute...</td>\n      <td>[Unleash incredible graphics performance!]</td>\n      <td>[]</td>\n      <td></td>\n      <td>Creative Labs 3DB6901 3D Blaster Savage4 AGP 32</td>\n    </tr>\n    <tr>\n      <th>7</th>\n      <td>B00000JBB8</td>\n      <td>Diamond</td>\n      <td>[Electronics, Computers &amp; Accessories, Compute...</td>\n      <td>[Monster Sound MX300 is the new-generation PCI...</td>\n      <td>[]</td>\n      <td></td>\n      <td>Diamond MX300 MonsterSound PCI Audio Accelerat...</td>\n    </tr>\n    <tr>\n      <th>8</th>\n      <td>B00000JBBJ</td>\n      <td>SONICblue</td>\n      <td>[Electronics, Computers &amp; Accessories, Compute...</td>\n      <td>[Based on the NVIDIA RIVA TNT Ultra chip set, ...</td>\n      <td>[https://images-na.ssl-images-amazon.com/image...</td>\n      <td></td>\n      <td>Diamond Viper V770 Ultra Graphics Accelerator</td>\n    </tr>\n    <tr>\n      <th>9</th>\n      <td>B00000JBJ8</td>\n      <td>PNY</td>\n      <td>[Electronics, Computers &amp; Accessories, Compute...</td>\n      <td>[Adding memory to your new or existing desktop...</td>\n      <td>[]</td>\n      <td></td>\n      <td>PNY 64174ESEM4G-CS 128MB 168 Pin DIMM SDRAM PC...</td>\n    </tr>\n  </tbody>\n</table>\n</div>"
     },
     "execution_count": 18,
     "metadata": {},
     "output_type": "execute_result"
    }
   ],
   "source": [
    "prod_df.head(10)"
   ],
   "metadata": {
    "collapsed": false
   }
  },
  {
   "cell_type": "markdown",
   "source": [
    "### Transform Data"
   ],
   "metadata": {
    "collapsed": false
   }
  },
  {
   "cell_type": "code",
   "execution_count": 19,
   "outputs": [],
   "source": [
    "# keep the first subcategory and rename categories\n",
    "prod_df[\"category\"] = prod_df[\"category\"].parallel_apply(\n",
    "    lambda x: x[4] if len(x) > 4 else \"other\"\n",
    ")\n",
    "prod_df[\"category\"] = prod_df[\"category\"].apply(\n",
    "    lambda cat: cat.replace(\"Internal\", \"\").strip() if type(cat) is str else cat\n",
    ")\n",
    "\n",
    "# join description in a single string\n",
    "prod_df[\"description\"] = prod_df[\"description\"].parallel_apply(lambda x: \" \".join(x))\n",
    "\n",
    "# remove html and replace empty with NA\n",
    "for col in [\"category\", \"description\", \"title\", \"brand\", \"asin\"]:\n",
    "    prod_df[col] = prod_df[col].astype(\"string\").parallel_apply(strip_html)\n",
    "    prod_df.loc[prod_df[col] == \"\", col] = np.nan\n",
    "\n",
    "# fix price\n",
    "prod_df[\"price\"] = prod_df[\"price\"].astype(\"string\").parallel_apply(strip_html)\n",
    "prod_df[\"price\"] = prod_df[\"price\"].str.replace(\"[\\$,]\", \"\", regex=True)\n",
    "prod_df.loc[prod_df[\"price\"].str.len() == 0, \"price\"] = np.nan\n",
    "prod_df.loc[prod_df[\"price\"].str.len() > 20, \"price\"] = np.nan\n",
    "\n",
    "prod_df[\"brand\"] = prod_df[\"brand\"].apply(clean_brand)\n",
    "\n",
    "prod_df[\"imageURLHighRes\"] = prod_df[\"imageURLHighRes\"].parallel_apply(lambda x: x[0] if x else np.nan)"
   ],
   "metadata": {
    "collapsed": false
   }
  },
  {
   "cell_type": "code",
   "execution_count": 20,
   "outputs": [
    {
     "data": {
      "text/plain": "         asin           brand                  category  \\\n0  7500653883  ecs elitegroup              Motherboards   \n1  7799813393          mygica  TV Tuner & Capture Cards   \n2  B00000J3OG        creative                    Modems   \n3  B00000J3WY             apc            Power Supplies   \n4  B00000J576        creative            Graphics Cards   \n5  B00000J579        creative               Sound Cards   \n6  B00000J571        creative            Graphics Cards   \n7  B00000JBB8         diamond            Graphics Cards   \n8  B00000JBBJ       sonicblue            Graphics Cards   \n9  B00000JBJ8             pny                    Memory   \n\n                                         description  \\\n0                                                NaN   \n1  Mygica EZgrabber2 USB 2.0 Video Capture, VHS t...   \n2                                                NaN   \n3            APC 650 VA Uninterruptable Power Supply   \n4           Unleash incredible graphics performance!   \n5  Based on the award-winning Sound Blaster 16 te...   \n6           Unleash incredible graphics performance!   \n7  Monster Sound MX300 is the new-generation PCI ...   \n8  Based on the NVIDIA RIVA TNT Ultra chip set, D...   \n9  Adding memory to your new or existing desktop ...   \n\n                                     imageURLHighRes price  \\\n0                                                NaN   NaN   \n1  https://images-na.ssl-images-amazon.com/images...   NaN   \n2                                                NaN   NaN   \n3                                                NaN   NaN   \n4                                                NaN   NaN   \n5                                                NaN  2.05   \n6                                                NaN   NaN   \n7                                                NaN   NaN   \n8  https://images-na.ssl-images-amazon.com/images...   NaN   \n9                                                NaN   NaN   \n\n                                               title  \n0  ECS PT800CE-A Socket 478 Motherboard Prescott ...  \n1  Mygica EZgrabber USB 2.0 Video Capture, VHS to...  \n2  Creative Labs DI5601 Modem Blaster 56K Interna...  \n3  APC 650VA Back-Up Power Supply (Discontinued b...  \n4  Creative Labs 3DB6815BULK 3D Blaster Savage4 P...  \n5      Creative Labs Sound Blaster 16 PCI Sound Card  \n6    Creative Labs 3DB6901 3D Blaster Savage4 AGP 32  \n7  Diamond MX300 MonsterSound PCI Audio Accelerat...  \n8      Diamond Viper V770 Ultra Graphics Accelerator  \n9  PNY 64174ESEM4G-CS 128MB 168 Pin DIMM SDRAM PC...  ",
      "text/html": "<div>\n<style scoped>\n    .dataframe tbody tr th:only-of-type {\n        vertical-align: middle;\n    }\n\n    .dataframe tbody tr th {\n        vertical-align: top;\n    }\n\n    .dataframe thead th {\n        text-align: right;\n    }\n</style>\n<table border=\"1\" class=\"dataframe\">\n  <thead>\n    <tr style=\"text-align: right;\">\n      <th></th>\n      <th>asin</th>\n      <th>brand</th>\n      <th>category</th>\n      <th>description</th>\n      <th>imageURLHighRes</th>\n      <th>price</th>\n      <th>title</th>\n    </tr>\n  </thead>\n  <tbody>\n    <tr>\n      <th>0</th>\n      <td>7500653883</td>\n      <td>ecs elitegroup</td>\n      <td>Motherboards</td>\n      <td>NaN</td>\n      <td>NaN</td>\n      <td>NaN</td>\n      <td>ECS PT800CE-A Socket 478 Motherboard Prescott ...</td>\n    </tr>\n    <tr>\n      <th>1</th>\n      <td>7799813393</td>\n      <td>mygica</td>\n      <td>TV Tuner &amp; Capture Cards</td>\n      <td>Mygica EZgrabber2 USB 2.0 Video Capture, VHS t...</td>\n      <td>https://images-na.ssl-images-amazon.com/images...</td>\n      <td>NaN</td>\n      <td>Mygica EZgrabber USB 2.0 Video Capture, VHS to...</td>\n    </tr>\n    <tr>\n      <th>2</th>\n      <td>B00000J3OG</td>\n      <td>creative</td>\n      <td>Modems</td>\n      <td>NaN</td>\n      <td>NaN</td>\n      <td>NaN</td>\n      <td>Creative Labs DI5601 Modem Blaster 56K Interna...</td>\n    </tr>\n    <tr>\n      <th>3</th>\n      <td>B00000J3WY</td>\n      <td>apc</td>\n      <td>Power Supplies</td>\n      <td>APC 650 VA Uninterruptable Power Supply</td>\n      <td>NaN</td>\n      <td>NaN</td>\n      <td>APC 650VA Back-Up Power Supply (Discontinued b...</td>\n    </tr>\n    <tr>\n      <th>4</th>\n      <td>B00000J576</td>\n      <td>creative</td>\n      <td>Graphics Cards</td>\n      <td>Unleash incredible graphics performance!</td>\n      <td>NaN</td>\n      <td>NaN</td>\n      <td>Creative Labs 3DB6815BULK 3D Blaster Savage4 P...</td>\n    </tr>\n    <tr>\n      <th>5</th>\n      <td>B00000J579</td>\n      <td>creative</td>\n      <td>Sound Cards</td>\n      <td>Based on the award-winning Sound Blaster 16 te...</td>\n      <td>NaN</td>\n      <td>2.05</td>\n      <td>Creative Labs Sound Blaster 16 PCI Sound Card</td>\n    </tr>\n    <tr>\n      <th>6</th>\n      <td>B00000J571</td>\n      <td>creative</td>\n      <td>Graphics Cards</td>\n      <td>Unleash incredible graphics performance!</td>\n      <td>NaN</td>\n      <td>NaN</td>\n      <td>Creative Labs 3DB6901 3D Blaster Savage4 AGP 32</td>\n    </tr>\n    <tr>\n      <th>7</th>\n      <td>B00000JBB8</td>\n      <td>diamond</td>\n      <td>Graphics Cards</td>\n      <td>Monster Sound MX300 is the new-generation PCI ...</td>\n      <td>NaN</td>\n      <td>NaN</td>\n      <td>Diamond MX300 MonsterSound PCI Audio Accelerat...</td>\n    </tr>\n    <tr>\n      <th>8</th>\n      <td>B00000JBBJ</td>\n      <td>sonicblue</td>\n      <td>Graphics Cards</td>\n      <td>Based on the NVIDIA RIVA TNT Ultra chip set, D...</td>\n      <td>https://images-na.ssl-images-amazon.com/images...</td>\n      <td>NaN</td>\n      <td>Diamond Viper V770 Ultra Graphics Accelerator</td>\n    </tr>\n    <tr>\n      <th>9</th>\n      <td>B00000JBJ8</td>\n      <td>pny</td>\n      <td>Memory</td>\n      <td>Adding memory to your new or existing desktop ...</td>\n      <td>NaN</td>\n      <td>NaN</td>\n      <td>PNY 64174ESEM4G-CS 128MB 168 Pin DIMM SDRAM PC...</td>\n    </tr>\n  </tbody>\n</table>\n</div>"
     },
     "execution_count": 20,
     "metadata": {},
     "output_type": "execute_result"
    }
   ],
   "source": [
    "prod_df.head(10)"
   ],
   "metadata": {
    "collapsed": false
   }
  },
  {
   "cell_type": "markdown",
   "source": [
    "### Convert Data Types"
   ],
   "metadata": {
    "collapsed": false
   }
  },
  {
   "cell_type": "code",
   "execution_count": 21,
   "outputs": [],
   "source": [
    "prod_df[\"asin\"] = prod_df[\"asin\"].astype(\"string\")\n",
    "prod_df[\"brand\"] = prod_df[\"brand\"].astype(\"category\")\n",
    "prod_df[\"category\"] = prod_df[\"category\"].astype(\"category\")\n",
    "prod_df[\"description\"] = prod_df[\"description\"].astype(\"string\")\n",
    "prod_df[\"price\"] = prod_df[\"price\"].astype(\"float\")\n",
    "prod_df[\"title\"] = prod_df[\"title\"].astype(\"string\")\n",
    "prod_df[\"imageURLHighRes\"] = prod_df[\"imageURLHighRes\"].astype(\"string\")"
   ],
   "metadata": {
    "collapsed": false
   }
  },
  {
   "cell_type": "markdown",
   "source": [
    "### Check missing or null values"
   ],
   "metadata": {
    "collapsed": false
   }
  },
  {
   "cell_type": "code",
   "execution_count": 22,
   "outputs": [
    {
     "name": "stdout",
     "output_type": "stream",
     "text": [
      "<class 'pandas.core.frame.DataFrame'>\n",
      "RangeIndex: 32720 entries, 0 to 32719\n",
      "Data columns (total 7 columns):\n",
      " #   Column           Non-Null Count  Dtype   \n",
      "---  ------           --------------  -----   \n",
      " 0   asin             32720 non-null  string  \n",
      " 1   brand            32612 non-null  category\n",
      " 2   category         32719 non-null  category\n",
      " 3   description      30405 non-null  string  \n",
      " 4   imageURLHighRes  15982 non-null  string  \n",
      " 5   price            15855 non-null  float64 \n",
      " 6   title            32720 non-null  string  \n",
      "dtypes: category(2), float64(1), string(4)\n",
      "memory usage: 1.4 MB\n"
     ]
    }
   ],
   "source": [
    "prod_df.info()"
   ],
   "metadata": {
    "collapsed": false
   }
  },
  {
   "cell_type": "code",
   "execution_count": 23,
   "outputs": [
    {
     "data": {
      "text/plain": "<Figure size 2000x400 with 2 Axes>",
      "image/png": "[encoded data removed]"
     },
     "metadata": {},
     "output_type": "display_data"
    }
   ],
   "source": [
    "fig, axes = plt.subplots(1, 2, figsize=(20, 4))\n",
    "sns.heatmap(prod_df.isna().T, cbar=False, xticklabels=False, ax=axes[0])\n",
    "sns.barplot(\n",
    "    y=prod_df.columns,\n",
    "    x=(len(prod_df) - prod_df.count()) / len(prod_df) * 100,\n",
    "    ax=axes[1],\n",
    ")\n",
    "fig.tight_layout()"
   ],
   "metadata": {
    "collapsed": false
   }
  },
  {
   "cell_type": "markdown",
   "source": [
    "### Duplicates"
   ],
   "metadata": {
    "collapsed": false
   }
  },
  {
   "cell_type": "code",
   "execution_count": 24,
   "outputs": [],
   "source": [
    "# remove duplicates\n",
    "prod_df.drop_duplicates(inplace=True)"
   ],
   "metadata": {
    "collapsed": false
   }
  },
  {
   "cell_type": "markdown",
   "source": [
    "## Reviews"
   ],
   "metadata": {
    "collapsed": false
   }
  },
  {
   "cell_type": "code",
   "execution_count": 25,
   "outputs": [
    {
     "name": "stdout",
     "output_type": "stream",
     "text": [
      "<class 'pandas.core.frame.DataFrame'>\n",
      "RangeIndex: 269027 entries, 0 to 269026\n",
      "Data columns (total 6 columns):\n",
      " #   Column     Non-Null Count   Dtype         \n",
      "---  ------     --------------   -----         \n",
      " 0   asin       269027 non-null  object        \n",
      " 1   overall    269027 non-null  int64         \n",
      " 2   summary    269027 non-null  object        \n",
      " 3   text       269027 non-null  object        \n",
      " 4   timestamp  269027 non-null  datetime64[ns]\n",
      " 5   vote       269027 non-null  int64         \n",
      "dtypes: datetime64[ns](1), int64(2), object(3)\n",
      "memory usage: 12.3+ MB\n"
     ]
    }
   ],
   "source": [
    "review_df = pd.read_json(processed_data_dir / \"reviews.json.gz\")\n",
    "review_df = review_df.reindex(sorted(review_df.columns), axis=1)  # sort columns\n",
    "review_df.info()"
   ],
   "metadata": {
    "collapsed": false
   }
  },
  {
   "cell_type": "code",
   "execution_count": 26,
   "outputs": [
    {
     "data": {
      "text/plain": "         asin  overall                                        summary  \\\n0  7799813393        3                       Good for what it can do.   \n1  7799813393        4                                     works well   \n2  7799813393        4                             Cheap and it works   \n3  B00000J579        5  Easy to Use, Almost everything you could want   \n4  B00000J579        3                                        Bathtub   \n5  B00000J579        4                   Good low-end, no-hassle card   \n6  B00000J579        3           Ok for the price and basic functions   \n7  B00000JDKU        4                                      good card   \n8  B00000JDKU        5                                           WOW!   \n9  B00000JF4L        5                              An excellent card   \n\n                                                text  timestamp  vote  \n0  Bought this to transfer video from some old eq... 2013-01-17     0  \n1  The EZGrabber2 works well but it's software is... 2012-09-04     0  \n2  I got this because it was pretty decently pric... 2012-08-27     6  \n3  This sound card doesn't reproduce MP3 or WAV f... 2000-10-10    32  \n4  Essentially, this is the entry-level, 16-bit a... 2000-09-04     4  \n5  This is a basic sound card.  Nothing fancy.  T... 2002-07-03     6  \n6  This is a basic low-end sound card. It puts ou... 2002-04-04     8  \n7  The Voodoo 3 is a great card that replaces bot... 1999-11-21    18  \n8  This card is so fast and really high resolutio... 1999-07-15     4  \n9  Let me first state that I purchased this card ... 2000-03-15    38  ",
      "text/html": "<div>\n<style scoped>\n    .dataframe tbody tr th:only-of-type {\n        vertical-align: middle;\n    }\n\n    .dataframe tbody tr th {\n        vertical-align: top;\n    }\n\n    .dataframe thead th {\n        text-align: right;\n    }\n</style>\n<table border=\"1\" class=\"dataframe\">\n  <thead>\n    <tr style=\"text-align: right;\">\n      <th></th>\n      <th>asin</th>\n      <th>overall</th>\n      <th>summary</th>\n      <th>text</th>\n      <th>timestamp</th>\n      <th>vote</th>\n    </tr>\n  </thead>\n  <tbody>\n    <tr>\n      <th>0</th>\n      <td>7799813393</td>\n      <td>3</td>\n      <td>Good for what it can do.</td>\n      <td>Bought this to transfer video from some old eq...</td>\n      <td>2013-01-17</td>\n      <td>0</td>\n    </tr>\n    <tr>\n      <th>1</th>\n      <td>7799813393</td>\n      <td>4</td>\n      <td>works well</td>\n      <td>The EZGrabber2 works well but it's software is...</td>\n      <td>2012-09-04</td>\n      <td>0</td>\n    </tr>\n    <tr>\n      <th>2</th>\n      <td>7799813393</td>\n      <td>4</td>\n      <td>Cheap and it works</td>\n      <td>I got this because it was pretty decently pric...</td>\n      <td>2012-08-27</td>\n      <td>6</td>\n    </tr>\n    <tr>\n      <th>3</th>\n      <td>B00000J579</td>\n      <td>5</td>\n      <td>Easy to Use, Almost everything you could want</td>\n      <td>This sound card doesn't reproduce MP3 or WAV f...</td>\n      <td>2000-10-10</td>\n      <td>32</td>\n    </tr>\n    <tr>\n      <th>4</th>\n      <td>B00000J579</td>\n      <td>3</td>\n      <td>Bathtub</td>\n      <td>Essentially, this is the entry-level, 16-bit a...</td>\n      <td>2000-09-04</td>\n      <td>4</td>\n    </tr>\n    <tr>\n      <th>5</th>\n      <td>B00000J579</td>\n      <td>4</td>\n      <td>Good low-end, no-hassle card</td>\n      <td>This is a basic sound card.  Nothing fancy.  T...</td>\n      <td>2002-07-03</td>\n      <td>6</td>\n    </tr>\n    <tr>\n      <th>6</th>\n      <td>B00000J579</td>\n      <td>3</td>\n      <td>Ok for the price and basic functions</td>\n      <td>This is a basic low-end sound card. It puts ou...</td>\n      <td>2002-04-04</td>\n      <td>8</td>\n    </tr>\n    <tr>\n      <th>7</th>\n      <td>B00000JDKU</td>\n      <td>4</td>\n      <td>good card</td>\n      <td>The Voodoo 3 is a great card that replaces bot...</td>\n      <td>1999-11-21</td>\n      <td>18</td>\n    </tr>\n    <tr>\n      <th>8</th>\n      <td>B00000JDKU</td>\n      <td>5</td>\n      <td>WOW!</td>\n      <td>This card is so fast and really high resolutio...</td>\n      <td>1999-07-15</td>\n      <td>4</td>\n    </tr>\n    <tr>\n      <th>9</th>\n      <td>B00000JF4L</td>\n      <td>5</td>\n      <td>An excellent card</td>\n      <td>Let me first state that I purchased this card ...</td>\n      <td>2000-03-15</td>\n      <td>38</td>\n    </tr>\n  </tbody>\n</table>\n</div>"
     },
     "execution_count": 26,
     "metadata": {},
     "output_type": "execute_result"
    }
   ],
   "source": [
    "review_df.head(10)"
   ],
   "metadata": {
    "collapsed": false
   }
  },
  {
   "cell_type": "code",
   "execution_count": 27,
   "outputs": [],
   "source": [
    "# remove html and replace empty with NA\n",
    "for col in [\"asin\", \"overall\", \"summary\", \"text\", \"timestamp\", \"vote\"]:\n",
    "    review_df[col] = review_df[col].astype(\"string\").parallel_apply(strip_html)\n",
    "    review_df.loc[review_df[col] == \"\", col] = np.nan"
   ],
   "metadata": {
    "collapsed": false
   }
  },
  {
   "cell_type": "markdown",
   "source": [
    "### Convert Data Types"
   ],
   "metadata": {
    "collapsed": false
   }
  },
  {
   "cell_type": "code",
   "execution_count": 28,
   "outputs": [],
   "source": [
    "review_df[\"asin\"] = review_df[\"asin\"].astype(\"category\")\n",
    "review_df[\"overall\"] = review_df[\"overall\"].astype(\"category\")\n",
    "review_df[\"summary\"] = review_df[\"summary\"].astype(\"string\")\n",
    "review_df[\"text\"] = review_df[\"text\"].astype(\"string\")\n",
    "review_df[\"timestamp\"] = pd.to_datetime(review_df[\"timestamp\"], errors=\"coerce\")\n",
    "review_df[\"vote\"] = review_df[\"vote\"].astype(\"int\")"
   ],
   "metadata": {
    "collapsed": false
   }
  },
  {
   "cell_type": "code",
   "execution_count": 29,
   "outputs": [
    {
     "name": "stdout",
     "output_type": "stream",
     "text": [
      "<class 'pandas.core.frame.DataFrame'>\n",
      "RangeIndex: 269027 entries, 0 to 269026\n",
      "Data columns (total 6 columns):\n",
      " #   Column     Non-Null Count   Dtype         \n",
      "---  ------     --------------   -----         \n",
      " 0   asin       269027 non-null  category      \n",
      " 1   overall    269027 non-null  category      \n",
      " 2   summary    269027 non-null  string        \n",
      " 3   text       269025 non-null  string        \n",
      " 4   timestamp  269027 non-null  datetime64[ns]\n",
      " 5   vote       269027 non-null  int64         \n",
      "dtypes: category(2), datetime64[ns](1), int64(1), string(2)\n",
      "memory usage: 9.3 MB\n"
     ]
    }
   ],
   "source": [
    "review_df.info()"
   ],
   "metadata": {
    "collapsed": false
   }
  },
  {
   "cell_type": "markdown",
   "source": [
    "### Missing Values"
   ],
   "metadata": {
    "collapsed": false
   }
  },
  {
   "cell_type": "code",
   "execution_count": 30,
   "outputs": [
    {
     "data": {
      "text/plain": "<Figure size 2000x400 with 2 Axes>",
      "image/png": "[encoded data removed]"
     },
     "metadata": {},
     "output_type": "display_data"
    }
   ],
   "source": [
    "fig, axes = plt.subplots(1, 2, figsize=(20, 4))\n",
    "sns.heatmap(review_df.isna().T, cbar=False, xticklabels=False, ax=axes[0])\n",
    "sns.barplot(\n",
    "    y=review_df.columns,\n",
    "    x=(len(review_df) - review_df.count()) / len(review_df) * 100,\n",
    "    ax=axes[1],\n",
    ")\n",
    "fig.tight_layout()"
   ],
   "metadata": {
    "collapsed": false
   }
  },
  {
   "cell_type": "code",
   "execution_count": 31,
   "outputs": [],
   "source": [
    "# remove empty text\n",
    "review_df = review_df.loc[~review_df[\"text\"].isna()]"
   ],
   "metadata": {
    "collapsed": false
   }
  },
  {
   "cell_type": "markdown",
   "source": [
    "### Emojis"
   ],
   "metadata": {
    "collapsed": false
   }
  },
  {
   "cell_type": "code",
   "execution_count": 32,
   "outputs": [],
   "source": [
    "def find_emoji(t):\n",
    "    return \", \".join(set(EMOTICON_RE.findall(t)))\n",
    "\n",
    "\n",
    "review_df[\"emoji\"] = review_df[\"text\"].apply(find_emoji)"
   ],
   "metadata": {
    "collapsed": false
   }
  },
  {
   "cell_type": "code",
   "execution_count": 33,
   "outputs": [
    {
     "data": {
      "text/plain": "                  258118\n:)                  1870\nd:                  1146\np:                   618\nd;                   539\n                   ...  \n8\\, :O)                1\n=(, p:                 1\nd;, d:, :/             1\np:, ):, d:, :/         1\n=), 8P                 1\nName: emoji, Length: 788, dtype: int64"
     },
     "execution_count": 33,
     "metadata": {},
     "output_type": "execute_result"
    }
   ],
   "source": [
    "review_df[\"emoji\"].value_counts()"
   ],
   "metadata": {
    "collapsed": false
   }
  },
  {
   "cell_type": "code",
   "execution_count": 34,
   "outputs": [
    {
     "name": "stdout",
     "output_type": "stream",
     "text": [
      "{');', '8-P', '/=', 'p8', ':8', ':o)', '@:', ';D', ':=', '=[', ';[', '(O;', ';d', ')8', ';P', ';/', 'po=', 'd=', ':-)', '8\\\\', '\\\\=', 'd-8', '=\\\\', '=D', 'P-8', ';]', '8d', 'po8', '=d', 'do;', ';(', '<:-)', '{:', '=P', ';-(', ':o(', 'P=', '];', '/O:', '|:', '8p', '(o;', '<3', ')=', ':-|', ':op', '=(', '(-:', '8}', \"8')\", '8[', '8D', ';)', '8(', ':-p', '>:/', 'd;', ':p', '(:', '=p', '8:', 'p=', 'DO:', ':}', ':O)', ':d', 'D;', '::', ':|', 'P;', '(*8', '={', ';o)', \"='D\", '):', 'p-8', ':@', '/:', ':P', '[=', '{8', '/;', ':/', '8/', '8-p', '=]', '8@', '\\\\8', '=|', 'D-8', '=-)', ':\\\\', ':-P', \":')\", 'd:', '};', ']=', '(;', ';p', '[8', ':D', ')-8', ':-/', '>8)', 'D=', ':]', ':{', ']:', '@8', '8-D', '}=', ':[', 'Do;', '8P', 'P8', 'p;', '8)', '/8', '8-d', '=/', '>:(', '>:|', ':(', 'd8', 'do:', '(=', ';-)', '=od', '(8', 'p:', '=)', ':-(', '(O8', \"8'D\", 'D8', ':-\\\\', '|=', 'P:', '8]', ':-]', '8{', ':)', ';-|', ':-D', 'D:', \":'(\", '>;-('}\n"
     ]
    }
   ],
   "source": [
    "emoji_list = []\n",
    "for emojis in set(review_df[review_df[\"emoji\"] != \"\"][\"emoji\"].tolist()):\n",
    "    emoji_list.extend(emojis.split(\", \"))\n",
    "\n",
    "emoji_list = set(emoji_list)\n",
    "print(emoji_list)\n",
    "\n",
    "review_df.drop(columns=[\"emoji\"], inplace=True)"
   ],
   "metadata": {
    "collapsed": false
   }
  },
  {
   "cell_type": "markdown",
   "source": [
    "### Duplicates"
   ],
   "metadata": {
    "collapsed": false
   }
  },
  {
   "cell_type": "code",
   "execution_count": 35,
   "outputs": [],
   "source": [
    "# remove duplicates\n",
    "review_df.drop_duplicates(inplace=True)"
   ],
   "metadata": {
    "collapsed": false
   }
  },
  {
   "cell_type": "markdown",
   "source": [
    "### Language Detection"
   ],
   "metadata": {
    "collapsed": false
   }
  },
  {
   "cell_type": "code",
   "execution_count": 36,
   "outputs": [],
   "source": [
    "if not os.path.exists(\"/tmp/lid.176.bin\"):\n",
    "    os.system(\n",
    "        \"wget -O /tmp/lid.176.bin 'https://dl.fbaipublicfiles.com/fasttext/supervised-models/lid.176.bin'\"\n",
    "    )"
   ],
   "metadata": {
    "collapsed": false
   }
  },
  {
   "cell_type": "code",
   "execution_count": 37,
   "outputs": [],
   "source": [
    "model = fasttext.load_model(\"/tmp/lid.176.bin\")\n",
    "\n",
    "langs = []\n",
    "for i, row in review_df.iterrows():\n",
    "    text = row[\"summary\"] + \". \" + row[\"text\"].replace(\"\\n\", \" \")\n",
    "\n",
    "    text = remove_urls(text)\n",
    "    text = strip_html(text)\n",
    "\n",
    "    text = text.lower()\n",
    "\n",
    "    lang = model.predict(text, threshold=0.95)\n",
    "\n",
    "    if len(lang[0]) > 0:\n",
    "        lang = lang[0][0].replace(\"__label__\", \"\")\n",
    "\n",
    "        if lang != \"en\":\n",
    "            lang = \"unknown\"\n",
    "\n",
    "        langs.append(lang)\n",
    "    else:\n",
    "        langs.append(\"unknown\")\n",
    "\n",
    "review_df[\"lang\"] = langs"
   ],
   "metadata": {
    "collapsed": false
   }
  },
  {
   "cell_type": "code",
   "execution_count": 38,
   "outputs": [
    {
     "data": {
      "text/plain": "en         183856\nunknown     85169\nName: lang, dtype: int64"
     },
     "execution_count": 38,
     "metadata": {},
     "output_type": "execute_result"
    }
   ],
   "source": [
    "review_df[\"lang\"].value_counts()"
   ],
   "metadata": {
    "collapsed": false
   }
  },
  {
   "cell_type": "code",
   "execution_count": 39,
   "outputs": [],
   "source": [
    "# keep only english reviews\n",
    "review_df = review_df.loc[review_df[\"lang\"] == \"en\"]\n",
    "review_df.drop(columns=[\"lang\"], axis=1, inplace=True)"
   ],
   "metadata": {
    "collapsed": false
   }
  },
  {
   "cell_type": "code",
   "execution_count": 40,
   "outputs": [
    {
     "name": "stdout",
     "output_type": "stream",
     "text": [
      "<class 'pandas.core.frame.DataFrame'>\n",
      "Int64Index: 183856 entries, 1 to 269025\n",
      "Data columns (total 6 columns):\n",
      " #   Column     Non-Null Count   Dtype         \n",
      "---  ------     --------------   -----         \n",
      " 0   asin       183856 non-null  category      \n",
      " 1   overall    183856 non-null  category      \n",
      " 2   summary    183856 non-null  string        \n",
      " 3   text       183856 non-null  string        \n",
      " 4   timestamp  183856 non-null  datetime64[ns]\n",
      " 5   vote       183856 non-null  int64         \n",
      "dtypes: category(2), datetime64[ns](1), int64(1), string(2)\n",
      "memory usage: 7.8 MB\n"
     ]
    }
   ],
   "source": [
    "review_df.info()"
   ],
   "metadata": {
    "collapsed": false
   }
  },
  {
   "cell_type": "markdown",
   "source": [
    "### Merge with Products"
   ],
   "metadata": {
    "collapsed": false
   }
  },
  {
   "cell_type": "code",
   "execution_count": 105,
   "outputs": [],
   "source": [
    "data_df = pd.merge(left=review_df, right=prod_df, on=\"asin\", copy=False)\n",
    "\n",
    "data_df[\"text\"] = data_df[\"text\"].astype(\"string\")\n",
    "data_df[\"summary\"] = data_df[\"summary\"].astype(\"string\")\n",
    "data_df[\"asin\"] = data_df[\"asin\"].astype(\"string\").astype(\"category\")\n",
    "data_df[\"overall\"] = data_df[\"overall\"].astype(\"string\").astype(\"category\")\n",
    "data_df[\"brand\"] = data_df[\"brand\"].astype(\"string\").astype(\"category\")\n",
    "data_df[\"category\"] = data_df[\"category\"].astype(\"string\").astype(\"category\")"
   ],
   "metadata": {
    "collapsed": false
   }
  },
  {
   "cell_type": "code",
   "execution_count": 106,
   "outputs": [
    {
     "data": {
      "text/plain": "<Figure size 2000x400 with 2 Axes>",
      "image/png": "[encoded data removed]"
     },
     "metadata": {},
     "output_type": "display_data"
    }
   ],
   "source": [
    "fig, axes = plt.subplots(1, 2, figsize=(20, 4))\n",
    "sns.heatmap(data_df.isna().T, cbar=False, xticklabels=False, ax=axes[0])\n",
    "sns.barplot(\n",
    "    y=data_df.columns,\n",
    "    x=(len(data_df) - data_df.count()) / len(data_df) * 100,\n",
    "    ax=axes[1],\n",
    ")\n",
    "fig.tight_layout()"
   ],
   "metadata": {
    "collapsed": false
   }
  },
  {
   "cell_type": "code",
   "execution_count": 107,
   "outputs": [],
   "source": [
    "data_df.drop(columns=[\"price\"], inplace=True)\n",
    "data_df.dropna(subset=[\"brand\"], inplace=True)\n",
    "\n",
    "data_df.drop_duplicates(inplace=True)"
   ],
   "metadata": {
    "collapsed": false
   }
  },
  {
   "cell_type": "markdown",
   "source": [
    "#### Save"
   ],
   "metadata": {
    "collapsed": false
   }
  },
  {
   "cell_type": "code",
   "execution_count": 108,
   "outputs": [
    {
     "name": "stdout",
     "output_type": "stream",
     "text": [
      "<class 'pandas.core.frame.DataFrame'>\n",
      "RangeIndex: 183777 entries, 0 to 183776\n",
      "Data columns (total 11 columns):\n",
      " #   Column           Non-Null Count   Dtype         \n",
      "---  ------           --------------   -----         \n",
      " 0   asin             183777 non-null  category      \n",
      " 1   overall          183777 non-null  category      \n",
      " 2   summary          183777 non-null  string        \n",
      " 3   text             183777 non-null  string        \n",
      " 4   timestamp        183777 non-null  datetime64[ns]\n",
      " 5   vote             183777 non-null  int64         \n",
      " 6   brand            183777 non-null  category      \n",
      " 7   category         183777 non-null  category      \n",
      " 8   description      178347 non-null  string        \n",
      " 9   imageURLHighRes  151801 non-null  string        \n",
      " 10  title            183777 non-null  string        \n",
      "dtypes: category(4), datetime64[ns](1), int64(1), string(5)\n",
      "memory usage: 11.2 MB\n"
     ]
    }
   ],
   "source": [
    "data_df[\"asin\"] = data_df[\"asin\"].astype(\"string\").astype(\"category\")\n",
    "data_df[\"overall\"] = data_df[\"overall\"].astype(\"string\").astype(\"category\")\n",
    "data_df[\"brand\"] = data_df[\"brand\"].astype(\"string\").astype(\"category\")\n",
    "data_df[\"category\"] = data_df[\"category\"].astype(\"string\").astype(\"category\")\n",
    "\n",
    "data_df.drop_duplicates(inplace=True)\n",
    "data_df.reset_index(drop=True, inplace=True)\n",
    "\n",
    "data_df.info()"
   ],
   "metadata": {
    "collapsed": false
   }
  },
  {
   "cell_type": "code",
   "execution_count": 109,
   "outputs": [],
   "source": [
    "data_df.to_json(processed_data_dir / \"products_reviews.json.gz\")"
   ],
   "metadata": {
    "collapsed": false
   }
  }
 ],
 "metadata": {
  "kernelspec": {
   "display_name": "Python 3",
   "language": "python",
   "name": "python3"
  },
  "language_info": {
   "codemirror_mode": {
    "name": "ipython",
    "version": 2
   },
   "file_extension": ".py",
   "mimetype": "text/x-python",
   "name": "python",
   "nbconvert_exporter": "python",
   "pygments_lexer": "ipython2",
   "version": "2.7.6"
  }
 },
 "nbformat": 4,
 "nbformat_minor": 0
}
