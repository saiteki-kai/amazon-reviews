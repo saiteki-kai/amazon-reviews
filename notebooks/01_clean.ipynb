{
 "cells": [
  {
   "cell_type": "code",
   "execution_count": 46,
   "metadata": {
    "collapsed": true
   },
   "outputs": [
    {
     "name": "stdout",
     "output_type": "stream",
     "text": [
      "INFO: Pandarallel will run on 8 workers.\n",
      "INFO: Pandarallel will use Memory file system to transfer data between the main process and workers.\n"
     ]
    }
   ],
   "source": [
    "import os\n",
    "import fasttext\n",
    "import numpy as np\n",
    "import pandas as pd\n",
    "import seaborn as sns\n",
    "\n",
    "from matplotlib import pyplot as plt\n",
    "from pandarallel import pandarallel\n",
    "\n",
    "from reviews.preprocess import remove_urls, strip_html\n",
    "from reviews.config import processed_data_dir\n",
    "from reviews.utils import clean_brand\n",
    "\n",
    "pandarallel.initialize(progress_bar=False, nb_workers=8)"
   ]
  },
  {
   "cell_type": "markdown",
   "metadata": {
    "collapsed": false
   },
   "source": [
    "# Data Cleaning"
   ]
  },
  {
   "cell_type": "markdown",
   "metadata": {
    "collapsed": false
   },
   "source": [
    "## Products"
   ]
  },
  {
   "cell_type": "code",
   "execution_count": 47,
   "metadata": {
    "collapsed": false
   },
   "outputs": [
    {
     "name": "stdout",
     "output_type": "stream",
     "text": [
      "<class 'pandas.core.frame.DataFrame'>\n",
      "RangeIndex: 32720 entries, 0 to 32719\n",
      "Data columns (total 7 columns):\n",
      " #   Column           Non-Null Count  Dtype \n",
      "---  ------           --------------  ----- \n",
      " 0   asin             32720 non-null  object\n",
      " 1   brand            32720 non-null  object\n",
      " 2   category         32720 non-null  object\n",
      " 3   description      32720 non-null  object\n",
      " 4   imageURLHighRes  32720 non-null  object\n",
      " 5   price            32720 non-null  object\n",
      " 6   title            32720 non-null  object\n",
      "dtypes: object(7)\n",
      "memory usage: 1.7+ MB\n"
     ]
    }
   ],
   "source": [
    "prod_df = pd.read_json(processed_data_dir / \"meta.json.gz\")\n",
    "prod_df = prod_df.reindex(sorted(prod_df.columns), axis=1)  # sort columns\n",
    "prod_df.info()"
   ]
  },
  {
   "cell_type": "code",
   "execution_count": 48,
   "metadata": {
    "collapsed": false
   },
   "outputs": [
    {
     "data": {
      "text/plain": "         asin           brand  \\\n0  7500653883  ECS Elitegroup   \n1  7799813393          MyGica   \n2  B00000J3OG        Creative   \n3  B00000J3WY             APC   \n4  B00000J576        Creative   \n5  B00000J579        Creative   \n6  B00000J571        Creative   \n7  B00000JBB8         Diamond   \n8  B00000JBBJ       SONICblue   \n9  B00000JBJ8             PNY   \n\n                                            category  \\\n0  [Electronics, Computers & Accessories, Compute...   \n1  [Electronics, Computers & Accessories, Compute...   \n2  [Electronics, Computers & Accessories, Compute...   \n3  [Electronics, Computers & Accessories, Compute...   \n4  [Electronics, Computers & Accessories, Compute...   \n5  [Electronics, Computers & Accessories, Compute...   \n6  [Electronics, Computers & Accessories, Compute...   \n7  [Electronics, Computers & Accessories, Compute...   \n8  [Electronics, Computers & Accessories, Compute...   \n9  [Electronics, Computers & Accessories, Compute...   \n\n                                         description  \\\n0                                                 []   \n1  [Mygica EZgrabber2 USB 2.0 Video Capture, VHS ...   \n2                                                 []   \n3          [APC 650 VA Uninterruptable Power Supply]   \n4         [Unleash incredible graphics performance!]   \n5  [Based on the award-winning Sound Blaster 16 t...   \n6         [Unleash incredible graphics performance!]   \n7  [Monster Sound MX300 is the new-generation PCI...   \n8  [Based on the NVIDIA RIVA TNT Ultra chip set, ...   \n9  [Adding memory to your new or existing desktop...   \n\n                                     imageURLHighRes  price  \\\n0                                                 []          \n1  [https://images-na.ssl-images-amazon.com/image...          \n2                                                 []          \n3                                                 []          \n4                                                 []          \n5                                                 []  $2.05   \n6                                                 []          \n7                                                 []          \n8  [https://images-na.ssl-images-amazon.com/image...          \n9                                                 []          \n\n                                               title  \n0  ECS PT800CE-A Socket 478 Motherboard Prescott ...  \n1  Mygica EZgrabber USB 2.0 Video Capture, VHS to...  \n2  Creative Labs DI5601 Modem Blaster 56K Interna...  \n3  APC 650VA Back-Up Power Supply (Discontinued b...  \n4  Creative Labs 3DB6815BULK 3D Blaster Savage4 P...  \n5      Creative Labs Sound Blaster 16 PCI Sound Card  \n6    Creative Labs 3DB6901 3D Blaster Savage4 AGP 32  \n7  Diamond MX300 MonsterSound PCI Audio Accelerat...  \n8      Diamond Viper V770 Ultra Graphics Accelerator  \n9  PNY 64174ESEM4G-CS 128MB 168 Pin DIMM SDRAM PC...  ",
      "text/html": "<div>\n<style scoped>\n    .dataframe tbody tr th:only-of-type {\n        vertical-align: middle;\n    }\n\n    .dataframe tbody tr th {\n        vertical-align: top;\n    }\n\n    .dataframe thead th {\n        text-align: right;\n    }\n</style>\n<table border=\"1\" class=\"dataframe\">\n  <thead>\n    <tr style=\"text-align: right;\">\n      <th></th>\n      <th>asin</th>\n      <th>brand</th>\n      <th>category</th>\n      <th>description</th>\n      <th>imageURLHighRes</th>\n      <th>price</th>\n      <th>title</th>\n    </tr>\n  </thead>\n  <tbody>\n    <tr>\n      <th>0</th>\n      <td>7500653883</td>\n      <td>ECS Elitegroup</td>\n      <td>[Electronics, Computers &amp; Accessories, Compute...</td>\n      <td>[]</td>\n      <td>[]</td>\n      <td></td>\n      <td>ECS PT800CE-A Socket 478 Motherboard Prescott ...</td>\n    </tr>\n    <tr>\n      <th>1</th>\n      <td>7799813393</td>\n      <td>MyGica</td>\n      <td>[Electronics, Computers &amp; Accessories, Compute...</td>\n      <td>[Mygica EZgrabber2 USB 2.0 Video Capture, VHS ...</td>\n      <td>[https://images-na.ssl-images-amazon.com/image...</td>\n      <td></td>\n      <td>Mygica EZgrabber USB 2.0 Video Capture, VHS to...</td>\n    </tr>\n    <tr>\n      <th>2</th>\n      <td>B00000J3OG</td>\n      <td>Creative</td>\n      <td>[Electronics, Computers &amp; Accessories, Compute...</td>\n      <td>[]</td>\n      <td>[]</td>\n      <td></td>\n      <td>Creative Labs DI5601 Modem Blaster 56K Interna...</td>\n    </tr>\n    <tr>\n      <th>3</th>\n      <td>B00000J3WY</td>\n      <td>APC</td>\n      <td>[Electronics, Computers &amp; Accessories, Compute...</td>\n      <td>[APC 650 VA Uninterruptable Power Supply]</td>\n      <td>[]</td>\n      <td></td>\n      <td>APC 650VA Back-Up Power Supply (Discontinued b...</td>\n    </tr>\n    <tr>\n      <th>4</th>\n      <td>B00000J576</td>\n      <td>Creative</td>\n      <td>[Electronics, Computers &amp; Accessories, Compute...</td>\n      <td>[Unleash incredible graphics performance!]</td>\n      <td>[]</td>\n      <td></td>\n      <td>Creative Labs 3DB6815BULK 3D Blaster Savage4 P...</td>\n    </tr>\n    <tr>\n      <th>5</th>\n      <td>B00000J579</td>\n      <td>Creative</td>\n      <td>[Electronics, Computers &amp; Accessories, Compute...</td>\n      <td>[Based on the award-winning Sound Blaster 16 t...</td>\n      <td>[]</td>\n      <td>$2.05</td>\n      <td>Creative Labs Sound Blaster 16 PCI Sound Card</td>\n    </tr>\n    <tr>\n      <th>6</th>\n      <td>B00000J571</td>\n      <td>Creative</td>\n      <td>[Electronics, Computers &amp; Accessories, Compute...</td>\n      <td>[Unleash incredible graphics performance!]</td>\n      <td>[]</td>\n      <td></td>\n      <td>Creative Labs 3DB6901 3D Blaster Savage4 AGP 32</td>\n    </tr>\n    <tr>\n      <th>7</th>\n      <td>B00000JBB8</td>\n      <td>Diamond</td>\n      <td>[Electronics, Computers &amp; Accessories, Compute...</td>\n      <td>[Monster Sound MX300 is the new-generation PCI...</td>\n      <td>[]</td>\n      <td></td>\n      <td>Diamond MX300 MonsterSound PCI Audio Accelerat...</td>\n    </tr>\n    <tr>\n      <th>8</th>\n      <td>B00000JBBJ</td>\n      <td>SONICblue</td>\n      <td>[Electronics, Computers &amp; Accessories, Compute...</td>\n      <td>[Based on the NVIDIA RIVA TNT Ultra chip set, ...</td>\n      <td>[https://images-na.ssl-images-amazon.com/image...</td>\n      <td></td>\n      <td>Diamond Viper V770 Ultra Graphics Accelerator</td>\n    </tr>\n    <tr>\n      <th>9</th>\n      <td>B00000JBJ8</td>\n      <td>PNY</td>\n      <td>[Electronics, Computers &amp; Accessories, Compute...</td>\n      <td>[Adding memory to your new or existing desktop...</td>\n      <td>[]</td>\n      <td></td>\n      <td>PNY 64174ESEM4G-CS 128MB 168 Pin DIMM SDRAM PC...</td>\n    </tr>\n  </tbody>\n</table>\n</div>"
     },
     "execution_count": 48,
     "metadata": {},
     "output_type": "execute_result"
    }
   ],
   "source": [
    "prod_df.head(10)"
   ]
  },
  {
   "cell_type": "markdown",
   "metadata": {
    "collapsed": false
   },
   "source": [
    "### Transform Data"
   ]
  },
  {
   "cell_type": "code",
   "execution_count": 49,
   "metadata": {
    "collapsed": false
   },
   "outputs": [],
   "source": [
    "# keep the first subcategory and rename categories\n",
    "prod_df[\"category\"] = prod_df[\"category\"].parallel_apply(\n",
    "    lambda x: x[4] if len(x) > 4 else \"other\"\n",
    ")\n",
    "\n",
    "prod_df[\"category\"] = prod_df[\"category\"].apply(\n",
    "    lambda cat: cat.replace(\"Internal\", \"\").strip() if type(cat) is str else cat\n",
    ")\n",
    "\n",
    "# join description in a single string\n",
    "prod_df[\"description\"] = prod_df[\"description\"].parallel_apply(lambda x: \" \".join(x))\n",
    "\n",
    "# remove html and replace empty with NA\n",
    "for col in [\"category\", \"description\", \"title\", \"brand\", \"asin\"]:\n",
    "    prod_df[col] = prod_df[col].astype(\"string\").parallel_apply(strip_html)\n",
    "    prod_df.loc[prod_df[col] == \"\", col] = np.nan\n",
    "\n",
    "# fix price\n",
    "prod_df[\"price\"] = prod_df[\"price\"].astype(\"string\").parallel_apply(strip_html)\n",
    "prod_df[\"price\"] = prod_df[\"price\"].str.replace(\"[\\$,]\", \"\", regex=True)\n",
    "prod_df.loc[prod_df[\"price\"].str.len() == 0, \"price\"] = np.nan\n",
    "prod_df.loc[prod_df[\"price\"].str.len() > 8, \"price\"] = np.nan\n",
    "\n",
    "prod_df[\"brand\"] = prod_df[\"brand\"].apply(clean_brand)\n",
    "\n",
    "prod_df[\"imageURLHighRes\"] = prod_df[\"imageURLHighRes\"].parallel_apply(\n",
    "    lambda x: x[0] if x else np.nan\n",
    ")"
   ]
  },
  {
   "cell_type": "code",
   "execution_count": 50,
   "metadata": {
    "collapsed": false
   },
   "outputs": [
    {
     "data": {
      "text/plain": "         asin           brand                  category  \\\n0  7500653883  ecs elitegroup              Motherboards   \n1  7799813393          mygica  TV Tuner & Capture Cards   \n2  B00000J3OG        creative                    Modems   \n3  B00000J3WY             apc            Power Supplies   \n4  B00000J576        creative            Graphics Cards   \n5  B00000J579        creative               Sound Cards   \n6  B00000J571        creative            Graphics Cards   \n7  B00000JBB8         diamond            Graphics Cards   \n8  B00000JBBJ       sonicblue            Graphics Cards   \n9  B00000JBJ8             pny                    Memory   \n\n                                         description  \\\n0                                                NaN   \n1  Mygica EZgrabber2 USB 2.0 Video Capture, VHS t...   \n2                                                NaN   \n3            APC 650 VA Uninterruptable Power Supply   \n4           Unleash incredible graphics performance!   \n5  Based on the award-winning Sound Blaster 16 te...   \n6           Unleash incredible graphics performance!   \n7  Monster Sound MX300 is the new-generation PCI ...   \n8  Based on the NVIDIA RIVA TNT Ultra chip set, D...   \n9  Adding memory to your new or existing desktop ...   \n\n                                     imageURLHighRes price  \\\n0                                                NaN   NaN   \n1  https://images-na.ssl-images-amazon.com/images...   NaN   \n2                                                NaN   NaN   \n3                                                NaN   NaN   \n4                                                NaN   NaN   \n5                                                NaN  2.05   \n6                                                NaN   NaN   \n7                                                NaN   NaN   \n8  https://images-na.ssl-images-amazon.com/images...   NaN   \n9                                                NaN   NaN   \n\n                                               title  \n0  ECS PT800CE-A Socket 478 Motherboard Prescott ...  \n1  Mygica EZgrabber USB 2.0 Video Capture, VHS to...  \n2  Creative Labs DI5601 Modem Blaster 56K Interna...  \n3  APC 650VA Back-Up Power Supply (Discontinued b...  \n4  Creative Labs 3DB6815BULK 3D Blaster Savage4 P...  \n5      Creative Labs Sound Blaster 16 PCI Sound Card  \n6    Creative Labs 3DB6901 3D Blaster Savage4 AGP 32  \n7  Diamond MX300 MonsterSound PCI Audio Accelerat...  \n8      Diamond Viper V770 Ultra Graphics Accelerator  \n9  PNY 64174ESEM4G-CS 128MB 168 Pin DIMM SDRAM PC...  ",
      "text/html": "<div>\n<style scoped>\n    .dataframe tbody tr th:only-of-type {\n        vertical-align: middle;\n    }\n\n    .dataframe tbody tr th {\n        vertical-align: top;\n    }\n\n    .dataframe thead th {\n        text-align: right;\n    }\n</style>\n<table border=\"1\" class=\"dataframe\">\n  <thead>\n    <tr style=\"text-align: right;\">\n      <th></th>\n      <th>asin</th>\n      <th>brand</th>\n      <th>category</th>\n      <th>description</th>\n      <th>imageURLHighRes</th>\n      <th>price</th>\n      <th>title</th>\n    </tr>\n  </thead>\n  <tbody>\n    <tr>\n      <th>0</th>\n      <td>7500653883</td>\n      <td>ecs elitegroup</td>\n      <td>Motherboards</td>\n      <td>NaN</td>\n      <td>NaN</td>\n      <td>NaN</td>\n      <td>ECS PT800CE-A Socket 478 Motherboard Prescott ...</td>\n    </tr>\n    <tr>\n      <th>1</th>\n      <td>7799813393</td>\n      <td>mygica</td>\n      <td>TV Tuner &amp; Capture Cards</td>\n      <td>Mygica EZgrabber2 USB 2.0 Video Capture, VHS t...</td>\n      <td>https://images-na.ssl-images-amazon.com/images...</td>\n      <td>NaN</td>\n      <td>Mygica EZgrabber USB 2.0 Video Capture, VHS to...</td>\n    </tr>\n    <tr>\n      <th>2</th>\n      <td>B00000J3OG</td>\n      <td>creative</td>\n      <td>Modems</td>\n      <td>NaN</td>\n      <td>NaN</td>\n      <td>NaN</td>\n      <td>Creative Labs DI5601 Modem Blaster 56K Interna...</td>\n    </tr>\n    <tr>\n      <th>3</th>\n      <td>B00000J3WY</td>\n      <td>apc</td>\n      <td>Power Supplies</td>\n      <td>APC 650 VA Uninterruptable Power Supply</td>\n      <td>NaN</td>\n      <td>NaN</td>\n      <td>APC 650VA Back-Up Power Supply (Discontinued b...</td>\n    </tr>\n    <tr>\n      <th>4</th>\n      <td>B00000J576</td>\n      <td>creative</td>\n      <td>Graphics Cards</td>\n      <td>Unleash incredible graphics performance!</td>\n      <td>NaN</td>\n      <td>NaN</td>\n      <td>Creative Labs 3DB6815BULK 3D Blaster Savage4 P...</td>\n    </tr>\n    <tr>\n      <th>5</th>\n      <td>B00000J579</td>\n      <td>creative</td>\n      <td>Sound Cards</td>\n      <td>Based on the award-winning Sound Blaster 16 te...</td>\n      <td>NaN</td>\n      <td>2.05</td>\n      <td>Creative Labs Sound Blaster 16 PCI Sound Card</td>\n    </tr>\n    <tr>\n      <th>6</th>\n      <td>B00000J571</td>\n      <td>creative</td>\n      <td>Graphics Cards</td>\n      <td>Unleash incredible graphics performance!</td>\n      <td>NaN</td>\n      <td>NaN</td>\n      <td>Creative Labs 3DB6901 3D Blaster Savage4 AGP 32</td>\n    </tr>\n    <tr>\n      <th>7</th>\n      <td>B00000JBB8</td>\n      <td>diamond</td>\n      <td>Graphics Cards</td>\n      <td>Monster Sound MX300 is the new-generation PCI ...</td>\n      <td>NaN</td>\n      <td>NaN</td>\n      <td>Diamond MX300 MonsterSound PCI Audio Accelerat...</td>\n    </tr>\n    <tr>\n      <th>8</th>\n      <td>B00000JBBJ</td>\n      <td>sonicblue</td>\n      <td>Graphics Cards</td>\n      <td>Based on the NVIDIA RIVA TNT Ultra chip set, D...</td>\n      <td>https://images-na.ssl-images-amazon.com/images...</td>\n      <td>NaN</td>\n      <td>Diamond Viper V770 Ultra Graphics Accelerator</td>\n    </tr>\n    <tr>\n      <th>9</th>\n      <td>B00000JBJ8</td>\n      <td>pny</td>\n      <td>Memory</td>\n      <td>Adding memory to your new or existing desktop ...</td>\n      <td>NaN</td>\n      <td>NaN</td>\n      <td>PNY 64174ESEM4G-CS 128MB 168 Pin DIMM SDRAM PC...</td>\n    </tr>\n  </tbody>\n</table>\n</div>"
     },
     "execution_count": 50,
     "metadata": {},
     "output_type": "execute_result"
    }
   ],
   "source": [
    "prod_df.head(10)"
   ]
  },
  {
   "cell_type": "markdown",
   "metadata": {
    "collapsed": false
   },
   "source": [
    "### Convert Data Types"
   ]
  },
  {
   "cell_type": "code",
   "execution_count": 51,
   "metadata": {
    "collapsed": false
   },
   "outputs": [],
   "source": [
    "prod_df[\"asin\"] = prod_df[\"asin\"].astype(\"string\")\n",
    "prod_df[\"brand\"] = prod_df[\"brand\"].astype(\"category\")\n",
    "prod_df[\"category\"] = prod_df[\"category\"].astype(\"category\")\n",
    "prod_df[\"description\"] = prod_df[\"description\"].astype(\"string\")\n",
    "prod_df[\"price\"] = prod_df[\"price\"].astype(\"float\")\n",
    "prod_df[\"title\"] = prod_df[\"title\"].astype(\"string\")\n",
    "prod_df[\"imageURLHighRes\"] = prod_df[\"imageURLHighRes\"].astype(\"string\")"
   ]
  },
  {
   "cell_type": "code",
   "execution_count": 52,
   "metadata": {},
   "outputs": [],
   "source": [
    "prod_df.to_json(processed_data_dir / \"products_cleaned.json.gz\")"
   ]
  },
  {
   "cell_type": "markdown",
   "metadata": {
    "collapsed": false
   },
   "source": [
    "## Reviews"
   ]
  },
  {
   "cell_type": "code",
   "execution_count": 53,
   "metadata": {
    "collapsed": false
   },
   "outputs": [
    {
     "name": "stdout",
     "output_type": "stream",
     "text": [
      "<class 'pandas.core.frame.DataFrame'>\n",
      "RangeIndex: 269029 entries, 0 to 269028\n",
      "Data columns (total 7 columns):\n",
      " #   Column      Non-Null Count   Dtype         \n",
      "---  ------      --------------   -----         \n",
      " 0   asin        269029 non-null  object        \n",
      " 1   overall     269029 non-null  int64         \n",
      " 2   reviewerID  269029 non-null  object        \n",
      " 3   summary     269029 non-null  object        \n",
      " 4   text        269029 non-null  object        \n",
      " 5   timestamp   269029 non-null  datetime64[ns]\n",
      " 6   vote        269029 non-null  int64         \n",
      "dtypes: datetime64[ns](1), int64(2), object(4)\n",
      "memory usage: 14.4+ MB\n"
     ]
    }
   ],
   "source": [
    "review_df = pd.read_json(processed_data_dir / \"reviews.json.gz\")\n",
    "review_df = review_df.reindex(sorted(review_df.columns), axis=1)  # sort columns\n",
    "review_df.info()"
   ]
  },
  {
   "cell_type": "code",
   "execution_count": 54,
   "metadata": {
    "collapsed": false
   },
   "outputs": [
    {
     "data": {
      "text/plain": "         asin  overall      reviewerID  \\\n0  7799813393        3  A13R0XX727WQB8   \n1  7799813393        4  A2D1N6Z7WS9AQQ   \n2  7799813393        4  A3BOQADZVJB6C3   \n3  B00000J579        5  A1NVD0TKNS1GT5   \n4  B00000J579        3  A3CCYAQRHUTPIQ   \n5  B00000J579        4   A7RJ19XG5PDRU   \n6  B00000J579        3   AT4AV7XIQDKQP   \n7  B00000JDKU        4   ANLA598UNJI8A   \n8  B00000JDKU        5   A7RV1KU5O0II9   \n9  B00000JF4L        5  A2M7NKO97UIVAH   \n\n                                         summary  \\\n0                       Good for what it can do.   \n1                                     works well   \n2                             Cheap and it works   \n3  Easy to Use, Almost everything you could want   \n4                                        Bathtub   \n5                   Good low-end, no-hassle card   \n6           Ok for the price and basic functions   \n7                                      good card   \n8                                           WOW!   \n9                              An excellent card   \n\n                                                text  timestamp  vote  \n0  Bought this to transfer video from some old eq... 2013-01-17     0  \n1  The EZGrabber2 works well but it's software is... 2012-09-04     0  \n2  I got this because it was pretty decently pric... 2012-08-27     6  \n3  This sound card doesn't reproduce MP3 or WAV f... 2000-10-10    32  \n4  Essentially, this is the entry-level, 16-bit a... 2000-09-04     4  \n5  This is a basic sound card.  Nothing fancy.  T... 2002-07-03     6  \n6  This is a basic low-end sound card. It puts ou... 2002-04-04     8  \n7  The Voodoo 3 is a great card that replaces bot... 1999-11-21    18  \n8  This card is so fast and really high resolutio... 1999-07-15     4  \n9  Let me first state that I purchased this card ... 2000-03-15    38  ",
      "text/html": "<div>\n<style scoped>\n    .dataframe tbody tr th:only-of-type {\n        vertical-align: middle;\n    }\n\n    .dataframe tbody tr th {\n        vertical-align: top;\n    }\n\n    .dataframe thead th {\n        text-align: right;\n    }\n</style>\n<table border=\"1\" class=\"dataframe\">\n  <thead>\n    <tr style=\"text-align: right;\">\n      <th></th>\n      <th>asin</th>\n      <th>overall</th>\n      <th>reviewerID</th>\n      <th>summary</th>\n      <th>text</th>\n      <th>timestamp</th>\n      <th>vote</th>\n    </tr>\n  </thead>\n  <tbody>\n    <tr>\n      <th>0</th>\n      <td>7799813393</td>\n      <td>3</td>\n      <td>A13R0XX727WQB8</td>\n      <td>Good for what it can do.</td>\n      <td>Bought this to transfer video from some old eq...</td>\n      <td>2013-01-17</td>\n      <td>0</td>\n    </tr>\n    <tr>\n      <th>1</th>\n      <td>7799813393</td>\n      <td>4</td>\n      <td>A2D1N6Z7WS9AQQ</td>\n      <td>works well</td>\n      <td>The EZGrabber2 works well but it's software is...</td>\n      <td>2012-09-04</td>\n      <td>0</td>\n    </tr>\n    <tr>\n      <th>2</th>\n      <td>7799813393</td>\n      <td>4</td>\n      <td>A3BOQADZVJB6C3</td>\n      <td>Cheap and it works</td>\n      <td>I got this because it was pretty decently pric...</td>\n      <td>2012-08-27</td>\n      <td>6</td>\n    </tr>\n    <tr>\n      <th>3</th>\n      <td>B00000J579</td>\n      <td>5</td>\n      <td>A1NVD0TKNS1GT5</td>\n      <td>Easy to Use, Almost everything you could want</td>\n      <td>This sound card doesn't reproduce MP3 or WAV f...</td>\n      <td>2000-10-10</td>\n      <td>32</td>\n    </tr>\n    <tr>\n      <th>4</th>\n      <td>B00000J579</td>\n      <td>3</td>\n      <td>A3CCYAQRHUTPIQ</td>\n      <td>Bathtub</td>\n      <td>Essentially, this is the entry-level, 16-bit a...</td>\n      <td>2000-09-04</td>\n      <td>4</td>\n    </tr>\n    <tr>\n      <th>5</th>\n      <td>B00000J579</td>\n      <td>4</td>\n      <td>A7RJ19XG5PDRU</td>\n      <td>Good low-end, no-hassle card</td>\n      <td>This is a basic sound card.  Nothing fancy.  T...</td>\n      <td>2002-07-03</td>\n      <td>6</td>\n    </tr>\n    <tr>\n      <th>6</th>\n      <td>B00000J579</td>\n      <td>3</td>\n      <td>AT4AV7XIQDKQP</td>\n      <td>Ok for the price and basic functions</td>\n      <td>This is a basic low-end sound card. It puts ou...</td>\n      <td>2002-04-04</td>\n      <td>8</td>\n    </tr>\n    <tr>\n      <th>7</th>\n      <td>B00000JDKU</td>\n      <td>4</td>\n      <td>ANLA598UNJI8A</td>\n      <td>good card</td>\n      <td>The Voodoo 3 is a great card that replaces bot...</td>\n      <td>1999-11-21</td>\n      <td>18</td>\n    </tr>\n    <tr>\n      <th>8</th>\n      <td>B00000JDKU</td>\n      <td>5</td>\n      <td>A7RV1KU5O0II9</td>\n      <td>WOW!</td>\n      <td>This card is so fast and really high resolutio...</td>\n      <td>1999-07-15</td>\n      <td>4</td>\n    </tr>\n    <tr>\n      <th>9</th>\n      <td>B00000JF4L</td>\n      <td>5</td>\n      <td>A2M7NKO97UIVAH</td>\n      <td>An excellent card</td>\n      <td>Let me first state that I purchased this card ...</td>\n      <td>2000-03-15</td>\n      <td>38</td>\n    </tr>\n  </tbody>\n</table>\n</div>"
     },
     "execution_count": 54,
     "metadata": {},
     "output_type": "execute_result"
    }
   ],
   "source": [
    "review_df.head(10)"
   ]
  },
  {
   "cell_type": "code",
   "execution_count": 55,
   "metadata": {
    "collapsed": false
   },
   "outputs": [],
   "source": [
    "# remove html and replace empty with NA\n",
    "for col in [\"asin\", \"overall\", \"summary\", \"text\", \"timestamp\", \"vote\", \"reviewerID\"]:\n",
    "    review_df[col] = review_df[col].astype(\"string\").parallel_apply(strip_html)\n",
    "    review_df.loc[review_df[col] == \"\", col] = np.nan"
   ]
  },
  {
   "cell_type": "markdown",
   "metadata": {
    "collapsed": false
   },
   "source": [
    "### Convert Data Types"
   ]
  },
  {
   "cell_type": "code",
   "execution_count": 56,
   "metadata": {
    "collapsed": false
   },
   "outputs": [],
   "source": [
    "review_df[\"asin\"] = review_df[\"asin\"].astype(\"category\")\n",
    "review_df[\"overall\"] = review_df[\"overall\"].astype(\"category\")\n",
    "review_df[\"summary\"] = review_df[\"summary\"].astype(\"string\")\n",
    "review_df[\"text\"] = review_df[\"text\"].astype(\"string\")\n",
    "review_df[\"timestamp\"] = pd.to_datetime(review_df[\"timestamp\"], errors=\"coerce\")\n",
    "review_df[\"vote\"] = review_df[\"vote\"].astype(\"int\")\n",
    "review_df[\"reviewerID\"] = review_df[\"reviewerID\"].astype(\"string\")"
   ]
  },
  {
   "cell_type": "code",
   "execution_count": 57,
   "metadata": {
    "collapsed": false
   },
   "outputs": [
    {
     "name": "stdout",
     "output_type": "stream",
     "text": [
      "<class 'pandas.core.frame.DataFrame'>\n",
      "RangeIndex: 269029 entries, 0 to 269028\n",
      "Data columns (total 7 columns):\n",
      " #   Column      Non-Null Count   Dtype         \n",
      "---  ------      --------------   -----         \n",
      " 0   asin        269029 non-null  category      \n",
      " 1   overall     269029 non-null  category      \n",
      " 2   reviewerID  269029 non-null  string        \n",
      " 3   summary     269029 non-null  string        \n",
      " 4   text        269027 non-null  string        \n",
      " 5   timestamp   269029 non-null  datetime64[ns]\n",
      " 6   vote        269029 non-null  int64         \n",
      "dtypes: category(2), datetime64[ns](1), int64(1), string(3)\n",
      "memory usage: 11.3 MB\n"
     ]
    }
   ],
   "source": [
    "review_df.info()"
   ]
  },
  {
   "cell_type": "markdown",
   "metadata": {
    "collapsed": false
   },
   "source": [
    "### Merge with Products"
   ]
  },
  {
   "cell_type": "code",
   "execution_count": 58,
   "metadata": {
    "collapsed": false
   },
   "outputs": [
    {
     "name": "stdout",
     "output_type": "stream",
     "text": [
      "positive    246867\n",
      "negative     22162\n",
      "Name: overall, dtype: int64\n",
      "<class 'pandas.core.frame.DataFrame'>\n",
      "Int64Index: 30000 entries, 5953 to 163538\n",
      "Data columns (total 13 columns):\n",
      " #   Column           Non-Null Count  Dtype         \n",
      "---  ------           --------------  -----         \n",
      " 0   asin             30000 non-null  category      \n",
      " 1   overall          30000 non-null  category      \n",
      " 2   reviewerID       30000 non-null  string        \n",
      " 3   summary          30000 non-null  string        \n",
      " 4   text             30000 non-null  string        \n",
      " 5   timestamp        30000 non-null  datetime64[ns]\n",
      " 6   vote             30000 non-null  int64         \n",
      " 7   brand            30000 non-null  category      \n",
      " 8   category         30000 non-null  category      \n",
      " 9   description      29132 non-null  string        \n",
      " 10  imageURLHighRes  24849 non-null  string        \n",
      " 11  price            19514 non-null  float64       \n",
      " 12  title            30000 non-null  string        \n",
      "dtypes: category(4), datetime64[ns](1), float64(1), int64(1), string(6)\n",
      "memory usage: 2.6 MB\n"
     ]
    }
   ],
   "source": [
    "data_df = pd.merge(left=review_df, right=prod_df, on=\"asin\", copy=False)\n",
    "\n",
    "gt = data_df[data_df[\"overall\"] != 3][\"overall\"].astype(int)\n",
    "gt = gt.apply(lambda x: \"negative\" if x < 3 else \"positive\").astype(\"category\")\n",
    "print(gt.value_counts())\n",
    "\n",
    "data_df = data_df.sample(30000, random_state=10)\n",
    "\n",
    "data_df[\"text\"] = data_df[\"text\"].astype(\"string\")\n",
    "data_df[\"summary\"] = data_df[\"summary\"].astype(\"string\")\n",
    "data_df[\"asin\"] = data_df[\"asin\"].astype(\"string\").astype(\"category\")\n",
    "data_df[\"overall\"] = data_df[\"overall\"].astype(\"string\").astype(\"category\")\n",
    "data_df[\"brand\"] = data_df[\"brand\"].astype(\"string\").astype(\"category\")\n",
    "data_df[\"category\"] = data_df[\"category\"].astype(\"string\").astype(\"category\")\n",
    "\n",
    "data_df.info()"
   ]
  },
  {
   "cell_type": "code",
   "execution_count": 59,
   "metadata": {
    "collapsed": false
   },
   "outputs": [
    {
     "name": "stdout",
     "output_type": "stream",
     "text": [
      "Duplicates: 67\n"
     ]
    }
   ],
   "source": [
    "duplicates = data_df.duplicated([\"asin\", \"text\", \"summary\", \"overall\"], keep=False)\n",
    "print(f\"Duplicates: {duplicates.sum()}\")\n",
    "\n",
    "data_df.drop_duplicates([\"asin\", \"text\", \"summary\", \"overall\"], inplace=True)"
   ]
  },
  {
   "cell_type": "code",
   "execution_count": 60,
   "metadata": {
    "collapsed": false
   },
   "outputs": [
    {
     "data": {
      "text/plain": "<Figure size 1000x400 with 1 Axes>",
      "image/png": "[encoded data removed]"
     },
     "metadata": {},
     "output_type": "display_data"
    }
   ],
   "source": [
    "fig, axes = plt.subplots(1, 1, figsize=(10, 4))\n",
    "#sns.heatmap(data_df.isna().T, cbar=False, xticklabels=False, ax=axes[0])\n",
    "sns.barplot(\n",
    "    y=data_df.columns,\n",
    "    x=(len(data_df) - data_df.count()) / len(data_df) * 100,\n",
    "    ax=axes\n",
    ")\n",
    "axes.set_xlabel(\"Missing values (%)\")\n",
    "fig.tight_layout()"
   ]
  },
  {
   "cell_type": "markdown",
   "metadata": {
    "collapsed": false
   },
   "source": [
    "### Language Identification"
   ]
  },
  {
   "cell_type": "code",
   "execution_count": 61,
   "metadata": {
    "collapsed": false
   },
   "outputs": [],
   "source": [
    "if not os.path.exists(\"/tmp/lid.176.bin\"):\n",
    "    os.system(\n",
    "        \"wget -O /tmp/lid.176.bin 'https://dl.fbaipublicfiles.com/fasttext/supervised-models/lid.176.bin'\"\n",
    "    )"
   ]
  },
  {
   "cell_type": "code",
   "execution_count": 62,
   "metadata": {
    "collapsed": false
   },
   "outputs": [
    {
     "data": {
      "text/plain": "en        28983\nothers      981\nName: lang, dtype: int64"
     },
     "execution_count": 62,
     "metadata": {},
     "output_type": "execute_result"
    }
   ],
   "source": [
    "model = fasttext.load_model(\"/tmp/lid.176.bin\")\n",
    "\n",
    "langs = []\n",
    "probs = []\n",
    "for i, row in data_df.iterrows():\n",
    "    text = row[\"text\"]\n",
    "\n",
    "    text = text.replace(\"\\n\", \" \")\n",
    "\n",
    "    text = remove_urls(text)\n",
    "    text = strip_html(text)\n",
    "\n",
    "    text = text.lower()\n",
    "\n",
    "    lang = model.predict(text, threshold=0.65)\n",
    "\n",
    "    if len(lang[0]) > 0:\n",
    "        prob = lang[1][0]\n",
    "        lang = lang[0][0].replace(\"__label__\", \"\")\n",
    "\n",
    "        if lang != \"en\":\n",
    "            lang = \"others\"\n",
    "\n",
    "        langs.append(lang)\n",
    "        probs.append(prob)\n",
    "    else:\n",
    "        langs.append(\"others\")\n",
    "        probs.append(0)\n",
    "\n",
    "\n",
    "data_df.insert(loc=0, column=\"lang\", value=langs)\n",
    "data_df.insert(loc=0, column=\"prob\", value=probs)\n",
    "\n",
    "data_df[\"lang\"].value_counts()"
   ]
  },
  {
   "cell_type": "code",
   "execution_count": 63,
   "metadata": {
    "collapsed": false
   },
   "outputs": [
    {
     "data": {
      "text/plain": "            prob    lang        asin overall      reviewerID  \\\n243089  1.000046  others  B014QW98SC       5   AZRSVWZ735TK0   \n10156   1.000046  others  B000GI0QAU       4   A23KGUCKG14E2   \n180561  1.000046  others  B00H33SFJU       5  A39PPSOTEQ4T7N   \n184714  1.000046  others  B00HWQUXJ8       5   AY4ETD3SBWOLJ   \n167532  1.000038  others  B00EO6X4XG       5  A31A25W5IHOPIA   \n...          ...     ...         ...     ...             ...   \n1638    0.000000  others  B00006B8DX       5  A2J7K951TITQ27   \n85541   0.000000  others  B005F778JO       5   A5YVFKY4HQ6T7   \n161803  0.000000  others  B00DSGLMSM       5   ADX2LGXIE9NDS   \n120757  0.000000  others  B008B6ONXK       5  A1CQYOU6WQN1JP   \n167634  0.000000  others  B00EO6X4XG       5  A21G08051G1OLM   \n\n                               summary           text  timestamp  vote  \\\n243089                      Five Stars       muy bien 2018-04-16     0   \n10156                       Four Stars       MUY BIEN 2014-08-21     0   \n180561                      Five Stars      Muy buena 2018-03-30     0   \n184714                      Five Stars      muy buena 2014-11-13     0   \n167532  Easy instateall and works well             SA 2017-08-02     0   \n...                                ...            ...        ...   ...   \n1638                        Five Stars       Excelent 2014-10-31     0   \n85541                       Five Stars    excellent!! 2015-07-19     0   \n161803                      Five Stars     Excelente! 2014-09-17     0   \n120757                      Five Stars     Excellent. 2017-02-27     0   \n167634                      Five Stars  No complaints 2016-11-08     0   \n\n              brand        category  \\\n243089  thermaltake  Fans & Cooling   \n10156         intel    Motherboards   \n180561         evga  Power Supplies   \n184714          amd          Memory   \n167532     creative     Sound Cards   \n...             ...             ...   \n1638       startech  Fans & Cooling   \n85541   thermaltake  Power Supplies   \n161803    ballistix          Memory   \n120757         asus    Motherboards   \n167634     creative     Sound Cards   \n\n                                              description  \\\n243089  Thermaltake Riing 12 RGB LED 120mm Adjustable ...   \n10156   D946G LGA775 DC MAX 8GB DDR2 MATX NIC VGA SND ...   \n180561  When building on a budget, the EVGA 500W 80 PL...   \n184714  AMD Radeon R9 Gamer Series memory is optimized...   \n167532  Meet the Sound Blaster Audigy Fx! This half-he...   \n...                                                   ...   \n1638    Provide optimal heat transfer between CPU and ...   \n85541   Dr. Power II is a fully automated diagnostic t...   \n161803  BLS2K8G3N18AES4 is a 16GB Kit containing (2) 8...   \n120757  The ASUS M5A99FX PRO R2.0 motherboard features...   \n167634  Meet the Sound Blaster Audigy Fx! This half-he...   \n\n                                          imageURLHighRes  price  \\\n243089  https://images-na.ssl-images-amazon.com/images...   3.93   \n10156   https://images-na.ssl-images-amazon.com/images...    NaN   \n180561  https://images-na.ssl-images-amazon.com/images...   2.54   \n184714  https://images-na.ssl-images-amazon.com/images...    NaN   \n167532  https://images-na.ssl-images-amazon.com/images...   2.54   \n...                                                   ...    ...   \n1638    https://images-na.ssl-images-amazon.com/images...    NaN   \n85541   https://images-na.ssl-images-amazon.com/images...   2.54   \n161803  https://images-na.ssl-images-amazon.com/images...   5.48   \n120757  https://images-na.ssl-images-amazon.com/images...    NaN   \n167634  https://images-na.ssl-images-amazon.com/images...   2.54   \n\n                                                    title  \n243089  Thermaltake Riing 12 RGB LED 120mm High Static...  \n10156   Intel D946GZ Essential Series D946 Desktop Boa...  \n180561  EVGA 500 W1, 80+ WHITE 500W, 3 Year Warranty, ...  \n184714  AMD Radeon R9 Gamer Series 4 GB x 2 DDR3 2133 ...  \n167532  Creative Sound Blaster Audigy FX PCIe 5.1 Soun...  \n...                                                   ...  \n1638    StarTech.com 1.5g Metal OxIDE Thermal CPU Past...  \n85541   Thermaltake Dr. Power II Automated Power Suppl...  \n161803  Ballistix Sport 16GB Kit (8GBx2) DDR3 1866 MT/...  \n120757  ASUS M5A99FX PRO R2.0 AM3+ AMD 990FX SATA 6Gb/...  \n167634  Creative Sound Blaster Audigy FX PCIe 5.1 Soun...  \n\n[981 rows x 15 columns]",
      "text/html": "<div>\n<style scoped>\n    .dataframe tbody tr th:only-of-type {\n        vertical-align: middle;\n    }\n\n    .dataframe tbody tr th {\n        vertical-align: top;\n    }\n\n    .dataframe thead th {\n        text-align: right;\n    }\n</style>\n<table border=\"1\" class=\"dataframe\">\n  <thead>\n    <tr style=\"text-align: right;\">\n      <th></th>\n      <th>prob</th>\n      <th>lang</th>\n      <th>asin</th>\n      <th>overall</th>\n      <th>reviewerID</th>\n      <th>summary</th>\n      <th>text</th>\n      <th>timestamp</th>\n      <th>vote</th>\n      <th>brand</th>\n      <th>category</th>\n      <th>description</th>\n      <th>imageURLHighRes</th>\n      <th>price</th>\n      <th>title</th>\n    </tr>\n  </thead>\n  <tbody>\n    <tr>\n      <th>243089</th>\n      <td>1.000046</td>\n      <td>others</td>\n      <td>B014QW98SC</td>\n      <td>5</td>\n      <td>AZRSVWZ735TK0</td>\n      <td>Five Stars</td>\n      <td>muy bien</td>\n      <td>2018-04-16</td>\n      <td>0</td>\n      <td>thermaltake</td>\n      <td>Fans &amp; Cooling</td>\n      <td>Thermaltake Riing 12 RGB LED 120mm Adjustable ...</td>\n      <td>https://images-na.ssl-images-amazon.com/images...</td>\n      <td>3.93</td>\n      <td>Thermaltake Riing 12 RGB LED 120mm High Static...</td>\n    </tr>\n    <tr>\n      <th>10156</th>\n      <td>1.000046</td>\n      <td>others</td>\n      <td>B000GI0QAU</td>\n      <td>4</td>\n      <td>A23KGUCKG14E2</td>\n      <td>Four Stars</td>\n      <td>MUY BIEN</td>\n      <td>2014-08-21</td>\n      <td>0</td>\n      <td>intel</td>\n      <td>Motherboards</td>\n      <td>D946G LGA775 DC MAX 8GB DDR2 MATX NIC VGA SND ...</td>\n      <td>https://images-na.ssl-images-amazon.com/images...</td>\n      <td>NaN</td>\n      <td>Intel D946GZ Essential Series D946 Desktop Boa...</td>\n    </tr>\n    <tr>\n      <th>180561</th>\n      <td>1.000046</td>\n      <td>others</td>\n      <td>B00H33SFJU</td>\n      <td>5</td>\n      <td>A39PPSOTEQ4T7N</td>\n      <td>Five Stars</td>\n      <td>Muy buena</td>\n      <td>2018-03-30</td>\n      <td>0</td>\n      <td>evga</td>\n      <td>Power Supplies</td>\n      <td>When building on a budget, the EVGA 500W 80 PL...</td>\n      <td>https://images-na.ssl-images-amazon.com/images...</td>\n      <td>2.54</td>\n      <td>EVGA 500 W1, 80+ WHITE 500W, 3 Year Warranty, ...</td>\n    </tr>\n    <tr>\n      <th>184714</th>\n      <td>1.000046</td>\n      <td>others</td>\n      <td>B00HWQUXJ8</td>\n      <td>5</td>\n      <td>AY4ETD3SBWOLJ</td>\n      <td>Five Stars</td>\n      <td>muy buena</td>\n      <td>2014-11-13</td>\n      <td>0</td>\n      <td>amd</td>\n      <td>Memory</td>\n      <td>AMD Radeon R9 Gamer Series memory is optimized...</td>\n      <td>https://images-na.ssl-images-amazon.com/images...</td>\n      <td>NaN</td>\n      <td>AMD Radeon R9 Gamer Series 4 GB x 2 DDR3 2133 ...</td>\n    </tr>\n    <tr>\n      <th>167532</th>\n      <td>1.000038</td>\n      <td>others</td>\n      <td>B00EO6X4XG</td>\n      <td>5</td>\n      <td>A31A25W5IHOPIA</td>\n      <td>Easy instateall and works well</td>\n      <td>SA</td>\n      <td>2017-08-02</td>\n      <td>0</td>\n      <td>creative</td>\n      <td>Sound Cards</td>\n      <td>Meet the Sound Blaster Audigy Fx! This half-he...</td>\n      <td>https://images-na.ssl-images-amazon.com/images...</td>\n      <td>2.54</td>\n      <td>Creative Sound Blaster Audigy FX PCIe 5.1 Soun...</td>\n    </tr>\n    <tr>\n      <th>...</th>\n      <td>...</td>\n      <td>...</td>\n      <td>...</td>\n      <td>...</td>\n      <td>...</td>\n      <td>...</td>\n      <td>...</td>\n      <td>...</td>\n      <td>...</td>\n      <td>...</td>\n      <td>...</td>\n      <td>...</td>\n      <td>...</td>\n      <td>...</td>\n      <td>...</td>\n    </tr>\n    <tr>\n      <th>1638</th>\n      <td>0.000000</td>\n      <td>others</td>\n      <td>B00006B8DX</td>\n      <td>5</td>\n      <td>A2J7K951TITQ27</td>\n      <td>Five Stars</td>\n      <td>Excelent</td>\n      <td>2014-10-31</td>\n      <td>0</td>\n      <td>startech</td>\n      <td>Fans &amp; Cooling</td>\n      <td>Provide optimal heat transfer between CPU and ...</td>\n      <td>https://images-na.ssl-images-amazon.com/images...</td>\n      <td>NaN</td>\n      <td>StarTech.com 1.5g Metal OxIDE Thermal CPU Past...</td>\n    </tr>\n    <tr>\n      <th>85541</th>\n      <td>0.000000</td>\n      <td>others</td>\n      <td>B005F778JO</td>\n      <td>5</td>\n      <td>A5YVFKY4HQ6T7</td>\n      <td>Five Stars</td>\n      <td>excellent!!</td>\n      <td>2015-07-19</td>\n      <td>0</td>\n      <td>thermaltake</td>\n      <td>Power Supplies</td>\n      <td>Dr. Power II is a fully automated diagnostic t...</td>\n      <td>https://images-na.ssl-images-amazon.com/images...</td>\n      <td>2.54</td>\n      <td>Thermaltake Dr. Power II Automated Power Suppl...</td>\n    </tr>\n    <tr>\n      <th>161803</th>\n      <td>0.000000</td>\n      <td>others</td>\n      <td>B00DSGLMSM</td>\n      <td>5</td>\n      <td>ADX2LGXIE9NDS</td>\n      <td>Five Stars</td>\n      <td>Excelente!</td>\n      <td>2014-09-17</td>\n      <td>0</td>\n      <td>ballistix</td>\n      <td>Memory</td>\n      <td>BLS2K8G3N18AES4 is a 16GB Kit containing (2) 8...</td>\n      <td>https://images-na.ssl-images-amazon.com/images...</td>\n      <td>5.48</td>\n      <td>Ballistix Sport 16GB Kit (8GBx2) DDR3 1866 MT/...</td>\n    </tr>\n    <tr>\n      <th>120757</th>\n      <td>0.000000</td>\n      <td>others</td>\n      <td>B008B6ONXK</td>\n      <td>5</td>\n      <td>A1CQYOU6WQN1JP</td>\n      <td>Five Stars</td>\n      <td>Excellent.</td>\n      <td>2017-02-27</td>\n      <td>0</td>\n      <td>asus</td>\n      <td>Motherboards</td>\n      <td>The ASUS M5A99FX PRO R2.0 motherboard features...</td>\n      <td>https://images-na.ssl-images-amazon.com/images...</td>\n      <td>NaN</td>\n      <td>ASUS M5A99FX PRO R2.0 AM3+ AMD 990FX SATA 6Gb/...</td>\n    </tr>\n    <tr>\n      <th>167634</th>\n      <td>0.000000</td>\n      <td>others</td>\n      <td>B00EO6X4XG</td>\n      <td>5</td>\n      <td>A21G08051G1OLM</td>\n      <td>Five Stars</td>\n      <td>No complaints</td>\n      <td>2016-11-08</td>\n      <td>0</td>\n      <td>creative</td>\n      <td>Sound Cards</td>\n      <td>Meet the Sound Blaster Audigy Fx! This half-he...</td>\n      <td>https://images-na.ssl-images-amazon.com/images...</td>\n      <td>2.54</td>\n      <td>Creative Sound Blaster Audigy FX PCIe 5.1 Soun...</td>\n    </tr>\n  </tbody>\n</table>\n<p>981 rows × 15 columns</p>\n</div>"
     },
     "execution_count": 63,
     "metadata": {},
     "output_type": "execute_result"
    }
   ],
   "source": [
    "data_df[data_df[\"lang\"] == \"others\"].sort_values(\"prob\", ascending=False)"
   ]
  },
  {
   "cell_type": "code",
   "execution_count": 64,
   "metadata": {
    "collapsed": false
   },
   "outputs": [],
   "source": [
    "# keep only english reviews\n",
    "data_df = data_df.loc[data_df[\"lang\"] == \"en\"]\n",
    "data_df.drop(columns=[\"lang\", \"prob\"], axis=1, inplace=True)"
   ]
  },
  {
   "cell_type": "code",
   "execution_count": 65,
   "metadata": {
    "collapsed": false
   },
   "outputs": [
    {
     "name": "stdout",
     "output_type": "stream",
     "text": [
      "<class 'pandas.core.frame.DataFrame'>\n",
      "Int64Index: 28983 entries, 5953 to 163538\n",
      "Data columns (total 13 columns):\n",
      " #   Column           Non-Null Count  Dtype         \n",
      "---  ------           --------------  -----         \n",
      " 0   asin             28983 non-null  category      \n",
      " 1   overall          28983 non-null  category      \n",
      " 2   reviewerID       28983 non-null  string        \n",
      " 3   summary          28983 non-null  string        \n",
      " 4   text             28983 non-null  string        \n",
      " 5   timestamp        28983 non-null  datetime64[ns]\n",
      " 6   vote             28983 non-null  int64         \n",
      " 7   brand            28983 non-null  category      \n",
      " 8   category         28983 non-null  category      \n",
      " 9   description      28139 non-null  string        \n",
      " 10  imageURLHighRes  24005 non-null  string        \n",
      " 11  price            18830 non-null  float64       \n",
      " 12  title            28983 non-null  string        \n",
      "dtypes: category(4), datetime64[ns](1), float64(1), int64(1), string(6)\n",
      "memory usage: 2.6 MB\n"
     ]
    }
   ],
   "source": [
    "data_df.info()"
   ]
  },
  {
   "cell_type": "markdown",
   "metadata": {
    "collapsed": false
   },
   "source": [
    "#### Save"
   ]
  },
  {
   "cell_type": "markdown",
   "source": [],
   "metadata": {
    "collapsed": false
   }
  },
  {
   "cell_type": "code",
   "execution_count": 66,
   "metadata": {
    "collapsed": false
   },
   "outputs": [
    {
     "name": "stdout",
     "output_type": "stream",
     "text": [
      "<class 'pandas.core.frame.DataFrame'>\n",
      "RangeIndex: 28983 entries, 0 to 28982\n",
      "Data columns (total 13 columns):\n",
      " #   Column           Non-Null Count  Dtype         \n",
      "---  ------           --------------  -----         \n",
      " 0   asin             28983 non-null  category      \n",
      " 1   overall          28983 non-null  category      \n",
      " 2   reviewerID       28983 non-null  string        \n",
      " 3   summary          28983 non-null  string        \n",
      " 4   text             28983 non-null  string        \n",
      " 5   timestamp        28983 non-null  datetime64[ns]\n",
      " 6   vote             28983 non-null  int64         \n",
      " 7   brand            28983 non-null  category      \n",
      " 8   category         28983 non-null  category      \n",
      " 9   description      28139 non-null  string        \n",
      " 10  imageURLHighRes  24005 non-null  string        \n",
      " 11  price            18830 non-null  float64       \n",
      " 12  title            28983 non-null  string        \n",
      "dtypes: category(4), datetime64[ns](1), float64(1), int64(1), string(6)\n",
      "memory usage: 2.3 MB\n"
     ]
    }
   ],
   "source": [
    "data_df[\"asin\"] = data_df[\"asin\"].astype(\"string\").astype(\"category\")\n",
    "data_df[\"overall\"] = data_df[\"overall\"].astype(\"string\").astype(\"category\")\n",
    "data_df[\"brand\"] = data_df[\"brand\"].astype(\"string\").astype(\"category\")\n",
    "data_df[\"category\"] = data_df[\"category\"].astype(\"string\").astype(\"category\")\n",
    "\n",
    "data_df.reset_index(drop=True, inplace=True)\n",
    "\n",
    "data_df.info()"
   ]
  },
  {
   "cell_type": "code",
   "execution_count": 67,
   "metadata": {
    "collapsed": false
   },
   "outputs": [],
   "source": [
    "data_df.to_json(processed_data_dir / \"products_reviews.json.gz\")"
   ]
  }
 ],
 "metadata": {
  "interpreter": {
   "hash": "2ce6ec2e4b6a5ff97b7d971429414c7b0e6b53095546745f3a5e17ba202567f8"
  },
  "kernelspec": {
   "display_name": "Python 3.10.5 ('venv': venv)",
   "language": "python",
   "name": "python3"
  },
  "language_info": {
   "codemirror_mode": {
    "name": "ipython",
    "version": 3
   },
   "file_extension": ".py",
   "mimetype": "text/x-python",
   "name": "python",
   "nbconvert_exporter": "python",
   "pygments_lexer": "ipython3",
   "version": "3.10.5"
  }
 },
 "nbformat": 4,
 "nbformat_minor": 0
}
