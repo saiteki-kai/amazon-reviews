{
 "cells": [
  {
   "cell_type": "code",
   "execution_count": 66,
   "metadata": {
    "collapsed": true
   },
   "outputs": [
    {
     "name": "stdout",
     "output_type": "stream",
     "text": [
      "INFO: Pandarallel will run on 8 workers.\n",
      "INFO: Pandarallel will use Memory file system to transfer data between the main process and workers.\n"
     ]
    }
   ],
   "source": [
    "import os\n",
    "import fasttext\n",
    "import numpy as np\n",
    "import pandas as pd\n",
    "import seaborn as sns\n",
    "\n",
    "from matplotlib import pyplot as plt\n",
    "from pandarallel import pandarallel\n",
    "\n",
    "from reviews.preprocess import remove_urls, strip_html\n",
    "from reviews.config import processed_data_dir\n",
    "from reviews.utils import clean_brand\n",
    "\n",
    "pandarallel.initialize(progress_bar=False, nb_workers=8)"
   ]
  },
  {
   "cell_type": "markdown",
   "metadata": {
    "collapsed": false
   },
   "source": [
    "# Data Cleaning"
   ]
  },
  {
   "cell_type": "markdown",
   "metadata": {
    "collapsed": false
   },
   "source": [
    "## Products"
   ]
  },
  {
   "cell_type": "code",
   "execution_count": 67,
   "metadata": {
    "collapsed": false
   },
   "outputs": [
    {
     "name": "stdout",
     "output_type": "stream",
     "text": [
      "<class 'pandas.core.frame.DataFrame'>\n",
      "RangeIndex: 32720 entries, 0 to 32719\n",
      "Data columns (total 7 columns):\n",
      " #   Column           Non-Null Count  Dtype \n",
      "---  ------           --------------  ----- \n",
      " 0   asin             32720 non-null  object\n",
      " 1   brand            32720 non-null  object\n",
      " 2   category         32720 non-null  object\n",
      " 3   description      32720 non-null  object\n",
      " 4   imageURLHighRes  32720 non-null  object\n",
      " 5   price            32720 non-null  object\n",
      " 6   title            32720 non-null  object\n",
      "dtypes: object(7)\n",
      "memory usage: 1.7+ MB\n"
     ]
    }
   ],
   "source": [
    "prod_df = pd.read_json(processed_data_dir / \"meta.json.gz\")\n",
    "prod_df = prod_df.reindex(sorted(prod_df.columns), axis=1)  # sort columns\n",
    "prod_df.info()"
   ]
  },
  {
   "cell_type": "code",
   "execution_count": 68,
   "metadata": {
    "collapsed": false
   },
   "outputs": [
    {
     "data": {
      "text/plain": "         asin           brand  \\\n0  7500653883  ECS Elitegroup   \n1  7799813393          MyGica   \n2  B00000J3OG        Creative   \n3  B00000J3WY             APC   \n4  B00000J576        Creative   \n5  B00000J579        Creative   \n6  B00000J571        Creative   \n7  B00000JBB8         Diamond   \n8  B00000JBBJ       SONICblue   \n9  B00000JBJ8             PNY   \n\n                                            category  \\\n0  [Electronics, Computers & Accessories, Compute...   \n1  [Electronics, Computers & Accessories, Compute...   \n2  [Electronics, Computers & Accessories, Compute...   \n3  [Electronics, Computers & Accessories, Compute...   \n4  [Electronics, Computers & Accessories, Compute...   \n5  [Electronics, Computers & Accessories, Compute...   \n6  [Electronics, Computers & Accessories, Compute...   \n7  [Electronics, Computers & Accessories, Compute...   \n8  [Electronics, Computers & Accessories, Compute...   \n9  [Electronics, Computers & Accessories, Compute...   \n\n                                         description  \\\n0                                                 []   \n1  [Mygica EZgrabber2 USB 2.0 Video Capture, VHS ...   \n2                                                 []   \n3          [APC 650 VA Uninterruptable Power Supply]   \n4         [Unleash incredible graphics performance!]   \n5  [Based on the award-winning Sound Blaster 16 t...   \n6         [Unleash incredible graphics performance!]   \n7  [Monster Sound MX300 is the new-generation PCI...   \n8  [Based on the NVIDIA RIVA TNT Ultra chip set, ...   \n9  [Adding memory to your new or existing desktop...   \n\n                                     imageURLHighRes  price  \\\n0                                                 []          \n1  [https://images-na.ssl-images-amazon.com/image...          \n2                                                 []          \n3                                                 []          \n4                                                 []          \n5                                                 []  $2.05   \n6                                                 []          \n7                                                 []          \n8  [https://images-na.ssl-images-amazon.com/image...          \n9                                                 []          \n\n                                               title  \n0  ECS PT800CE-A Socket 478 Motherboard Prescott ...  \n1  Mygica EZgrabber USB 2.0 Video Capture, VHS to...  \n2  Creative Labs DI5601 Modem Blaster 56K Interna...  \n3  APC 650VA Back-Up Power Supply (Discontinued b...  \n4  Creative Labs 3DB6815BULK 3D Blaster Savage4 P...  \n5      Creative Labs Sound Blaster 16 PCI Sound Card  \n6    Creative Labs 3DB6901 3D Blaster Savage4 AGP 32  \n7  Diamond MX300 MonsterSound PCI Audio Accelerat...  \n8      Diamond Viper V770 Ultra Graphics Accelerator  \n9  PNY 64174ESEM4G-CS 128MB 168 Pin DIMM SDRAM PC...  ",
      "text/html": "<div>\n<style scoped>\n    .dataframe tbody tr th:only-of-type {\n        vertical-align: middle;\n    }\n\n    .dataframe tbody tr th {\n        vertical-align: top;\n    }\n\n    .dataframe thead th {\n        text-align: right;\n    }\n</style>\n<table border=\"1\" class=\"dataframe\">\n  <thead>\n    <tr style=\"text-align: right;\">\n      <th></th>\n      <th>asin</th>\n      <th>brand</th>\n      <th>category</th>\n      <th>description</th>\n      <th>imageURLHighRes</th>\n      <th>price</th>\n      <th>title</th>\n    </tr>\n  </thead>\n  <tbody>\n    <tr>\n      <th>0</th>\n      <td>7500653883</td>\n      <td>ECS Elitegroup</td>\n      <td>[Electronics, Computers &amp; Accessories, Compute...</td>\n      <td>[]</td>\n      <td>[]</td>\n      <td></td>\n      <td>ECS PT800CE-A Socket 478 Motherboard Prescott ...</td>\n    </tr>\n    <tr>\n      <th>1</th>\n      <td>7799813393</td>\n      <td>MyGica</td>\n      <td>[Electronics, Computers &amp; Accessories, Compute...</td>\n      <td>[Mygica EZgrabber2 USB 2.0 Video Capture, VHS ...</td>\n      <td>[https://images-na.ssl-images-amazon.com/image...</td>\n      <td></td>\n      <td>Mygica EZgrabber USB 2.0 Video Capture, VHS to...</td>\n    </tr>\n    <tr>\n      <th>2</th>\n      <td>B00000J3OG</td>\n      <td>Creative</td>\n      <td>[Electronics, Computers &amp; Accessories, Compute...</td>\n      <td>[]</td>\n      <td>[]</td>\n      <td></td>\n      <td>Creative Labs DI5601 Modem Blaster 56K Interna...</td>\n    </tr>\n    <tr>\n      <th>3</th>\n      <td>B00000J3WY</td>\n      <td>APC</td>\n      <td>[Electronics, Computers &amp; Accessories, Compute...</td>\n      <td>[APC 650 VA Uninterruptable Power Supply]</td>\n      <td>[]</td>\n      <td></td>\n      <td>APC 650VA Back-Up Power Supply (Discontinued b...</td>\n    </tr>\n    <tr>\n      <th>4</th>\n      <td>B00000J576</td>\n      <td>Creative</td>\n      <td>[Electronics, Computers &amp; Accessories, Compute...</td>\n      <td>[Unleash incredible graphics performance!]</td>\n      <td>[]</td>\n      <td></td>\n      <td>Creative Labs 3DB6815BULK 3D Blaster Savage4 P...</td>\n    </tr>\n    <tr>\n      <th>5</th>\n      <td>B00000J579</td>\n      <td>Creative</td>\n      <td>[Electronics, Computers &amp; Accessories, Compute...</td>\n      <td>[Based on the award-winning Sound Blaster 16 t...</td>\n      <td>[]</td>\n      <td>$2.05</td>\n      <td>Creative Labs Sound Blaster 16 PCI Sound Card</td>\n    </tr>\n    <tr>\n      <th>6</th>\n      <td>B00000J571</td>\n      <td>Creative</td>\n      <td>[Electronics, Computers &amp; Accessories, Compute...</td>\n      <td>[Unleash incredible graphics performance!]</td>\n      <td>[]</td>\n      <td></td>\n      <td>Creative Labs 3DB6901 3D Blaster Savage4 AGP 32</td>\n    </tr>\n    <tr>\n      <th>7</th>\n      <td>B00000JBB8</td>\n      <td>Diamond</td>\n      <td>[Electronics, Computers &amp; Accessories, Compute...</td>\n      <td>[Monster Sound MX300 is the new-generation PCI...</td>\n      <td>[]</td>\n      <td></td>\n      <td>Diamond MX300 MonsterSound PCI Audio Accelerat...</td>\n    </tr>\n    <tr>\n      <th>8</th>\n      <td>B00000JBBJ</td>\n      <td>SONICblue</td>\n      <td>[Electronics, Computers &amp; Accessories, Compute...</td>\n      <td>[Based on the NVIDIA RIVA TNT Ultra chip set, ...</td>\n      <td>[https://images-na.ssl-images-amazon.com/image...</td>\n      <td></td>\n      <td>Diamond Viper V770 Ultra Graphics Accelerator</td>\n    </tr>\n    <tr>\n      <th>9</th>\n      <td>B00000JBJ8</td>\n      <td>PNY</td>\n      <td>[Electronics, Computers &amp; Accessories, Compute...</td>\n      <td>[Adding memory to your new or existing desktop...</td>\n      <td>[]</td>\n      <td></td>\n      <td>PNY 64174ESEM4G-CS 128MB 168 Pin DIMM SDRAM PC...</td>\n    </tr>\n  </tbody>\n</table>\n</div>"
     },
     "execution_count": 68,
     "metadata": {},
     "output_type": "execute_result"
    }
   ],
   "source": [
    "prod_df.head(10)"
   ]
  },
  {
   "cell_type": "markdown",
   "metadata": {
    "collapsed": false
   },
   "source": [
    "### Transform Data"
   ]
  },
  {
   "cell_type": "code",
   "execution_count": 70,
   "metadata": {
    "collapsed": false
   },
   "outputs": [],
   "source": [
    "# keep the first subcategory and rename categories\n",
    "prod_df[\"category\"] = prod_df[\"category\"].parallel_apply(\n",
    "    lambda x: x[4] if len(x) > 4 else \"other\"\n",
    ")\n",
    "\n",
    "prod_df[\"category\"] = prod_df[\"category\"].apply(\n",
    "    lambda cat: cat.replace(\"Internal\", \"\").strip() if type(cat) is str else cat\n",
    ")\n",
    "\n",
    "# join description in a single string\n",
    "prod_df[\"description\"] = prod_df[\"description\"].parallel_apply(lambda x: \" \".join(x))\n",
    "\n",
    "# remove html and replace empty with NA\n",
    "for col in [\"category\", \"description\", \"title\", \"brand\", \"asin\"]:\n",
    "    prod_df[col] = prod_df[col].astype(\"string\").parallel_apply(strip_html)\n",
    "    prod_df.loc[prod_df[col] == \"\", col] = np.nan\n",
    "\n",
    "# fix price\n",
    "prod_df[\"price\"] = prod_df[\"price\"].astype(\"string\").parallel_apply(strip_html)\n",
    "prod_df[\"price\"] = prod_df[\"price\"].str.replace(\"[\\$,]\", \"\", regex=True)\n",
    "prod_df.loc[prod_df[\"price\"].str.len() == 0, \"price\"] = np.nan\n",
    "prod_df.loc[prod_df[\"price\"].str.len() > 8, \"price\"] = np.nan\n",
    "\n",
    "prod_df[\"brand\"] = prod_df[\"brand\"].apply(clean_brand)\n",
    "\n",
    "prod_df[\"imageURLHighRes\"] = prod_df[\"imageURLHighRes\"].parallel_apply(\n",
    "    lambda x: x[0] if x else np.nan\n",
    ")"
   ]
  },
  {
   "cell_type": "code",
   "execution_count": 71,
   "metadata": {
    "collapsed": false
   },
   "outputs": [
    {
     "data": {
      "text/plain": "         asin           brand                  category  \\\n0  7500653883  ecs elitegroup              Motherboards   \n1  7799813393          mygica  TV Tuner & Capture Cards   \n2  B00000J3OG        creative                    Modems   \n3  B00000J3WY             apc            Power Supplies   \n4  B00000J576        creative            Graphics Cards   \n5  B00000J579        creative               Sound Cards   \n6  B00000J571        creative            Graphics Cards   \n7  B00000JBB8         diamond            Graphics Cards   \n8  B00000JBBJ       sonicblue            Graphics Cards   \n9  B00000JBJ8             pny                    Memory   \n\n                                         description  \\\n0                                                NaN   \n1  Mygica EZgrabber2 USB 2.0 Video Capture, VHS t...   \n2                                                NaN   \n3            APC 650 VA Uninterruptable Power Supply   \n4           Unleash incredible graphics performance!   \n5  Based on the award-winning Sound Blaster 16 te...   \n6           Unleash incredible graphics performance!   \n7  Monster Sound MX300 is the new-generation PCI ...   \n8  Based on the NVIDIA RIVA TNT Ultra chip set, D...   \n9  Adding memory to your new or existing desktop ...   \n\n                                     imageURLHighRes price  \\\n0                                                NaN   NaN   \n1  https://images-na.ssl-images-amazon.com/images...   NaN   \n2                                                NaN   NaN   \n3                                                NaN   NaN   \n4                                                NaN   NaN   \n5                                                NaN  2.05   \n6                                                NaN   NaN   \n7                                                NaN   NaN   \n8  https://images-na.ssl-images-amazon.com/images...   NaN   \n9                                                NaN   NaN   \n\n                                               title  \n0  ECS PT800CE-A Socket 478 Motherboard Prescott ...  \n1  Mygica EZgrabber USB 2.0 Video Capture, VHS to...  \n2  Creative Labs DI5601 Modem Blaster 56K Interna...  \n3  APC 650VA Back-Up Power Supply (Discontinued b...  \n4  Creative Labs 3DB6815BULK 3D Blaster Savage4 P...  \n5      Creative Labs Sound Blaster 16 PCI Sound Card  \n6    Creative Labs 3DB6901 3D Blaster Savage4 AGP 32  \n7  Diamond MX300 MonsterSound PCI Audio Accelerat...  \n8      Diamond Viper V770 Ultra Graphics Accelerator  \n9  PNY 64174ESEM4G-CS 128MB 168 Pin DIMM SDRAM PC...  ",
      "text/html": "<div>\n<style scoped>\n    .dataframe tbody tr th:only-of-type {\n        vertical-align: middle;\n    }\n\n    .dataframe tbody tr th {\n        vertical-align: top;\n    }\n\n    .dataframe thead th {\n        text-align: right;\n    }\n</style>\n<table border=\"1\" class=\"dataframe\">\n  <thead>\n    <tr style=\"text-align: right;\">\n      <th></th>\n      <th>asin</th>\n      <th>brand</th>\n      <th>category</th>\n      <th>description</th>\n      <th>imageURLHighRes</th>\n      <th>price</th>\n      <th>title</th>\n    </tr>\n  </thead>\n  <tbody>\n    <tr>\n      <th>0</th>\n      <td>7500653883</td>\n      <td>ecs elitegroup</td>\n      <td>Motherboards</td>\n      <td>NaN</td>\n      <td>NaN</td>\n      <td>NaN</td>\n      <td>ECS PT800CE-A Socket 478 Motherboard Prescott ...</td>\n    </tr>\n    <tr>\n      <th>1</th>\n      <td>7799813393</td>\n      <td>mygica</td>\n      <td>TV Tuner &amp; Capture Cards</td>\n      <td>Mygica EZgrabber2 USB 2.0 Video Capture, VHS t...</td>\n      <td>https://images-na.ssl-images-amazon.com/images...</td>\n      <td>NaN</td>\n      <td>Mygica EZgrabber USB 2.0 Video Capture, VHS to...</td>\n    </tr>\n    <tr>\n      <th>2</th>\n      <td>B00000J3OG</td>\n      <td>creative</td>\n      <td>Modems</td>\n      <td>NaN</td>\n      <td>NaN</td>\n      <td>NaN</td>\n      <td>Creative Labs DI5601 Modem Blaster 56K Interna...</td>\n    </tr>\n    <tr>\n      <th>3</th>\n      <td>B00000J3WY</td>\n      <td>apc</td>\n      <td>Power Supplies</td>\n      <td>APC 650 VA Uninterruptable Power Supply</td>\n      <td>NaN</td>\n      <td>NaN</td>\n      <td>APC 650VA Back-Up Power Supply (Discontinued b...</td>\n    </tr>\n    <tr>\n      <th>4</th>\n      <td>B00000J576</td>\n      <td>creative</td>\n      <td>Graphics Cards</td>\n      <td>Unleash incredible graphics performance!</td>\n      <td>NaN</td>\n      <td>NaN</td>\n      <td>Creative Labs 3DB6815BULK 3D Blaster Savage4 P...</td>\n    </tr>\n    <tr>\n      <th>5</th>\n      <td>B00000J579</td>\n      <td>creative</td>\n      <td>Sound Cards</td>\n      <td>Based on the award-winning Sound Blaster 16 te...</td>\n      <td>NaN</td>\n      <td>2.05</td>\n      <td>Creative Labs Sound Blaster 16 PCI Sound Card</td>\n    </tr>\n    <tr>\n      <th>6</th>\n      <td>B00000J571</td>\n      <td>creative</td>\n      <td>Graphics Cards</td>\n      <td>Unleash incredible graphics performance!</td>\n      <td>NaN</td>\n      <td>NaN</td>\n      <td>Creative Labs 3DB6901 3D Blaster Savage4 AGP 32</td>\n    </tr>\n    <tr>\n      <th>7</th>\n      <td>B00000JBB8</td>\n      <td>diamond</td>\n      <td>Graphics Cards</td>\n      <td>Monster Sound MX300 is the new-generation PCI ...</td>\n      <td>NaN</td>\n      <td>NaN</td>\n      <td>Diamond MX300 MonsterSound PCI Audio Accelerat...</td>\n    </tr>\n    <tr>\n      <th>8</th>\n      <td>B00000JBBJ</td>\n      <td>sonicblue</td>\n      <td>Graphics Cards</td>\n      <td>Based on the NVIDIA RIVA TNT Ultra chip set, D...</td>\n      <td>https://images-na.ssl-images-amazon.com/images...</td>\n      <td>NaN</td>\n      <td>Diamond Viper V770 Ultra Graphics Accelerator</td>\n    </tr>\n    <tr>\n      <th>9</th>\n      <td>B00000JBJ8</td>\n      <td>pny</td>\n      <td>Memory</td>\n      <td>Adding memory to your new or existing desktop ...</td>\n      <td>NaN</td>\n      <td>NaN</td>\n      <td>PNY 64174ESEM4G-CS 128MB 168 Pin DIMM SDRAM PC...</td>\n    </tr>\n  </tbody>\n</table>\n</div>"
     },
     "execution_count": 71,
     "metadata": {},
     "output_type": "execute_result"
    }
   ],
   "source": [
    "prod_df.head(10)"
   ]
  },
  {
   "cell_type": "markdown",
   "metadata": {
    "collapsed": false
   },
   "source": [
    "### Convert Data Types"
   ]
  },
  {
   "cell_type": "code",
   "execution_count": 72,
   "metadata": {
    "collapsed": false
   },
   "outputs": [],
   "source": [
    "prod_df[\"asin\"] = prod_df[\"asin\"].astype(\"string\")\n",
    "prod_df[\"brand\"] = prod_df[\"brand\"].astype(\"category\")\n",
    "prod_df[\"category\"] = prod_df[\"category\"].astype(\"category\")\n",
    "prod_df[\"description\"] = prod_df[\"description\"].astype(\"string\")\n",
    "prod_df[\"price\"] = prod_df[\"price\"].astype(\"float\")\n",
    "prod_df[\"title\"] = prod_df[\"title\"].astype(\"string\")\n",
    "prod_df[\"imageURLHighRes\"] = prod_df[\"imageURLHighRes\"].astype(\"string\")"
   ]
  },
  {
   "cell_type": "code",
   "execution_count": 73,
   "metadata": {},
   "outputs": [],
   "source": [
    "prod_df.to_json(processed_data_dir / \"products_cleaned.json.gz\")"
   ]
  },
  {
   "cell_type": "markdown",
   "metadata": {
    "collapsed": false
   },
   "source": [
    "## Reviews"
   ]
  },
  {
   "cell_type": "code",
   "execution_count": 74,
   "metadata": {
    "collapsed": false
   },
   "outputs": [
    {
     "name": "stdout",
     "output_type": "stream",
     "text": [
      "<class 'pandas.core.frame.DataFrame'>\n",
      "RangeIndex: 269029 entries, 0 to 269028\n",
      "Data columns (total 7 columns):\n",
      " #   Column      Non-Null Count   Dtype         \n",
      "---  ------      --------------   -----         \n",
      " 0   asin        269029 non-null  object        \n",
      " 1   overall     269029 non-null  int64         \n",
      " 2   reviewerID  269029 non-null  object        \n",
      " 3   summary     269029 non-null  object        \n",
      " 4   text        269029 non-null  object        \n",
      " 5   timestamp   269029 non-null  datetime64[ns]\n",
      " 6   vote        269029 non-null  int64         \n",
      "dtypes: datetime64[ns](1), int64(2), object(4)\n",
      "memory usage: 14.4+ MB\n"
     ]
    }
   ],
   "source": [
    "review_df = pd.read_json(processed_data_dir / \"reviews.json.gz\")\n",
    "review_df = review_df.reindex(sorted(review_df.columns), axis=1)  # sort columns\n",
    "review_df.info()"
   ]
  },
  {
   "cell_type": "code",
   "execution_count": 75,
   "metadata": {
    "collapsed": false
   },
   "outputs": [
    {
     "data": {
      "text/plain": "         asin  overall      reviewerID  \\\n0  7799813393        3  A13R0XX727WQB8   \n1  7799813393        4  A2D1N6Z7WS9AQQ   \n2  7799813393        4  A3BOQADZVJB6C3   \n3  B00000J579        5  A1NVD0TKNS1GT5   \n4  B00000J579        3  A3CCYAQRHUTPIQ   \n5  B00000J579        4   A7RJ19XG5PDRU   \n6  B00000J579        3   AT4AV7XIQDKQP   \n7  B00000JDKU        4   ANLA598UNJI8A   \n8  B00000JDKU        5   A7RV1KU5O0II9   \n9  B00000JF4L        5  A2M7NKO97UIVAH   \n\n                                         summary  \\\n0                       Good for what it can do.   \n1                                     works well   \n2                             Cheap and it works   \n3  Easy to Use, Almost everything you could want   \n4                                        Bathtub   \n5                   Good low-end, no-hassle card   \n6           Ok for the price and basic functions   \n7                                      good card   \n8                                           WOW!   \n9                              An excellent card   \n\n                                                text  timestamp  vote  \n0  Bought this to transfer video from some old eq... 2013-01-17     0  \n1  The EZGrabber2 works well but it's software is... 2012-09-04     0  \n2  I got this because it was pretty decently pric... 2012-08-27     6  \n3  This sound card doesn't reproduce MP3 or WAV f... 2000-10-10    32  \n4  Essentially, this is the entry-level, 16-bit a... 2000-09-04     4  \n5  This is a basic sound card.  Nothing fancy.  T... 2002-07-03     6  \n6  This is a basic low-end sound card. It puts ou... 2002-04-04     8  \n7  The Voodoo 3 is a great card that replaces bot... 1999-11-21    18  \n8  This card is so fast and really high resolutio... 1999-07-15     4  \n9  Let me first state that I purchased this card ... 2000-03-15    38  ",
      "text/html": "<div>\n<style scoped>\n    .dataframe tbody tr th:only-of-type {\n        vertical-align: middle;\n    }\n\n    .dataframe tbody tr th {\n        vertical-align: top;\n    }\n\n    .dataframe thead th {\n        text-align: right;\n    }\n</style>\n<table border=\"1\" class=\"dataframe\">\n  <thead>\n    <tr style=\"text-align: right;\">\n      <th></th>\n      <th>asin</th>\n      <th>overall</th>\n      <th>reviewerID</th>\n      <th>summary</th>\n      <th>text</th>\n      <th>timestamp</th>\n      <th>vote</th>\n    </tr>\n  </thead>\n  <tbody>\n    <tr>\n      <th>0</th>\n      <td>7799813393</td>\n      <td>3</td>\n      <td>A13R0XX727WQB8</td>\n      <td>Good for what it can do.</td>\n      <td>Bought this to transfer video from some old eq...</td>\n      <td>2013-01-17</td>\n      <td>0</td>\n    </tr>\n    <tr>\n      <th>1</th>\n      <td>7799813393</td>\n      <td>4</td>\n      <td>A2D1N6Z7WS9AQQ</td>\n      <td>works well</td>\n      <td>The EZGrabber2 works well but it's software is...</td>\n      <td>2012-09-04</td>\n      <td>0</td>\n    </tr>\n    <tr>\n      <th>2</th>\n      <td>7799813393</td>\n      <td>4</td>\n      <td>A3BOQADZVJB6C3</td>\n      <td>Cheap and it works</td>\n      <td>I got this because it was pretty decently pric...</td>\n      <td>2012-08-27</td>\n      <td>6</td>\n    </tr>\n    <tr>\n      <th>3</th>\n      <td>B00000J579</td>\n      <td>5</td>\n      <td>A1NVD0TKNS1GT5</td>\n      <td>Easy to Use, Almost everything you could want</td>\n      <td>This sound card doesn't reproduce MP3 or WAV f...</td>\n      <td>2000-10-10</td>\n      <td>32</td>\n    </tr>\n    <tr>\n      <th>4</th>\n      <td>B00000J579</td>\n      <td>3</td>\n      <td>A3CCYAQRHUTPIQ</td>\n      <td>Bathtub</td>\n      <td>Essentially, this is the entry-level, 16-bit a...</td>\n      <td>2000-09-04</td>\n      <td>4</td>\n    </tr>\n    <tr>\n      <th>5</th>\n      <td>B00000J579</td>\n      <td>4</td>\n      <td>A7RJ19XG5PDRU</td>\n      <td>Good low-end, no-hassle card</td>\n      <td>This is a basic sound card.  Nothing fancy.  T...</td>\n      <td>2002-07-03</td>\n      <td>6</td>\n    </tr>\n    <tr>\n      <th>6</th>\n      <td>B00000J579</td>\n      <td>3</td>\n      <td>AT4AV7XIQDKQP</td>\n      <td>Ok for the price and basic functions</td>\n      <td>This is a basic low-end sound card. It puts ou...</td>\n      <td>2002-04-04</td>\n      <td>8</td>\n    </tr>\n    <tr>\n      <th>7</th>\n      <td>B00000JDKU</td>\n      <td>4</td>\n      <td>ANLA598UNJI8A</td>\n      <td>good card</td>\n      <td>The Voodoo 3 is a great card that replaces bot...</td>\n      <td>1999-11-21</td>\n      <td>18</td>\n    </tr>\n    <tr>\n      <th>8</th>\n      <td>B00000JDKU</td>\n      <td>5</td>\n      <td>A7RV1KU5O0II9</td>\n      <td>WOW!</td>\n      <td>This card is so fast and really high resolutio...</td>\n      <td>1999-07-15</td>\n      <td>4</td>\n    </tr>\n    <tr>\n      <th>9</th>\n      <td>B00000JF4L</td>\n      <td>5</td>\n      <td>A2M7NKO97UIVAH</td>\n      <td>An excellent card</td>\n      <td>Let me first state that I purchased this card ...</td>\n      <td>2000-03-15</td>\n      <td>38</td>\n    </tr>\n  </tbody>\n</table>\n</div>"
     },
     "execution_count": 75,
     "metadata": {},
     "output_type": "execute_result"
    }
   ],
   "source": [
    "review_df.head(10)"
   ]
  },
  {
   "cell_type": "code",
   "execution_count": 76,
   "metadata": {
    "collapsed": false
   },
   "outputs": [],
   "source": [
    "# remove html and replace empty with NA\n",
    "for col in [\"asin\", \"overall\", \"summary\", \"text\", \"timestamp\", \"vote\", \"reviewerID\"]:\n",
    "    review_df[col] = review_df[col].astype(\"string\").parallel_apply(strip_html)\n",
    "    review_df.loc[review_df[col] == \"\", col] = np.nan"
   ]
  },
  {
   "cell_type": "markdown",
   "metadata": {
    "collapsed": false
   },
   "source": [
    "### Convert Data Types"
   ]
  },
  {
   "cell_type": "code",
   "execution_count": 77,
   "metadata": {
    "collapsed": false
   },
   "outputs": [],
   "source": [
    "review_df[\"asin\"] = review_df[\"asin\"].astype(\"category\")\n",
    "review_df[\"overall\"] = review_df[\"overall\"].astype(\"category\")\n",
    "review_df[\"summary\"] = review_df[\"summary\"].astype(\"string\")\n",
    "review_df[\"text\"] = review_df[\"text\"].astype(\"string\")\n",
    "review_df[\"timestamp\"] = pd.to_datetime(review_df[\"timestamp\"], errors=\"coerce\")\n",
    "review_df[\"vote\"] = review_df[\"vote\"].astype(\"int\")\n",
    "review_df[\"reviewerID\"] = review_df[\"reviewerID\"].astype(\"string\")"
   ]
  },
  {
   "cell_type": "code",
   "execution_count": 78,
   "metadata": {
    "collapsed": false
   },
   "outputs": [
    {
     "name": "stdout",
     "output_type": "stream",
     "text": [
      "<class 'pandas.core.frame.DataFrame'>\n",
      "RangeIndex: 269029 entries, 0 to 269028\n",
      "Data columns (total 7 columns):\n",
      " #   Column      Non-Null Count   Dtype         \n",
      "---  ------      --------------   -----         \n",
      " 0   asin        269029 non-null  category      \n",
      " 1   overall     269029 non-null  category      \n",
      " 2   reviewerID  269029 non-null  string        \n",
      " 3   summary     269029 non-null  string        \n",
      " 4   text        269027 non-null  string        \n",
      " 5   timestamp   269029 non-null  datetime64[ns]\n",
      " 6   vote        269029 non-null  int64         \n",
      "dtypes: category(2), datetime64[ns](1), int64(1), string(3)\n",
      "memory usage: 11.3 MB\n"
     ]
    }
   ],
   "source": [
    "review_df.info()"
   ]
  },
  {
   "cell_type": "markdown",
   "metadata": {
    "collapsed": false
   },
   "source": [
    "### Merge with Products"
   ]
  },
  {
   "cell_type": "code",
   "execution_count": 79,
   "metadata": {
    "collapsed": false
   },
   "outputs": [
    {
     "name": "stdout",
     "output_type": "stream",
     "text": [
      "positive    246867\n",
      "negative     22162\n",
      "Name: overall, dtype: int64\n",
      "<class 'pandas.core.frame.DataFrame'>\n",
      "Int64Index: 35000 entries, 5953 to 182928\n",
      "Data columns (total 13 columns):\n",
      " #   Column           Non-Null Count  Dtype         \n",
      "---  ------           --------------  -----         \n",
      " 0   asin             35000 non-null  category      \n",
      " 1   overall          35000 non-null  category      \n",
      " 2   reviewerID       35000 non-null  string        \n",
      " 3   summary          35000 non-null  string        \n",
      " 4   text             35000 non-null  string        \n",
      " 5   timestamp        35000 non-null  datetime64[ns]\n",
      " 6   vote             35000 non-null  int64         \n",
      " 7   brand            35000 non-null  category      \n",
      " 8   category         35000 non-null  category      \n",
      " 9   description      33988 non-null  string        \n",
      " 10  imageURLHighRes  28963 non-null  string        \n",
      " 11  price            22764 non-null  float64       \n",
      " 12  title            35000 non-null  string        \n",
      "dtypes: category(4), datetime64[ns](1), float64(1), int64(1), string(6)\n",
      "memory usage: 3.1 MB\n"
     ]
    }
   ],
   "source": [
    "data_df = pd.merge(left=review_df, right=prod_df, on=\"asin\", copy=False)\n",
    "\n",
    "gt = data_df[data_df[\"overall\"] != 3][\"overall\"].astype(int)\n",
    "gt = gt.apply(lambda x: \"negative\" if x < 3 else \"positive\").astype(\"category\")\n",
    "print(gt.value_counts())\n",
    "\n",
    "data_df = data_df.sample(35000, random_state=10)\n",
    "\n",
    "data_df[\"text\"] = data_df[\"text\"].astype(\"string\")\n",
    "data_df[\"summary\"] = data_df[\"summary\"].astype(\"string\")\n",
    "data_df[\"asin\"] = data_df[\"asin\"].astype(\"string\").astype(\"category\")\n",
    "data_df[\"overall\"] = data_df[\"overall\"].astype(\"string\").astype(\"category\")\n",
    "data_df[\"brand\"] = data_df[\"brand\"].astype(\"string\").astype(\"category\")\n",
    "data_df[\"category\"] = data_df[\"category\"].astype(\"string\").astype(\"category\")\n",
    "\n",
    "data_df.info()"
   ]
  },
  {
   "cell_type": "code",
   "execution_count": 80,
   "metadata": {
    "collapsed": false
   },
   "outputs": [
    {
     "name": "stdout",
     "output_type": "stream",
     "text": [
      "Duplicates: 86\n"
     ]
    }
   ],
   "source": [
    "duplicates = data_df.duplicated([\"asin\", \"text\", \"summary\", \"overall\"], keep=False)\n",
    "print(f\"Duplicates: {duplicates.sum()}\")\n",
    "\n",
    "data_df.drop_duplicates([\"asin\", \"text\", \"summary\", \"overall\"], inplace=True)"
   ]
  },
  {
   "cell_type": "code",
   "execution_count": 81,
   "metadata": {
    "collapsed": false
   },
   "outputs": [
    {
     "data": {
      "text/plain": "<Figure size 1000x400 with 1 Axes>",
      "image/png": "[encoded data removed]"
     },
     "metadata": {},
     "output_type": "display_data"
    }
   ],
   "source": [
    "fig, axes = plt.subplots(1, 1, figsize=(10, 4))\n",
    "#sns.heatmap(data_df.isna().T, cbar=False, xticklabels=False, ax=axes[0])\n",
    "sns.barplot(\n",
    "    y=data_df.columns,\n",
    "    x=(len(data_df) - data_df.count()) / len(data_df) * 100,\n",
    "    ax=axes\n",
    ")\n",
    "axes.set_xlabel(\"Missing values (%)\")\n",
    "fig.tight_layout()"
   ]
  },
  {
   "cell_type": "code",
   "execution_count": 82,
   "metadata": {
    "collapsed": false
   },
   "outputs": [
    {
     "name": "stdout",
     "output_type": "stream",
     "text": [
      "<class 'pandas.core.frame.DataFrame'>\n",
      "Int64Index: 22727 entries, 5953 to 182928\n",
      "Data columns (total 13 columns):\n",
      " #   Column           Non-Null Count  Dtype         \n",
      "---  ------           --------------  -----         \n",
      " 0   asin             22727 non-null  category      \n",
      " 1   overall          22727 non-null  category      \n",
      " 2   reviewerID       22727 non-null  string        \n",
      " 3   summary          22727 non-null  string        \n",
      " 4   text             22727 non-null  string        \n",
      " 5   timestamp        22727 non-null  datetime64[ns]\n",
      " 6   vote             22727 non-null  int64         \n",
      " 7   brand            22727 non-null  category      \n",
      " 8   category         22727 non-null  category      \n",
      " 9   description      22203 non-null  string        \n",
      " 10  imageURLHighRes  18651 non-null  string        \n",
      " 11  price            22727 non-null  float64       \n",
      " 12  title            22727 non-null  string        \n",
      "dtypes: category(4), datetime64[ns](1), float64(1), int64(1), string(6)\n",
      "memory usage: 2.1 MB\n"
     ]
    }
   ],
   "source": [
    "# remove empty prices\n",
    "data_df = data_df.loc[~data_df[\"price\"].isna()]\n",
    "data_df.info()"
   ]
  },
  {
   "cell_type": "markdown",
   "metadata": {
    "collapsed": false
   },
   "source": [
    "### Language Identification"
   ]
  },
  {
   "cell_type": "code",
   "execution_count": 83,
   "metadata": {
    "collapsed": false
   },
   "outputs": [],
   "source": [
    "if not os.path.exists(\"/tmp/lid.176.bin\"):\n",
    "    os.system(\n",
    "        \"wget -O /tmp/lid.176.bin 'https://dl.fbaipublicfiles.com/fasttext/supervised-models/lid.176.bin'\"\n",
    "    )"
   ]
  },
  {
   "cell_type": "code",
   "execution_count": 84,
   "metadata": {
    "collapsed": false
   },
   "outputs": [
    {
     "name": "stderr",
     "output_type": "stream",
     "text": [
      "Warning : `load_model` does not return WordVectorModel or SupervisedModel any more, but a `FastText` object which is very similar.\n"
     ]
    },
    {
     "data": {
      "text/plain": "en        21954\nothers      773\nName: lang, dtype: int64"
     },
     "execution_count": 84,
     "metadata": {},
     "output_type": "execute_result"
    }
   ],
   "source": [
    "model = fasttext.load_model(\"/tmp/lid.176.bin\")\n",
    "\n",
    "langs = []\n",
    "probs = []\n",
    "for i, row in data_df.iterrows():\n",
    "    text = row[\"text\"]\n",
    "\n",
    "    text = text.replace(\"\\n\", \" \")\n",
    "\n",
    "    text = remove_urls(text)\n",
    "    text = strip_html(text)\n",
    "\n",
    "    text = text.lower()\n",
    "\n",
    "    lang = model.predict(text, threshold=0.65)\n",
    "\n",
    "    if len(lang[0]) > 0:\n",
    "        prob = lang[1][0]\n",
    "        lang = lang[0][0].replace(\"__label__\", \"\")\n",
    "\n",
    "        if lang != \"en\":\n",
    "            lang = \"others\"\n",
    "\n",
    "        langs.append(lang)\n",
    "        probs.append(prob)\n",
    "    else:\n",
    "        langs.append(\"others\")\n",
    "        probs.append(0)\n",
    "\n",
    "\n",
    "data_df.insert(loc=0, column=\"lang\", value=langs)\n",
    "data_df.insert(loc=0, column=\"prob\", value=probs)\n",
    "\n",
    "data_df[\"lang\"].value_counts()"
   ]
  },
  {
   "cell_type": "code",
   "execution_count": 85,
   "metadata": {
    "collapsed": false
   },
   "outputs": [
    {
     "data": {
      "text/plain": "            prob    lang        asin overall      reviewerID  \\\n243089  1.000046  others  B014QW98SC       5   AZRSVWZ735TK0   \n180561  1.000046  others  B00H33SFJU       5  A39PPSOTEQ4T7N   \n167532  1.000038  others  B00EO6X4XG       5  A31A25W5IHOPIA   \n54958   0.999989  others  B003CH7MY0       5  A3M4N98QTBGJ3B   \n196218  0.998185  others  B003NWQOB6       5  A2E6D8JLS9TVTJ   \n...          ...     ...         ...     ...             ...   \n243433  0.000000  others  B014R8JRRW       5   AXPKLNPCL0DS1   \n241224  0.000000  others  B0131GA4WI       5   A5NUBVP7L3H2S   \n109078  0.000000  others  B0076W9Q5A       5  A2A83I47RZW71X   \n158063  0.000000  others  B00D2CO8WO       4   ACKUV1UI6ZCUF   \n211124  0.000000  others  B00MARDJZ4       5  A2FEAAD75J9VB0   \n\n                               summary  \\\n243089                      Five Stars   \n180561                      Five Stars   \n167532  Easy instateall and works well   \n54958                       Five Stars   \n196218                 Perfecta compra   \n...                                ...   \n243433                      Five Stars   \n241224                      Five Stars   \n109078   GREAT ITEM , EXCELLENT SELLER   \n158063                      Four Stars   \n211124                      Five Stars   \n\n                                                     text  timestamp  vote  \\\n243089                                           muy bien 2018-04-16     0   \n180561                                          Muy buena 2018-03-30     0   \n167532                                                 SA 2017-08-02     0   \n54958                              bien muy buen producto 2017-08-26     0   \n196218  Me llego el producto en perfectas condiciones,... 2011-09-28     0   \n...                                                   ...        ...   ...   \n243433                                   Awesome memory!! 2016-10-26     0   \n241224                                          excelente 2017-03-06     0   \n109078                      GREAT ITEM , EXCELLENT SELLER 2017-03-03     0   \n158063                                         Sufficient 2018-03-13     0   \n211124                                             Great. 2017-06-01     0   \n\n                      brand        category  \\\n243089          thermaltake  Fans & Cooling   \n180561                 evga  Power Supplies   \n167532             creative     Sound Cards   \n54958           komputerbay          Memory   \n196218  kingston technology          Memory   \n...                     ...             ...   \n243433               hyperx          Memory   \n241224                  msi    Motherboards   \n109078              corsair          Memory   \n158063                 asus  Optical Drives   \n211124              canakit  Power Supplies   \n\n                                              description  \\\n243089  Thermaltake Riing 12 RGB LED 120mm Adjustable ...   \n180561  When building on a budget, the EVGA 500W 80 PL...   \n167532  Meet the Sound Blaster Audigy Fx! This half-he...   \n54958    While at first glance, it may be in your best...   \n196218  Kingston is the industry leader in pc memory. ...   \n...                                                   ...   \n243433  Make an Impact in your game with powerful Hype...   \n241224  MSI Z170A GAMING M5: LGA 1151, Intel Z170, SAT...   \n109078  Corsair Memory is specifically designed for ro...   \n158063  Asus DRW-24F1ST 24X SATA Internal DVD+/-RW Dri...   \n211124  2.5A is now a requirement for the Raspberry Pi...   \n\n                                          imageURLHighRes   price  \\\n243089  https://images-na.ssl-images-amazon.com/images...    3.93   \n180561  https://images-na.ssl-images-amazon.com/images...    2.54   \n167532  https://images-na.ssl-images-amazon.com/images...    2.54   \n54958                                                <NA>    3.82   \n196218                                               <NA>   25.00   \n...                                                   ...     ...   \n243433  https://images-na.ssl-images-amazon.com/images...  125.15   \n241224  https://images-na.ssl-images-amazon.com/images...  160.42   \n109078  https://images-na.ssl-images-amazon.com/images...    2.28   \n158063  https://images-na.ssl-images-amazon.com/images...    2.54   \n211124  https://images-na.ssl-images-amazon.com/images...    9.99   \n\n                                                    title  \n243089  Thermaltake Riing 12 RGB LED 120mm High Static...  \n180561  EVGA 500 W1, 80+ WHITE 500W, 3 Year Warranty, ...  \n167532  Creative Sound Blaster Audigy FX PCIe 5.1 Soun...  \n54958   KOMPUTERBAY 512MB SDRAM DIMM (168 Pin) 133Mhz ...  \n196218  Kingston Technology HyperX Blu 2 GB 2 Not a ki...  \n...                                                   ...  \n243433  HyperX Kingston Technology Impact 16GB RAM DDR...  \n241224  MSI Enthuastic Gaming Intel Z170A  LGA 1151 DD...  \n109078  CORSAIR Vengeance 16GB (2x8GB) 204-Pin DDR3 SO...  \n158063  ASUS DRW-24F1ST - DVD SATA SUPERMULTI Burner -...  \n211124  CanaKit 5V 2.5A Raspberry Pi 3 B+ Power Supply...  \n\n[773 rows x 15 columns]",
      "text/html": "<div>\n<style scoped>\n    .dataframe tbody tr th:only-of-type {\n        vertical-align: middle;\n    }\n\n    .dataframe tbody tr th {\n        vertical-align: top;\n    }\n\n    .dataframe thead th {\n        text-align: right;\n    }\n</style>\n<table border=\"1\" class=\"dataframe\">\n  <thead>\n    <tr style=\"text-align: right;\">\n      <th></th>\n      <th>prob</th>\n      <th>lang</th>\n      <th>asin</th>\n      <th>overall</th>\n      <th>reviewerID</th>\n      <th>summary</th>\n      <th>text</th>\n      <th>timestamp</th>\n      <th>vote</th>\n      <th>brand</th>\n      <th>category</th>\n      <th>description</th>\n      <th>imageURLHighRes</th>\n      <th>price</th>\n      <th>title</th>\n    </tr>\n  </thead>\n  <tbody>\n    <tr>\n      <th>243089</th>\n      <td>1.000046</td>\n      <td>others</td>\n      <td>B014QW98SC</td>\n      <td>5</td>\n      <td>AZRSVWZ735TK0</td>\n      <td>Five Stars</td>\n      <td>muy bien</td>\n      <td>2018-04-16</td>\n      <td>0</td>\n      <td>thermaltake</td>\n      <td>Fans &amp; Cooling</td>\n      <td>Thermaltake Riing 12 RGB LED 120mm Adjustable ...</td>\n      <td>https://images-na.ssl-images-amazon.com/images...</td>\n      <td>3.93</td>\n      <td>Thermaltake Riing 12 RGB LED 120mm High Static...</td>\n    </tr>\n    <tr>\n      <th>180561</th>\n      <td>1.000046</td>\n      <td>others</td>\n      <td>B00H33SFJU</td>\n      <td>5</td>\n      <td>A39PPSOTEQ4T7N</td>\n      <td>Five Stars</td>\n      <td>Muy buena</td>\n      <td>2018-03-30</td>\n      <td>0</td>\n      <td>evga</td>\n      <td>Power Supplies</td>\n      <td>When building on a budget, the EVGA 500W 80 PL...</td>\n      <td>https://images-na.ssl-images-amazon.com/images...</td>\n      <td>2.54</td>\n      <td>EVGA 500 W1, 80+ WHITE 500W, 3 Year Warranty, ...</td>\n    </tr>\n    <tr>\n      <th>167532</th>\n      <td>1.000038</td>\n      <td>others</td>\n      <td>B00EO6X4XG</td>\n      <td>5</td>\n      <td>A31A25W5IHOPIA</td>\n      <td>Easy instateall and works well</td>\n      <td>SA</td>\n      <td>2017-08-02</td>\n      <td>0</td>\n      <td>creative</td>\n      <td>Sound Cards</td>\n      <td>Meet the Sound Blaster Audigy Fx! This half-he...</td>\n      <td>https://images-na.ssl-images-amazon.com/images...</td>\n      <td>2.54</td>\n      <td>Creative Sound Blaster Audigy FX PCIe 5.1 Soun...</td>\n    </tr>\n    <tr>\n      <th>54958</th>\n      <td>0.999989</td>\n      <td>others</td>\n      <td>B003CH7MY0</td>\n      <td>5</td>\n      <td>A3M4N98QTBGJ3B</td>\n      <td>Five Stars</td>\n      <td>bien muy buen producto</td>\n      <td>2017-08-26</td>\n      <td>0</td>\n      <td>komputerbay</td>\n      <td>Memory</td>\n      <td>While at first glance, it may be in your best...</td>\n      <td>&lt;NA&gt;</td>\n      <td>3.82</td>\n      <td>KOMPUTERBAY 512MB SDRAM DIMM (168 Pin) 133Mhz ...</td>\n    </tr>\n    <tr>\n      <th>196218</th>\n      <td>0.998185</td>\n      <td>others</td>\n      <td>B003NWQOB6</td>\n      <td>5</td>\n      <td>A2E6D8JLS9TVTJ</td>\n      <td>Perfecta compra</td>\n      <td>Me llego el producto en perfectas condiciones,...</td>\n      <td>2011-09-28</td>\n      <td>0</td>\n      <td>kingston technology</td>\n      <td>Memory</td>\n      <td>Kingston is the industry leader in pc memory. ...</td>\n      <td>&lt;NA&gt;</td>\n      <td>25.00</td>\n      <td>Kingston Technology HyperX Blu 2 GB 2 Not a ki...</td>\n    </tr>\n    <tr>\n      <th>...</th>\n      <td>...</td>\n      <td>...</td>\n      <td>...</td>\n      <td>...</td>\n      <td>...</td>\n      <td>...</td>\n      <td>...</td>\n      <td>...</td>\n      <td>...</td>\n      <td>...</td>\n      <td>...</td>\n      <td>...</td>\n      <td>...</td>\n      <td>...</td>\n      <td>...</td>\n    </tr>\n    <tr>\n      <th>243433</th>\n      <td>0.000000</td>\n      <td>others</td>\n      <td>B014R8JRRW</td>\n      <td>5</td>\n      <td>AXPKLNPCL0DS1</td>\n      <td>Five Stars</td>\n      <td>Awesome memory!!</td>\n      <td>2016-10-26</td>\n      <td>0</td>\n      <td>hyperx</td>\n      <td>Memory</td>\n      <td>Make an Impact in your game with powerful Hype...</td>\n      <td>https://images-na.ssl-images-amazon.com/images...</td>\n      <td>125.15</td>\n      <td>HyperX Kingston Technology Impact 16GB RAM DDR...</td>\n    </tr>\n    <tr>\n      <th>241224</th>\n      <td>0.000000</td>\n      <td>others</td>\n      <td>B0131GA4WI</td>\n      <td>5</td>\n      <td>A5NUBVP7L3H2S</td>\n      <td>Five Stars</td>\n      <td>excelente</td>\n      <td>2017-03-06</td>\n      <td>0</td>\n      <td>msi</td>\n      <td>Motherboards</td>\n      <td>MSI Z170A GAMING M5: LGA 1151, Intel Z170, SAT...</td>\n      <td>https://images-na.ssl-images-amazon.com/images...</td>\n      <td>160.42</td>\n      <td>MSI Enthuastic Gaming Intel Z170A  LGA 1151 DD...</td>\n    </tr>\n    <tr>\n      <th>109078</th>\n      <td>0.000000</td>\n      <td>others</td>\n      <td>B0076W9Q5A</td>\n      <td>5</td>\n      <td>A2A83I47RZW71X</td>\n      <td>GREAT ITEM , EXCELLENT SELLER</td>\n      <td>GREAT ITEM , EXCELLENT SELLER</td>\n      <td>2017-03-03</td>\n      <td>0</td>\n      <td>corsair</td>\n      <td>Memory</td>\n      <td>Corsair Memory is specifically designed for ro...</td>\n      <td>https://images-na.ssl-images-amazon.com/images...</td>\n      <td>2.28</td>\n      <td>CORSAIR Vengeance 16GB (2x8GB) 204-Pin DDR3 SO...</td>\n    </tr>\n    <tr>\n      <th>158063</th>\n      <td>0.000000</td>\n      <td>others</td>\n      <td>B00D2CO8WO</td>\n      <td>4</td>\n      <td>ACKUV1UI6ZCUF</td>\n      <td>Four Stars</td>\n      <td>Sufficient</td>\n      <td>2018-03-13</td>\n      <td>0</td>\n      <td>asus</td>\n      <td>Optical Drives</td>\n      <td>Asus DRW-24F1ST 24X SATA Internal DVD+/-RW Dri...</td>\n      <td>https://images-na.ssl-images-amazon.com/images...</td>\n      <td>2.54</td>\n      <td>ASUS DRW-24F1ST - DVD SATA SUPERMULTI Burner -...</td>\n    </tr>\n    <tr>\n      <th>211124</th>\n      <td>0.000000</td>\n      <td>others</td>\n      <td>B00MARDJZ4</td>\n      <td>5</td>\n      <td>A2FEAAD75J9VB0</td>\n      <td>Five Stars</td>\n      <td>Great.</td>\n      <td>2017-06-01</td>\n      <td>0</td>\n      <td>canakit</td>\n      <td>Power Supplies</td>\n      <td>2.5A is now a requirement for the Raspberry Pi...</td>\n      <td>https://images-na.ssl-images-amazon.com/images...</td>\n      <td>9.99</td>\n      <td>CanaKit 5V 2.5A Raspberry Pi 3 B+ Power Supply...</td>\n    </tr>\n  </tbody>\n</table>\n<p>773 rows × 15 columns</p>\n</div>"
     },
     "execution_count": 85,
     "metadata": {},
     "output_type": "execute_result"
    }
   ],
   "source": [
    "data_df[data_df[\"lang\"] == \"others\"].sort_values(\"prob\", ascending=False)"
   ]
  },
  {
   "cell_type": "code",
   "execution_count": 86,
   "metadata": {
    "collapsed": false
   },
   "outputs": [],
   "source": [
    "# keep only english reviews\n",
    "data_df = data_df.loc[data_df[\"lang\"] == \"en\"]\n",
    "data_df.drop(columns=[\"lang\", \"prob\"], axis=1, inplace=True)"
   ]
  },
  {
   "cell_type": "code",
   "execution_count": 87,
   "metadata": {
    "collapsed": false
   },
   "outputs": [
    {
     "name": "stdout",
     "output_type": "stream",
     "text": [
      "<class 'pandas.core.frame.DataFrame'>\n",
      "Int64Index: 21954 entries, 5953 to 182928\n",
      "Data columns (total 13 columns):\n",
      " #   Column           Non-Null Count  Dtype         \n",
      "---  ------           --------------  -----         \n",
      " 0   asin             21954 non-null  category      \n",
      " 1   overall          21954 non-null  category      \n",
      " 2   reviewerID       21954 non-null  string        \n",
      " 3   summary          21954 non-null  string        \n",
      " 4   text             21954 non-null  string        \n",
      " 5   timestamp        21954 non-null  datetime64[ns]\n",
      " 6   vote             21954 non-null  int64         \n",
      " 7   brand            21954 non-null  category      \n",
      " 8   category         21954 non-null  category      \n",
      " 9   description      21447 non-null  string        \n",
      " 10  imageURLHighRes  18021 non-null  string        \n",
      " 11  price            21954 non-null  float64       \n",
      " 12  title            21954 non-null  string        \n",
      "dtypes: category(4), datetime64[ns](1), float64(1), int64(1), string(6)\n",
      "memory usage: 2.0 MB\n"
     ]
    }
   ],
   "source": [
    "data_df.info()"
   ]
  },
  {
   "cell_type": "markdown",
   "metadata": {
    "collapsed": false
   },
   "source": [
    "#### Save"
   ]
  },
  {
   "cell_type": "markdown",
   "source": [],
   "metadata": {
    "collapsed": false
   }
  },
  {
   "cell_type": "code",
   "execution_count": 88,
   "metadata": {
    "collapsed": false
   },
   "outputs": [
    {
     "name": "stdout",
     "output_type": "stream",
     "text": [
      "<class 'pandas.core.frame.DataFrame'>\n",
      "RangeIndex: 21954 entries, 0 to 21953\n",
      "Data columns (total 13 columns):\n",
      " #   Column           Non-Null Count  Dtype         \n",
      "---  ------           --------------  -----         \n",
      " 0   asin             21954 non-null  category      \n",
      " 1   overall          21954 non-null  category      \n",
      " 2   reviewerID       21954 non-null  string        \n",
      " 3   summary          21954 non-null  string        \n",
      " 4   text             21954 non-null  string        \n",
      " 5   timestamp        21954 non-null  datetime64[ns]\n",
      " 6   vote             21954 non-null  int64         \n",
      " 7   brand            21954 non-null  category      \n",
      " 8   category         21954 non-null  category      \n",
      " 9   description      21447 non-null  string        \n",
      " 10  imageURLHighRes  18021 non-null  string        \n",
      " 11  price            21954 non-null  float64       \n",
      " 12  title            21954 non-null  string        \n",
      "dtypes: category(4), datetime64[ns](1), float64(1), int64(1), string(6)\n",
      "memory usage: 1.7 MB\n"
     ]
    }
   ],
   "source": [
    "data_df[\"asin\"] = data_df[\"asin\"].astype(\"string\").astype(\"category\")\n",
    "data_df[\"overall\"] = data_df[\"overall\"].astype(\"string\").astype(\"category\")\n",
    "data_df[\"brand\"] = data_df[\"brand\"].astype(\"string\").astype(\"category\")\n",
    "data_df[\"category\"] = data_df[\"category\"].astype(\"string\").astype(\"category\")\n",
    "\n",
    "data_df.reset_index(drop=True, inplace=True)\n",
    "\n",
    "data_df.info()"
   ]
  },
  {
   "cell_type": "code",
   "execution_count": null,
   "metadata": {
    "collapsed": false,
    "pycharm": {
     "is_executing": true
    }
   },
   "outputs": [],
   "source": [
    "data_df.to_json(processed_data_dir / \"products_reviews.json.gz\")"
   ]
  }
 ],
 "metadata": {
  "interpreter": {
   "hash": "2ce6ec2e4b6a5ff97b7d971429414c7b0e6b53095546745f3a5e17ba202567f8"
  },
  "kernelspec": {
   "display_name": "Python 3.10.5 ('venv': venv)",
   "language": "python",
   "name": "python3"
  },
  "language_info": {
   "codemirror_mode": {
    "name": "ipython",
    "version": 3
   },
   "file_extension": ".py",
   "mimetype": "text/x-python",
   "name": "python",
   "nbconvert_exporter": "python",
   "pygments_lexer": "ipython3",
   "version": "3.10.5"
  }
 },
 "nbformat": 4,
 "nbformat_minor": 0
}
